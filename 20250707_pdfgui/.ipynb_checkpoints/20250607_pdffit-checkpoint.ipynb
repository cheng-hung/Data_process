{
 "cells": [
  {
   "cell_type": "code",
   "execution_count": 1,
   "id": "691985d3-b22a-4415-87e1-c9bbc27d7433",
   "metadata": {},
   "outputs": [],
   "source": [
    "import os\n",
    "import glob\n",
    "import numpy as np\n",
    "import pandas as pd\n",
    "import matplotlib.pyplot as plt\n",
    "from diffpy.pdfgui.tui import LoadProject\n",
    "from diffpy.pdfgui.control.pdfguicontrol import PDFGuiControl"
   ]
  },
  {
   "cell_type": "code",
   "execution_count": 2,
   "id": "69d0f7ae-3a44-49ed-8216-1698c3e33f39",
   "metadata": {},
   "outputs": [],
   "source": [
    "%matplotlib widget"
   ]
  },
  {
   "cell_type": "markdown",
   "id": "00b33123-7f12-45e9-ac0a-becb43a1330e",
   "metadata": {},
   "source": [
    "## Load a pre-defined PDFGui project file (.ddp) using diffpy.pdfgui.tui.LoadProject"
   ]
  },
  {
   "cell_type": "code",
   "execution_count": 3,
   "id": "ec6a18c4-dde2-4cce-9c16-26e425d0b07c",
   "metadata": {},
   "outputs": [],
   "source": [
    "fn = '/Users/cheng-hunglin/Documents/Data_LDRD/Cs_x-Pb_y-B_z.ddp'\n",
    "ddp = LoadProject(fn)"
   ]
  },
  {
   "cell_type": "code",
   "execution_count": null,
   "id": "6c545bb5-521f-46ad-940e-21f79a8a8728",
   "metadata": {},
   "outputs": [],
   "source": []
  },
  {
   "cell_type": "markdown",
   "id": "66f77e16-e174-4691-b869-1b1670d45241",
   "metadata": {},
   "source": [
    "## Check the fitting object (diffpy.pdfgui.control.fitting.Fitting) in the ddp project file"
   ]
  },
  {
   "cell_type": "code",
   "execution_count": 4,
   "id": "47bc1292-1ec9-4061-acb4-63b2bf47b025",
   "metadata": {},
   "outputs": [
    {
     "data": {
      "text/plain": [
       "'Fit 3 _3D_copy'"
      ]
     },
     "execution_count": 4,
     "metadata": {},
     "output_type": "execute_result"
    }
   ],
   "source": [
    "fit_05 = ddp.getFits()[5]\n",
    "fit_05.name"
   ]
  },
  {
   "cell_type": "code",
   "execution_count": 5,
   "id": "899c948b-9b67-40ae-af2d-c6057554b5bd",
   "metadata": {},
   "outputs": [
    {
     "data": {
      "text/plain": [
       "<diffpy.pdfgui.control.pdfguicontrol.PDFGuiControl at 0x106c4ba10>"
      ]
     },
     "execution_count": 5,
     "metadata": {},
     "output_type": "execute_result"
    }
   ],
   "source": [
    "fit_05.owner"
   ]
  },
  {
   "cell_type": "code",
   "execution_count": null,
   "id": "177435b0-4831-4f98-af87-086418bc434f",
   "metadata": {},
   "outputs": [],
   "source": []
  },
  {
   "cell_type": "markdown",
   "id": "1398a8da-ba9d-4f75-8398-76bca71a946b",
   "metadata": {},
   "source": [
    "## Create an object of PDFGuiControl which holds all the data GUI needs to access or change"
   ]
  },
  {
   "cell_type": "markdown",
   "id": "1f878305-6036-41d3-8b78-74467836fe8f",
   "metadata": {},
   "source": [
    "### the PDFGuiControl object will be saved as a ddp file in the end"
   ]
  },
  {
   "cell_type": "code",
   "execution_count": 6,
   "id": "961049e8-df5e-4ac9-aa2b-c529fb546c7a",
   "metadata": {},
   "outputs": [],
   "source": [
    "new_guicontrol = PDFGuiControl()"
   ]
  },
  {
   "cell_type": "code",
   "execution_count": null,
   "id": "ce4e64d1-db60-4dbf-a3ee-aa72ea6ba56d",
   "metadata": {},
   "outputs": [],
   "source": []
  },
  {
   "cell_type": "markdown",
   "id": "cb8c9305-ee73-46a0-a212-dce08f6a80ec",
   "metadata": {},
   "source": [
    "## Copy the Fitting object from ddp to the new PDFGuiControl"
   ]
  },
  {
   "cell_type": "code",
   "execution_count": 7,
   "id": "2566de4a-952d-4a00-a675-dcf9aa5472d5",
   "metadata": {},
   "outputs": [
    {
     "data": {
      "text/plain": [
       "<diffpy.pdfgui.control.fitting.Fitting at 0x122dc3130>"
      ]
     },
     "execution_count": 7,
     "metadata": {},
     "output_type": "execute_result"
    }
   ],
   "source": [
    "new_guicontrol.add(fit_05.copy())"
   ]
  },
  {
   "cell_type": "code",
   "execution_count": 8,
   "id": "abc6cfec-e5db-4f2a-ae2e-fe408c659752",
   "metadata": {},
   "outputs": [],
   "source": [
    "# dir(new_guicontrol)"
   ]
  },
  {
   "cell_type": "code",
   "execution_count": null,
   "id": "7233bf5d-391e-4359-b989-a9aa0dcae92f",
   "metadata": {},
   "outputs": [],
   "source": []
  },
  {
   "cell_type": "markdown",
   "id": "1a28184c-a373-4006-a4ad-331fba8526a0",
   "metadata": {},
   "source": [
    "## Using PDFGuiControl.fits to check the added Fitting object in the the new PDFGuiControl"
   ]
  },
  {
   "cell_type": "code",
   "execution_count": 9,
   "id": "9dbfaca1-0ef3-486d-8746-f56f9c89898b",
   "metadata": {},
   "outputs": [
    {
     "data": {
      "text/plain": [
       "[<diffpy.pdfgui.control.fitting.Fitting at 0x122dc3130>]"
      ]
     },
     "execution_count": 9,
     "metadata": {},
     "output_type": "execute_result"
    }
   ],
   "source": [
    "new_guicontrol.fits"
   ]
  },
  {
   "cell_type": "code",
   "execution_count": null,
   "id": "0bd91a0e-c094-4d5c-af94-ac43f1a61a84",
   "metadata": {},
   "outputs": [],
   "source": []
  },
  {
   "cell_type": "markdown",
   "id": "24102db6-6700-4ebf-9179-3f6b27687bf9",
   "metadata": {},
   "source": [
    "## Find the gr data list and sort it"
   ]
  },
  {
   "cell_type": "code",
   "execution_count": 10,
   "id": "30c06d01-7c8f-425f-8fd9-6d848b9bc239",
   "metadata": {},
   "outputs": [],
   "source": [
    "subpath = '/Users/cheng-hunglin/Documents/Data_LDRD'\n",
    "gr_dir = os.path.join(subpath, 'gr_data')\n",
    "gr_list = glob.glob(gr_dir + '/*.gr')\n",
    "gr_list.sort()"
   ]
  },
  {
   "cell_type": "code",
   "execution_count": 11,
   "id": "cb494b99-38e7-492d-bd97-cb028dc9e1b2",
   "metadata": {},
   "outputs": [],
   "source": [
    "gr_serial = gr_list[:]"
   ]
  },
  {
   "cell_type": "code",
   "execution_count": null,
   "id": "0d406ea5-2eee-4646-985f-eb3b3e0a51c9",
   "metadata": {},
   "outputs": [],
   "source": []
  },
  {
   "cell_type": "markdown",
   "id": "2fd629df-d8f6-42ba-99d1-3b24b352ec40",
   "metadata": {},
   "source": [
    "## Define fitrmax, fitrmin, qdamp, qbroad from the copied Fitting object, e.g., fit_05.copy()"
   ]
  },
  {
   "cell_type": "code",
   "execution_count": 12,
   "id": "5f61f42b-9b56-4358-b909-b45a7df29044",
   "metadata": {},
   "outputs": [],
   "source": [
    "fitrmax = new_guicontrol.fits[0].datasets[0].fitrmax\n",
    "fitrmin = new_guicontrol.fits[0].datasets[0].fitrmin\n",
    "qdamp = new_guicontrol.fits[0].datasets[0].qdamp\n",
    "qbroad = new_guicontrol.fits[0].datasets[0].qbroad\n",
    "# new_guicontrol.fits[0].datasets[1].constraints.update(new_guicontrol.fits[0].datasets[0].constraints)"
   ]
  },
  {
   "cell_type": "code",
   "execution_count": null,
   "id": "d1944c8c-6371-4124-9676-8300c4520a7f",
   "metadata": {},
   "outputs": [],
   "source": []
  },
  {
   "cell_type": "markdown",
   "id": "332a50e8-f235-4a4d-a374-657d60184487",
   "metadata": {},
   "source": [
    "## Make the fitting tree in the new PDFGuiControl"
   ]
  },
  {
   "cell_type": "code",
   "execution_count": 13,
   "id": "56e5c1cb-c554-4c14-9b78-0a395c21e38c",
   "metadata": {},
   "outputs": [],
   "source": [
    "for i in range(len(gr_serial)):\n",
    "\n",
    "    ## Add new Fitting by copying the existed Fitting object\n",
    "    new_guicontrol.add(fit_05.copy())\n",
    "\n",
    "    ## Rename the copied Fitting object\n",
    "    new_guicontrol.fits[i+1].name = f'Fit 3 _3D_s{i:02d}'\n",
    "\n",
    "    ## Load gr data from gr_list to the newly copied Fittinmg object\n",
    "    new_guicontrol.loadDataset(new_guicontrol.fits[i+1], gr_list[i])\n",
    "\n",
    "    ## Delete the old dataset in the newly copied Fittinmg object  \n",
    "    new_guicontrol.fits[i+1].datasets.__delitem__(0)\n",
    "\n",
    "    ## Update fitrmax, fitrmin, qdamp, qbroad in the loaded dataset\n",
    "    new_guicontrol.fits[i+1].datasets[0].fitrmax = fitrmax\n",
    "    new_guicontrol.fits[i+1].datasets[0].fitrmin = fitrmin\n",
    "    new_guicontrol.fits[i+1].datasets[0].qdamp = qdamp\n",
    "    new_guicontrol.fits[i+1].datasets[0].qbroad = qbroad\n",
    "\n",
    "    ## Update the constraints for the loaded dataset, mainly for dscale, qdamp, qbroad if constrained\n",
    "    new_guicontrol.fits[i+1].datasets[0].constraints.update(new_guicontrol.fits[0].datasets[0].constraints)\n",
    "    "
   ]
  },
  {
   "cell_type": "code",
   "execution_count": 14,
   "id": "9bd278a6-9970-42e2-bdb6-011659d9a5c5",
   "metadata": {},
   "outputs": [
    {
     "data": {
      "text/plain": [
       "[<diffpy.pdfgui.control.fitting.Fitting at 0x122dc3130>,\n",
       " <diffpy.pdfgui.control.fitting.Fitting at 0x122dc3020>,\n",
       " <diffpy.pdfgui.control.fitting.Fitting at 0x122ca5bf0>,\n",
       " <diffpy.pdfgui.control.fitting.Fitting at 0x122dc2be0>,\n",
       " <diffpy.pdfgui.control.fitting.Fitting at 0x122dc2e00>,\n",
       " <diffpy.pdfgui.control.fitting.Fitting at 0x122dc2f10>,\n",
       " <diffpy.pdfgui.control.fitting.Fitting at 0x122dc2cf0>,\n",
       " <diffpy.pdfgui.control.fitting.Fitting at 0x122dc3350>,\n",
       " <diffpy.pdfgui.control.fitting.Fitting at 0x122dc3460>,\n",
       " <diffpy.pdfgui.control.fitting.Fitting at 0x122dc3570>,\n",
       " <diffpy.pdfgui.control.fitting.Fitting at 0x122dc3680>,\n",
       " <diffpy.pdfgui.control.fitting.Fitting at 0x122dc3790>,\n",
       " <diffpy.pdfgui.control.fitting.Fitting at 0x122dc38a0>,\n",
       " <diffpy.pdfgui.control.fitting.Fitting at 0x122dc39b0>,\n",
       " <diffpy.pdfgui.control.fitting.Fitting at 0x122dc3ac0>,\n",
       " <diffpy.pdfgui.control.fitting.Fitting at 0x122dc3bd0>,\n",
       " <diffpy.pdfgui.control.fitting.Fitting at 0x122dc3ce0>,\n",
       " <diffpy.pdfgui.control.fitting.Fitting at 0x122dc3df0>,\n",
       " <diffpy.pdfgui.control.fitting.Fitting at 0x122dc3f00>,\n",
       " <diffpy.pdfgui.control.fitting.Fitting at 0x176b68050>,\n",
       " <diffpy.pdfgui.control.fitting.Fitting at 0x176b68160>,\n",
       " <diffpy.pdfgui.control.fitting.Fitting at 0x176b68270>,\n",
       " <diffpy.pdfgui.control.fitting.Fitting at 0x176b68380>,\n",
       " <diffpy.pdfgui.control.fitting.Fitting at 0x176b68490>,\n",
       " <diffpy.pdfgui.control.fitting.Fitting at 0x176b685a0>,\n",
       " <diffpy.pdfgui.control.fitting.Fitting at 0x176b686b0>,\n",
       " <diffpy.pdfgui.control.fitting.Fitting at 0x176b687c0>,\n",
       " <diffpy.pdfgui.control.fitting.Fitting at 0x176b688d0>,\n",
       " <diffpy.pdfgui.control.fitting.Fitting at 0x176b689e0>,\n",
       " <diffpy.pdfgui.control.fitting.Fitting at 0x176b68af0>,\n",
       " <diffpy.pdfgui.control.fitting.Fitting at 0x176b68c00>,\n",
       " <diffpy.pdfgui.control.fitting.Fitting at 0x176b68d10>,\n",
       " <diffpy.pdfgui.control.fitting.Fitting at 0x176b68e20>,\n",
       " <diffpy.pdfgui.control.fitting.Fitting at 0x176b68f30>,\n",
       " <diffpy.pdfgui.control.fitting.Fitting at 0x176b69040>,\n",
       " <diffpy.pdfgui.control.fitting.Fitting at 0x176b69150>,\n",
       " <diffpy.pdfgui.control.fitting.Fitting at 0x176b69260>,\n",
       " <diffpy.pdfgui.control.fitting.Fitting at 0x176b69370>,\n",
       " <diffpy.pdfgui.control.fitting.Fitting at 0x176b69480>,\n",
       " <diffpy.pdfgui.control.fitting.Fitting at 0x176b69590>,\n",
       " <diffpy.pdfgui.control.fitting.Fitting at 0x176b696a0>,\n",
       " <diffpy.pdfgui.control.fitting.Fitting at 0x176b697b0>,\n",
       " <diffpy.pdfgui.control.fitting.Fitting at 0x176b698c0>,\n",
       " <diffpy.pdfgui.control.fitting.Fitting at 0x176b699d0>,\n",
       " <diffpy.pdfgui.control.fitting.Fitting at 0x176b69ae0>,\n",
       " <diffpy.pdfgui.control.fitting.Fitting at 0x176b69bf0>,\n",
       " <diffpy.pdfgui.control.fitting.Fitting at 0x176b69d00>,\n",
       " <diffpy.pdfgui.control.fitting.Fitting at 0x176b69e10>,\n",
       " <diffpy.pdfgui.control.fitting.Fitting at 0x176b69f20>,\n",
       " <diffpy.pdfgui.control.fitting.Fitting at 0x176b6a030>,\n",
       " <diffpy.pdfgui.control.fitting.Fitting at 0x176b6a140>,\n",
       " <diffpy.pdfgui.control.fitting.Fitting at 0x176b6a250>,\n",
       " <diffpy.pdfgui.control.fitting.Fitting at 0x176b6a360>,\n",
       " <diffpy.pdfgui.control.fitting.Fitting at 0x176b6a470>,\n",
       " <diffpy.pdfgui.control.fitting.Fitting at 0x176b6a580>,\n",
       " <diffpy.pdfgui.control.fitting.Fitting at 0x176b6a690>,\n",
       " <diffpy.pdfgui.control.fitting.Fitting at 0x176b6a7a0>,\n",
       " <diffpy.pdfgui.control.fitting.Fitting at 0x176b6a8b0>,\n",
       " <diffpy.pdfgui.control.fitting.Fitting at 0x176b6a9c0>,\n",
       " <diffpy.pdfgui.control.fitting.Fitting at 0x176b6aad0>,\n",
       " <diffpy.pdfgui.control.fitting.Fitting at 0x176b6abe0>,\n",
       " <diffpy.pdfgui.control.fitting.Fitting at 0x176b6acf0>,\n",
       " <diffpy.pdfgui.control.fitting.Fitting at 0x176b6ae00>,\n",
       " <diffpy.pdfgui.control.fitting.Fitting at 0x176b6af10>,\n",
       " <diffpy.pdfgui.control.fitting.Fitting at 0x176b6b020>,\n",
       " <diffpy.pdfgui.control.fitting.Fitting at 0x176b6b130>,\n",
       " <diffpy.pdfgui.control.fitting.Fitting at 0x176b6b240>,\n",
       " <diffpy.pdfgui.control.fitting.Fitting at 0x176b6b350>,\n",
       " <diffpy.pdfgui.control.fitting.Fitting at 0x176b6b460>,\n",
       " <diffpy.pdfgui.control.fitting.Fitting at 0x176b6b570>,\n",
       " <diffpy.pdfgui.control.fitting.Fitting at 0x176b6b680>,\n",
       " <diffpy.pdfgui.control.fitting.Fitting at 0x176b6b790>,\n",
       " <diffpy.pdfgui.control.fitting.Fitting at 0x176b6b8a0>,\n",
       " <diffpy.pdfgui.control.fitting.Fitting at 0x176b6b9b0>,\n",
       " <diffpy.pdfgui.control.fitting.Fitting at 0x176b6bac0>,\n",
       " <diffpy.pdfgui.control.fitting.Fitting at 0x176b6bbd0>,\n",
       " <diffpy.pdfgui.control.fitting.Fitting at 0x176b6bce0>,\n",
       " <diffpy.pdfgui.control.fitting.Fitting at 0x176b6bdf0>,\n",
       " <diffpy.pdfgui.control.fitting.Fitting at 0x176b6bf00>,\n",
       " <diffpy.pdfgui.control.fitting.Fitting at 0x17bf58050>,\n",
       " <diffpy.pdfgui.control.fitting.Fitting at 0x17bf58160>,\n",
       " <diffpy.pdfgui.control.fitting.Fitting at 0x17bf58270>,\n",
       " <diffpy.pdfgui.control.fitting.Fitting at 0x17bf58380>,\n",
       " <diffpy.pdfgui.control.fitting.Fitting at 0x17bf58490>,\n",
       " <diffpy.pdfgui.control.fitting.Fitting at 0x17bf585a0>]"
      ]
     },
     "execution_count": 14,
     "metadata": {},
     "output_type": "execute_result"
    }
   ],
   "source": [
    "new_guicontrol.fits"
   ]
  },
  {
   "cell_type": "code",
   "execution_count": 15,
   "id": "52e9cb81-7362-4f5c-ac40-bd0f5641f19c",
   "metadata": {},
   "outputs": [
    {
     "data": {
      "text/plain": [
       "diffpy.pdfgui.control.pdflist.PDFList"
      ]
     },
     "execution_count": 15,
     "metadata": {},
     "output_type": "execute_result"
    }
   ],
   "source": [
    "type(new_guicontrol.fits[0].datasets)"
   ]
  },
  {
   "cell_type": "code",
   "execution_count": 16,
   "id": "ba1278ae-b352-41f6-b4e6-181140d560e2",
   "metadata": {},
   "outputs": [
    {
     "data": {
      "text/plain": [
       "{'dscale': <diffpy.pdfgui.control.constraint.Constraint at 0x127829f10>}"
      ]
     },
     "execution_count": 16,
     "metadata": {},
     "output_type": "execute_result"
    }
   ],
   "source": [
    "new_guicontrol.fits[0].datasets[0].constraints"
   ]
  },
  {
   "cell_type": "code",
   "execution_count": null,
   "id": "9914a983-afa8-48d2-99fe-13364ca4f892",
   "metadata": {},
   "outputs": [],
   "source": []
  },
  {
   "cell_type": "markdown",
   "id": "528abd9c-8088-4add-b4fb-60c315cac9cc",
   "metadata": {},
   "source": [
    "## Run all the fitting in the new PDFGuiControl"
   ]
  },
  {
   "cell_type": "code",
   "execution_count": 17,
   "id": "f970e35a-35e2-4885-9839-22b8c296ce6d",
   "metadata": {},
   "outputs": [
    {
     "name": "stdout",
     "output_type": "stream",
     "text": [
      "\n",
      "******************************************************************************\n",
      "*                      P D F F I T   Version   1.5.1                         *\n",
      "*                                              2025-02-07                    *\n",
      "* -------------------------------------------------------------------------- *\n",
      "* (c) 1998-2007 Trustees of the Michigan State University.                   *\n",
      "* (c) 2008-2025 Trustees of the Columbia University                          *\n",
      "*               in the city of New York.                                     *\n",
      "*                                                                            *\n",
      "* Authors:                                                                   *\n",
      "*     Thomas Proffen        -   Email: tproffen@lanl.gov                     *\n",
      "*     Jacques Bloch         -   Email: bloch@pa.msu.edu                      *\n",
      "*     Christopher Farrow    -   Email: clf2121@columbia.edu                  *\n",
      "*     Pavol Juhas           -   Email: pjuhas@bnl.gov                        *\n",
      "*     Simon Billinge        -   Email: sb2896@columbia.edu                   *\n",
      "******************************************************************************\n",
      "\n",
      " Structure file format  : PDFFIT\n",
      " Phase number           : 1\n",
      " Phase title            : UNNAMED\n",
      "\n",
      " Lattice parameters     : 8.42534             12.0113             8.37037\n",
      "           & angles     : 90                  90                  90\n",
      " Unit cell volume       : 847.074\n",
      " Number density         : 0.0236107\n",
      " Metric tensor          : 70.9863             0                   0\n",
      "                          0                   144.271             0\n",
      "                          0                   0                   70.063\n",
      "\n",
      " Recip. lat. parameters : 0.11869             0.083255            0.119469\n",
      "               & angles : 90                  90                  90\n",
      " Recip. unit cell vol.  : 0.00118053\n",
      " Recip. metric tensor   : 0.0140872           0                   0\n",
      "                          0                   0.00693139          0\n",
      "                          0                   0                   0.0142729\n",
      "\n",
      " Structure file format  : PDFFIT\n",
      " Phase number           : 2\n",
      " Phase title            : UNNAMED\n",
      "\n",
      " Lattice parameters     : 13.7316             13.7316             17.241\n",
      "           & angles     : 90                  90                  120\n",
      " Unit cell volume       : 2815.37\n",
      " Number density         : 0.0234428\n",
      " Metric tensor          : 188.557             -94.2784            0\n",
      "                          -94.2784            188.557             0\n",
      "                          0                   0                   297.252\n",
      "\n",
      " Recip. lat. parameters : 0.0840907           0.0840907           0.0580013\n",
      "               & angles : 90                  90                  60\n",
      " Recip. unit cell vol.  : 0.000355193\n",
      " Recip. metric tensor   : 0.00707125          0.00353563          0\n",
      "                          0.00353563          0.00707125          0\n",
      "                          0                   0                   0.00336415\n",
      "\n",
      " Structure file format  : PDFFIT\n",
      " Phase number           : 3\n",
      " Phase title            : UNNAMED\n",
      "\n",
      " Lattice parameters     : 4.32562             4.32562             4.32562\n",
      "           & angles     : 90                  90                  90\n",
      " Unit cell volume       : 80.9367\n",
      " Number density         : 0.0247107\n",
      " Metric tensor          : 18.711              0                   0\n",
      "                          0                   18.711              0\n",
      "                          0                   0                   18.711\n",
      "\n",
      " Recip. lat. parameters : 0.231181            0.231181            0.231181\n",
      "               & angles : 90                  90                  90\n",
      " Recip. unit cell vol.  : 0.0123553\n",
      " Recip. metric tensor   : 0.0534445           0                   0\n",
      "                          0                   0.0534445           0\n",
      "                          0                   0                   0.0534445\n",
      "\n",
      " Reading 4 columns ...\n",
      " Read PDF data set 1  (r = 1.99 to 40 A, 3802 points) ...\n",
      " ****WARN****\n",
      " Uncertainties on G(r) were absent or unreadable in your input\n",
      " data.  The program reset these uncertainties to unity.  This\n",
      " does not affect at all the refined parameter values.  However,\n",
      " the values of the estimated uncertainties on these refined\n",
      " parameter values are not reliable.\n",
      " ****WARN****\n",
      "\n",
      "*******************\n",
      "Starting refinement\n",
      "*******************\n",
      " Dataset: 1   Phase: 1  2  3  \n",
      "\n",
      "******************************** ITER: 0 ********************************\n",
      "\n",
      " Refinement parameters :\n",
      " 100: -0.054432   101:  1.572123   300:  0.291990  \n",
      "\n",
      " chisq.: 9.76002   red.chisq.: 0.0025691   Rw: 0.312603\n",
      "\n",
      "******************************** ITER: 1 ********************************\n",
      "\n",
      " Refinement parameters :\n",
      " 100: -0.054432   101:  1.572123   300:  0.291990  \n",
      "\n",
      " chisq.: 9.76002   red.chisq.: 0.0025691   Rw: 0.312603\n",
      "\n",
      "******************************** ITER: 2 ********************************\n",
      "\n",
      " Refinement parameters :\n",
      " 100: -0.054432   101:  1.572123   300:  0.291990  \n",
      "\n",
      " chisq.: 9.76002   red.chisq.: 0.0025691   Rw: 0.312603    stagnating\n",
      "\n",
      "******************************** ITER: 3 ********************************\n",
      "\n",
      " Refinement parameters :\n",
      " 100:  0.014357   101:  1.618185   300:  0.289672  \n",
      "\n",
      " chisq.: 9.70934   red.chisq.: 0.00255576   Rw: 0.31179\n",
      "\n",
      "******************************** ITER: 4 ********************************\n",
      "\n",
      " Refinement parameters :\n",
      " 100:  0.014357   101:  1.618185   300:  0.289672  \n",
      "\n",
      " chisq.: 9.70934   red.chisq.: 0.00255576   Rw: 0.31179    stagnating\n",
      "\n",
      "******************************** ITER: 5 ********************************\n",
      "\n",
      " Refinement parameters :\n",
      " 100:  0.014357   101:  1.618185   300:  0.289672  \n",
      "\n",
      " chisq.: 9.70934   red.chisq.: 0.00255576   Rw: 0.31179    stagnating\n",
      "\n",
      "******************************** ITER: 6 ********************************\n",
      "\n",
      " Refinement parameters :\n",
      " 100:  0.014357   101:  1.618185   300:  0.289672  \n",
      "\n",
      " chisq.: 9.70934   red.chisq.: 0.00255576   Rw: 0.31179    stagnating\n",
      "\n",
      "================================ FINAL ==================================\n",
      "\n",
      " Refinement parameters :\n",
      " 100:  0.014357   101:  1.618185   300:  0.289672  \n",
      "\n",
      " chisq.: 9.70934   red.chisq.: 0.00255576   Rw: 0.31179\n",
      "\n",
      "******************************************************************************\n",
      "*                      P D F F I T   Version   1.5.1                         *\n",
      "*                                              2025-02-07                    *\n",
      "* -------------------------------------------------------------------------- *\n",
      "* (c) 1998-2007 Trustees of the Michigan State University.                   *\n",
      "* (c) 2008-2025 Trustees of the Columbia University                          *\n",
      "*               in the city of New York.                                     *\n",
      "*                                                                            *\n",
      "* Authors:                                                                   *\n",
      "*     Thomas Proffen        -   Email: tproffen@lanl.gov                     *\n",
      "*     Jacques Bloch         -   Email: bloch@pa.msu.edu                      *\n",
      "*     Christopher Farrow    -   Email: clf2121@columbia.edu                  *\n",
      "*     Pavol Juhas           -   Email: pjuhas@bnl.gov                        *\n",
      "*     Simon Billinge        -   Email: sb2896@columbia.edu                   *\n",
      "******************************************************************************\n",
      "\n",
      "\n",
      "=========================================================================\n",
      "\n",
      " Structure file format  : PDFFIT\n",
      " Phase number           : 1\n",
      " Phase title            : UNNAMED\n",
      "\n",
      " Lattice parameters     : 8.42534             12.0113             8.37037\n",
      "           & angles     : 90                  90                  90\n",
      " Unit cell volume       : 847.074\n",
      " Number density         : 0.0236107\n",
      " Metric tensor          : 70.9863             0                   0\n",
      "                          0                   144.271             0\n",
      "                          0                   0                   70.063\n",
      "\n",
      " Recip. lat. parameters : 0.11869             0.083255            0.119469\n",
      "               & angles : 90                  90                  90\n",
      " Recip. unit cell vol.  : 0.00118053\n",
      " Recip. metric tensor   : 0.0140872           0                   0\n",
      "                          0                   0.00693139          0\n",
      "                          0                   0                   0.0142729\n",
      "\n",
      " Structure file format  : PDFFIT\n",
      " Phase number           : 2\n",
      " Phase title            : UNNAMED\n",
      "\n",
      " Lattice parameters     : 13.7316             13.7316             17.241\n",
      "           & angles     : 90                  90                  120\n",
      " Unit cell volume       : 2815.37\n",
      " Number density         : 0.0234428\n",
      " Metric tensor          : 188.557             -94.2784            0\n",
      "                          -94.2784            188.557             0\n",
      "                          0                   0                   297.252\n",
      "\n",
      " Recip. lat. parameters : 0.0840907           0.0840907           0.0580013\n",
      "               & angles : 90                  90                  60\n",
      " Recip. unit cell vol.  : 0.000355193\n",
      " Recip. metric tensor   : 0.00707125          0.00353563          0\n",
      "                          0.00353563          0.00707125          0\n",
      "                          0                   0                   0.00336415\n",
      "\n",
      " Structure file format  : PDFFIT\n",
      " Phase number           : 3\n",
      " Phase title            : UNNAMED\n",
      "\n",
      " Lattice parameters     : 4.32562             4.32562             4.32562\n",
      "           & angles     : 90                  90                  90\n",
      " Unit cell volume       : 80.9367\n",
      " Number density         : 0.0247107\n",
      " Metric tensor          : 18.711              0                   0\n",
      "                          0                   18.711              0\n",
      "                          0                   0                   18.711\n",
      "\n",
      " Recip. lat. parameters : 0.231181            0.231181            0.231181\n",
      "               & angles : 90                  90                  90\n",
      " Recip. unit cell vol.  : 0.0123553\n",
      " Recip. metric tensor   : 0.0534445           0                   0\n",
      "                          0                   0.0534445           0\n",
      "                          0                   0                   0.0534445\n",
      "\n",
      " Reading 4 columns ...\n",
      " Read PDF data set 1  (r = 1.99 to 40 A, 3802 points) ...\n",
      " ****WARN****\n",
      " Uncertainties on G(r) were absent or unreadable in your input\n",
      " data.  The program reset these uncertainties to unity.  This\n",
      " does not affect at all the refined parameter values.  However,\n",
      " the values of the estimated uncertainties on these refined\n",
      " parameter values are not reliable.\n",
      " ****WARN****\n",
      "\n",
      "*******************\n",
      "Starting refinement\n",
      "*******************\n",
      " Dataset: 1   Phase: 1  2  3  \n",
      "\n",
      "******************************** ITER: 0 ********************************\n",
      "\n",
      " Refinement parameters :\n",
      " 100: -0.054432   101:  1.572123   300:  0.291990  \n",
      "\n",
      " chisq.: 58.0173   red.chisq.: 0.0152717   Rw: 1.52816\n",
      "\n",
      "******************************** ITER: 1 ********************************\n",
      "\n",
      " Refinement parameters :\n",
      " 100: -0.054432   101:  1.572123   300:  0.291990  \n",
      "\n",
      " chisq.: 58.0173   red.chisq.: 0.0152717   Rw: 1.52816\n",
      "\n",
      "******************************** ITER: 2 ********************************\n",
      "\n",
      " Refinement parameters :\n",
      " 100: -0.074187   101:  4.159010   300:  0.096810  \n",
      "\n",
      " chisq.: 22.0282   red.chisq.: 0.00579842   Rw: 0.941629\n",
      "\n",
      "******************************** ITER: 3 ********************************\n",
      "\n",
      " Refinement parameters :\n",
      " 100: -0.045543   101:  4.446491   300:  0.093923  \n",
      "\n",
      " chisq.: 15.9316   red.chisq.: 0.00419364   Rw: 0.800794\n",
      "\n",
      "******************************** ITER: 4 ********************************\n",
      "\n",
      " Refinement parameters :\n",
      " 100: -0.021630   101:  4.563078   300:  0.093871  \n",
      "\n",
      " chisq.: 15.6489   red.chisq.: 0.00411921   Rw: 0.793656\n",
      "\n",
      "******************************** ITER: 5 ********************************\n",
      "\n",
      " Refinement parameters :\n",
      " 100: -0.007625   101:  4.604771   300:  0.093869  \n",
      "\n",
      " chisq.: 15.6367   red.chisq.: 0.00411599   Rw: 0.793346    stagnating\n",
      "\n",
      "******************************** ITER: 6 ********************************\n",
      "\n",
      " Refinement parameters :\n",
      " 100:  0.005280   101:  4.612618   300:  0.093869  \n",
      "\n",
      " chisq.: 15.6365   red.chisq.: 0.00411594   Rw: 0.793341    stagnating\n",
      "\n",
      "******************************** ITER: 7 ********************************\n",
      "\n",
      " Refinement parameters :\n",
      " 100:  0.005280   101:  4.612618   300:  0.093869  \n",
      "\n",
      " chisq.: 15.6365   red.chisq.: 0.00411594   Rw: 0.793341    stagnating\n",
      "\n",
      "================================ FINAL ==================================\n",
      "\n",
      " Refinement parameters :\n",
      " 100:  0.005280   101:  4.612618   300:  0.093869  \n",
      "\n",
      " chisq.: 15.6365   red.chisq.: 0.00411594   Rw: 0.793341\n"
     ]
    }
   ],
   "source": [
    "## The total # of Fitting object in the new PDFGuiControl will be len(gr_list) + 1\n",
    "## because of the first one is from the pre-defined ddp and has no modification \n",
    "for i in range(2):\n",
    "# for i in range(len(gr_serial)+1):\n",
    "    new_guicontrol.fits[i].run()\n",
    "    # pass"
   ]
  },
  {
   "cell_type": "code",
   "execution_count": null,
   "id": "6383928a-618e-496d-b5ff-ea606bd2dda6",
   "metadata": {},
   "outputs": [],
   "source": []
  },
  {
   "cell_type": "markdown",
   "id": "2b34c6c1-82c7-49a5-a00d-2fadd28fd3c4",
   "metadata": {},
   "source": [
    "## Save the new PDFGuiControl as a ddp file"
   ]
  },
  {
   "cell_type": "code",
   "execution_count": 18,
   "id": "254da143-53b0-4d70-aa80-cd28ae493f3f",
   "metadata": {},
   "outputs": [],
   "source": [
    "subpath = '/Users/cheng-hunglin/Documents/Data_LDRD'\n",
    "fn = 'Cs_x-Pb_y-B_z_serial_test.ddp'\n",
    "full_fn = os.path.join(subpath, fn)\n",
    "\n",
    "new_guicontrol.save(projfile=full_fn)"
   ]
  },
  {
   "cell_type": "code",
   "execution_count": null,
   "id": "389b6cfe-6ece-4148-8d19-67c1cd68f538",
   "metadata": {},
   "outputs": [],
   "source": []
  },
  {
   "cell_type": "markdown",
   "id": "278a4560-485c-43b9-8c8e-04b49497c480",
   "metadata": {},
   "source": [
    "## Plot rw for all fittins"
   ]
  },
  {
   "cell_type": "code",
   "execution_count": 19,
   "id": "693775c2-aa52-4986-afb4-30d1ee6df203",
   "metadata": {},
   "outputs": [],
   "source": [
    "rw_list = []\n",
    "for i in range(len(gr_serial)+1):\n",
    "    rw = new_guicontrol.fits[i].getData('rw')\n",
    "    rw_list.append(rw)"
   ]
  },
  {
   "cell_type": "code",
   "execution_count": 20,
   "id": "9f5641d1-60a2-4993-ae5f-3cf6eab502d9",
   "metadata": {},
   "outputs": [
    {
     "data": {
      "text/plain": [
       "85"
      ]
     },
     "execution_count": 20,
     "metadata": {},
     "output_type": "execute_result"
    }
   ],
   "source": [
    "len(rw_list)"
   ]
  },
  {
   "cell_type": "code",
   "execution_count": 21,
   "id": "17a95851-89da-4296-a074-9070a9b94ff4",
   "metadata": {},
   "outputs": [],
   "source": [
    "idx = np.arange(-1, 84, 1)"
   ]
  },
  {
   "cell_type": "code",
   "execution_count": 22,
   "id": "4ed2b70d-2bfe-4abc-8bc3-32579ebbdc4f",
   "metadata": {},
   "outputs": [
    {
     "data": {
      "text/plain": [
       "(85,)"
      ]
     },
     "execution_count": 22,
     "metadata": {},
     "output_type": "execute_result"
    }
   ],
   "source": [
    "idx.shape"
   ]
  },
  {
   "cell_type": "code",
   "execution_count": 23,
   "id": "0194876e-be24-477f-a483-197c45bedd1c",
   "metadata": {},
   "outputs": [
    {
     "data": {
      "text/plain": [
       "Text(0, 0.5, 'rw')"
      ]
     },
     "execution_count": 23,
     "metadata": {},
     "output_type": "execute_result"
    },
    {
     "data": {
      "application/vnd.jupyter.widget-view+json": {
       "model_id": "65bb86e891ca446fa1cec79691096dad",
       "version_major": 2,
       "version_minor": 0
      },
      "image/png": "[encoded data removed]",
      "text/html": [
       "\n",
       "            <div style=\"display: inline-block;\">\n",
       "                <div class=\"jupyter-widgets widget-label\" style=\"text-align: center;\">\n",
       "                    Figure\n",
       "                </div>\n",
       "                <img src='data:image/png;base64,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' width=1500.0/>\n",
       "            </div>\n",
       "        "
      ],
      "text/plain": [
       "Canvas(toolbar=Toolbar(toolitems=[('Home', 'Reset original view', 'home', 'home'), ('Back', 'Back to previous …"
      ]
     },
     "metadata": {},
     "output_type": "display_data"
    }
   ],
   "source": [
    "f = plt.figure(figsize=(15,5))\n",
    "ax = f.gca()\n",
    "ax.plot(idx, rw_list, 'o--')\n",
    "ax.set_ylabel('rw')"
   ]
  },
  {
   "cell_type": "code",
   "execution_count": null,
   "id": "3e33e8d5-7c36-4543-9e3c-26ae8926a68e",
   "metadata": {},
   "outputs": [],
   "source": []
  }
 ],
 "metadata": {
  "kernelspec": {
   "display_name": "Python 3 (ipykernel)",
   "language": "python",
   "name": "python3"
  },
  "language_info": {
   "codemirror_mode": {
    "name": "ipython",
    "version": 3
   },
   "file_extension": ".py",
   "mimetype": "text/x-python",
   "name": "python",
   "nbconvert_exporter": "python",
   "pygments_lexer": "ipython3",
   "version": "3.13.5"
  }
 },
 "nbformat": 4,
 "nbformat_minor": 5
}
