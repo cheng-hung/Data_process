{
 "cells": [
  {
   "cell_type": "code",
   "execution_count": 1,
   "id": "691985d3-b22a-4415-87e1-c9bbc27d7433",
   "metadata": {},
   "outputs": [],
   "source": [
    "import os\n",
    "import glob\n",
    "import numpy as np\n",
    "import pandas as pd\n",
    "import matplotlib.pyplot as plt\n",
    "from copy import deepcopy\n",
    "from diffpy.pdfgui.tui import LoadProject\n",
    "from diffpy.pdfgui.control.pdfguicontrol import PDFGuiControl\n",
    "from diffpy.pdffit2.pdffit2 import calculationError\n",
    "\n",
    "from IPython.display import clear_output\n",
    "# from tqdm.auto import tqdm\n",
    "import time"
   ]
  },
  {
   "cell_type": "code",
   "execution_count": 2,
   "id": "69d0f7ae-3a44-49ed-8216-1698c3e33f39",
   "metadata": {},
   "outputs": [],
   "source": [
    "%matplotlib widget"
   ]
  },
  {
   "cell_type": "code",
   "execution_count": 3,
   "id": "4c102e19-54f9-421b-a225-74c46ce104eb",
   "metadata": {},
   "outputs": [],
   "source": [
    "def tqdm_sleep_sec(t, message='Sleep'):\n",
    "    import datetime\n",
    "    from tqdm import tqdm\n",
    "    now = datetime.datetime.now()\n",
    "    print(f'\\nSleep for a while: {t} seconds.')\n",
    "    print(f'Waiting starts at {now}')\n",
    "    for i in tqdm(range(0,100), desc=message):\n",
    "        time.sleep(t/100)"
   ]
  },
  {
   "cell_type": "code",
   "execution_count": null,
   "id": "6ee07dd4-4950-4ce4-bbd0-451f6e5e41b3",
   "metadata": {},
   "outputs": [],
   "source": []
  },
  {
   "cell_type": "markdown",
   "id": "00b33123-7f12-45e9-ac0a-becb43a1330e",
   "metadata": {},
   "source": [
    "## Load a pre-defined PDFGui project file (.ddp) using diffpy.pdfgui.tui.LoadProject"
   ]
  },
  {
   "cell_type": "code",
   "execution_count": 4,
   "id": "ec6a18c4-dde2-4cce-9c16-26e425d0b07c",
   "metadata": {},
   "outputs": [],
   "source": [
    "fn = '/Users/cheng-hunglin/Documents/Data_LDRD/Cs_x-Pb_y-B_z_04_02.ddp3'\n",
    "ddp = LoadProject(fn)"
   ]
  },
  {
   "cell_type": "code",
   "execution_count": null,
   "id": "6c545bb5-521f-46ad-940e-21f79a8a8728",
   "metadata": {},
   "outputs": [],
   "source": []
  },
  {
   "cell_type": "markdown",
   "id": "66f77e16-e174-4691-b869-1b1670d45241",
   "metadata": {},
   "source": [
    "## Check the fitting object (diffpy.pdfgui.control.fitting.Fitting) in the ddp project file"
   ]
  },
  {
   "cell_type": "code",
   "execution_count": 5,
   "id": "47bc1292-1ec9-4061-acb4-63b2bf47b025",
   "metadata": {},
   "outputs": [
    {
     "data": {
      "text/plain": [
       "'Fit 2_01'"
      ]
     },
     "execution_count": 5,
     "metadata": {},
     "output_type": "execute_result"
    }
   ],
   "source": [
    "fit_demo = ddp.getFits()[4]\n",
    "fit_demo.name"
   ]
  },
  {
   "cell_type": "code",
   "execution_count": 6,
   "id": "899c948b-9b67-40ae-af2d-c6057554b5bd",
   "metadata": {},
   "outputs": [
    {
     "data": {
      "text/plain": [
       "<diffpy.pdfgui.control.pdfguicontrol.PDFGuiControl at 0x10534fb60>"
      ]
     },
     "execution_count": 6,
     "metadata": {},
     "output_type": "execute_result"
    }
   ],
   "source": [
    "fit_demo.owner"
   ]
  },
  {
   "cell_type": "code",
   "execution_count": null,
   "id": "177435b0-4831-4f98-af87-086418bc434f",
   "metadata": {},
   "outputs": [],
   "source": []
  },
  {
   "cell_type": "markdown",
   "id": "1398a8da-ba9d-4f75-8398-76bca71a946b",
   "metadata": {},
   "source": [
    "## Create an object of PDFGuiControl which holds all the data GUI needs to access or change"
   ]
  },
  {
   "cell_type": "markdown",
   "id": "1f878305-6036-41d3-8b78-74467836fe8f",
   "metadata": {},
   "source": [
    "### the PDFGuiControl object will be saved as a ddp file in the end"
   ]
  },
  {
   "cell_type": "code",
   "execution_count": 7,
   "id": "961049e8-df5e-4ac9-aa2b-c529fb546c7a",
   "metadata": {},
   "outputs": [],
   "source": [
    "new_guicontrol = PDFGuiControl()"
   ]
  },
  {
   "cell_type": "code",
   "execution_count": null,
   "id": "ce4e64d1-db60-4dbf-a3ee-aa72ea6ba56d",
   "metadata": {},
   "outputs": [],
   "source": []
  },
  {
   "cell_type": "markdown",
   "id": "cb8c9305-ee73-46a0-a212-dce08f6a80ec",
   "metadata": {},
   "source": [
    "## Copy the Fitting object from ddp to the new PDFGuiControl"
   ]
  },
  {
   "cell_type": "code",
   "execution_count": 8,
   "id": "2566de4a-952d-4a00-a675-dcf9aa5472d5",
   "metadata": {},
   "outputs": [
    {
     "data": {
      "text/plain": [
       "<diffpy.pdfgui.control.fitting.Fitting at 0x132950e20>"
      ]
     },
     "execution_count": 8,
     "metadata": {},
     "output_type": "execute_result"
    }
   ],
   "source": [
    "new_guicontrol.add(fit_demo.copy())"
   ]
  },
  {
   "cell_type": "code",
   "execution_count": 9,
   "id": "abc6cfec-e5db-4f2a-ae2e-fe408c659752",
   "metadata": {},
   "outputs": [],
   "source": [
    "# dir(new_guicontrol)"
   ]
  },
  {
   "cell_type": "code",
   "execution_count": null,
   "id": "7233bf5d-391e-4359-b989-a9aa0dcae92f",
   "metadata": {},
   "outputs": [],
   "source": []
  },
  {
   "cell_type": "markdown",
   "id": "1a28184c-a373-4006-a4ad-331fba8526a0",
   "metadata": {},
   "source": [
    "## Using PDFGuiControl.fits to check the added Fitting object in the the new PDFGuiControl"
   ]
  },
  {
   "cell_type": "code",
   "execution_count": 10,
   "id": "9dbfaca1-0ef3-486d-8746-f56f9c89898b",
   "metadata": {},
   "outputs": [
    {
     "data": {
      "text/plain": [
       "[<diffpy.pdfgui.control.fitting.Fitting at 0x132950e20>]"
      ]
     },
     "execution_count": 10,
     "metadata": {},
     "output_type": "execute_result"
    }
   ],
   "source": [
    "new_guicontrol.fits"
   ]
  },
  {
   "cell_type": "code",
   "execution_count": null,
   "id": "0bd91a0e-c094-4d5c-af94-ac43f1a61a84",
   "metadata": {},
   "outputs": [],
   "source": []
  },
  {
   "cell_type": "markdown",
   "id": "24102db6-6700-4ebf-9179-3f6b27687bf9",
   "metadata": {},
   "source": [
    "## Find the gr data list and sort it"
   ]
  },
  {
   "cell_type": "code",
   "execution_count": 11,
   "id": "30c06d01-7c8f-425f-8fd9-6d848b9bc239",
   "metadata": {},
   "outputs": [],
   "source": [
    "subpath = '/Users/cheng-hunglin/Documents/Data_LDRD'\n",
    "gr_dir = os.path.join(subpath, 'gr_data')\n",
    "gr_list = glob.glob(gr_dir + '/*.gr')\n",
    "gr_list.sort()"
   ]
  },
  {
   "cell_type": "code",
   "execution_count": 12,
   "id": "cb494b99-38e7-492d-bd97-cb028dc9e1b2",
   "metadata": {},
   "outputs": [],
   "source": [
    "gr_serial = gr_list[:]"
   ]
  },
  {
   "cell_type": "code",
   "execution_count": null,
   "id": "0d406ea5-2eee-4646-985f-eb3b3e0a51c9",
   "metadata": {},
   "outputs": [],
   "source": []
  },
  {
   "cell_type": "markdown",
   "id": "2fd629df-d8f6-42ba-99d1-3b24b352ec40",
   "metadata": {},
   "source": [
    "## Define fitrmax, fitrmin, qdamp, qbroad from the copied Fitting object, e.g., fit_demo.copy()"
   ]
  },
  {
   "cell_type": "code",
   "execution_count": 13,
   "id": "5f61f42b-9b56-4358-b909-b45a7df29044",
   "metadata": {},
   "outputs": [],
   "source": [
    "fitrmax = new_guicontrol.fits[0].datasets[0].fitrmax\n",
    "fitrmin = new_guicontrol.fits[0].datasets[0].fitrmin\n",
    "qdamp = new_guicontrol.fits[0].datasets[0].qdamp\n",
    "qbroad = new_guicontrol.fits[0].datasets[0].qbroad\n",
    "# new_guicontrol.fits[0].datasets[1].constraints.update(new_guicontrol.fits[0].datasets[0].constraints)"
   ]
  },
  {
   "cell_type": "code",
   "execution_count": null,
   "id": "d1944c8c-6371-4124-9676-8300c4520a7f",
   "metadata": {},
   "outputs": [],
   "source": []
  },
  {
   "cell_type": "markdown",
   "id": "8d9f702d-eb99-4e74-9f38-87e00c185901",
   "metadata": {},
   "source": [
    "## Check fitting parameters"
   ]
  },
  {
   "cell_type": "code",
   "execution_count": 14,
   "id": "ed9fac6e-5c4e-44d8-98c4-c6d0c882026c",
   "metadata": {},
   "outputs": [
    {
     "data": {
      "text/plain": [
       "{11: <diffpy.pdfgui.control.parameter.Parameter at 0x132c300d0>,\n",
       " 12: <diffpy.pdfgui.control.parameter.Parameter at 0x132c30ad0>,\n",
       " 91: <diffpy.pdfgui.control.parameter.Parameter at 0x132c303d0>,\n",
       " 92: <diffpy.pdfgui.control.parameter.Parameter at 0x132c33950>,\n",
       " 131: <diffpy.pdfgui.control.parameter.Parameter at 0x132c338d0>,\n",
       " 132: <diffpy.pdfgui.control.parameter.Parameter at 0x132c337d0>,\n",
       " 133: <diffpy.pdfgui.control.parameter.Parameter at 0x132c33750>,\n",
       " 14: <diffpy.pdfgui.control.parameter.Parameter at 0x132c336d0>,\n",
       " 54: <diffpy.pdfgui.control.parameter.Parameter at 0x132c33650>,\n",
       " 94: <diffpy.pdfgui.control.parameter.Parameter at 0x132c33850>,\n",
       " 134: <diffpy.pdfgui.control.parameter.Parameter at 0x132c335d0>,\n",
       " 141: <diffpy.pdfgui.control.parameter.Parameter at 0x132c33550>,\n",
       " 142: <diffpy.pdfgui.control.parameter.Parameter at 0x132c334d0>,\n",
       " 143: <diffpy.pdfgui.control.parameter.Parameter at 0x132c33450>,\n",
       " 261: <diffpy.pdfgui.control.parameter.Parameter at 0x132c333d0>,\n",
       " 262: <diffpy.pdfgui.control.parameter.Parameter at 0x132c33350>,\n",
       " 263: <diffpy.pdfgui.control.parameter.Parameter at 0x132c332d0>,\n",
       " 401: <diffpy.pdfgui.control.parameter.Parameter at 0x132c33250>,\n",
       " 402: <diffpy.pdfgui.control.parameter.Parameter at 0x132c331d0>,\n",
       " 403: <diffpy.pdfgui.control.parameter.Parameter at 0x132c33bd0>,\n",
       " 144: <diffpy.pdfgui.control.parameter.Parameter at 0x132c31e50>,\n",
       " 264: <diffpy.pdfgui.control.parameter.Parameter at 0x132c31dd0>,\n",
       " 384: <diffpy.pdfgui.control.parameter.Parameter at 0x132c30c50>,\n",
       " 404: <diffpy.pdfgui.control.parameter.Parameter at 0x132c30cd0>,\n",
       " 1: <diffpy.pdfgui.control.parameter.Parameter at 0x132c33150>,\n",
       " 2: <diffpy.pdfgui.control.parameter.Parameter at 0x132c330d0>,\n",
       " 3: <diffpy.pdfgui.control.parameter.Parameter at 0x132c33050>,\n",
       " 100: <diffpy.pdfgui.control.parameter.Parameter at 0x132c32fd0>,\n",
       " 4: <diffpy.pdfgui.control.parameter.Parameter at 0x132c32f50>,\n",
       " 5: <diffpy.pdfgui.control.parameter.Parameter at 0x132c32ed0>,\n",
       " 200: <diffpy.pdfgui.control.parameter.Parameter at 0x132c32e50>,\n",
       " 201: <diffpy.pdfgui.control.parameter.Parameter at 0x132c32dd0>,\n",
       " 414: <diffpy.pdfgui.control.parameter.Parameter at 0x132c32d50>,\n",
       " 424: <diffpy.pdfgui.control.parameter.Parameter at 0x132c32cd0>,\n",
       " 6: <diffpy.pdfgui.control.parameter.Parameter at 0x132c32c50>,\n",
       " 101: <diffpy.pdfgui.control.parameter.Parameter at 0x132c32bd0>,\n",
       " 202: <diffpy.pdfgui.control.parameter.Parameter at 0x132c32b50>,\n",
       " 300: <diffpy.pdfgui.control.parameter.Parameter at 0x132c31550>}"
      ]
     },
     "execution_count": 14,
     "metadata": {},
     "output_type": "execute_result"
    }
   ],
   "source": [
    "new_guicontrol.fits[0].parameters"
   ]
  },
  {
   "cell_type": "code",
   "execution_count": 15,
   "id": "1f05629e-375b-45e7-8a52-f4b32276310e",
   "metadata": {},
   "outputs": [
    {
     "data": {
      "text/plain": [
       "False"
      ]
     },
     "execution_count": 15,
     "metadata": {},
     "output_type": "execute_result"
    }
   ],
   "source": [
    "new_guicontrol.fits[0].parameters[1].fixed"
   ]
  },
  {
   "cell_type": "code",
   "execution_count": 16,
   "id": "ce3881e3-7bbb-47a0-bdb4-11b4b0106298",
   "metadata": {},
   "outputs": [],
   "source": [
    "new_guicontrol.fits[0].parameters[1].fixed = False"
   ]
  },
  {
   "cell_type": "code",
   "execution_count": 17,
   "id": "85c1e896-aec3-492e-b021-b1c1e07377bf",
   "metadata": {},
   "outputs": [
    {
     "data": {
      "text/plain": [
       "False"
      ]
     },
     "execution_count": 17,
     "metadata": {},
     "output_type": "execute_result"
    }
   ],
   "source": [
    "new_guicontrol.fits[0].parameters[1].fixed"
   ]
  },
  {
   "cell_type": "code",
   "execution_count": 18,
   "id": "bb09b611-9c91-4dec-9990-843b91a91b40",
   "metadata": {},
   "outputs": [],
   "source": [
    "## Fitting parameters of lattice parameter in a list\n",
    "lat_par_list = [1 ,2 ,3, 4, 5, 6]"
   ]
  },
  {
   "cell_type": "code",
   "execution_count": null,
   "id": "a0ccf99c-efd2-4945-b4e5-adc1b40710cf",
   "metadata": {},
   "outputs": [],
   "source": []
  },
  {
   "cell_type": "markdown",
   "id": "332a50e8-f235-4a4d-a374-657d60184487",
   "metadata": {},
   "source": [
    "## Make the fitting tree in the new PDFGuiControl"
   ]
  },
  {
   "cell_type": "code",
   "execution_count": 19,
   "id": "56e5c1cb-c554-4c14-9b78-0a395c21e38c",
   "metadata": {},
   "outputs": [],
   "source": [
    "for i in range(len(gr_serial)):\n",
    "\n",
    "    ## Add new Fitting by copying the existed Fitting object\n",
    "    new_guicontrol.add(fit_demo.copy())\n",
    "\n",
    "    ## Rename the copied Fitting object\n",
    "    new_guicontrol.fits[i+1].name = f'Fit 3 _3D_s{i:02d}'\n",
    "\n",
    "    ## Load gr data from gr_list to the newly copied Fitting object\n",
    "    new_guicontrol.loadDataset(new_guicontrol.fits[i+1], gr_list[i])\n",
    "\n",
    "    ## Delete the old dataset in the newly copied Fitting object  \n",
    "    new_guicontrol.fits[i+1].datasets.__delitem__(0)\n",
    "\n",
    "    ## Update fitrmax, fitrmin, qdamp, qbroad in the loaded dataset\n",
    "    new_guicontrol.fits[i+1].datasets[0].fitrmax = fitrmax\n",
    "    new_guicontrol.fits[i+1].datasets[0].fitrmin = fitrmin\n",
    "    new_guicontrol.fits[i+1].datasets[0].qdamp = qdamp\n",
    "    new_guicontrol.fits[i+1].datasets[0].qbroad = qbroad\n",
    "\n",
    "    ## Update the constraints for the loaded dataset, mainly for dscale, qdamp, qbroad if constrained\n",
    "    new_guicontrol.fits[i+1].datasets[0].constraints.update(deepcopy(new_guicontrol.fits[0].datasets[0].constraints))\n",
    "\n",
    "    ## Equal the amount of scale factor\n",
    "    num_struc = len(new_guicontrol.fits[0].strucs)\n",
    "    for j in range(num_struc):\n",
    "        new_guicontrol.fits[i+1].strucs[j].setvar('pscale', 1/num_struc)\n",
    "    # new_guicontrol.fits[i+1].parameters[100].setInitial(0.615)\n",
    "    # new_guicontrol.fits[i+1].parameters[101].setInitial(0.615)\n",
    "    \n",
    "    new_guicontrol.fits[i+1].parameters[300].setInitial(0.5)\n",
    "    \n",
    "    ## Free lattice parameters for fitting\n",
    "    for k in lat_par_list:\n",
    "        new_guicontrol.fits[i+1].parameters[k].fixed = False\n",
    "    "
   ]
  },
  {
   "cell_type": "code",
   "execution_count": 20,
   "id": "9bd278a6-9970-42e2-bdb6-011659d9a5c5",
   "metadata": {},
   "outputs": [
    {
     "data": {
      "text/plain": [
       "85"
      ]
     },
     "execution_count": 20,
     "metadata": {},
     "output_type": "execute_result"
    }
   ],
   "source": [
    "len(new_guicontrol.fits)"
   ]
  },
  {
   "cell_type": "code",
   "execution_count": 21,
   "id": "52e9cb81-7362-4f5c-ac40-bd0f5641f19c",
   "metadata": {},
   "outputs": [
    {
     "data": {
      "text/plain": [
       "0.3333333333333333"
      ]
     },
     "execution_count": 21,
     "metadata": {},
     "output_type": "execute_result"
    }
   ],
   "source": [
    "new_guicontrol.fits[i+1].strucs[1].getvar('pscal')"
   ]
  },
  {
   "cell_type": "code",
   "execution_count": 22,
   "id": "0a6d0214-3623-4900-9c10-1f2d43b6395e",
   "metadata": {},
   "outputs": [
    {
     "data": {
      "text/plain": [
       "0.33"
      ]
     },
     "execution_count": 22,
     "metadata": {},
     "output_type": "execute_result"
    }
   ],
   "source": [
    "new_guicontrol.fits[i+1].parameters[100].initialValue()"
   ]
  },
  {
   "cell_type": "code",
   "execution_count": null,
   "id": "ba1278ae-b352-41f6-b4e6-181140d560e2",
   "metadata": {},
   "outputs": [],
   "source": []
  },
  {
   "cell_type": "code",
   "execution_count": 23,
   "id": "381b064d-d3a2-4b25-b954-c26e3b8200c7",
   "metadata": {},
   "outputs": [
    {
     "data": {
      "text/plain": [
       "{'dscale': <diffpy.pdfgui.control.constraint.Constraint at 0x142b133b0>}"
      ]
     },
     "execution_count": 23,
     "metadata": {},
     "output_type": "execute_result"
    }
   ],
   "source": [
    "new_guicontrol.fits[1].datasets[0].constraints"
   ]
  },
  {
   "cell_type": "code",
   "execution_count": null,
   "id": "9914a983-afa8-48d2-99fe-13364ca4f892",
   "metadata": {},
   "outputs": [],
   "source": []
  },
  {
   "cell_type": "markdown",
   "id": "528abd9c-8088-4add-b4fb-60c315cac9cc",
   "metadata": {},
   "source": [
    "## Run all the fitting in the new PDFGuiControl"
   ]
  },
  {
   "cell_type": "code",
   "execution_count": 24,
   "id": "f970e35a-35e2-4885-9839-22b8c296ce6d",
   "metadata": {
    "scrolled": true
   },
   "outputs": [
    {
     "name": "stdout",
     "output_type": "stream",
     "text": [
      "i = 84\n",
      "\n",
      "Data Cs_180_Br_040_Pb_020_PF_020_ fitting is on going\n",
      "\n",
      "\n",
      "******************************************************************************\n",
      "*                      P D F F I T   Version   1.5.1                         *\n",
      "*                                              2025-02-07                    *\n",
      "* -------------------------------------------------------------------------- *\n",
      "* (c) 1998-2007 Trustees of the Michigan State University.                   *\n",
      "* (c) 2008-2025 Trustees of the Columbia University                          *\n",
      "*               in the city of New York.                                     *\n",
      "*                                                                            *\n",
      "* Authors:                                                                   *\n",
      "*     Thomas Proffen        -   Email: tproffen@lanl.gov                     *\n",
      "*     Jacques Bloch         -   Email: bloch@pa.msu.edu                      *\n",
      "*     Christopher Farrow    -   Email: clf2121@columbia.edu                  *\n",
      "*     Pavol Juhas           -   Email: pjuhas@bnl.gov                        *\n",
      "*     Simon Billinge        -   Email: sb2896@columbia.edu                   *\n",
      "******************************************************************************\n",
      "\n",
      "\n",
      "=========================================================================\n",
      "\n",
      " Structure file format  : PDFFIT\n",
      " Phase number           : 1\n",
      " Phase title            : UNNAMED\n",
      "\n",
      " Lattice parameters     : 7.95897             8.57074             11.9884\n",
      "           & angles     : 90                  90                  90\n",
      " Unit cell volume       : 817.781\n",
      " Number density         : 0.0244564\n",
      " Metric tensor          : 63.3452             0                   0\n",
      "                          0                   73.4576             0\n",
      "                          0                   0                   143.722\n",
      "\n",
      " Recip. lat. parameters : 0.125644            0.116676            0.0834139\n",
      "               & angles : 90                  90                  90\n",
      " Recip. unit cell vol.  : 0.00122282\n",
      " Recip. metric tensor   : 0.0157865           0                   0\n",
      "                          0                   0.0136133           0\n",
      "                          0                   0                   0.00695787\n",
      "\n",
      " Structure file format  : PDFFIT\n",
      " Phase number           : 2\n",
      " Phase title            : UNNAMED\n",
      "\n",
      " Lattice parameters     : 13.7974             13.7974             16.3903\n",
      "           & angles     : 90                  90                  120\n",
      " Unit cell volume       : 2702.17\n",
      " Number density         : 0.0140628\n",
      " Metric tensor          : 190.369             -95.1843            0\n",
      "                          -95.1843            190.369             0\n",
      "                          0                   0                   268.641\n",
      "\n",
      " Recip. lat. parameters : 0.0836896           0.0836896           0.0610118\n",
      "               & angles : 90                  90                  60\n",
      " Recip. unit cell vol.  : 0.000370074\n",
      " Recip. metric tensor   : 0.00700396          0.00350198          0\n",
      "                          0.00350198          0.00700396          0\n",
      "                          0                   0                   0.00372244\n",
      "\n",
      " Structure file format  : PDFFIT\n",
      " Phase number           : 3\n",
      " Phase title            : UNNAMED\n",
      "\n",
      " Lattice parameters     : 4.2991              4.2991              4.2991\n",
      "           & angles     : 90                  90                  90\n",
      " Unit cell volume       : 79.4571\n",
      " Number density         : 0.0251708\n",
      " Metric tensor          : 18.4823             0                   0\n",
      "                          0                   18.4823             0\n",
      "                          0                   0                   18.4823\n",
      "\n",
      " Recip. lat. parameters : 0.232607            0.232607            0.232607\n",
      "               & angles : 90                  90                  90\n",
      " Recip. unit cell vol.  : 0.0125854\n",
      " Recip. metric tensor   : 0.0541059           0                   0\n",
      "                          0                   0.0541059           0\n",
      "                          0                   0                   0.0541059\n",
      "\n",
      " Reading 4 columns ...\n",
      " Read PDF data set 1  (r = 1.99 to 60 A, 5802 points) ...\n",
      " ****WARN****\n",
      " Uncertainties on G(r) were absent or unreadable in your input\n",
      " data.  The program reset these uncertainties to unity.  This\n",
      " does not affect at all the refined parameter values.  However,\n",
      " the values of the estimated uncertainties on these refined\n",
      " parameter values are not reliable.\n",
      " ****WARN****\n",
      "\n",
      "*******************\n",
      "Starting refinement\n",
      "*******************\n",
      " Dataset: 1   Phase: 1  2  3  \n",
      "\n",
      "******************************** ITER: 0 ********************************\n",
      "\n",
      " Refinement parameters :\n",
      "   1:  7.958968     2:  8.570741     3: 11.988415     4: 13.797413\n",
      "   5: 16.390266     6:  4.299100   100:  0.330000   101:  0.330000\n",
      " 300:  0.500000  \n",
      "\n",
      " chisq.: 13.5727   red.chisq.: 0.00234295   Rw: 1.035\n",
      "\n",
      "******************************** ITER: 1 ********************************\n",
      "\n",
      " Refinement parameters :\n",
      "   1:  7.915274     2:  8.726089     3: 12.105005     4: 14.124729\n",
      "   5: 16.327030     6:  4.312596   100:  0.395441   101:  0.250981\n",
      " 300:  0.231612  \n",
      "\n",
      " chisq.: 5.77591   red.chisq.: 0.00099705   Rw: 0.675174\n",
      "\n",
      "******************************** ITER: 2 ********************************\n",
      "\n",
      " Refinement parameters :\n",
      "   1:  7.862080     2:  8.954538     3: 12.040421     4: 14.165215\n",
      "   5: 16.718999     6:  4.324059   100:  0.355033   101:  0.310458\n",
      " 300:  0.253293  \n",
      "\n",
      " chisq.: 5.6789   red.chisq.: 0.000980303   Rw: 0.66948\n",
      "\n",
      "******************************** ITER: 3 ********************************\n",
      "\n",
      " Refinement parameters :\n",
      "   1:  7.993550     2:  9.060963     3: 11.840205     4: 14.026825\n",
      "   5: 17.009263     6:  4.320668   100:  0.362347   101:  0.307141\n",
      " 300:  0.254287  \n",
      "\n",
      " chisq.: 5.63137   red.chisq.: 0.000972099   Rw: 0.666673\n",
      "\n",
      "******************************** ITER: 4 ********************************\n",
      "\n",
      " Refinement parameters :\n",
      "   1:  7.993550     2:  9.060963     3: 11.840205     4: 14.026825\n",
      "   5: 17.009263     6:  4.320668   100:  0.362347   101:  0.307141\n",
      " 300:  0.254287  \n",
      "\n",
      " chisq.: 5.63137   red.chisq.: 0.000972099   Rw: 0.666673    stagnating\n",
      "\n",
      "******************************** ITER: 5 ********************************\n",
      "\n",
      " Refinement parameters :\n",
      "   1:  7.993550     2:  9.060963     3: 11.840205     4: 14.026825\n",
      "   5: 17.009263     6:  4.320668   100:  0.362347   101:  0.307141\n",
      " 300:  0.254287  \n",
      "\n",
      " chisq.: 5.63137   red.chisq.: 0.000972099   Rw: 0.666673    stagnating\n",
      "\n",
      "******************************** ITER: 6 ********************************\n",
      "\n",
      " Refinement parameters :\n",
      "   1:  7.993550     2:  9.060963     3: 11.840205     4: 14.026825\n",
      "   5: 17.009263     6:  4.320668   100:  0.362347   101:  0.307141\n",
      " 300:  0.254287  \n",
      "\n",
      " chisq.: 5.63137   red.chisq.: 0.000972099   Rw: 0.666673    stagnating\n",
      "\n",
      "================================ FINAL ==================================\n",
      "\n",
      " Refinement parameters :\n",
      "   1:  7.993550     2:  9.060963     3: 11.840205     4: 14.026825\n",
      "   5: 17.009263     6:  4.320668   100:  0.362347   101:  0.307141\n",
      " 300:  0.254287  \n",
      "\n",
      " chisq.: 5.63137   red.chisq.: 0.000972099   Rw: 0.666673\n",
      "\n",
      "\n",
      "Update refined results to initial for the current dataset\n",
      "\n",
      "\n",
      "\n"
     ]
    }
   ],
   "source": [
    "## The total # of Fitting object in the new PDFGuiControl will be len(gr_list) + 1\n",
    "## because of the first one is from the pre-defined ddp and has no modification \n",
    "# for i in range(2):\n",
    "# for i in tqdm(range(len(gr_serial)+1), desc =f'batch fitting with pdffit2'):\n",
    "failed_list = []\n",
    "for i in range(len(gr_serial)+1):\n",
    "    \n",
    "    clear_output(wait=True)\n",
    "    \n",
    "    data_name = new_guicontrol.fits[i].datasets.keys()[0]\n",
    "    print(f'{i = }\\n')\n",
    "    print(f'Data {data_name[:28]} fitting is on going\\n')\n",
    "    \n",
    "    try:\n",
    "        new_guicontrol.fits[i].run()\n",
    "\n",
    "        print('\\n')\n",
    "        print('Update refined results to initial for the current dataset\\n')\n",
    "        for key, item in new_guicontrol.fits[i].parameters.items():\n",
    "            refined = new_guicontrol.fits[i].getData(key)\n",
    "            new_guicontrol.fits[i].parameters[key].setInitial(refined)\n",
    "\n",
    "        # print('Update refined results to initial for the next dataset\\n')\n",
    "        # try:\n",
    "        #     for key, item in new_guicontrol.fits[i].parameters.items():\n",
    "        #         refined = new_guicontrol.fits[i].getData(key)\n",
    "        #         new_guicontrol.fits[i+1].parameters[key].setInitial(refined)\n",
    "        # except IndexError:\n",
    "        #     pass\n",
    "        \n",
    "    except calculationError:\n",
    "        new_guicontrol.fits[i].stop()\n",
    "        failed_list.append(data_name)\n",
    "        print(f'Data {data_name[:28]} fitting fialed\\n')\n",
    "        \n",
    "        # print('Update refined resutls to initial for the next dataset from the previous one\\n')\n",
    "        # try:\n",
    "        #     for key, item in new_guicontrol.fits[i-1].parameters.items():\n",
    "        #         refined = new_guicontrol.fits[i-1].getData(key)\n",
    "        #         new_guicontrol.fits[i+1].parameters[key].setInitial(refined)\n",
    "        # except IndexError:\n",
    "        #     pass\n",
    "        \n",
    "        tqdm_sleep_sec(30, message=f'fitting failed: {i = }, {data_name}')\n",
    "    \n",
    "    print('\\n')\n",
    "    time.sleep(3)\n"
   ]
  },
  {
   "cell_type": "code",
   "execution_count": 25,
   "id": "ccd35a39-e275-41be-8629-99cbd7780b21",
   "metadata": {},
   "outputs": [
    {
     "data": {
      "text/plain": [
       "84"
      ]
     },
     "execution_count": 25,
     "metadata": {},
     "output_type": "execute_result"
    }
   ],
   "source": [
    "i"
   ]
  },
  {
   "cell_type": "code",
   "execution_count": null,
   "id": "c75da291-ac40-4fdb-9451-f88c6c92f057",
   "metadata": {},
   "outputs": [],
   "source": []
  },
  {
   "cell_type": "markdown",
   "id": "2b34c6c1-82c7-49a5-a00d-2fadd28fd3c4",
   "metadata": {},
   "source": [
    "## Save the new PDFGuiControl as a ddp file"
   ]
  },
  {
   "cell_type": "code",
   "execution_count": 26,
   "id": "254da143-53b0-4d70-aa80-cd28ae493f3f",
   "metadata": {},
   "outputs": [],
   "source": [
    "subpath = '/Users/cheng-hunglin/Documents/Data_LDRD'\n",
    "fn = 'Cs_x-Pb_y-B_z_serial_all5-1.ddp'\n",
    "full_fn = os.path.join(subpath, fn)\n",
    "\n",
    "new_guicontrol.save(projfile=full_fn)"
   ]
  },
  {
   "cell_type": "code",
   "execution_count": null,
   "id": "389b6cfe-6ece-4148-8d19-67c1cd68f538",
   "metadata": {},
   "outputs": [],
   "source": []
  },
  {
   "cell_type": "markdown",
   "id": "278a4560-485c-43b9-8c8e-04b49497c480",
   "metadata": {},
   "source": [
    "## Plot rw for all fittins"
   ]
  },
  {
   "cell_type": "code",
   "execution_count": 27,
   "id": "693775c2-aa52-4986-afb4-30d1ee6df203",
   "metadata": {},
   "outputs": [],
   "source": [
    "rw_list = []\n",
    "for i in range(len(gr_serial)+1):\n",
    "    rw = new_guicontrol.fits[i].getData('rw')\n",
    "    rw_list.append(rw)"
   ]
  },
  {
   "cell_type": "code",
   "execution_count": 28,
   "id": "9f5641d1-60a2-4993-ae5f-3cf6eab502d9",
   "metadata": {},
   "outputs": [
    {
     "data": {
      "text/plain": [
       "85"
      ]
     },
     "execution_count": 28,
     "metadata": {},
     "output_type": "execute_result"
    }
   ],
   "source": [
    "len(rw_list)"
   ]
  },
  {
   "cell_type": "code",
   "execution_count": 29,
   "id": "17a95851-89da-4296-a074-9070a9b94ff4",
   "metadata": {},
   "outputs": [],
   "source": [
    "idx = np.arange(-1, 84, 1)"
   ]
  },
  {
   "cell_type": "code",
   "execution_count": 30,
   "id": "4ed2b70d-2bfe-4abc-8bc3-32579ebbdc4f",
   "metadata": {},
   "outputs": [
    {
     "data": {
      "text/plain": [
       "(85,)"
      ]
     },
     "execution_count": 30,
     "metadata": {},
     "output_type": "execute_result"
    }
   ],
   "source": [
    "idx.shape"
   ]
  },
  {
   "cell_type": "code",
   "execution_count": 31,
   "id": "0194876e-be24-477f-a483-197c45bedd1c",
   "metadata": {},
   "outputs": [
    {
     "data": {
      "text/plain": [
       "Text(0, 0.5, 'rw')"
      ]
     },
     "execution_count": 31,
     "metadata": {},
     "output_type": "execute_result"
    },
    {
     "data": {
      "application/vnd.jupyter.widget-view+json": {
       "model_id": "4f79667019e04e169384beea849b116c",
       "version_major": 2,
       "version_minor": 0
      },
      "image/png": "[encoded data removed]",
      "text/html": [
       "\n",
       "            <div style=\"display: inline-block;\">\n",
       "                <div class=\"jupyter-widgets widget-label\" style=\"text-align: center;\">\n",
       "                    Figure\n",
       "                </div>\n",
       "                <img src='data:image/png;base64,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' width=1500.0/>\n",
       "            </div>\n",
       "        "
      ],
      "text/plain": [
       "Canvas(toolbar=Toolbar(toolitems=[('Home', 'Reset original view', 'home', 'home'), ('Back', 'Back to previous …"
      ]
     },
     "metadata": {},
     "output_type": "display_data"
    }
   ],
   "source": [
    "f = plt.figure(figsize=(15,5))\n",
    "ax = f.gca()\n",
    "ax.plot(idx, rw_list, 'o--')\n",
    "ax.set_ylabel('rw')"
   ]
  },
  {
   "cell_type": "code",
   "execution_count": null,
   "id": "3e33e8d5-7c36-4543-9e3c-26ae8926a68e",
   "metadata": {},
   "outputs": [],
   "source": []
  },
  {
   "cell_type": "markdown",
   "id": "513436f3-7276-408d-b21b-77d96596a160",
   "metadata": {},
   "source": [
    "## Re fitting"
   ]
  },
  {
   "cell_type": "code",
   "execution_count": 32,
   "id": "5ce48583-ae8b-4478-9413-55018b0095aa",
   "metadata": {},
   "outputs": [],
   "source": [
    "fn = '/Users/cheng-hunglin/Documents/Data_LDRD/Cs_x-Pb_y-B_z_serial_all5-2.ddp'\n",
    "ddp_01 = LoadProject(fn)"
   ]
  },
  {
   "cell_type": "code",
   "execution_count": 33,
   "id": "c8c212eb-978b-410b-baef-aa7899e9ff80",
   "metadata": {},
   "outputs": [
    {
     "data": {
      "text/plain": [
       "85"
      ]
     },
     "execution_count": 33,
     "metadata": {},
     "output_type": "execute_result"
    }
   ],
   "source": [
    "len(ddp_01.getFits())"
   ]
  },
  {
   "cell_type": "code",
   "execution_count": 34,
   "id": "8be234f6-11fb-4c42-874c-37db2a5d18d6",
   "metadata": {},
   "outputs": [
    {
     "data": {
      "text/plain": [
       "'Cs_078_Br_092_Pb_000_OLA_020_PF_016_Tol_948_20250608-191128_dc413d_scattering-1_mean_q.gr'"
      ]
     },
     "execution_count": 34,
     "metadata": {},
     "output_type": "execute_result"
    }
   ],
   "source": [
    "ddp_01.getFits()[0].datasets.keys()[0]"
   ]
  },
  {
   "cell_type": "code",
   "execution_count": 35,
   "id": "f563abe8-4ed6-4f03-912e-9d1875a3f7de",
   "metadata": {},
   "outputs": [
    {
     "data": {
      "text/plain": [
       "8.081845318838255"
      ]
     },
     "execution_count": 35,
     "metadata": {},
     "output_type": "execute_result"
    }
   ],
   "source": [
    "ddp_01.getFits()[0].getData(1)"
   ]
  },
  {
   "cell_type": "code",
   "execution_count": 36,
   "id": "afa04a7e-cbe1-403d-96ef-553c09e6a2fe",
   "metadata": {},
   "outputs": [],
   "source": [
    "# ddp_01.getFits()[0].parameters[1].fixed = False"
   ]
  },
  {
   "cell_type": "code",
   "execution_count": 37,
   "id": "e915e3e1-087b-4840-bea0-3c7f7b662992",
   "metadata": {},
   "outputs": [
    {
     "name": "stdout",
     "output_type": "stream",
     "text": [
      "i = 84\n",
      "\n",
      "Data Cs_180_Br_040_Pb_020_PF_020_ fitting is on going\n",
      "\n",
      "\n",
      "******************************************************************************\n",
      "*                      P D F F I T   Version   1.5.1                         *\n",
      "*                                              2025-02-07                    *\n",
      "* -------------------------------------------------------------------------- *\n",
      "* (c) 1998-2007 Trustees of the Michigan State University.                   *\n",
      "* (c) 2008-2025 Trustees of the Columbia University                          *\n",
      "*               in the city of New York.                                     *\n",
      "*                                                                            *\n",
      "* Authors:                                                                   *\n",
      "*     Thomas Proffen        -   Email: tproffen@lanl.gov                     *\n",
      "*     Jacques Bloch         -   Email: bloch@pa.msu.edu                      *\n",
      "*     Christopher Farrow    -   Email: clf2121@columbia.edu                  *\n",
      "*     Pavol Juhas           -   Email: pjuhas@bnl.gov                        *\n",
      "*     Simon Billinge        -   Email: sb2896@columbia.edu                   *\n",
      "******************************************************************************\n",
      "\n",
      "\n",
      "=========================================================================\n",
      "\n",
      " Structure file format  : PDFFIT\n",
      " Phase number           : 1\n",
      " Phase title            : UNNAMED\n",
      "\n",
      " Lattice parameters     : 7.95897             8.57074             11.9884\n",
      "           & angles     : 90                  90                  90\n",
      " Unit cell volume       : 817.781\n",
      " Number density         : 0.0244564\n",
      " Metric tensor          : 63.3452             0                   0\n",
      "                          0                   73.4576             0\n",
      "                          0                   0                   143.722\n",
      "\n",
      " Recip. lat. parameters : 0.125644            0.116676            0.0834139\n",
      "               & angles : 90                  90                  90\n",
      " Recip. unit cell vol.  : 0.00122282\n",
      " Recip. metric tensor   : 0.0157865           0                   0\n",
      "                          0                   0.0136133           0\n",
      "                          0                   0                   0.00695787\n",
      "\n",
      " Structure file format  : PDFFIT\n",
      " Phase number           : 2\n",
      " Phase title            : UNNAMED\n",
      "\n",
      " Lattice parameters     : 13.7974             13.7974             16.3903\n",
      "           & angles     : 90                  90                  120\n",
      " Unit cell volume       : 2702.17\n",
      " Number density         : 0.0140628\n",
      " Metric tensor          : 190.369             -95.1843            0\n",
      "                          -95.1843            190.369             0\n",
      "                          0                   0                   268.641\n",
      "\n",
      " Recip. lat. parameters : 0.0836896           0.0836896           0.0610118\n",
      "               & angles : 90                  90                  60\n",
      " Recip. unit cell vol.  : 0.000370074\n",
      " Recip. metric tensor   : 0.00700396          0.00350198          0\n",
      "                          0.00350198          0.00700396          0\n",
      "                          0                   0                   0.00372244\n",
      "\n",
      " Structure file format  : PDFFIT\n",
      " Phase number           : 3\n",
      " Phase title            : UNNAMED\n",
      "\n",
      " Lattice parameters     : 4.2991              4.2991              4.2991\n",
      "           & angles     : 90                  90                  90\n",
      " Unit cell volume       : 79.4571\n",
      " Number density         : 0.0251708\n",
      " Metric tensor          : 18.4823             0                   0\n",
      "                          0                   18.4823             0\n",
      "                          0                   0                   18.4823\n",
      "\n",
      " Recip. lat. parameters : 0.232607            0.232607            0.232607\n",
      "               & angles : 90                  90                  90\n",
      " Recip. unit cell vol.  : 0.0125854\n",
      " Recip. metric tensor   : 0.0541059           0                   0\n",
      "                          0                   0.0541059           0\n",
      "                          0                   0                   0.0541059\n",
      "\n",
      " Reading 4 columns ...\n",
      " Read PDF data set 1  (r = 1.99 to 60 A, 5802 points) ...\n",
      " ****WARN****\n",
      " Uncertainties on G(r) were absent or unreadable in your input\n",
      " data.  The program reset these uncertainties to unity.  This\n",
      " does not affect at all the refined parameter values.  However,\n",
      " the values of the estimated uncertainties on these refined\n",
      " parameter values are not reliable.\n",
      " ****WARN****\n",
      "\n",
      "*******************\n",
      "Starting refinement\n",
      "*******************\n",
      " Dataset: 1   Phase: 1  2  3  \n",
      "\n",
      "******************************** ITER: 0 ********************************\n",
      "\n",
      " Refinement parameters :\n",
      "   1:  7.993550     2:  9.060963     3: 11.840205     4: 14.026825\n",
      "   5: 17.009263     6:  4.320668   100:  0.362347   101:  0.307141\n",
      " 200:  5.129970   201:  7.979040   202:  5.690000   300:  0.254287\n",
      "\n",
      " chisq.: 5.63137   red.chisq.: 0.000972603   Rw: 0.666673\n",
      "\n",
      "******************************** ITER: 1 ********************************\n",
      "\n",
      " Refinement parameters :\n",
      "   1:  7.993550     2:  9.060963     3: 11.840205     4: 14.026825\n",
      "   5: 17.009263     6:  4.320668   100:  0.362347   101:  0.307141\n",
      " 200:  5.129970   201:  7.979040   202:  5.690000   300:  0.254287\n",
      "\n",
      " chisq.: 5.63137   red.chisq.: 0.000972603   Rw: 0.666673\n",
      "\n",
      "******************************** ITER: 2 ********************************\n",
      "\n",
      " Refinement parameters :\n",
      "   1:  7.993550     2:  9.060963     3: 11.840205     4: 14.026825\n",
      "   5: 17.009263     6:  4.320668   100:  0.362347   101:  0.307141\n",
      " 200:  5.129970   201:  7.979040   202:  5.690000   300:  0.254287\n",
      "\n",
      " chisq.: 5.63137   red.chisq.: 0.000972603   Rw: 0.666673    stagnating\n",
      "\n",
      "******************************** ITER: 3 ********************************\n",
      "\n",
      " Refinement parameters :\n",
      "   1:  7.993550     2:  9.060963     3: 11.840205     4: 14.026825\n",
      "   5: 17.009263     6:  4.320668   100:  0.362347   101:  0.307141\n",
      " 200:  5.129970   201:  7.979040   202:  5.690000   300:  0.254287\n",
      "\n",
      " chisq.: 5.63137   red.chisq.: 0.000972603   Rw: 0.666673    stagnating\n",
      "\n",
      "******************************** ITER: 4 ********************************\n",
      "\n",
      " Refinement parameters :\n",
      "   1:  7.993550     2:  9.060963     3: 11.840205     4: 14.026825\n",
      "   5: 17.009263     6:  4.320668   100:  0.362347   101:  0.307141\n",
      " 200:  5.129970   201:  7.979040   202:  5.690000   300:  0.254287\n",
      "\n",
      " chisq.: 5.63137   red.chisq.: 0.000972603   Rw: 0.666673    stagnating\n",
      "\n",
      "================================ FINAL ==================================\n",
      "\n",
      " Refinement parameters :\n",
      "   1:  7.993550     2:  9.060963     3: 11.840205     4: 14.026825\n",
      "   5: 17.009263     6:  4.320668   100:  0.362347   101:  0.307141\n",
      " 200:  5.129970   201:  7.979040   202:  5.690000   300:  0.254287\n",
      "\n",
      " chisq.: 5.63137   red.chisq.: 0.000972603   Rw: 0.666673\n",
      "\n",
      "\n",
      "Update refined results to initial for the current dataset\n",
      "\n",
      "\n",
      "\n"
     ]
    }
   ],
   "source": [
    "failed_list = []\n",
    "for i in range(len(ddp_01.getFits())):\n",
    "    \n",
    "    clear_output(wait=True)\n",
    "    \n",
    "    data_name = ddp_01.getFits()[i].datasets.keys()[0]\n",
    "    print(f'{i = }\\n')\n",
    "    print(f'Data {data_name[:28]} fitting is on going\\n')\n",
    "\n",
    "    ## Free delta2 for fitting\n",
    "    for k in [200, 201, 202]:\n",
    "        ddp_01.getFits()[i].parameters[k].fixed = False\n",
    "    \n",
    "    try:\n",
    "        ddp_01.getFits()[i].run()\n",
    "\n",
    "        print('\\n')\n",
    "        print('Update refined results to initial for the current dataset\\n')\n",
    "        for key, item in ddp_01.getFits()[i].parameters.items():\n",
    "            refined = ddp_01.getFits()[i].getData(key)\n",
    "            ddp_01.getFits()[i].parameters[key].setInitial(refined)\n",
    "\n",
    "        # print('Update refined results to initial for the next dataset\\n')\n",
    "        # try:\n",
    "        #     for key, item in new_guicontrol.fits[i].parameters.items():\n",
    "        #         refined = new_guicontrol.fits[i].getData(key)\n",
    "        #         new_guicontrol.fits[i+1].parameters[key].setInitial(refined)\n",
    "        # except IndexError:\n",
    "        #     pass\n",
    "        \n",
    "    except calculationError:\n",
    "        ddp_01.getFits()[i].stop()\n",
    "        failed_list.append(data_name)\n",
    "        print(f'Data {data_name[:28]} fitting fialed\\n')\n",
    "        \n",
    "        # print('Update refined resutls to initial for the next dataset from the previous one\\n')\n",
    "        # try:\n",
    "        #     for key, item in new_guicontrol.fits[i-1].parameters.items():\n",
    "        #         refined = new_guicontrol.fits[i-1].getData(key)\n",
    "        #         new_guicontrol.fits[i+1].parameters[key].setInitial(refined)\n",
    "        # except IndexError:\n",
    "        #     pass\n",
    "        \n",
    "        tqdm_sleep_sec(30, message=f'fitting failed: {i = }, {data_name}')\n",
    "    \n",
    "    print('\\n')\n",
    "    time.sleep(3)"
   ]
  },
  {
   "cell_type": "code",
   "execution_count": 38,
   "id": "96f4d5f6-9317-4758-94e9-0098c6f3ec07",
   "metadata": {},
   "outputs": [],
   "source": [
    "ddp_01.getFits()[i].stop()"
   ]
  },
  {
   "cell_type": "code",
   "execution_count": 40,
   "id": "d2339620-620f-4b44-8313-46a35a48e1d8",
   "metadata": {},
   "outputs": [],
   "source": [
    "subpath = '/Users/cheng-hunglin/Documents/Data_LDRD'\n",
    "fn = 'Cs_x-Pb_y-B_z_serial_all5-2.ddp'\n",
    "full_fn = os.path.join(subpath, fn)\n",
    "\n",
    "ddp_01.save(full_fn)"
   ]
  },
  {
   "cell_type": "code",
   "execution_count": 41,
   "id": "aff1bf09-a924-4593-a56d-7d9d4a3da6a4",
   "metadata": {},
   "outputs": [
    {
     "data": {
      "text/plain": [
       "['Cs_000_Br_143_Pb_093_OLA_000_PF_020_Tol_1182_20250608-205851_e5c3d6_scattering-1_mean_q.gr',\n",
       " 'Cs_020_Br_120_Pb_100_PF_020_Tol_1200_20250607-013724_4d8520_scattering-1_mean_q.gr']"
      ]
     },
     "execution_count": 41,
     "metadata": {},
     "output_type": "execute_result"
    }
   ],
   "source": [
    "failed_list"
   ]
  },
  {
   "cell_type": "code",
   "execution_count": null,
   "id": "ae1b050e-a83a-4d86-aabe-b2a9d8583753",
   "metadata": {},
   "outputs": [],
   "source": []
  }
 ],
 "metadata": {
  "kernelspec": {
   "display_name": "Python 3 (ipykernel)",
   "language": "python",
   "name": "python3"
  },
  "language_info": {
   "codemirror_mode": {
    "name": "ipython",
    "version": 3
   },
   "file_extension": ".py",
   "mimetype": "text/x-python",
   "name": "python",
   "nbconvert_exporter": "python",
   "pygments_lexer": "ipython3",
   "version": "3.13.5"
  }
 },
 "nbformat": 4,
 "nbformat_minor": 5
}
