{
 "cells": [
  {
   "cell_type": "code",
   "execution_count": 1,
   "id": "691985d3-b22a-4415-87e1-c9bbc27d7433",
   "metadata": {},
   "outputs": [],
   "source": [
    "import os\n",
    "import glob\n",
    "import numpy as np\n",
    "import pandas as pd\n",
    "import matplotlib.pyplot as plt\n",
    "from copy import deepcopy\n",
    "from diffpy.pdfgui.tui import LoadProject\n",
    "from diffpy.pdfgui.control.pdfguicontrol import PDFGuiControl\n",
    "from diffpy.pdffit2.pdffit2 import calculationError\n",
    "\n",
    "from IPython.display import clear_output\n",
    "import time\n",
    "# from tqdm.auto import tqdm"
   ]
  },
  {
   "cell_type": "code",
   "execution_count": 2,
   "id": "69d0f7ae-3a44-49ed-8216-1698c3e33f39",
   "metadata": {},
   "outputs": [],
   "source": [
    "%matplotlib widget"
   ]
  },
  {
   "cell_type": "code",
   "execution_count": 3,
   "id": "4c102e19-54f9-421b-a225-74c46ce104eb",
   "metadata": {},
   "outputs": [],
   "source": [
    "def tqdm_sleep_sec(t, message='Sleep'):\n",
    "    import datetime\n",
    "    from tqdm import tqdm\n",
    "    now = datetime.datetime.now()\n",
    "    print(f'\\nSleep for a while: {t} seconds.')\n",
    "    print(f'Waiting starts at {now}')\n",
    "    for i in tqdm(range(0,100), desc=message):\n",
    "        time.sleep(t/100)"
   ]
  },
  {
   "cell_type": "code",
   "execution_count": null,
   "id": "6ee07dd4-4950-4ce4-bbd0-451f6e5e41b3",
   "metadata": {},
   "outputs": [],
   "source": []
  },
  {
   "cell_type": "markdown",
   "id": "00b33123-7f12-45e9-ac0a-becb43a1330e",
   "metadata": {},
   "source": [
    "## Load a pre-defined PDFGui project file (.ddp) using diffpy.pdfgui.tui.LoadProject"
   ]
  },
  {
   "cell_type": "code",
   "execution_count": 4,
   "id": "ec6a18c4-dde2-4cce-9c16-26e425d0b07c",
   "metadata": {},
   "outputs": [],
   "source": [
    "fn_dir = '/Users/cheng-hunglin/Documents/Data_LDRD'\n",
    "fn = os.path.join(fn_dir, 'Cs_x-Pb_y-B_z_serial_bkg_10min_11-1.ddp3')\n",
    "ddp = LoadProject(fn)"
   ]
  },
  {
   "cell_type": "code",
   "execution_count": null,
   "id": "6c545bb5-521f-46ad-940e-21f79a8a8728",
   "metadata": {},
   "outputs": [],
   "source": []
  },
  {
   "cell_type": "markdown",
   "id": "66f77e16-e174-4691-b869-1b1670d45241",
   "metadata": {},
   "source": [
    "## Check the fitting object (diffpy.pdfgui.control.fitting.Fitting) in the ddp project file"
   ]
  },
  {
   "cell_type": "code",
   "execution_count": 5,
   "id": "47bc1292-1ec9-4061-acb4-63b2bf47b025",
   "metadata": {},
   "outputs": [
    {
     "data": {
      "text/plain": [
       "'Fit 3 _0D_s20'"
      ]
     },
     "execution_count": 5,
     "metadata": {},
     "output_type": "execute_result"
    }
   ],
   "source": [
    "fit_demo = ddp.getFits()[21]\n",
    "fit_demo.name"
   ]
  },
  {
   "cell_type": "code",
   "execution_count": 6,
   "id": "899c948b-9b67-40ae-af2d-c6057554b5bd",
   "metadata": {},
   "outputs": [
    {
     "data": {
      "text/plain": [
       "<diffpy.pdfgui.control.pdfguicontrol.PDFGuiControl at 0x10733bb60>"
      ]
     },
     "execution_count": 6,
     "metadata": {},
     "output_type": "execute_result"
    }
   ],
   "source": [
    "fit_demo.owner"
   ]
  },
  {
   "cell_type": "code",
   "execution_count": 7,
   "id": "77597e5a-03ed-4bc9-a85b-266a894700f1",
   "metadata": {},
   "outputs": [],
   "source": [
    "fit_demo.name = 'Fit 3 _0D_s20 demo'"
   ]
  },
  {
   "cell_type": "code",
   "execution_count": 8,
   "id": "177435b0-4831-4f98-af87-086418bc434f",
   "metadata": {},
   "outputs": [
    {
     "data": {
      "text/plain": [
       "'Fit 3 _0D_s20 demo'"
      ]
     },
     "execution_count": 8,
     "metadata": {},
     "output_type": "execute_result"
    }
   ],
   "source": [
    "fit_demo.name"
   ]
  },
  {
   "cell_type": "markdown",
   "id": "1398a8da-ba9d-4f75-8398-76bca71a946b",
   "metadata": {},
   "source": [
    "## Create an object of PDFGuiControl which holds all the data GUI needs to access or change"
   ]
  },
  {
   "cell_type": "markdown",
   "id": "1f878305-6036-41d3-8b78-74467836fe8f",
   "metadata": {},
   "source": [
    "### the PDFGuiControl object will be saved as a ddp file in the end"
   ]
  },
  {
   "cell_type": "code",
   "execution_count": 9,
   "id": "961049e8-df5e-4ac9-aa2b-c529fb546c7a",
   "metadata": {},
   "outputs": [],
   "source": [
    "new_guicontrol = PDFGuiControl()"
   ]
  },
  {
   "cell_type": "code",
   "execution_count": null,
   "id": "ce4e64d1-db60-4dbf-a3ee-aa72ea6ba56d",
   "metadata": {},
   "outputs": [],
   "source": []
  },
  {
   "cell_type": "markdown",
   "id": "cb8c9305-ee73-46a0-a212-dce08f6a80ec",
   "metadata": {},
   "source": [
    "## Copy the Fitting object from ddp to the new PDFGuiControl"
   ]
  },
  {
   "cell_type": "code",
   "execution_count": 10,
   "id": "2566de4a-952d-4a00-a675-dcf9aa5472d5",
   "metadata": {},
   "outputs": [
    {
     "data": {
      "text/plain": [
       "<diffpy.pdfgui.control.fitting.Fitting at 0x13ebe3350>"
      ]
     },
     "execution_count": 10,
     "metadata": {},
     "output_type": "execute_result"
    }
   ],
   "source": [
    "new_guicontrol.add(fit_demo.copy())"
   ]
  },
  {
   "cell_type": "code",
   "execution_count": 11,
   "id": "abc6cfec-e5db-4f2a-ae2e-fe408c659752",
   "metadata": {},
   "outputs": [],
   "source": [
    "# dir(new_guicontrol)"
   ]
  },
  {
   "cell_type": "code",
   "execution_count": null,
   "id": "7233bf5d-391e-4359-b989-a9aa0dcae92f",
   "metadata": {},
   "outputs": [],
   "source": []
  },
  {
   "cell_type": "markdown",
   "id": "1a28184c-a373-4006-a4ad-331fba8526a0",
   "metadata": {},
   "source": [
    "## Using PDFGuiControl.fits to check the added Fitting object in the the new PDFGuiControl"
   ]
  },
  {
   "cell_type": "code",
   "execution_count": 12,
   "id": "9dbfaca1-0ef3-486d-8746-f56f9c89898b",
   "metadata": {},
   "outputs": [
    {
     "data": {
      "text/plain": [
       "[<diffpy.pdfgui.control.fitting.Fitting at 0x13ebe3350>]"
      ]
     },
     "execution_count": 12,
     "metadata": {},
     "output_type": "execute_result"
    }
   ],
   "source": [
    "new_guicontrol.fits"
   ]
  },
  {
   "cell_type": "code",
   "execution_count": null,
   "id": "0bd91a0e-c094-4d5c-af94-ac43f1a61a84",
   "metadata": {},
   "outputs": [],
   "source": []
  },
  {
   "cell_type": "markdown",
   "id": "24102db6-6700-4ebf-9179-3f6b27687bf9",
   "metadata": {},
   "source": [
    "## Find the gr data list and sort it"
   ]
  },
  {
   "cell_type": "code",
   "execution_count": 13,
   "id": "30c06d01-7c8f-425f-8fd9-6d848b9bc239",
   "metadata": {},
   "outputs": [],
   "source": [
    "# subpath = '/Users/cheng-hunglin/Documents/Data_LDRD'\n",
    "subpath = '/Users/cheng-hunglin/Documents/Data_LDRD/Ghose_316490_d49d3e59/iqgr/bkg_day3/gr_updated'\n",
    "gr_dir = os.path.join(subpath)\n",
    "gr_list = glob.glob(gr_dir + '/*.gr')\n",
    "gr_list.sort()"
   ]
  },
  {
   "cell_type": "code",
   "execution_count": 14,
   "id": "cb494b99-38e7-492d-bd97-cb028dc9e1b2",
   "metadata": {},
   "outputs": [],
   "source": [
    "gr_serial = gr_list[:]\n",
    "# gr_serial"
   ]
  },
  {
   "cell_type": "code",
   "execution_count": null,
   "id": "0d406ea5-2eee-4646-985f-eb3b3e0a51c9",
   "metadata": {},
   "outputs": [],
   "source": []
  },
  {
   "cell_type": "markdown",
   "id": "2fd629df-d8f6-42ba-99d1-3b24b352ec40",
   "metadata": {},
   "source": [
    "## Define fitrmax, fitrmin, qdamp, qbroad from the copied Fitting object, e.g., fit_demo.copy()"
   ]
  },
  {
   "cell_type": "code",
   "execution_count": 15,
   "id": "5f61f42b-9b56-4358-b909-b45a7df29044",
   "metadata": {},
   "outputs": [],
   "source": [
    "fitrmax = new_guicontrol.fits[0].datasets[0].fitrmax\n",
    "fitrmin = new_guicontrol.fits[0].datasets[0].fitrmin\n",
    "qdamp = new_guicontrol.fits[0].datasets[0].qdamp\n",
    "qbroad = new_guicontrol.fits[0].datasets[0].qbroad\n",
    "# new_guicontrol.fits[0].datasets[1].constraints.update(new_guicontrol.fits[0].datasets[0].constraints)"
   ]
  },
  {
   "cell_type": "code",
   "execution_count": null,
   "id": "d1944c8c-6371-4124-9676-8300c4520a7f",
   "metadata": {},
   "outputs": [],
   "source": []
  },
  {
   "cell_type": "markdown",
   "id": "8d9f702d-eb99-4e74-9f38-87e00c185901",
   "metadata": {},
   "source": [
    "## Check fitting parameters"
   ]
  },
  {
   "cell_type": "code",
   "execution_count": 16,
   "id": "ed9fac6e-5c4e-44d8-98c4-c6d0c882026c",
   "metadata": {},
   "outputs": [
    {
     "data": {
      "text/plain": [
       "{1: <diffpy.pdfgui.control.parameter.Parameter at 0x13ebd39d0>,\n",
       " 2: <diffpy.pdfgui.control.parameter.Parameter at 0x13ebd3b50>,\n",
       " 3: <diffpy.pdfgui.control.parameter.Parameter at 0x13ebd3ad0>,\n",
       " 100: <diffpy.pdfgui.control.parameter.Parameter at 0x13ebd33d0>,\n",
       " 101: <diffpy.pdfgui.control.parameter.Parameter at 0x13ed1c150>,\n",
       " 6: <diffpy.pdfgui.control.parameter.Parameter at 0x13ed1c250>,\n",
       " 40: <diffpy.pdfgui.control.parameter.Parameter at 0x13ed1c0d0>,\n",
       " 41: <diffpy.pdfgui.control.parameter.Parameter at 0x13ed1c3d0>,\n",
       " 202: <diffpy.pdfgui.control.parameter.Parameter at 0x13ed1c350>,\n",
       " 43: <diffpy.pdfgui.control.parameter.Parameter at 0x13ed1c1d0>,\n",
       " 300: <diffpy.pdfgui.control.parameter.Parameter at 0x13ed1c050>,\n",
       " 200: <diffpy.pdfgui.control.parameter.Parameter at 0x13ed1c450>,\n",
       " 50: <diffpy.pdfgui.control.parameter.Parameter at 0x13ed1c5d0>,\n",
       " 51: <diffpy.pdfgui.control.parameter.Parameter at 0x13ed1c650>,\n",
       " 201: <diffpy.pdfgui.control.parameter.Parameter at 0x13ed1c550>,\n",
       " 4: <diffpy.pdfgui.control.parameter.Parameter at 0x13ed1c750>,\n",
       " 60: <diffpy.pdfgui.control.parameter.Parameter at 0x13ed1c6d0>,\n",
       " 61: <diffpy.pdfgui.control.parameter.Parameter at 0x13ed1c4d0>,\n",
       " 62: <diffpy.pdfgui.control.parameter.Parameter at 0x13ed1c8d0>,\n",
       " 5: <diffpy.pdfgui.control.parameter.Parameter at 0x13ed1c950>}"
      ]
     },
     "execution_count": 16,
     "metadata": {},
     "output_type": "execute_result"
    }
   ],
   "source": [
    "new_guicontrol.fits[0].parameters"
   ]
  },
  {
   "cell_type": "code",
   "execution_count": 17,
   "id": "1f05629e-375b-45e7-8a52-f4b32276310e",
   "metadata": {},
   "outputs": [
    {
     "data": {
      "text/plain": [
       "False"
      ]
     },
     "execution_count": 17,
     "metadata": {},
     "output_type": "execute_result"
    }
   ],
   "source": [
    "new_guicontrol.fits[0].parameters[1].fixed"
   ]
  },
  {
   "cell_type": "code",
   "execution_count": 18,
   "id": "ce3881e3-7bbb-47a0-bdb4-11b4b0106298",
   "metadata": {},
   "outputs": [],
   "source": [
    "# new_guicontrol.fits[0].parameters[1].fixed = True"
   ]
  },
  {
   "cell_type": "code",
   "execution_count": 19,
   "id": "85c1e896-aec3-492e-b021-b1c1e07377bf",
   "metadata": {},
   "outputs": [],
   "source": [
    "# new_guicontrol.fits[0].parameters[1].fixed"
   ]
  },
  {
   "cell_type": "code",
   "execution_count": null,
   "id": "bb09b611-9c91-4dec-9990-843b91a91b40",
   "metadata": {},
   "outputs": [],
   "source": []
  },
  {
   "cell_type": "code",
   "execution_count": null,
   "id": "a0ccf99c-efd2-4945-b4e5-adc1b40710cf",
   "metadata": {},
   "outputs": [],
   "source": []
  },
  {
   "cell_type": "markdown",
   "id": "332a50e8-f235-4a4d-a374-657d60184487",
   "metadata": {},
   "source": [
    "## Make the fitting tree in the new PDFGuiControl"
   ]
  },
  {
   "cell_type": "code",
   "execution_count": 20,
   "id": "56e5c1cb-c554-4c14-9b78-0a395c21e38c",
   "metadata": {},
   "outputs": [],
   "source": [
    "for i in range(len(gr_serial)):\n",
    "\n",
    "    ## Add new Fitting by copying the existed Fitting object\n",
    "    new_guicontrol.add(fit_demo.copy())\n",
    "\n",
    "    ## Rename the copied Fitting object\n",
    "    new_guicontrol.fits[i+1].name = f'Fit_s{i+1:02d}'\n",
    "\n",
    "    ## Load gr data from gr_serial to the newly copied Fitting object\n",
    "    new_guicontrol.loadDataset(new_guicontrol.fits[i+1], gr_serial[i])\n",
    "\n",
    "    ## Delete the old dataset in the newly copied Fitting object  \n",
    "    new_guicontrol.fits[i+1].datasets.__delitem__(0)\n",
    "\n",
    "    ## Update fitrmax, fitrmin, qdamp, qbroad in the loaded dataset\n",
    "    new_guicontrol.fits[i+1].datasets[0].fitrmax = 45 #fitrmax\n",
    "    new_guicontrol.fits[i+1].datasets[0].fitrmin = 2.4 #fitrmin\n",
    "    new_guicontrol.fits[i+1].datasets[0].qdamp = qdamp\n",
    "    new_guicontrol.fits[i+1].datasets[0].qbroad = qbroad\n",
    "\n",
    "    ## Update the constraints for the loaded dataset, mainly for dscale, qdamp, qbroad if constrained\n",
    "    new_guicontrol.fits[i+1].datasets[0].constraints.update(deepcopy(new_guicontrol.fits[0].datasets[0].constraints))\n",
    "\n",
    "    ## Equal the amount of scale factor\n",
    "    # num_struc = len(new_guicontrol.fits[0].strucs)\n",
    "    # for j in range(num_struc):\n",
    "    #     new_guicontrol.fits[i+1].strucs[j].setvar('pscale', 1/num_struc)\n",
    "    new_guicontrol.fits[i+1].parameters[100].setInitial(0.33)  #0.615)\n",
    "    new_guicontrol.fits[i+1].parameters[101].setInitial(0.33)  #0.615)\n",
    "    \n",
    "    new_guicontrol.fits[i+1].parameters[300].setInitial(0.5)\n"
   ]
  },
  {
   "cell_type": "code",
   "execution_count": 21,
   "id": "9bd278a6-9970-42e2-bdb6-011659d9a5c5",
   "metadata": {},
   "outputs": [
    {
     "data": {
      "text/plain": [
       "23"
      ]
     },
     "execution_count": 21,
     "metadata": {},
     "output_type": "execute_result"
    }
   ],
   "source": [
    "len(new_guicontrol.fits)"
   ]
  },
  {
   "cell_type": "code",
   "execution_count": 22,
   "id": "52e9cb81-7362-4f5c-ac40-bd0f5641f19c",
   "metadata": {},
   "outputs": [
    {
     "data": {
      "text/plain": [
       "1.0"
      ]
     },
     "execution_count": 22,
     "metadata": {},
     "output_type": "execute_result"
    }
   ],
   "source": [
    "new_guicontrol.fits[i+1].strucs[1].getvar('pscal')"
   ]
  },
  {
   "cell_type": "code",
   "execution_count": 23,
   "id": "0a6d0214-3623-4900-9c10-1f2d43b6395e",
   "metadata": {},
   "outputs": [
    {
     "data": {
      "text/plain": [
       "0.33"
      ]
     },
     "execution_count": 23,
     "metadata": {},
     "output_type": "execute_result"
    }
   ],
   "source": [
    "new_guicontrol.fits[i+1].parameters[100].initialValue()"
   ]
  },
  {
   "cell_type": "code",
   "execution_count": null,
   "id": "ba1278ae-b352-41f6-b4e6-181140d560e2",
   "metadata": {},
   "outputs": [],
   "source": []
  },
  {
   "cell_type": "code",
   "execution_count": 24,
   "id": "381b064d-d3a2-4b25-b954-c26e3b8200c7",
   "metadata": {},
   "outputs": [
    {
     "data": {
      "text/plain": [
       "{'dscale': <diffpy.pdfgui.control.constraint.Constraint at 0x31671f290>}"
      ]
     },
     "execution_count": 24,
     "metadata": {},
     "output_type": "execute_result"
    }
   ],
   "source": [
    "new_guicontrol.fits[1].datasets[0].constraints"
   ]
  },
  {
   "cell_type": "code",
   "execution_count": 25,
   "id": "9914a983-afa8-48d2-99fe-13364ca4f892",
   "metadata": {},
   "outputs": [
    {
     "data": {
      "text/plain": [
       "23"
      ]
     },
     "execution_count": 25,
     "metadata": {},
     "output_type": "execute_result"
    }
   ],
   "source": [
    "len(new_guicontrol.fits)"
   ]
  },
  {
   "cell_type": "code",
   "execution_count": null,
   "id": "f73b1a00-9727-4880-8bdc-85c86d83a1df",
   "metadata": {},
   "outputs": [],
   "source": []
  },
  {
   "cell_type": "markdown",
   "id": "528abd9c-8088-4add-b4fb-60c315cac9cc",
   "metadata": {},
   "source": [
    "## Run all the fitting in the new PDFGuiControl"
   ]
  },
  {
   "cell_type": "markdown",
   "id": "5c9dd260-aa6c-4fcd-a9d3-9313244c9da9",
   "metadata": {},
   "source": [
    "## First fitting - Refine scales and lattice parameters"
   ]
  },
  {
   "cell_type": "code",
   "execution_count": 26,
   "id": "aa465bdd-8ead-483a-a76a-a8383128411f",
   "metadata": {},
   "outputs": [],
   "source": [
    "## Fitting parameters of lattice parameter in a list\n",
    "lat_par_list = [1 ,2 ,3, 4, 5, 6]"
   ]
  },
  {
   "cell_type": "code",
   "execution_count": 27,
   "id": "f970e35a-35e2-4885-9839-22b8c296ce6d",
   "metadata": {},
   "outputs": [
    {
     "name": "stdout",
     "output_type": "stream",
     "text": [
      "i = 22\n",
      "\n",
      "Data Cs_130_Br_050_Pb_044_OLA_014 fitting is on going\n",
      "\n",
      "\n",
      "******************************************************************************\n",
      "*                      P D F F I T   Version   1.5.1                         *\n",
      "*                                              2025-02-07                    *\n",
      "* -------------------------------------------------------------------------- *\n",
      "* (c) 1998-2007 Trustees of the Michigan State University.                   *\n",
      "* (c) 2008-2025 Trustees of the Columbia University                          *\n",
      "*               in the city of New York.                                     *\n",
      "*                                                                            *\n",
      "* Authors:                                                                   *\n",
      "*     Thomas Proffen        -   Email: tproffen@lanl.gov                     *\n",
      "*     Jacques Bloch         -   Email: bloch@pa.msu.edu                      *\n",
      "*     Christopher Farrow    -   Email: clf2121@columbia.edu                  *\n",
      "*     Pavol Juhas           -   Email: pjuhas@bnl.gov                        *\n",
      "*     Simon Billinge        -   Email: sb2896@columbia.edu                   *\n",
      "******************************************************************************\n",
      "\n",
      "\n",
      "=========================================================================\n",
      "\n",
      " Structure file format  : PDFFIT\n",
      " Phase number           : 1\n",
      " Phase title            : UNNAMED\n",
      "\n",
      " Lattice parameters     : 4.28963             4.28963             4.28963\n",
      "           & angles     : 90                  90                  90\n",
      " Unit cell volume       : 78.9332\n",
      " Number density         : 0.0253379\n",
      " Metric tensor          : 18.4009             0                   0\n",
      "                          0                   18.4009             0\n",
      "                          0                   0                   18.4009\n",
      "\n",
      " Recip. lat. parameters : 0.23312             0.23312             0.23312\n",
      "               & angles : 90                  90                  90\n",
      " Recip. unit cell vol.  : 0.0126689\n",
      " Recip. metric tensor   : 0.0543451           0                   0\n",
      "                          0                   0.0543451           0\n",
      "                          0                   0                   0.0543451\n",
      "\n",
      " Structure file format  : PDFFIT\n",
      " Phase number           : 2\n",
      " Phase title            : UNNAMED\n",
      "\n",
      " Lattice parameters     : 13.7316             13.7316             17.241\n",
      "           & angles     : 90                  90                  120\n",
      " Unit cell volume       : 2815.37\n",
      " Number density         : 0.0234428\n",
      " Metric tensor          : 188.557             -94.2784            0\n",
      "                          -94.2784            188.557             0\n",
      "                          0                   0                   297.252\n",
      "\n",
      " Recip. lat. parameters : 0.0840907           0.0840907           0.0580013\n",
      "               & angles : 90                  90                  60\n",
      " Recip. unit cell vol.  : 0.000355193\n",
      " Recip. metric tensor   : 0.00707125          0.00353563          0\n",
      "                          0.00353563          0.00707125          0\n",
      "                          0                   0                   0.00336415\n",
      "\n",
      " Structure file format  : PDFFIT\n",
      " Phase number           : 3\n",
      " Phase title            : UNNAMED\n",
      "\n",
      " Lattice parameters     : 8.42534             12.0113             8.37037\n",
      "           & angles     : 90                  90                  90\n",
      " Unit cell volume       : 847.074\n",
      " Number density         : 0.0236107\n",
      " Metric tensor          : 70.9863             0                   0\n",
      "                          0                   144.271             0\n",
      "                          0                   0                   70.063\n",
      "\n",
      " Recip. lat. parameters : 0.11869             0.083255            0.119469\n",
      "               & angles : 90                  90                  90\n",
      " Recip. unit cell vol.  : 0.00118053\n",
      " Recip. metric tensor   : 0.0140872           0                   0\n",
      "                          0                   0.00693139          0\n",
      "                          0                   0                   0.0142729\n",
      "\n",
      " Reading 4 columns ...\n",
      " Read PDF data set 1  (r = 2.39 to 45 A, 4262 points) ...\n",
      " ****WARN****\n",
      " Uncertainties on G(r) were absent or unreadable in your input\n",
      " data.  The program reset these uncertainties to unity.  This\n",
      " does not affect at all the refined parameter values.  However,\n",
      " the values of the estimated uncertainties on these refined\n",
      " parameter values are not reliable.\n",
      " ****WARN****\n",
      "\n",
      "*******************\n",
      "Starting refinement\n",
      "*******************\n",
      " Dataset: 1   Phase: 1  2  3  \n",
      "\n",
      "******************************** ITER: 0 ********************************\n",
      "\n",
      " Refinement parameters :\n",
      "   1: 13.734565     2: 17.253435     3:  4.302250     4:  8.180355\n",
      "   5: 11.841296     6:  8.322205   100:  0.330000   101:  0.330000\n",
      " 300:  0.500000  \n",
      "\n",
      " chisq.: 235.396   red.chisq.: 0.0553482   Rw: 5.17602\n",
      "\n",
      "******************************** ITER: 1 ********************************\n",
      "\n",
      " Refinement parameters :\n",
      "   1: 13.733066     2: 17.293516     3:  4.302834     4:  8.174111\n",
      "   5: 11.850678     6:  8.323921   100:  0.400493   101:  0.306297\n",
      " 300:  0.091074  \n",
      "\n",
      " chisq.: 3.03566   red.chisq.: 0.000713769   Rw: 0.587791\n",
      "\n",
      "******************************** ITER: 2 ********************************\n",
      "\n",
      " Refinement parameters :\n",
      "   1: 13.730579     2: 17.427108     3:  4.305877     4:  8.134319\n",
      "   5: 11.912631     6:  8.330695   100:  0.717987   101:  0.200586\n",
      " 300:  0.090670  \n",
      "\n",
      " chisq.: 1.7294   red.chisq.: 0.000406629   Rw: 0.443653\n",
      "\n",
      "******************************** ITER: 3 ********************************\n",
      "\n",
      " Refinement parameters :\n",
      "   1: 13.728035     2: 17.425105     3:  4.307614     4:  7.923130\n",
      "   5: 12.221174     6:  8.321669   100:  0.708037   101:  0.194610\n",
      " 300:  0.092988  \n",
      "\n",
      " chisq.: 1.70274   red.chisq.: 0.000400362   Rw: 0.440221\n",
      "\n",
      "******************************** ITER: 4 ********************************\n",
      "\n",
      " Refinement parameters :\n",
      "   1: 13.728464     2: 17.425627     3:  4.307038     4:  7.969125\n",
      "   5: 12.284750     6:  8.331697   100:  0.698001   101:  0.190465\n",
      " 300:  0.094677  \n",
      "\n",
      " chisq.: 1.69605   red.chisq.: 0.000398789   Rw: 0.439356\n",
      "\n",
      "******************************** ITER: 5 ********************************\n",
      "\n",
      " Refinement parameters :\n",
      "   1: 13.728237     2: 17.418739     3:  4.307312     4:  8.004233\n",
      "   5: 12.246095     6:  8.379568   100:  0.693383   101:  0.190860\n",
      " 300:  0.094725  \n",
      "\n",
      " chisq.: 1.69023   red.chisq.: 0.000397421   Rw: 0.438601\n",
      "\n",
      "******************************** ITER: 6 ********************************\n",
      "\n",
      " Refinement parameters :\n",
      "   1: 13.726457     2: 17.408199     3:  4.307606     4:  7.986762\n",
      "   5: 12.265001     6:  8.474935   100:  0.689164   101:  0.189318\n",
      " 300:  0.095258  \n",
      "\n",
      " chisq.: 1.67244   red.chisq.: 0.000393237   Rw: 0.436286\n",
      "\n",
      "******************************** ITER: 7 ********************************\n",
      "\n",
      " Refinement parameters :\n",
      "   1: 13.723864     2: 17.409469     3:  4.307803     4:  7.943289\n",
      "   5: 12.239941     6:  8.621873   100:  0.678447   101:  0.183192\n",
      " 300:  0.097476  \n",
      "\n",
      " chisq.: 1.64311   red.chisq.: 0.000386342   Rw: 0.432444\n",
      "\n",
      "******************************** ITER: 8 ********************************\n",
      "\n",
      " Refinement parameters :\n",
      "   1: 13.727828     2: 17.417073     3:  4.307923     4:  7.933688\n",
      "   5: 12.268756     6:  8.692293   100:  0.665099   101:  0.178754\n",
      " 300:  0.099474  \n",
      "\n",
      " chisq.: 1.63235   red.chisq.: 0.000383812   Rw: 0.431026\n",
      "\n",
      "******************************** ITER: 9 ********************************\n",
      "\n",
      " Refinement parameters :\n",
      "   1: 13.728858     2: 17.422222     3:  4.308070     4:  7.939534\n",
      "   5: 12.255094     6:  8.713925   100:  0.661540   101:  0.177780\n",
      " 300:  0.099824  \n",
      "\n",
      " chisq.: 1.63095   red.chisq.: 0.000383483   Rw: 0.430841    stagnating\n",
      "\n",
      "******************************** ITER: 10 ********************************\n",
      "\n",
      " Refinement parameters :\n",
      "   1: 13.728752     2: 17.423822     3:  4.308148     4:  7.950364\n",
      "   5: 12.255522     6:  8.719506   100:  0.660943   101:  0.177545\n",
      " 300:  0.099854  \n",
      "\n",
      " chisq.: 1.63032   red.chisq.: 0.000383335   Rw: 0.430758    stagnating\n",
      "\n",
      "******************************** ITER: 11 ********************************\n",
      "\n",
      " Refinement parameters :\n",
      "   1: 13.728188     2: 17.423253     3:  4.308248     4:  7.966380\n",
      "   5: 12.253159     6:  8.720581   100:  0.660597   101:  0.177417\n",
      " 300:  0.099830  \n",
      "\n",
      " chisq.: 1.6295   red.chisq.: 0.000383141   Rw: 0.430649    stagnating\n",
      "\n",
      "================================ FINAL ==================================\n",
      "\n",
      " Refinement parameters :\n",
      "   1: 13.728188     2: 17.423253     3:  4.308248     4:  7.966380\n",
      "   5: 12.253159     6:  8.720581   100:  0.660597   101:  0.177417\n",
      " 300:  0.099830  \n",
      "\n",
      " chisq.: 1.6295   red.chisq.: 0.000383141   Rw: 0.430649\n",
      "\n",
      "\n",
      "Update refined results to initial for the current dataset\n",
      "\n",
      "\n",
      "\n"
     ]
    }
   ],
   "source": [
    "## The total # of Fitting object in the new PDFGuiControl will be len(gr_list) + 1\n",
    "## because of the first one is from the pre-defined ddp and has no modification \n",
    "# for i in range(2):\n",
    "# for i in tqdm(range(len(gr_serial)+1), desc =f'batch fitting with pdffit2'):\n",
    "failed_list = []\n",
    "for i in range(1, len(new_guicontrol.fits)):\n",
    "    \n",
    "    clear_output(wait=True)\n",
    "    \n",
    "    data_name = new_guicontrol.fits[i].datasets.keys()[0]\n",
    "    print(f'{i = }\\n')\n",
    "    print(f'Data {data_name[:28]} fitting is on going\\n')\n",
    "\n",
    "    ## Free lattice parameters for fitting\n",
    "    for k in lat_par_list:\n",
    "        # ddp_01.getFits()[i].parameters[k].fixed = False\n",
    "        new_guicontrol.fits[i].parameters[k].fixed = False \n",
    "    \n",
    "    try:\n",
    "        new_guicontrol.fits[i].run()\n",
    "\n",
    "        print('\\n')\n",
    "        print('Update refined results to initial for the current dataset\\n')\n",
    "        for key, item in new_guicontrol.fits[i].parameters.items():\n",
    "            refined = new_guicontrol.fits[i].getData(key)\n",
    "            new_guicontrol.fits[i].parameters[key].setInitial(refined)\n",
    "\n",
    "    except calculationError:\n",
    "        new_guicontrol.fits[i].stop()\n",
    "        failed_list.append(data_name)\n",
    "        print(f'Data {data_name[:28]} fitting fialed\\n')\n",
    "        \n",
    "        \n",
    "        tqdm_sleep_sec(30, message=f'fitting failed: {i = }, {data_name}')\n",
    "    \n",
    "    print('\\n')\n",
    "    time.sleep(3)\n"
   ]
  },
  {
   "cell_type": "code",
   "execution_count": null,
   "id": "ccd35a39-e275-41be-8629-99cbd7780b21",
   "metadata": {},
   "outputs": [],
   "source": [
    "i"
   ]
  },
  {
   "cell_type": "code",
   "execution_count": null,
   "id": "c75da291-ac40-4fdb-9451-f88c6c92f057",
   "metadata": {},
   "outputs": [],
   "source": []
  },
  {
   "cell_type": "markdown",
   "id": "2b34c6c1-82c7-49a5-a00d-2fadd28fd3c4",
   "metadata": {},
   "source": [
    "## Save the new PDFGuiControl as a ddp file"
   ]
  },
  {
   "cell_type": "code",
   "execution_count": null,
   "id": "254da143-53b0-4d70-aa80-cd28ae493f3f",
   "metadata": {},
   "outputs": [],
   "source": [
    "subpath = '/Users/cheng-hunglin/Documents/Data_LDRD'\n",
    "fn01 = 'Cs_x-Pb_y-B_z_serial_bkg_day3_21.ddp'\n",
    "full_fn01 = os.path.join(subpath, fn01)\n",
    "\n",
    "new_guicontrol.save(projfile=full_fn01)"
   ]
  },
  {
   "cell_type": "code",
   "execution_count": null,
   "id": "389b6cfe-6ece-4148-8d19-67c1cd68f538",
   "metadata": {},
   "outputs": [],
   "source": []
  },
  {
   "cell_type": "markdown",
   "id": "278a4560-485c-43b9-8c8e-04b49497c480",
   "metadata": {},
   "source": [
    "## Plot rw for all fittins"
   ]
  },
  {
   "cell_type": "code",
   "execution_count": null,
   "id": "693775c2-aa52-4986-afb4-30d1ee6df203",
   "metadata": {},
   "outputs": [],
   "source": [
    "rw_list = []\n",
    "for i in range(len(new_guicontrol.fits)):\n",
    "    rw = new_guicontrol.fits[i].getData('rw')\n",
    "    rw_list.append(rw)"
   ]
  },
  {
   "cell_type": "code",
   "execution_count": null,
   "id": "9f5641d1-60a2-4993-ae5f-3cf6eab502d9",
   "metadata": {},
   "outputs": [],
   "source": [
    "len(rw_list)"
   ]
  },
  {
   "cell_type": "code",
   "execution_count": null,
   "id": "17a95851-89da-4296-a074-9070a9b94ff4",
   "metadata": {},
   "outputs": [],
   "source": [
    "idx = np.arange(0, 38, 1)"
   ]
  },
  {
   "cell_type": "code",
   "execution_count": null,
   "id": "4ed2b70d-2bfe-4abc-8bc3-32579ebbdc4f",
   "metadata": {},
   "outputs": [],
   "source": [
    "idx.shape"
   ]
  },
  {
   "cell_type": "code",
   "execution_count": null,
   "id": "0194876e-be24-477f-a483-197c45bedd1c",
   "metadata": {},
   "outputs": [],
   "source": [
    "f = plt.figure(figsize=(15,5))\n",
    "ax = f.gca()\n",
    "ax.plot(idx, rw_list, 'o--')\n",
    "ax.set_ylabel('rw')"
   ]
  },
  {
   "cell_type": "code",
   "execution_count": null,
   "id": "3e33e8d5-7c36-4543-9e3c-26ae8926a68e",
   "metadata": {},
   "outputs": [],
   "source": []
  },
  {
   "cell_type": "code",
   "execution_count": null,
   "id": "fc9a94a8-ab43-4dd8-b006-ca9f80b46b7e",
   "metadata": {},
   "outputs": [],
   "source": []
  },
  {
   "cell_type": "markdown",
   "id": "ee8be3b8-fbff-4514-87f7-579c1b358d20",
   "metadata": {},
   "source": [
    "## 2nd fitting - Refine Debye–Waller factor (Anisotropic displacement parameter, ADP)"
   ]
  },
  {
   "cell_type": "code",
   "execution_count": null,
   "id": "51ad6ccd-37c1-4ead-b4a9-0b4f33e41dd5",
   "metadata": {},
   "outputs": [],
   "source": [
    "full_fn01"
   ]
  },
  {
   "cell_type": "code",
   "execution_count": null,
   "id": "4d47eebb-a6ab-4106-935b-46bf84a3c769",
   "metadata": {},
   "outputs": [],
   "source": [
    "# fn = '/Users/cheng-hunglin/Documents/Data_LDRD/Cs_x-Pb_y-B_z_serial_all6-1.ddp'\n",
    "ddp_01 = LoadProject(full_fn01)"
   ]
  },
  {
   "cell_type": "code",
   "execution_count": null,
   "id": "b96c725f-ad2a-4a42-abcb-6efc818e8339",
   "metadata": {},
   "outputs": [],
   "source": [
    "len(ddp_01.getFits())"
   ]
  },
  {
   "cell_type": "code",
   "execution_count": null,
   "id": "07ca4861-8cc2-45bc-98dd-f4ae54738066",
   "metadata": {},
   "outputs": [],
   "source": [
    "ddp_01.getFits()[0].datasets.keys()[0]"
   ]
  },
  {
   "cell_type": "code",
   "execution_count": null,
   "id": "1f507d2e-4bca-4163-be63-84e6608dc461",
   "metadata": {},
   "outputs": [],
   "source": [
    "ddp_01.getFits()[0].getData(1)"
   ]
  },
  {
   "cell_type": "code",
   "execution_count": null,
   "id": "8e318fbb-4423-4fae-ba13-77d67ef69321",
   "metadata": {},
   "outputs": [],
   "source": [
    "# ddp_01.getFits()[0].parameters[1].fixed = False"
   ]
  },
  {
   "cell_type": "code",
   "execution_count": null,
   "id": "fd13de5d-e1b5-479d-85a9-21d62fbef542",
   "metadata": {},
   "outputs": [],
   "source": [
    "## Fitting parameters of Debye–Waller factor in a list\n",
    "ADP_par_list = [40, 41, 43, 60, 61, 62]"
   ]
  },
  {
   "cell_type": "code",
   "execution_count": null,
   "id": "23dcf709-8dbd-470d-af73-a128692ee95c",
   "metadata": {},
   "outputs": [],
   "source": []
  },
  {
   "cell_type": "code",
   "execution_count": null,
   "id": "2427ec44-0a70-49e5-a750-826fa731d373",
   "metadata": {},
   "outputs": [],
   "source": [
    "## The total # of Fitting object in the new PDFGuiControl will be len(gr_list) + 1\n",
    "## because of the first one is from the pre-defined ddp and has no modification \n",
    "# for i in range(2):\n",
    "# for i in tqdm(range(len(gr_serial)+1), desc =f'batch fitting with pdffit2'):\n",
    "failed_list = []\n",
    "for i in range(len(ddp_01.getFits())):\n",
    "    \n",
    "    clear_output(wait=True)\n",
    "    \n",
    "    data_name = ddp_01.getFits()[i].datasets.keys()[0]\n",
    "    print(f'{i = }\\n')\n",
    "    print(f'Data {data_name[:28]} fitting is on going\\n')\n",
    "\n",
    "    ## Free lattice parameters for fitting\n",
    "    for k in ADP_par_list:\n",
    "        ddp_01.getFits()[i].parameters[k].fixed = False\n",
    "        # new_guicontrol.fits[i+1].parameters[k].fixed = False    \n",
    "    \n",
    "    try:\n",
    "        ddp_01.getFits()[i].run()\n",
    "\n",
    "        print('\\n')\n",
    "        print('Update refined results to initial for the current dataset\\n')\n",
    "        for key, item in ddp_01.getFits()[i].parameters.items():\n",
    "            refined = ddp_01.getFits()[i].getData(key)\n",
    "            ddp_01.getFits()[i].parameters[key].setInitial(refined)\n",
    "\n",
    "    except calculationError:\n",
    "        ddp_01.getFits()[i].stop()\n",
    "        failed_list.append(data_name)\n",
    "        print(f'Data {data_name[:28]} fitting fialed\\n')\n",
    "\n",
    "        \n",
    "        tqdm_sleep_sec(30, message=f'fitting failed: {i = }, {data_name}')\n",
    "    \n",
    "    print('\\n')\n",
    "    time.sleep(3)\n"
   ]
  },
  {
   "cell_type": "code",
   "execution_count": null,
   "id": "0b418003-1ead-4ddf-9665-42f5b7d801e2",
   "metadata": {},
   "outputs": [],
   "source": [
    "i"
   ]
  },
  {
   "cell_type": "code",
   "execution_count": null,
   "id": "c38174ee-8186-464d-b9ba-dc7a52acbadf",
   "metadata": {},
   "outputs": [],
   "source": [
    "# ddp_01.getFits()[i].stop()"
   ]
  },
  {
   "cell_type": "code",
   "execution_count": null,
   "id": "c5af8eb4-e263-47e7-b61e-0c43ae0e7544",
   "metadata": {},
   "outputs": [],
   "source": []
  },
  {
   "cell_type": "markdown",
   "id": "3aa104e5-34be-48ec-afe3-e061b00bc3bf",
   "metadata": {},
   "source": [
    "## Save the new PDFGuiControl as a ddp file"
   ]
  },
  {
   "cell_type": "code",
   "execution_count": null,
   "id": "bf3a9f79-341a-4186-8851-e967100e6f05",
   "metadata": {},
   "outputs": [],
   "source": [
    "subpath = '/Users/cheng-hunglin/Documents/Data_LDRD'\n",
    "fn02 = 'Cs_x-Pb_y-B_z_serial_bkg_day3_22.ddp'\n",
    "full_fn02 = os.path.join(subpath, fn02)\n",
    "\n",
    "ddp_01.save(full_fn02)"
   ]
  },
  {
   "cell_type": "code",
   "execution_count": null,
   "id": "61fcd8ec-164c-4025-ae10-b48f8cc94a57",
   "metadata": {},
   "outputs": [],
   "source": []
  },
  {
   "cell_type": "markdown",
   "id": "77b1b281-15c8-4f9a-aeae-2643711df429",
   "metadata": {},
   "source": [
    "## Plot rw for all fittins"
   ]
  },
  {
   "cell_type": "code",
   "execution_count": null,
   "id": "12cae788-dcfe-4afd-a573-ea039afa6b91",
   "metadata": {},
   "outputs": [],
   "source": [
    "rw_list = []\n",
    "for i in range(len(ddp_01.getFits())):\n",
    "    rw = ddp_01.getFits()[i].getData('rw')\n",
    "    rw_list.append(rw)"
   ]
  },
  {
   "cell_type": "code",
   "execution_count": null,
   "id": "39ecc841-9347-44ea-a45a-67e31baa213f",
   "metadata": {},
   "outputs": [],
   "source": [
    "len(rw_list)"
   ]
  },
  {
   "cell_type": "code",
   "execution_count": null,
   "id": "4161b25a-3e8c-42a7-b03c-8e7f0efcaa9f",
   "metadata": {},
   "outputs": [],
   "source": [
    "idx = np.arange(0, 38, 1)"
   ]
  },
  {
   "cell_type": "code",
   "execution_count": null,
   "id": "72d70e7b-1aec-44dd-907c-5c000e9833fa",
   "metadata": {},
   "outputs": [],
   "source": [
    "idx.shape"
   ]
  },
  {
   "cell_type": "code",
   "execution_count": null,
   "id": "99ffbfdb-dae3-48a3-8716-a9974eb1bd7c",
   "metadata": {},
   "outputs": [],
   "source": [
    "f = plt.figure(figsize=(15,5))\n",
    "ax = f.gca()\n",
    "ax.plot(idx, rw_list, 'o--')\n",
    "ax.set_ylabel('rw')"
   ]
  },
  {
   "cell_type": "code",
   "execution_count": null,
   "id": "7f974681-4d6e-4ba7-a1fa-0840dbd72593",
   "metadata": {},
   "outputs": [],
   "source": []
  },
  {
   "cell_type": "markdown",
   "id": "e65ec03f-a16e-438f-b602-8b1eb412d5f3",
   "metadata": {},
   "source": []
  },
  {
   "cell_type": "markdown",
   "id": "513436f3-7276-408d-b21b-77d96596a160",
   "metadata": {},
   "source": [
    "## 3rd fitting - Refine atomic positions"
   ]
  },
  {
   "cell_type": "code",
   "execution_count": null,
   "id": "f1a3aadf-f408-46ac-a16f-f257b0f5c011",
   "metadata": {},
   "outputs": [],
   "source": [
    "full_fn02"
   ]
  },
  {
   "cell_type": "code",
   "execution_count": null,
   "id": "5ce48583-ae8b-4478-9413-55018b0095aa",
   "metadata": {},
   "outputs": [],
   "source": [
    "# fn = '/Users/cheng-hunglin/Documents/Data_LDRD/Cs_x-Pb_y-B_z_serial_all6-1.ddp'\n",
    "ddp_02 = LoadProject(full_fn02)"
   ]
  },
  {
   "cell_type": "code",
   "execution_count": null,
   "id": "c8c212eb-978b-410b-baef-aa7899e9ff80",
   "metadata": {},
   "outputs": [],
   "source": [
    "len(ddp_02.getFits())"
   ]
  },
  {
   "cell_type": "code",
   "execution_count": null,
   "id": "8be234f6-11fb-4c42-874c-37db2a5d18d6",
   "metadata": {},
   "outputs": [],
   "source": [
    "ddp_02.getFits()[0].datasets.keys()[0]"
   ]
  },
  {
   "cell_type": "code",
   "execution_count": null,
   "id": "f563abe8-4ed6-4f03-912e-9d1875a3f7de",
   "metadata": {},
   "outputs": [],
   "source": [
    "ddp_02.getFits()[0].getData(1)"
   ]
  },
  {
   "cell_type": "code",
   "execution_count": null,
   "id": "afa04a7e-cbe1-403d-96ef-553c09e6a2fe",
   "metadata": {},
   "outputs": [],
   "source": [
    "# ddp_02.getFits()[0].parameters[1].fixed = False"
   ]
  },
  {
   "cell_type": "code",
   "execution_count": null,
   "id": "c1ee571f-a5fe-40ed-8f92-6c1da4f75efc",
   "metadata": {},
   "outputs": [],
   "source": [
    "## Fitting parameters of atomic positions in a list\n",
    "xyz_par_list = []"
   ]
  },
  {
   "cell_type": "code",
   "execution_count": null,
   "id": "e915e3e1-087b-4840-bea0-3c7f7b662992",
   "metadata": {},
   "outputs": [],
   "source": [
    "failed_list = []\n",
    "for i in range(len(ddp_02.getFits())):\n",
    "    \n",
    "    clear_output(wait=True)\n",
    "    \n",
    "    data_name = ddp_02.getFits()[i].datasets.keys()[0]\n",
    "    print(f'{i = }\\n')\n",
    "    print(f'Data {data_name[:28]} fitting is on going\\n')\n",
    "\n",
    "    ## Free atomic positions for fitting\n",
    "    for k in xyz_par_list:\n",
    "        ddp_02.getFits()[i].parameters[k].fixed = False\n",
    "    \n",
    "    try:\n",
    "        ddp_02.getFits()[i].run()\n",
    "\n",
    "        print('\\n')\n",
    "        print('Update refined results to initial for the current dataset\\n')\n",
    "        for key, item in ddp_02.getFits()[i].parameters.items():\n",
    "            refined = ddp_02.getFits()[i].getData(key)\n",
    "            ddp_02.getFits()[i].parameters[key].setInitial(refined)\n",
    "        \n",
    "    except calculationError:\n",
    "        ddp_02.getFits()[i].stop()\n",
    "        failed_list.append(data_name)\n",
    "        print(f'Data {data_name[:28]} fitting fialed\\n')\n",
    "        \n",
    "        \n",
    "        tqdm_sleep_sec(30, message=f'fitting failed: {i = }, {data_name}')\n",
    "    \n",
    "    print('\\n')\n",
    "    time.sleep(3)"
   ]
  },
  {
   "cell_type": "code",
   "execution_count": null,
   "id": "96f4d5f6-9317-4758-94e9-0098c6f3ec07",
   "metadata": {},
   "outputs": [],
   "source": [
    "# ddp_02.getFits()[i].stop()"
   ]
  },
  {
   "cell_type": "code",
   "execution_count": null,
   "id": "d2339620-620f-4b44-8313-46a35a48e1d8",
   "metadata": {},
   "outputs": [],
   "source": [
    "subpath = '/Users/cheng-hunglin/Documents/Data_LDRD'\n",
    "fn03 = 'Cs_x-Pb_y-B_z_serial_bkg_10min_13.ddp'\n",
    "full_fn03 = os.path.join(subpath, fn03)\n",
    "\n",
    "ddp_02.save(full_fn03)"
   ]
  },
  {
   "cell_type": "code",
   "execution_count": null,
   "id": "aff1bf09-a924-4593-a56d-7d9d4a3da6a4",
   "metadata": {},
   "outputs": [],
   "source": [
    "failed_list"
   ]
  },
  {
   "cell_type": "code",
   "execution_count": null,
   "id": "ae1b050e-a83a-4d86-aabe-b2a9d8583753",
   "metadata": {},
   "outputs": [],
   "source": []
  }
 ],
 "metadata": {
  "kernelspec": {
   "display_name": "Python 3 (ipykernel)",
   "language": "python",
   "name": "python3"
  },
  "language_info": {
   "codemirror_mode": {
    "name": "ipython",
    "version": 3
   },
   "file_extension": ".py",
   "mimetype": "text/x-python",
   "name": "python",
   "nbconvert_exporter": "python",
   "pygments_lexer": "ipython3",
   "version": "3.13.5"
  }
 },
 "nbformat": 4,
 "nbformat_minor": 5
}
