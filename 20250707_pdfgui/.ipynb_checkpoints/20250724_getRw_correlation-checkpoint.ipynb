{
 "cells": [
  {
   "cell_type": "markdown",
   "id": "e37708fa-9e10-4e00-90b3-3da07262fa30",
   "metadata": {},
   "source": [
    "# This notebook does the following things:\n",
    "# 1. Extract rW from PDFgui project file (.ddp or .ddp3)\n",
    "# 2. Calculate the Pearson correlation coefficient"
   ]
  },
  {
   "cell_type": "code",
   "execution_count": 15,
   "id": "02a41cfc-8c9e-4198-8d17-d52fc3565d0b",
   "metadata": {},
   "outputs": [],
   "source": [
    "import os\n",
    "import glob\n",
    "import numpy as np\n",
    "import pandas as pd\n",
    "import matplotlib.pyplot as plt\n",
    "from copy import deepcopy\n",
    "from diffpy.pdfgui.tui import LoadProject\n",
    "from diffpy.pdfgui.control.pdfguicontrol import PDFGuiControl\n",
    "from diffpy.pdffit2.pdffit2 import calculationError\n",
    "\n",
    "from IPython.display import clear_output\n",
    "# from tqdm.auto import tqdm\n",
    "import time\n",
    "import shutil\n",
    "import yaml"
   ]
  },
  {
   "cell_type": "code",
   "execution_count": 154,
   "id": "aacb3b9b-c3b9-409b-adc3-fa50e41271fd",
   "metadata": {},
   "outputs": [],
   "source": [
    "def get_uid_by_fn(fn, uid_idx=-4, sep='_', ):\n",
    "    fn_basename = os.path.basename(str(fn))\n",
    "    split_list = fn_basename.split(sep)\n",
    "    uid = split_list[uid_idx]\n",
    "    return uid"
   ]
  },
  {
   "cell_type": "code",
   "execution_count": 156,
   "id": "31cf8c14-00d6-4c66-9d17-a3c9922051e9",
   "metadata": {},
   "outputs": [],
   "source": [
    "def get_item_string(str_obj, sep='  '):\n",
    "    ii = str_obj.split(sep)\n",
    "    item_list = [x.lstrip(' ') for x in ii if x != '']\n",
    "    return item_list\n",
    "\n",
    "def get_phase_content(fitting_obj, num_phase=3, content_key='Relative phase content in terms of'):\n",
    "    ## example of fitting_obj: xxxx.getfFts()[i] if read a ddp file\n",
    "    ##                     or: xxxx.fits[i] if created from PDFGuiControl()\n",
    "\n",
    "    result = fitting_obj.res\n",
    "    res_split = result.split('\\n')\n",
    "\n",
    "    for s in res_split:\n",
    "        if content_key in s:\n",
    "            s_idx = res_split.index(s)\n",
    "\n",
    "    phase_content = {}\n",
    "    key_list = get_item_string(res_split[s_idx+1], sep='  ')\n",
    "\n",
    "    content_list=[]\n",
    "    for i in range(num_phase):\n",
    "        phase_i = get_item_string(res_split[s_idx+2+i], sep=' ')\n",
    "        if phase_i[3] == '0':\n",
    "            phase_ii = [float(j) for j in phase_i[3:]]\n",
    "        else:\n",
    "            phase_ii = [float(j) for j in phase_i[3::2]]\n",
    "        content_list.append(phase_ii)\n",
    "\n",
    "    content_array = np.asarray(content_list, dtype=np.float32)\n",
    "    for i in range(num_phase):\n",
    "        d = {f'{key_list[i]}':[c for c in content_array[:,i]]}\n",
    "        phase_content.update(d)\n",
    "\n",
    "    return phase_content"
   ]
  },
  {
   "cell_type": "code",
   "execution_count": null,
   "id": "17b9d466-b0ab-4aef-a04b-89de68b130c8",
   "metadata": {},
   "outputs": [],
   "source": []
  },
  {
   "cell_type": "markdown",
   "id": "84669580-838a-4e65-be22-24041e19ad56",
   "metadata": {},
   "source": [
    "## Get uids from an Excel spreadsheet"
   ]
  },
  {
   "cell_type": "code",
   "execution_count": 2,
   "id": "eb57703a-8b5e-4598-9fce-4770b88d5025",
   "metadata": {},
   "outputs": [],
   "source": [
    "xlsx_dir = '/Users/cheng-hunglin/Library/CloudStorage/OneDrive-BrookhavenNationalLaboratory/LDRD_PQDs_log'\n",
    "xlsx_name = 'blop_test_20250724.xlsx'\n",
    "xlsx_fn = os.path.join(xlsx_dir, xlsx_name)"
   ]
  },
  {
   "cell_type": "code",
   "execution_count": 5,
   "id": "1e46e04f-ae5f-4ef1-8ca1-299fdb8cd373",
   "metadata": {},
   "outputs": [
    {
     "data": {
      "text/html": [
       "<div>\n",
       "<style scoped>\n",
       "    .dataframe tbody tr th:only-of-type {\n",
       "        vertical-align: middle;\n",
       "    }\n",
       "\n",
       "    .dataframe tbody tr th {\n",
       "        vertical-align: top;\n",
       "    }\n",
       "\n",
       "    .dataframe thead th {\n",
       "        text-align: right;\n",
       "    }\n",
       "</style>\n",
       "<table border=\"1\" class=\"dataframe\">\n",
       "  <thead>\n",
       "    <tr style=\"text-align: right;\">\n",
       "      <th></th>\n",
       "      <th>Cs-rich 33mM</th>\n",
       "      <th>TOABr 66 mM</th>\n",
       "      <th>Pb-rich 33mM</th>\n",
       "      <th>20%OLA 66mM</th>\n",
       "      <th>Unnamed: 4</th>\n",
       "      <th>PLQY</th>\n",
       "      <th>Peak (nm)</th>\n",
       "      <th>FWHM (nm)</th>\n",
       "      <th>CsBr.gr correlation</th>\n",
       "      <th>Cs4PbBr6.gr correlation</th>\n",
       "      <th>CsPbBr3.gr correlation</th>\n",
       "      <th>Unnamed: 11</th>\n",
       "      <th>Unnamed: 12</th>\n",
       "      <th>Unnamed: 13</th>\n",
       "      <th>Unnamed: 14</th>\n",
       "      <th>Unnamed: 15</th>\n",
       "      <th>UID</th>\n",
       "    </tr>\n",
       "  </thead>\n",
       "  <tbody>\n",
       "    <tr>\n",
       "      <th>0</th>\n",
       "      <td>20.00</td>\n",
       "      <td>40.00</td>\n",
       "      <td>180.00</td>\n",
       "      <td>0.00</td>\n",
       "      <td>NaN</td>\n",
       "      <td>0.30</td>\n",
       "      <td>512.51</td>\n",
       "      <td>24.24</td>\n",
       "      <td>0.355</td>\n",
       "      <td>0.391</td>\n",
       "      <td>0.548</td>\n",
       "      <td>NaN</td>\n",
       "      <td>NaN</td>\n",
       "      <td>NaN</td>\n",
       "      <td>NaN</td>\n",
       "      <td>NaN</td>\n",
       "      <td>c1a394d2-4436-404c-8cf7-7ea7d886b27e</td>\n",
       "    </tr>\n",
       "    <tr>\n",
       "      <th>1</th>\n",
       "      <td>180.00</td>\n",
       "      <td>40.00</td>\n",
       "      <td>20.00</td>\n",
       "      <td>0.00</td>\n",
       "      <td>NaN</td>\n",
       "      <td>0.13</td>\n",
       "      <td>512.88</td>\n",
       "      <td>28.38</td>\n",
       "      <td>0.769</td>\n",
       "      <td>0.515</td>\n",
       "      <td>0.281</td>\n",
       "      <td>NaN</td>\n",
       "      <td>NaN</td>\n",
       "      <td>NaN</td>\n",
       "      <td>NaN</td>\n",
       "      <td>NaN</td>\n",
       "      <td>9e13eba9-85a6-420b-bbf2-92d035c8c4ec</td>\n",
       "    </tr>\n",
       "    <tr>\n",
       "      <th>2</th>\n",
       "      <td>80.00</td>\n",
       "      <td>80.00</td>\n",
       "      <td>80.00</td>\n",
       "      <td>0.00</td>\n",
       "      <td>NaN</td>\n",
       "      <td>0.26</td>\n",
       "      <td>513.80</td>\n",
       "      <td>25.20</td>\n",
       "      <td>0.412</td>\n",
       "      <td>0.475</td>\n",
       "      <td>0.645</td>\n",
       "      <td>NaN</td>\n",
       "      <td>NaN</td>\n",
       "      <td>NaN</td>\n",
       "      <td>NaN</td>\n",
       "      <td>NaN</td>\n",
       "      <td>d03d556a-29e5-4fbb-96eb-71cc843f4a3a</td>\n",
       "    </tr>\n",
       "    <tr>\n",
       "      <th>3</th>\n",
       "      <td>20.00</td>\n",
       "      <td>80.00</td>\n",
       "      <td>140.00</td>\n",
       "      <td>0.00</td>\n",
       "      <td>NaN</td>\n",
       "      <td>0.20</td>\n",
       "      <td>514.93</td>\n",
       "      <td>23.33</td>\n",
       "      <td>0.254</td>\n",
       "      <td>0.376</td>\n",
       "      <td>0.648</td>\n",
       "      <td>NaN</td>\n",
       "      <td>NaN</td>\n",
       "      <td>NaN</td>\n",
       "      <td>NaN</td>\n",
       "      <td>NaN</td>\n",
       "      <td>a26ebc5e-387e-45ac-b555-d0889ae15126</td>\n",
       "    </tr>\n",
       "    <tr>\n",
       "      <th>4</th>\n",
       "      <td>140.00</td>\n",
       "      <td>80.00</td>\n",
       "      <td>20.00</td>\n",
       "      <td>0.00</td>\n",
       "      <td>NaN</td>\n",
       "      <td>0.24</td>\n",
       "      <td>514.28</td>\n",
       "      <td>25.27</td>\n",
       "      <td>0.822</td>\n",
       "      <td>0.540</td>\n",
       "      <td>0.338</td>\n",
       "      <td>NaN</td>\n",
       "      <td>NaN</td>\n",
       "      <td>NaN</td>\n",
       "      <td>NaN</td>\n",
       "      <td>NaN</td>\n",
       "      <td>2047e3cc-0b3f-4556-af59-d1f4558de3a2</td>\n",
       "    </tr>\n",
       "    <tr>\n",
       "      <th>...</th>\n",
       "      <td>...</td>\n",
       "      <td>...</td>\n",
       "      <td>...</td>\n",
       "      <td>...</td>\n",
       "      <td>...</td>\n",
       "      <td>...</td>\n",
       "      <td>...</td>\n",
       "      <td>...</td>\n",
       "      <td>...</td>\n",
       "      <td>...</td>\n",
       "      <td>...</td>\n",
       "      <td>...</td>\n",
       "      <td>...</td>\n",
       "      <td>...</td>\n",
       "      <td>...</td>\n",
       "      <td>...</td>\n",
       "      <td>...</td>\n",
       "    </tr>\n",
       "    <tr>\n",
       "      <th>89</th>\n",
       "      <td>20.00</td>\n",
       "      <td>70.00</td>\n",
       "      <td>22.00</td>\n",
       "      <td>0.00</td>\n",
       "      <td>NaN</td>\n",
       "      <td>0.14</td>\n",
       "      <td>516.26</td>\n",
       "      <td>21.64</td>\n",
       "      <td>0.249</td>\n",
       "      <td>0.601</td>\n",
       "      <td>0.637</td>\n",
       "      <td>NaN</td>\n",
       "      <td>NaN</td>\n",
       "      <td>NaN</td>\n",
       "      <td>NaN</td>\n",
       "      <td>NaN</td>\n",
       "      <td>a9aa8a79</td>\n",
       "    </tr>\n",
       "    <tr>\n",
       "      <th>90</th>\n",
       "      <td>35.45</td>\n",
       "      <td>162.02</td>\n",
       "      <td>83.42</td>\n",
       "      <td>37.64</td>\n",
       "      <td>NaN</td>\n",
       "      <td>NaN</td>\n",
       "      <td>NaN</td>\n",
       "      <td>NaN</td>\n",
       "      <td>NaN</td>\n",
       "      <td>NaN</td>\n",
       "      <td>NaN</td>\n",
       "      <td>NaN</td>\n",
       "      <td>NaN</td>\n",
       "      <td>NaN</td>\n",
       "      <td>NaN</td>\n",
       "      <td>NaN</td>\n",
       "      <td>NaN</td>\n",
       "    </tr>\n",
       "    <tr>\n",
       "      <th>91</th>\n",
       "      <td>18.00</td>\n",
       "      <td>80.00</td>\n",
       "      <td>40.00</td>\n",
       "      <td>18.00</td>\n",
       "      <td>NaN</td>\n",
       "      <td>NaN</td>\n",
       "      <td>NaN</td>\n",
       "      <td>NaN</td>\n",
       "      <td>NaN</td>\n",
       "      <td>NaN</td>\n",
       "      <td>NaN</td>\n",
       "      <td>NaN</td>\n",
       "      <td>NaN</td>\n",
       "      <td>NaN</td>\n",
       "      <td>NaN</td>\n",
       "      <td>NaN</td>\n",
       "      <td>NaN</td>\n",
       "    </tr>\n",
       "    <tr>\n",
       "      <th>92</th>\n",
       "      <td>30.00</td>\n",
       "      <td>90.00</td>\n",
       "      <td>50.00</td>\n",
       "      <td>5.00</td>\n",
       "      <td>NaN</td>\n",
       "      <td>NaN</td>\n",
       "      <td>NaN</td>\n",
       "      <td>NaN</td>\n",
       "      <td>NaN</td>\n",
       "      <td>NaN</td>\n",
       "      <td>NaN</td>\n",
       "      <td>NaN</td>\n",
       "      <td>NaN</td>\n",
       "      <td>NaN</td>\n",
       "      <td>NaN</td>\n",
       "      <td>NaN</td>\n",
       "      <td>NaN</td>\n",
       "    </tr>\n",
       "    <tr>\n",
       "      <th>93</th>\n",
       "      <td>19.00</td>\n",
       "      <td>82.00</td>\n",
       "      <td>43.00</td>\n",
       "      <td>2.00</td>\n",
       "      <td>NaN</td>\n",
       "      <td>NaN</td>\n",
       "      <td>NaN</td>\n",
       "      <td>NaN</td>\n",
       "      <td>NaN</td>\n",
       "      <td>NaN</td>\n",
       "      <td>NaN</td>\n",
       "      <td>NaN</td>\n",
       "      <td>NaN</td>\n",
       "      <td>NaN</td>\n",
       "      <td>NaN</td>\n",
       "      <td>NaN</td>\n",
       "      <td>NaN</td>\n",
       "    </tr>\n",
       "  </tbody>\n",
       "</table>\n",
       "<p>94 rows × 17 columns</p>\n",
       "</div>"
      ],
      "text/plain": [
       "    Cs-rich 33mM  TOABr 66 mM  Pb-rich 33mM  20%OLA 66mM  Unnamed: 4  PLQY  \\\n",
       "0          20.00        40.00        180.00         0.00         NaN  0.30   \n",
       "1         180.00        40.00         20.00         0.00         NaN  0.13   \n",
       "2          80.00        80.00         80.00         0.00         NaN  0.26   \n",
       "3          20.00        80.00        140.00         0.00         NaN  0.20   \n",
       "4         140.00        80.00         20.00         0.00         NaN  0.24   \n",
       "..           ...          ...           ...          ...         ...   ...   \n",
       "89         20.00        70.00         22.00         0.00         NaN  0.14   \n",
       "90         35.45       162.02         83.42        37.64         NaN   NaN   \n",
       "91         18.00        80.00         40.00        18.00         NaN   NaN   \n",
       "92         30.00        90.00         50.00         5.00         NaN   NaN   \n",
       "93         19.00        82.00         43.00         2.00         NaN   NaN   \n",
       "\n",
       "    Peak (nm)  FWHM (nm)  CsBr.gr correlation  Cs4PbBr6.gr correlation  \\\n",
       "0      512.51      24.24                0.355                    0.391   \n",
       "1      512.88      28.38                0.769                    0.515   \n",
       "2      513.80      25.20                0.412                    0.475   \n",
       "3      514.93      23.33                0.254                    0.376   \n",
       "4      514.28      25.27                0.822                    0.540   \n",
       "..        ...        ...                  ...                      ...   \n",
       "89     516.26      21.64                0.249                    0.601   \n",
       "90        NaN        NaN                  NaN                      NaN   \n",
       "91        NaN        NaN                  NaN                      NaN   \n",
       "92        NaN        NaN                  NaN                      NaN   \n",
       "93        NaN        NaN                  NaN                      NaN   \n",
       "\n",
       "    CsPbBr3.gr correlation Unnamed: 11  Unnamed: 12  Unnamed: 13  Unnamed: 14  \\\n",
       "0                    0.548         NaN          NaN          NaN          NaN   \n",
       "1                    0.281         NaN          NaN          NaN          NaN   \n",
       "2                    0.645         NaN          NaN          NaN          NaN   \n",
       "3                    0.648         NaN          NaN          NaN          NaN   \n",
       "4                    0.338         NaN          NaN          NaN          NaN   \n",
       "..                     ...         ...          ...          ...          ...   \n",
       "89                   0.637         NaN          NaN          NaN          NaN   \n",
       "90                     NaN         NaN          NaN          NaN          NaN   \n",
       "91                     NaN         NaN          NaN          NaN          NaN   \n",
       "92                     NaN         NaN          NaN          NaN          NaN   \n",
       "93                     NaN         NaN          NaN          NaN          NaN   \n",
       "\n",
       "    Unnamed: 15                                   UID  \n",
       "0           NaN  c1a394d2-4436-404c-8cf7-7ea7d886b27e  \n",
       "1           NaN  9e13eba9-85a6-420b-bbf2-92d035c8c4ec  \n",
       "2           NaN  d03d556a-29e5-4fbb-96eb-71cc843f4a3a  \n",
       "3           NaN  a26ebc5e-387e-45ac-b555-d0889ae15126  \n",
       "4           NaN  2047e3cc-0b3f-4556-af59-d1f4558de3a2  \n",
       "..          ...                                   ...  \n",
       "89          NaN                              a9aa8a79  \n",
       "90          NaN                                   NaN  \n",
       "91          NaN                                   NaN  \n",
       "92          NaN                                   NaN  \n",
       "93          NaN                                   NaN  \n",
       "\n",
       "[94 rows x 17 columns]"
      ]
     },
     "execution_count": 5,
     "metadata": {},
     "output_type": "execute_result"
    }
   ],
   "source": [
    "xlsx = pd.read_excel(xlsx_fn, sheet_name='20250606_XPD_beamtime', header=1, )\n",
    "xlsx"
   ]
  },
  {
   "cell_type": "code",
   "execution_count": 8,
   "id": "9d292120-efb4-4862-81ca-b6155d9ad64c",
   "metadata": {},
   "outputs": [
    {
     "data": {
      "text/plain": [
       "(94,)"
      ]
     },
     "execution_count": 8,
     "metadata": {},
     "output_type": "execute_result"
    }
   ],
   "source": [
    "xlsx['UID'].shape"
   ]
  },
  {
   "cell_type": "code",
   "execution_count": 22,
   "id": "f7b1402c-c4de-479a-8a8e-804467c599c1",
   "metadata": {},
   "outputs": [
    {
     "data": {
      "text/plain": [
       "(90,)"
      ]
     },
     "execution_count": 22,
     "metadata": {},
     "output_type": "execute_result"
    }
   ],
   "source": [
    "xlsx_uid_array = xlsx['UID'].dropna().to_numpy()\n",
    "xlsx_uid_array.shape"
   ]
  },
  {
   "cell_type": "code",
   "execution_count": null,
   "id": "c621adef-7978-4482-acbd-5ab3a6cba7ba",
   "metadata": {},
   "outputs": [],
   "source": []
  },
  {
   "cell_type": "markdown",
   "id": "8d691077-32cf-458d-8bac-7be734b6dcaf",
   "metadata": {},
   "source": [
    "## Load ddp project files to get rW and phase scale"
   ]
  },
  {
   "cell_type": "code",
   "execution_count": 16,
   "id": "5cdd4f31-54e1-45d7-825f-e30e70522fa9",
   "metadata": {},
   "outputs": [],
   "source": [
    "ddp_dir = '/Users/cheng-hunglin/Documents/Data_LDRD'\n",
    "day1_name = 'Cs_x-Pb_y-B_z_serial_bkg_10min_22-1.ddp.ddp3'\n",
    "day3_name = 'Cs_x-Pb_y-B_z_serial_bkg_day3_22-1.ddp.ddp3'\n",
    "day4_name = 'Cs_x-Pb_y-B_z_serial_bkg_day4_22-1.ddp.ddp3'\n",
    "\n",
    "fn_10min = os.path.join(ddp_dir, day1_name)\n",
    "fn_day3 = os.path.join(ddp_dir, day3_name)\n",
    "fn_day4 = os.path.join(ddp_dir, day4_name)"
   ]
  },
  {
   "cell_type": "code",
   "execution_count": 17,
   "id": "de260f9b-3d2e-436b-8d26-3f00dc29b1c9",
   "metadata": {},
   "outputs": [],
   "source": [
    "ddp_10min = LoadProject(fn_10min)\n",
    "ddp_day3 = LoadProject(fn_day3)\n",
    "ddp_day4 = LoadProject(fn_day4)"
   ]
  },
  {
   "cell_type": "code",
   "execution_count": 18,
   "id": "72910ab6-aa65-48e2-baa3-81425712b611",
   "metadata": {},
   "outputs": [],
   "source": [
    "rw = ddp_10min.getFits()[1].getData('rw')"
   ]
  },
  {
   "cell_type": "code",
   "execution_count": 19,
   "id": "f0b682c2-96b6-44bd-a883-502ae5bcf868",
   "metadata": {},
   "outputs": [
    {
     "data": {
      "text/plain": [
       "0.4536889791508549"
      ]
     },
     "execution_count": 19,
     "metadata": {},
     "output_type": "execute_result"
    }
   ],
   "source": [
    "rw"
   ]
  },
  {
   "cell_type": "code",
   "execution_count": 23,
   "id": "143ca39c-0968-450d-8403-77ed5cadff3b",
   "metadata": {},
   "outputs": [],
   "source": [
    "fn = ddp_10min.getFits()[1].datasets.keys()[0]"
   ]
  },
  {
   "cell_type": "code",
   "execution_count": null,
   "id": "d4a3d88d-d9f6-4e46-91ee-051ac3fe0b22",
   "metadata": {},
   "outputs": [],
   "source": []
  },
  {
   "cell_type": "code",
   "execution_count": 28,
   "id": "6e15588c-5026-4f4e-817b-3933ad6baaed",
   "metadata": {},
   "outputs": [
    {
     "data": {
      "text/plain": [
       "'91db25'"
      ]
     },
     "execution_count": 28,
     "metadata": {},
     "output_type": "execute_result"
    }
   ],
   "source": [
    "get_uid_by_fn(fn)"
   ]
  },
  {
   "cell_type": "code",
   "execution_count": 63,
   "id": "712bcece-e4a9-403b-af8a-c8c42546e6b3",
   "metadata": {},
   "outputs": [
    {
     "data": {
      "text/plain": [
       "38"
      ]
     },
     "execution_count": 63,
     "metadata": {},
     "output_type": "execute_result"
    }
   ],
   "source": [
    "len(ddp_10min.getFits())"
   ]
  },
  {
   "cell_type": "code",
   "execution_count": 157,
   "id": "bdd99c6b-d42b-4b77-80c5-c2e995b4c202",
   "metadata": {},
   "outputs": [],
   "source": [
    "rw_list = []\n",
    "CsBr_list = []\n",
    "Cs4PbBr6_list = []\n",
    "CsPbBr3_list = []"
   ]
  },
  {
   "cell_type": "code",
   "execution_count": null,
   "id": "c063dbb0-86f9-4c36-869b-dc62e947bd1d",
   "metadata": {},
   "outputs": [],
   "source": []
  },
  {
   "cell_type": "code",
   "execution_count": null,
   "id": "92ecb427-6352-4ff0-b1d7-0e4a99f7509d",
   "metadata": {},
   "outputs": [],
   "source": []
  }
 ],
 "metadata": {
  "kernelspec": {
   "display_name": "Python 3 (ipykernel)",
   "language": "python",
   "name": "python3"
  },
  "language_info": {
   "codemirror_mode": {
    "name": "ipython",
    "version": 3
   },
   "file_extension": ".py",
   "mimetype": "text/x-python",
   "name": "python",
   "nbconvert_exporter": "python",
   "pygments_lexer": "ipython3",
   "version": "3.13.5"
  }
 },
 "nbformat": 4,
 "nbformat_minor": 5
}
