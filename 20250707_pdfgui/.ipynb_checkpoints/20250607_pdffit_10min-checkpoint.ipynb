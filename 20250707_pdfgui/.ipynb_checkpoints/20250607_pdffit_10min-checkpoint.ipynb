{
 "cells": [
  {
   "cell_type": "code",
   "execution_count": 1,
   "id": "691985d3-b22a-4415-87e1-c9bbc27d7433",
   "metadata": {},
   "outputs": [],
   "source": [
    "import os\n",
    "import glob\n",
    "import numpy as np\n",
    "import pandas as pd\n",
    "import matplotlib.pyplot as plt\n",
    "from copy import deepcopy\n",
    "from diffpy.pdfgui.tui import LoadProject\n",
    "from diffpy.pdfgui.control.pdfguicontrol import PDFGuiControl\n",
    "from diffpy.pdffit2.pdffit2 import calculationError\n",
    "\n",
    "from IPython.display import clear_output\n",
    "import time\n",
    "# from tqdm.auto import tqdm"
   ]
  },
  {
   "cell_type": "code",
   "execution_count": 2,
   "id": "69d0f7ae-3a44-49ed-8216-1698c3e33f39",
   "metadata": {},
   "outputs": [],
   "source": [
    "%matplotlib widget"
   ]
  },
  {
   "cell_type": "code",
   "execution_count": 3,
   "id": "4c102e19-54f9-421b-a225-74c46ce104eb",
   "metadata": {},
   "outputs": [],
   "source": [
    "def tqdm_sleep_sec(t, message='Sleep'):\n",
    "    import datetime\n",
    "    from tqdm import tqdm\n",
    "    now = datetime.datetime.now()\n",
    "    print(f'\\nSleep for a while: {t} seconds.')\n",
    "    print(f'Waiting starts at {now}')\n",
    "    for i in tqdm(range(0,100), desc=message):\n",
    "        time.sleep(t/100)"
   ]
  },
  {
   "cell_type": "code",
   "execution_count": null,
   "id": "6ee07dd4-4950-4ce4-bbd0-451f6e5e41b3",
   "metadata": {},
   "outputs": [],
   "source": []
  },
  {
   "cell_type": "markdown",
   "id": "00b33123-7f12-45e9-ac0a-becb43a1330e",
   "metadata": {},
   "source": [
    "## Load a pre-defined PDFGui project file (.ddp) using diffpy.pdfgui.tui.LoadProject"
   ]
  },
  {
   "cell_type": "code",
   "execution_count": 4,
   "id": "ec6a18c4-dde2-4cce-9c16-26e425d0b07c",
   "metadata": {},
   "outputs": [],
   "source": [
    "fn_dir = '/Users/cheng-hunglin/Documents/Data_LDRD'\n",
    "fn = os.path.join(fn_dir, 'Cs_x-Pb_y-B_z_serial_bkg_10min_11-1.ddp3')\n",
    "ddp = LoadProject(fn)"
   ]
  },
  {
   "cell_type": "code",
   "execution_count": null,
   "id": "6c545bb5-521f-46ad-940e-21f79a8a8728",
   "metadata": {},
   "outputs": [],
   "source": []
  },
  {
   "cell_type": "markdown",
   "id": "66f77e16-e174-4691-b869-1b1670d45241",
   "metadata": {},
   "source": [
    "## Check the fitting object (diffpy.pdfgui.control.fitting.Fitting) in the ddp project file"
   ]
  },
  {
   "cell_type": "code",
   "execution_count": 5,
   "id": "47bc1292-1ec9-4061-acb4-63b2bf47b025",
   "metadata": {},
   "outputs": [
    {
     "data": {
      "text/plain": [
       "'Fit 3 _0D_s20'"
      ]
     },
     "execution_count": 5,
     "metadata": {},
     "output_type": "execute_result"
    }
   ],
   "source": [
    "fit_demo = ddp.getFits()[21]\n",
    "fit_demo.name"
   ]
  },
  {
   "cell_type": "code",
   "execution_count": 6,
   "id": "899c948b-9b67-40ae-af2d-c6057554b5bd",
   "metadata": {},
   "outputs": [
    {
     "data": {
      "text/plain": [
       "<diffpy.pdfgui.control.pdfguicontrol.PDFGuiControl at 0x10418bb60>"
      ]
     },
     "execution_count": 6,
     "metadata": {},
     "output_type": "execute_result"
    }
   ],
   "source": [
    "fit_demo.owner"
   ]
  },
  {
   "cell_type": "code",
   "execution_count": 7,
   "id": "77597e5a-03ed-4bc9-a85b-266a894700f1",
   "metadata": {},
   "outputs": [],
   "source": [
    "fit_demo.name = 'Fit 3 _0D_s20 demo'"
   ]
  },
  {
   "cell_type": "code",
   "execution_count": 8,
   "id": "177435b0-4831-4f98-af87-086418bc434f",
   "metadata": {},
   "outputs": [
    {
     "data": {
      "text/plain": [
       "'Fit 3 _0D_s20 demo'"
      ]
     },
     "execution_count": 8,
     "metadata": {},
     "output_type": "execute_result"
    }
   ],
   "source": [
    "fit_demo.name"
   ]
  },
  {
   "cell_type": "markdown",
   "id": "1398a8da-ba9d-4f75-8398-76bca71a946b",
   "metadata": {},
   "source": [
    "## Create an object of PDFGuiControl which holds all the data GUI needs to access or change"
   ]
  },
  {
   "cell_type": "markdown",
   "id": "1f878305-6036-41d3-8b78-74467836fe8f",
   "metadata": {},
   "source": [
    "### the PDFGuiControl object will be saved as a ddp file in the end"
   ]
  },
  {
   "cell_type": "code",
   "execution_count": 9,
   "id": "961049e8-df5e-4ac9-aa2b-c529fb546c7a",
   "metadata": {},
   "outputs": [],
   "source": [
    "new_guicontrol = PDFGuiControl()"
   ]
  },
  {
   "cell_type": "code",
   "execution_count": null,
   "id": "ce4e64d1-db60-4dbf-a3ee-aa72ea6ba56d",
   "metadata": {},
   "outputs": [],
   "source": []
  },
  {
   "cell_type": "markdown",
   "id": "cb8c9305-ee73-46a0-a212-dce08f6a80ec",
   "metadata": {},
   "source": [
    "## Copy the Fitting object from ddp to the new PDFGuiControl"
   ]
  },
  {
   "cell_type": "code",
   "execution_count": 10,
   "id": "2566de4a-952d-4a00-a675-dcf9aa5472d5",
   "metadata": {},
   "outputs": [
    {
     "data": {
      "text/plain": [
       "<diffpy.pdfgui.control.fitting.Fitting at 0x12a14b350>"
      ]
     },
     "execution_count": 10,
     "metadata": {},
     "output_type": "execute_result"
    }
   ],
   "source": [
    "new_guicontrol.add(fit_demo.copy())"
   ]
  },
  {
   "cell_type": "code",
   "execution_count": 11,
   "id": "abc6cfec-e5db-4f2a-ae2e-fe408c659752",
   "metadata": {},
   "outputs": [],
   "source": [
    "# dir(new_guicontrol)"
   ]
  },
  {
   "cell_type": "code",
   "execution_count": null,
   "id": "7233bf5d-391e-4359-b989-a9aa0dcae92f",
   "metadata": {},
   "outputs": [],
   "source": []
  },
  {
   "cell_type": "markdown",
   "id": "1a28184c-a373-4006-a4ad-331fba8526a0",
   "metadata": {},
   "source": [
    "## Using PDFGuiControl.fits to check the added Fitting object in the the new PDFGuiControl"
   ]
  },
  {
   "cell_type": "code",
   "execution_count": 12,
   "id": "9dbfaca1-0ef3-486d-8746-f56f9c89898b",
   "metadata": {},
   "outputs": [
    {
     "data": {
      "text/plain": [
       "[<diffpy.pdfgui.control.fitting.Fitting at 0x12a14b350>]"
      ]
     },
     "execution_count": 12,
     "metadata": {},
     "output_type": "execute_result"
    }
   ],
   "source": [
    "new_guicontrol.fits"
   ]
  },
  {
   "cell_type": "code",
   "execution_count": null,
   "id": "0bd91a0e-c094-4d5c-af94-ac43f1a61a84",
   "metadata": {},
   "outputs": [],
   "source": []
  },
  {
   "cell_type": "markdown",
   "id": "24102db6-6700-4ebf-9179-3f6b27687bf9",
   "metadata": {},
   "source": [
    "## Find the gr data list and sort it"
   ]
  },
  {
   "cell_type": "code",
   "execution_count": 13,
   "id": "30c06d01-7c8f-425f-8fd9-6d848b9bc239",
   "metadata": {},
   "outputs": [],
   "source": [
    "# subpath = '/Users/cheng-hunglin/Documents/Data_LDRD'\n",
    "subpath = '/Users/cheng-hunglin/Documents/Data_LDRD/Ghose_316490_d49d3e59/iqgr/bkg_10min/gr_updated'\n",
    "gr_dir = os.path.join(subpath)\n",
    "gr_list = glob.glob(gr_dir + '/*.gr')\n",
    "gr_list.sort()"
   ]
  },
  {
   "cell_type": "code",
   "execution_count": 14,
   "id": "cb494b99-38e7-492d-bd97-cb028dc9e1b2",
   "metadata": {},
   "outputs": [],
   "source": [
    "gr_serial = gr_list[:]\n",
    "# gr_serial"
   ]
  },
  {
   "cell_type": "code",
   "execution_count": null,
   "id": "0d406ea5-2eee-4646-985f-eb3b3e0a51c9",
   "metadata": {},
   "outputs": [],
   "source": []
  },
  {
   "cell_type": "markdown",
   "id": "2fd629df-d8f6-42ba-99d1-3b24b352ec40",
   "metadata": {},
   "source": [
    "## Define fitrmax, fitrmin, qdamp, qbroad from the copied Fitting object, e.g., fit_demo.copy()"
   ]
  },
  {
   "cell_type": "code",
   "execution_count": 15,
   "id": "5f61f42b-9b56-4358-b909-b45a7df29044",
   "metadata": {},
   "outputs": [],
   "source": [
    "fitrmax = new_guicontrol.fits[0].datasets[0].fitrmax\n",
    "fitrmin = new_guicontrol.fits[0].datasets[0].fitrmin\n",
    "qdamp = new_guicontrol.fits[0].datasets[0].qdamp\n",
    "qbroad = new_guicontrol.fits[0].datasets[0].qbroad\n",
    "# new_guicontrol.fits[0].datasets[1].constraints.update(new_guicontrol.fits[0].datasets[0].constraints)"
   ]
  },
  {
   "cell_type": "code",
   "execution_count": null,
   "id": "d1944c8c-6371-4124-9676-8300c4520a7f",
   "metadata": {},
   "outputs": [],
   "source": []
  },
  {
   "cell_type": "markdown",
   "id": "8d9f702d-eb99-4e74-9f38-87e00c185901",
   "metadata": {},
   "source": [
    "## Check fitting parameters"
   ]
  },
  {
   "cell_type": "code",
   "execution_count": 16,
   "id": "ed9fac6e-5c4e-44d8-98c4-c6d0c882026c",
   "metadata": {},
   "outputs": [
    {
     "data": {
      "text/plain": [
       "{1: <diffpy.pdfgui.control.parameter.Parameter at 0x11fdb68d0>,\n",
       " 2: <diffpy.pdfgui.control.parameter.Parameter at 0x11fdb6ad0>,\n",
       " 3: <diffpy.pdfgui.control.parameter.Parameter at 0x11fdb67d0>,\n",
       " 100: <diffpy.pdfgui.control.parameter.Parameter at 0x11fdb6450>,\n",
       " 101: <diffpy.pdfgui.control.parameter.Parameter at 0x11fdb6dd0>,\n",
       " 6: <diffpy.pdfgui.control.parameter.Parameter at 0x11fdb6b50>,\n",
       " 40: <diffpy.pdfgui.control.parameter.Parameter at 0x11fdb69d0>,\n",
       " 41: <diffpy.pdfgui.control.parameter.Parameter at 0x12a13b9d0>,\n",
       " 202: <diffpy.pdfgui.control.parameter.Parameter at 0x12a13b8d0>,\n",
       " 43: <diffpy.pdfgui.control.parameter.Parameter at 0x11fdb6850>,\n",
       " 300: <diffpy.pdfgui.control.parameter.Parameter at 0x12a13b950>,\n",
       " 200: <diffpy.pdfgui.control.parameter.Parameter at 0x12a13bf50>,\n",
       " 50: <diffpy.pdfgui.control.parameter.Parameter at 0x12a13bad0>,\n",
       " 51: <diffpy.pdfgui.control.parameter.Parameter at 0x12a13ba50>,\n",
       " 201: <diffpy.pdfgui.control.parameter.Parameter at 0x12a13b350>,\n",
       " 4: <diffpy.pdfgui.control.parameter.Parameter at 0x12a21c0d0>,\n",
       " 60: <diffpy.pdfgui.control.parameter.Parameter at 0x12a21c050>,\n",
       " 61: <diffpy.pdfgui.control.parameter.Parameter at 0x12a21c250>,\n",
       " 62: <diffpy.pdfgui.control.parameter.Parameter at 0x12a21c2d0>,\n",
       " 5: <diffpy.pdfgui.control.parameter.Parameter at 0x12a21c350>}"
      ]
     },
     "execution_count": 16,
     "metadata": {},
     "output_type": "execute_result"
    }
   ],
   "source": [
    "new_guicontrol.fits[0].parameters"
   ]
  },
  {
   "cell_type": "code",
   "execution_count": 17,
   "id": "1f05629e-375b-45e7-8a52-f4b32276310e",
   "metadata": {},
   "outputs": [
    {
     "data": {
      "text/plain": [
       "False"
      ]
     },
     "execution_count": 17,
     "metadata": {},
     "output_type": "execute_result"
    }
   ],
   "source": [
    "new_guicontrol.fits[0].parameters[1].fixed"
   ]
  },
  {
   "cell_type": "code",
   "execution_count": 18,
   "id": "ce3881e3-7bbb-47a0-bdb4-11b4b0106298",
   "metadata": {},
   "outputs": [],
   "source": [
    "# new_guicontrol.fits[0].parameters[1].fixed = True"
   ]
  },
  {
   "cell_type": "code",
   "execution_count": 19,
   "id": "85c1e896-aec3-492e-b021-b1c1e07377bf",
   "metadata": {},
   "outputs": [],
   "source": [
    "# new_guicontrol.fits[0].parameters[1].fixed"
   ]
  },
  {
   "cell_type": "code",
   "execution_count": null,
   "id": "bb09b611-9c91-4dec-9990-843b91a91b40",
   "metadata": {},
   "outputs": [],
   "source": []
  },
  {
   "cell_type": "code",
   "execution_count": null,
   "id": "a0ccf99c-efd2-4945-b4e5-adc1b40710cf",
   "metadata": {},
   "outputs": [],
   "source": []
  },
  {
   "cell_type": "markdown",
   "id": "332a50e8-f235-4a4d-a374-657d60184487",
   "metadata": {},
   "source": [
    "## Make the fitting tree in the new PDFGuiControl"
   ]
  },
  {
   "cell_type": "code",
   "execution_count": 20,
   "id": "56e5c1cb-c554-4c14-9b78-0a395c21e38c",
   "metadata": {},
   "outputs": [],
   "source": [
    "for i in range(len(gr_serial)):\n",
    "\n",
    "    ## Add new Fitting by copying the existed Fitting object\n",
    "    new_guicontrol.add(fit_demo.copy())\n",
    "\n",
    "    ## Rename the copied Fitting object\n",
    "    new_guicontrol.fits[i+1].name = f'Fit_s{i+1:02d}'\n",
    "\n",
    "    ## Load gr data from gr_serial to the newly copied Fitting object\n",
    "    new_guicontrol.loadDataset(new_guicontrol.fits[i+1], gr_serial[i])\n",
    "\n",
    "    ## Delete the old dataset in the newly copied Fitting object  \n",
    "    new_guicontrol.fits[i+1].datasets.__delitem__(0)\n",
    "\n",
    "    ## Update fitrmax, fitrmin, qdamp, qbroad in the loaded dataset\n",
    "    new_guicontrol.fits[i+1].datasets[0].fitrmax = 45 #fitrmax\n",
    "    new_guicontrol.fits[i+1].datasets[0].fitrmin = 2.4 #fitrmin\n",
    "    new_guicontrol.fits[i+1].datasets[0].qdamp = qdamp\n",
    "    new_guicontrol.fits[i+1].datasets[0].qbroad = qbroad\n",
    "\n",
    "    ## Update the constraints for the loaded dataset, mainly for dscale, qdamp, qbroad if constrained\n",
    "    new_guicontrol.fits[i+1].datasets[0].constraints.update(deepcopy(new_guicontrol.fits[0].datasets[0].constraints))\n",
    "\n",
    "    ## Equal the amount of scale factor\n",
    "    # num_struc = len(new_guicontrol.fits[0].strucs)\n",
    "    # for j in range(num_struc):\n",
    "    #     new_guicontrol.fits[i+1].strucs[j].setvar('pscale', 1/num_struc)\n",
    "    new_guicontrol.fits[i+1].parameters[100].setInitial(0.33)  #0.615)\n",
    "    new_guicontrol.fits[i+1].parameters[101].setInitial(0.33)  #0.615)\n",
    "    \n",
    "    new_guicontrol.fits[i+1].parameters[300].setInitial(0.5)\n"
   ]
  },
  {
   "cell_type": "code",
   "execution_count": 21,
   "id": "9bd278a6-9970-42e2-bdb6-011659d9a5c5",
   "metadata": {},
   "outputs": [
    {
     "data": {
      "text/plain": [
       "38"
      ]
     },
     "execution_count": 21,
     "metadata": {},
     "output_type": "execute_result"
    }
   ],
   "source": [
    "len(new_guicontrol.fits)"
   ]
  },
  {
   "cell_type": "code",
   "execution_count": 22,
   "id": "52e9cb81-7362-4f5c-ac40-bd0f5641f19c",
   "metadata": {},
   "outputs": [
    {
     "data": {
      "text/plain": [
       "1.0"
      ]
     },
     "execution_count": 22,
     "metadata": {},
     "output_type": "execute_result"
    }
   ],
   "source": [
    "new_guicontrol.fits[i+1].strucs[1].getvar('pscal')"
   ]
  },
  {
   "cell_type": "code",
   "execution_count": 23,
   "id": "0a6d0214-3623-4900-9c10-1f2d43b6395e",
   "metadata": {},
   "outputs": [
    {
     "data": {
      "text/plain": [
       "0.33"
      ]
     },
     "execution_count": 23,
     "metadata": {},
     "output_type": "execute_result"
    }
   ],
   "source": [
    "new_guicontrol.fits[i+1].parameters[100].initialValue()"
   ]
  },
  {
   "cell_type": "code",
   "execution_count": null,
   "id": "ba1278ae-b352-41f6-b4e6-181140d560e2",
   "metadata": {},
   "outputs": [],
   "source": []
  },
  {
   "cell_type": "code",
   "execution_count": 24,
   "id": "381b064d-d3a2-4b25-b954-c26e3b8200c7",
   "metadata": {},
   "outputs": [
    {
     "data": {
      "text/plain": [
       "{'dscale': <diffpy.pdfgui.control.constraint.Constraint at 0x345e04bf0>}"
      ]
     },
     "execution_count": 24,
     "metadata": {},
     "output_type": "execute_result"
    }
   ],
   "source": [
    "new_guicontrol.fits[1].datasets[0].constraints"
   ]
  },
  {
   "cell_type": "code",
   "execution_count": 25,
   "id": "9914a983-afa8-48d2-99fe-13364ca4f892",
   "metadata": {},
   "outputs": [
    {
     "data": {
      "text/plain": [
       "38"
      ]
     },
     "execution_count": 25,
     "metadata": {},
     "output_type": "execute_result"
    }
   ],
   "source": [
    "len(new_guicontrol.fits)"
   ]
  },
  {
   "cell_type": "code",
   "execution_count": null,
   "id": "f73b1a00-9727-4880-8bdc-85c86d83a1df",
   "metadata": {},
   "outputs": [],
   "source": []
  },
  {
   "cell_type": "markdown",
   "id": "528abd9c-8088-4add-b4fb-60c315cac9cc",
   "metadata": {},
   "source": [
    "## Run all the fitting in the new PDFGuiControl"
   ]
  },
  {
   "cell_type": "markdown",
   "id": "5c9dd260-aa6c-4fcd-a9d3-9313244c9da9",
   "metadata": {},
   "source": [
    "## First fitting - Refine scales and lattice parameters"
   ]
  },
  {
   "cell_type": "code",
   "execution_count": 26,
   "id": "aa465bdd-8ead-483a-a76a-a8383128411f",
   "metadata": {},
   "outputs": [],
   "source": [
    "## Fitting parameters of lattice parameter in a list\n",
    "lat_par_list = [1 ,2 ,3, 4, 5, 6]"
   ]
  },
  {
   "cell_type": "code",
   "execution_count": 27,
   "id": "f970e35a-35e2-4885-9839-22b8c296ce6d",
   "metadata": {},
   "outputs": [
    {
     "name": "stdout",
     "output_type": "stream",
     "text": [
      "i = 37\n",
      "\n",
      "Data Cs_rich_1-0-1_v2_20250606-18 fitting is on going\n",
      "\n",
      "\n",
      "******************************************************************************\n",
      "*                      P D F F I T   Version   1.5.1                         *\n",
      "*                                              2025-02-07                    *\n",
      "* -------------------------------------------------------------------------- *\n",
      "* (c) 1998-2007 Trustees of the Michigan State University.                   *\n",
      "* (c) 2008-2025 Trustees of the Columbia University                          *\n",
      "*               in the city of New York.                                     *\n",
      "*                                                                            *\n",
      "* Authors:                                                                   *\n",
      "*     Thomas Proffen        -   Email: tproffen@lanl.gov                     *\n",
      "*     Jacques Bloch         -   Email: bloch@pa.msu.edu                      *\n",
      "*     Christopher Farrow    -   Email: clf2121@columbia.edu                  *\n",
      "*     Pavol Juhas           -   Email: pjuhas@bnl.gov                        *\n",
      "*     Simon Billinge        -   Email: sb2896@columbia.edu                   *\n",
      "******************************************************************************\n",
      "\n",
      "\n",
      "=========================================================================\n",
      "\n",
      " Structure file format  : PDFFIT\n",
      " Phase number           : 1\n",
      " Phase title            : UNNAMED\n",
      "\n",
      " Lattice parameters     : 4.28963             4.28963             4.28963\n",
      "           & angles     : 90                  90                  90\n",
      " Unit cell volume       : 78.9332\n",
      " Number density         : 0.0253379\n",
      " Metric tensor          : 18.4009             0                   0\n",
      "                          0                   18.4009             0\n",
      "                          0                   0                   18.4009\n",
      "\n",
      " Recip. lat. parameters : 0.23312             0.23312             0.23312\n",
      "               & angles : 90                  90                  90\n",
      " Recip. unit cell vol.  : 0.0126689\n",
      " Recip. metric tensor   : 0.0543451           0                   0\n",
      "                          0                   0.0543451           0\n",
      "                          0                   0                   0.0543451\n",
      "\n",
      " Structure file format  : PDFFIT\n",
      " Phase number           : 2\n",
      " Phase title            : UNNAMED\n",
      "\n",
      " Lattice parameters     : 13.7316             13.7316             17.241\n",
      "           & angles     : 90                  90                  120\n",
      " Unit cell volume       : 2815.37\n",
      " Number density         : 0.0234428\n",
      " Metric tensor          : 188.557             -94.2784            0\n",
      "                          -94.2784            188.557             0\n",
      "                          0                   0                   297.252\n",
      "\n",
      " Recip. lat. parameters : 0.0840907           0.0840907           0.0580013\n",
      "               & angles : 90                  90                  60\n",
      " Recip. unit cell vol.  : 0.000355193\n",
      " Recip. metric tensor   : 0.00707125          0.00353563          0\n",
      "                          0.00353563          0.00707125          0\n",
      "                          0                   0                   0.00336415\n",
      "\n",
      " Structure file format  : PDFFIT\n",
      " Phase number           : 3\n",
      " Phase title            : UNNAMED\n",
      "\n",
      " Lattice parameters     : 8.42534             12.0113             8.37037\n",
      "           & angles     : 90                  90                  90\n",
      " Unit cell volume       : 847.074\n",
      " Number density         : 0.0236107\n",
      " Metric tensor          : 70.9863             0                   0\n",
      "                          0                   144.271             0\n",
      "                          0                   0                   70.063\n",
      "\n",
      " Recip. lat. parameters : 0.11869             0.083255            0.119469\n",
      "               & angles : 90                  90                  90\n",
      " Recip. unit cell vol.  : 0.00118053\n",
      " Recip. metric tensor   : 0.0140872           0                   0\n",
      "                          0                   0.00693139          0\n",
      "                          0                   0                   0.0142729\n",
      "\n",
      " Reading 4 columns ...\n",
      " Read PDF data set 1  (r = 2.39 to 45 A, 4262 points) ...\n",
      " ****WARN****\n",
      " Uncertainties on G(r) were absent or unreadable in your input\n",
      " data.  The program reset these uncertainties to unity.  This\n",
      " does not affect at all the refined parameter values.  However,\n",
      " the values of the estimated uncertainties on these refined\n",
      " parameter values are not reliable.\n",
      " ****WARN****\n",
      "\n",
      "*******************\n",
      "Starting refinement\n",
      "*******************\n",
      " Dataset: 1   Phase: 1  2  3  \n",
      "\n",
      "******************************** ITER: 0 ********************************\n",
      "\n",
      " Refinement parameters :\n",
      "   1: 13.734565     2: 17.253435     3:  4.302250     4:  8.180355\n",
      "   5: 11.841296     6:  8.322205   100:  0.330000   101:  0.330000\n",
      " 300:  0.500000  \n",
      "\n",
      " chisq.: 107.986   red.chisq.: 0.0253905   Rw: 1.24172\n",
      "\n",
      "******************************** ITER: 1 ********************************\n",
      "\n",
      " Refinement parameters :\n",
      "   1: 13.728556     2: 17.276692     3:  4.303935     4:  8.177166\n",
      "   5: 11.843386     6:  8.327354   100:  0.329062   101:  0.416422\n",
      " 300:  0.131926  \n",
      "\n",
      " chisq.: 11.1199   red.chisq.: 0.0026146   Rw: 0.398464\n",
      "\n",
      "******************************** ITER: 2 ********************************\n",
      "\n",
      " Refinement parameters :\n",
      "   1: 13.713188     2: 17.343078     3:  4.306568     4:  8.162033\n",
      "   5: 11.849334     6:  8.355129   100:  0.323082   101:  0.661869\n",
      " 300:  0.130947  \n",
      "\n",
      " chisq.: 1.10986   red.chisq.: 0.00026096   Rw: 0.125885\n",
      "\n",
      "******************************** ITER: 3 ********************************\n",
      "\n",
      " Refinement parameters :\n",
      "   1: 13.712961     2: 17.357765     3:  4.305841     4:  7.801911\n",
      "   5: 11.808004     6:  9.018110   100:  0.322297   101:  0.660693\n",
      " 300:  0.131631  \n",
      "\n",
      " chisq.: 1.08083   red.chisq.: 0.000254134   Rw: 0.124228\n",
      "\n",
      "******************************** ITER: 4 ********************************\n",
      "\n",
      " Refinement parameters :\n",
      "   1: 13.716171     2: 17.385802     3:  4.305906     4:  7.664208\n",
      "   5: 12.390455     6:  9.445935   100:  0.310382   101:  0.643501\n",
      " 300:  0.134908  \n",
      "\n",
      " chisq.: 1.07017   red.chisq.: 0.000251628   Rw: 0.123613\n",
      "\n",
      "******************************** ITER: 5 ********************************\n",
      "\n",
      " Refinement parameters :\n",
      "   1: 13.712907     2: 17.390587     3:  4.305596     4:  7.665334\n",
      "   5: 12.534958     6:  9.664513   100:  0.308194   101:  0.632321\n",
      " 300:  0.136331  \n",
      "\n",
      " chisq.: 1.03978   red.chisq.: 0.000244482   Rw: 0.121846\n",
      "\n",
      "******************************** ITER: 6 ********************************\n",
      "\n",
      " Refinement parameters :\n",
      "   1: 13.712553     2: 17.375423     3:  4.305731     4:  7.666403\n",
      "   5: 12.739319     6:  9.506992   100:  0.291942   101:  0.616008\n",
      " 300:  0.140034  \n",
      "\n",
      " chisq.: 1.0336   red.chisq.: 0.00024303   Rw: 0.121483\n",
      "\n",
      "******************************** ITER: 7 ********************************\n",
      "\n",
      " Refinement parameters :\n",
      "   1: 13.709951     2: 17.367731     3:  4.305761     4:  7.656045\n",
      "   5: 12.648262     6:  9.627804   100:  0.293693   101:  0.615599\n",
      " 300:  0.140010  \n",
      "\n",
      " chisq.: 1.02763   red.chisq.: 0.000241624   Rw: 0.121131\n",
      "\n",
      "******************************** ITER: 8 ********************************\n",
      "\n",
      " Refinement parameters :\n",
      "   1: 13.710532     2: 17.362970     3:  4.305765     4:  7.663153\n",
      "   5: 12.652985     6:  9.567019   100:  0.291524   101:  0.613786\n",
      " 300:  0.140513  \n",
      "\n",
      " chisq.: 1.02633   red.chisq.: 0.000241319   Rw: 0.121055\n",
      "\n",
      "******************************** ITER: 9 ********************************\n",
      "\n",
      " Refinement parameters :\n",
      "   1: 13.709469     2: 17.361929     3:  4.305788     4:  7.649035\n",
      "   5: 12.658079     6:  9.599426   100:  0.291873   101:  0.613617\n",
      " 300:  0.140492  \n",
      "\n",
      " chisq.: 1.02596   red.chisq.: 0.000241233   Rw: 0.121033    stagnating\n",
      "\n",
      "******************************** ITER: 10 ********************************\n",
      "\n",
      " Refinement parameters :\n",
      "   1: 13.709781     2: 17.360736     3:  4.305783     4:  7.649416\n",
      "   5: 12.654748     6:  9.581706   100:  0.291257   101:  0.613577\n",
      " 300:  0.140545  \n",
      "\n",
      " chisq.: 1.02582   red.chisq.: 0.0002412   Rw: 0.121025    stagnating\n",
      "\n",
      "******************************** ITER: 11 ********************************\n",
      "\n",
      " Refinement parameters :\n",
      "   1: 13.709421     2: 17.360829     3:  4.305793     4:  7.643664\n",
      "   5: 12.656698     6:  9.592354   100:  0.291450   101:  0.613699\n",
      " 300:  0.140503  \n",
      "\n",
      " chisq.: 1.02577   red.chisq.: 0.000241187   Rw: 0.121022    stagnating\n",
      "\n",
      "================================ FINAL ==================================\n",
      "\n",
      " Refinement parameters :\n",
      "   1: 13.709421     2: 17.360829     3:  4.305793     4:  7.643664\n",
      "   5: 12.656698     6:  9.592354   100:  0.291450   101:  0.613699\n",
      " 300:  0.140503  \n",
      "\n",
      " chisq.: 1.02577   red.chisq.: 0.000241187   Rw: 0.121022\n",
      "\n",
      "\n",
      "Update refined results to initial for the current dataset\n",
      "\n",
      "\n",
      "\n"
     ]
    }
   ],
   "source": [
    "## The total # of Fitting object in the new PDFGuiControl will be len(gr_list) + 1\n",
    "## because of the first one is from the pre-defined ddp and has no modification \n",
    "# for i in range(2):\n",
    "# for i in tqdm(range(len(gr_serial)+1), desc =f'batch fitting with pdffit2'):\n",
    "failed_list = []\n",
    "for i in range(1, len(new_guicontrol.fits)):\n",
    "    \n",
    "    clear_output(wait=True)\n",
    "    \n",
    "    data_name = new_guicontrol.fits[i].datasets.keys()[0]\n",
    "    print(f'{i = }\\n')\n",
    "    print(f'Data {data_name[:28]} fitting is on going\\n')\n",
    "\n",
    "    ## Free lattice parameters for fitting\n",
    "    for k in lat_par_list:\n",
    "        # ddp_01.getFits()[i].parameters[k].fixed = False\n",
    "        new_guicontrol.fits[i].parameters[k].fixed = False \n",
    "    \n",
    "    try:\n",
    "        new_guicontrol.fits[i].run()\n",
    "\n",
    "        print('\\n')\n",
    "        print('Update refined results to initial for the current dataset\\n')\n",
    "        for key, item in new_guicontrol.fits[i].parameters.items():\n",
    "            refined = new_guicontrol.fits[i].getData(key)\n",
    "            new_guicontrol.fits[i].parameters[key].setInitial(refined)\n",
    "\n",
    "    except calculationError:\n",
    "        new_guicontrol.fits[i].stop()\n",
    "        failed_list.append(data_name)\n",
    "        print(f'Data {data_name[:28]} fitting fialed\\n')\n",
    "        \n",
    "        \n",
    "        tqdm_sleep_sec(30, message=f'fitting failed: {i = }, {data_name}')\n",
    "    \n",
    "    print('\\n')\n",
    "    time.sleep(3)\n"
   ]
  },
  {
   "cell_type": "code",
   "execution_count": 28,
   "id": "ccd35a39-e275-41be-8629-99cbd7780b21",
   "metadata": {},
   "outputs": [
    {
     "data": {
      "text/plain": [
       "37"
      ]
     },
     "execution_count": 28,
     "metadata": {},
     "output_type": "execute_result"
    }
   ],
   "source": [
    "i"
   ]
  },
  {
   "cell_type": "code",
   "execution_count": null,
   "id": "c75da291-ac40-4fdb-9451-f88c6c92f057",
   "metadata": {},
   "outputs": [],
   "source": []
  },
  {
   "cell_type": "markdown",
   "id": "2b34c6c1-82c7-49a5-a00d-2fadd28fd3c4",
   "metadata": {},
   "source": [
    "## Save the new PDFGuiControl as a ddp file"
   ]
  },
  {
   "cell_type": "code",
   "execution_count": 54,
   "id": "254da143-53b0-4d70-aa80-cd28ae493f3f",
   "metadata": {},
   "outputs": [],
   "source": [
    "subpath = '/Users/cheng-hunglin/Documents/Data_LDRD'\n",
    "fn01 = 'Cs_x-Pb_y-B_z_serial_bkg_10min_21.ddp'\n",
    "full_fn01 = os.path.join(subpath, fn01)\n",
    "\n",
    "new_guicontrol.save(projfile=full_fn01)"
   ]
  },
  {
   "cell_type": "code",
   "execution_count": null,
   "id": "389b6cfe-6ece-4148-8d19-67c1cd68f538",
   "metadata": {},
   "outputs": [],
   "source": []
  },
  {
   "cell_type": "markdown",
   "id": "278a4560-485c-43b9-8c8e-04b49497c480",
   "metadata": {},
   "source": [
    "## Plot rw for all fittins"
   ]
  },
  {
   "cell_type": "code",
   "execution_count": 79,
   "id": "693775c2-aa52-4986-afb4-30d1ee6df203",
   "metadata": {},
   "outputs": [],
   "source": [
    "rw_list = []\n",
    "for i in range(len(new_guicontrol.fits)):\n",
    "    rw = new_guicontrol.fits[i].getData('rw')\n",
    "    rw_list.append(rw)"
   ]
  },
  {
   "cell_type": "code",
   "execution_count": 80,
   "id": "9f5641d1-60a2-4993-ae5f-3cf6eab502d9",
   "metadata": {},
   "outputs": [
    {
     "data": {
      "text/plain": [
       "38"
      ]
     },
     "execution_count": 80,
     "metadata": {},
     "output_type": "execute_result"
    }
   ],
   "source": [
    "len(rw_list)"
   ]
  },
  {
   "cell_type": "code",
   "execution_count": 86,
   "id": "17a95851-89da-4296-a074-9070a9b94ff4",
   "metadata": {},
   "outputs": [],
   "source": [
    "idx = np.arange(0, 38, 1)"
   ]
  },
  {
   "cell_type": "code",
   "execution_count": 87,
   "id": "4ed2b70d-2bfe-4abc-8bc3-32579ebbdc4f",
   "metadata": {},
   "outputs": [
    {
     "data": {
      "text/plain": [
       "(38,)"
      ]
     },
     "execution_count": 87,
     "metadata": {},
     "output_type": "execute_result"
    }
   ],
   "source": [
    "idx.shape"
   ]
  },
  {
   "cell_type": "code",
   "execution_count": 88,
   "id": "0194876e-be24-477f-a483-197c45bedd1c",
   "metadata": {},
   "outputs": [
    {
     "data": {
      "text/plain": [
       "Text(0, 0.5, 'rw')"
      ]
     },
     "execution_count": 88,
     "metadata": {},
     "output_type": "execute_result"
    },
    {
     "data": {
      "application/vnd.jupyter.widget-view+json": {
       "model_id": "718f45f62f90435e9fb467fc127dee6b",
       "version_major": 2,
       "version_minor": 0
      },
      "image/png": "[encoded data removed]",
      "text/html": [
       "\n",
       "            <div style=\"display: inline-block;\">\n",
       "                <div class=\"jupyter-widgets widget-label\" style=\"text-align: center;\">\n",
       "                    Figure\n",
       "                </div>\n",
       "                <img src='data:image/png;base64,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' width=1500.0/>\n",
       "            </div>\n",
       "        "
      ],
      "text/plain": [
       "Canvas(toolbar=Toolbar(toolitems=[('Home', 'Reset original view', 'home', 'home'), ('Back', 'Back to previous …"
      ]
     },
     "metadata": {},
     "output_type": "display_data"
    }
   ],
   "source": [
    "f = plt.figure(figsize=(15,5))\n",
    "ax = f.gca()\n",
    "ax.plot(idx, rw_list, 'o--')\n",
    "ax.set_ylabel('rw')"
   ]
  },
  {
   "cell_type": "code",
   "execution_count": null,
   "id": "3e33e8d5-7c36-4543-9e3c-26ae8926a68e",
   "metadata": {},
   "outputs": [],
   "source": []
  },
  {
   "cell_type": "code",
   "execution_count": null,
   "id": "fc9a94a8-ab43-4dd8-b006-ca9f80b46b7e",
   "metadata": {},
   "outputs": [],
   "source": []
  },
  {
   "cell_type": "markdown",
   "id": "ee8be3b8-fbff-4514-87f7-579c1b358d20",
   "metadata": {},
   "source": [
    "## 2nd fitting - Refine Debye–Waller factor (Anisotropic displacement parameter, ADP)"
   ]
  },
  {
   "cell_type": "code",
   "execution_count": 57,
   "id": "51ad6ccd-37c1-4ead-b4a9-0b4f33e41dd5",
   "metadata": {},
   "outputs": [
    {
     "data": {
      "text/plain": [
       "'/Users/cheng-hunglin/Documents/Data_LDRD/Cs_x-Pb_y-B_z_serial_bkg_10min_21.ddp'"
      ]
     },
     "execution_count": 57,
     "metadata": {},
     "output_type": "execute_result"
    }
   ],
   "source": [
    "full_fn01"
   ]
  },
  {
   "cell_type": "code",
   "execution_count": 58,
   "id": "4d47eebb-a6ab-4106-935b-46bf84a3c769",
   "metadata": {},
   "outputs": [],
   "source": [
    "# fn = '/Users/cheng-hunglin/Documents/Data_LDRD/Cs_x-Pb_y-B_z_serial_all6-1.ddp'\n",
    "ddp_01 = LoadProject(full_fn01)"
   ]
  },
  {
   "cell_type": "code",
   "execution_count": 59,
   "id": "b96c725f-ad2a-4a42-abcb-6efc818e8339",
   "metadata": {},
   "outputs": [
    {
     "data": {
      "text/plain": [
       "38"
      ]
     },
     "execution_count": 59,
     "metadata": {},
     "output_type": "execute_result"
    }
   ],
   "source": [
    "len(ddp_01.getFits())"
   ]
  },
  {
   "cell_type": "code",
   "execution_count": 60,
   "id": "07ca4861-8cc2-45bc-98dd-f4ae54738066",
   "metadata": {},
   "outputs": [
    {
     "data": {
      "text/plain": [
       "'Cs_060_Br_120_Pb_060_PF_020_Tol_1200_20250606-233737_992618_scattering-1_mean_q.gr'"
      ]
     },
     "execution_count": 60,
     "metadata": {},
     "output_type": "execute_result"
    }
   ],
   "source": [
    "ddp_01.getFits()[0].datasets.keys()[0]"
   ]
  },
  {
   "cell_type": "code",
   "execution_count": 61,
   "id": "1f507d2e-4bca-4163-be63-84e6608dc461",
   "metadata": {},
   "outputs": [],
   "source": [
    "ddp_01.getFits()[0].getData(1)"
   ]
  },
  {
   "cell_type": "code",
   "execution_count": 62,
   "id": "8e318fbb-4423-4fae-ba13-77d67ef69321",
   "metadata": {},
   "outputs": [],
   "source": [
    "# ddp_01.getFits()[0].parameters[1].fixed = False"
   ]
  },
  {
   "cell_type": "code",
   "execution_count": 63,
   "id": "fd13de5d-e1b5-479d-85a9-21d62fbef542",
   "metadata": {},
   "outputs": [],
   "source": [
    "## Fitting parameters of Debye–Waller factor in a list\n",
    "ADP_par_list = [40, 41, 43, 60, 61, 62]"
   ]
  },
  {
   "cell_type": "code",
   "execution_count": null,
   "id": "23dcf709-8dbd-470d-af73-a128692ee95c",
   "metadata": {},
   "outputs": [],
   "source": []
  },
  {
   "cell_type": "code",
   "execution_count": 64,
   "id": "2427ec44-0a70-49e5-a750-826fa731d373",
   "metadata": {},
   "outputs": [
    {
     "name": "stdout",
     "output_type": "stream",
     "text": [
      "i = 37\n",
      "\n",
      "Data Cs_rich_1-0-1_v2_20250606-18 fitting is on going\n",
      "\n",
      "\n",
      "******************************************************************************\n",
      "*                      P D F F I T   Version   1.5.1                         *\n",
      "*                                              2025-02-07                    *\n",
      "* -------------------------------------------------------------------------- *\n",
      "* (c) 1998-2007 Trustees of the Michigan State University.                   *\n",
      "* (c) 2008-2025 Trustees of the Columbia University                          *\n",
      "*               in the city of New York.                                     *\n",
      "*                                                                            *\n",
      "* Authors:                                                                   *\n",
      "*     Thomas Proffen        -   Email: tproffen@lanl.gov                     *\n",
      "*     Jacques Bloch         -   Email: bloch@pa.msu.edu                      *\n",
      "*     Christopher Farrow    -   Email: clf2121@columbia.edu                  *\n",
      "*     Pavol Juhas           -   Email: pjuhas@bnl.gov                        *\n",
      "*     Simon Billinge        -   Email: sb2896@columbia.edu                   *\n",
      "******************************************************************************\n",
      "\n",
      " Structure file format  : PDFFIT\n",
      " Phase number           : 1\n",
      " Phase title            : UNNAMED\n",
      "\n",
      " Lattice parameters     : 4.28963             4.28963             4.28963\n",
      "           & angles     : 90                  90                  90\n",
      " Unit cell volume       : 78.9332\n",
      " Number density         : 0.0253379\n",
      " Metric tensor          : 18.4009             0                   0\n",
      "                          0                   18.4009             0\n",
      "                          0                   0                   18.4009\n",
      "\n",
      " Recip. lat. parameters : 0.23312             0.23312             0.23312\n",
      "               & angles : 90                  90                  90\n",
      " Recip. unit cell vol.  : 0.0126689\n",
      " Recip. metric tensor   : 0.0543451           0                   0\n",
      "                          0                   0.0543451           0\n",
      "                          0                   0                   0.0543451\n",
      "\n",
      " Structure file format  : PDFFIT\n",
      " Phase number           : 2\n",
      " Phase title            : UNNAMED\n",
      "\n",
      " Lattice parameters     : 13.7316             13.7316             17.241\n",
      "           & angles     : 90                  90                  120\n",
      " Unit cell volume       : 2815.37\n",
      " Number density         : 0.0234428\n",
      " Metric tensor          : 188.557             -94.2784            0\n",
      "                          -94.2784            188.557             0\n",
      "                          0                   0                   297.252\n",
      "\n",
      " Recip. lat. parameters : 0.0840907           0.0840907           0.0580013\n",
      "               & angles : 90                  90                  60\n",
      " Recip. unit cell vol.  : 0.000355193\n",
      " Recip. metric tensor   : 0.00707125          0.00353563          0\n",
      "                          0.00353563          0.00707125          0\n",
      "                          0                   0                   0.00336415\n",
      "\n",
      " Structure file format  : PDFFIT\n",
      " Phase number           : 3\n",
      " Phase title            : UNNAMED\n",
      "\n",
      " Lattice parameters     : 8.42534             12.0113             8.37037\n",
      "           & angles     : 90                  90                  90\n",
      " Unit cell volume       : 847.074\n",
      " Number density         : 0.0236107\n",
      " Metric tensor          : 70.9863             0                   0\n",
      "                          0                   144.271             0\n",
      "                          0                   0                   70.063\n",
      "\n",
      " Recip. lat. parameters : 0.11869             0.083255            0.119469\n",
      "               & angles : 90                  90                  90\n",
      " Recip. unit cell vol.  : 0.00118053\n",
      " Recip. metric tensor   : 0.0140872           0                   0\n",
      "                          0                   0.00693139          0\n",
      "                          0                   0                   0.0142729\n",
      "\n",
      " Reading 4 columns ...\n",
      " Read PDF data set 1  (r = 2.39 to 45 A, 4262 points) ...\n",
      " ****WARN****\n",
      " Uncertainties on G(r) were absent or unreadable in your input\n",
      " data.  The program reset these uncertainties to unity.  This\n",
      " does not affect at all the refined parameter values.  However,\n",
      " the values of the estimated uncertainties on these refined\n",
      " parameter values are not reliable.\n",
      " ****WARN****\n",
      "\n",
      "*******************\n",
      "Starting refinement\n",
      "*******************\n",
      " Dataset: 1   Phase: 1  2  3  \n",
      "\n",
      "******************************** ITER: 0 ********************************\n",
      "\n",
      " Refinement parameters :\n",
      "   1: 13.709421     2: 17.360829     3:  4.305793     4:  7.643664\n",
      "   5: 12.656698     6:  9.592354    40:  0.023403    41:  0.046782\n",
      "  43:  0.047098    60:  0.080049    61:  0.030900    62:  0.039865\n",
      " 100:  0.291450   101:  0.613699   300:  0.140503  \n",
      "\n",
      " chisq.: 1.02577   red.chisq.: 0.000241528   Rw: 0.121022\n",
      "\n",
      "******************************** ITER: 1 ********************************\n",
      "\n",
      " Refinement parameters :\n",
      "   1: 13.719649     2: 17.350195     3:  4.305884     4:  7.617456\n",
      "   5: 12.649141     6:  9.610893    40:  0.038195    41:  0.067096\n",
      "  43:  0.024576    60:  0.167010    61:  0.070103    62:  0.049640\n",
      " 100:  0.298642   101:  0.584412   300:  0.146870  \n",
      "\n",
      " chisq.: 0.965498   red.chisq.: 0.000227336   Rw: 0.117413\n",
      "\n",
      "******************************** ITER: 2 ********************************\n",
      "\n",
      " Refinement parameters :\n",
      "   1: 13.746958     2: 17.326015     3:  4.305744     4:  7.549988\n",
      "   5: 12.626496     6:  9.700677    40:  0.030647    41:  0.086797\n",
      "  43:  0.029632    60:  0.407094    61:  0.285331    62:  0.083073\n",
      " 100:  0.276465   101:  0.499415   300:  0.167523  \n",
      "\n",
      " chisq.: 0.916103   red.chisq.: 0.000215706   Rw: 0.11437\n",
      "\n",
      "******************************** ITER: 3 ********************************\n",
      "\n",
      " Refinement parameters :\n",
      "   1: 13.746958     2: 17.326015     3:  4.305744     4:  7.549988\n",
      "   5: 12.626496     6:  9.700677    40:  0.030647    41:  0.086797\n",
      "  43:  0.029632    60:  0.407094    61:  0.285331    62:  0.083073\n",
      " 100:  0.276465   101:  0.499415   300:  0.167523  \n",
      "\n",
      " chisq.: 0.916103   red.chisq.: 0.000215706   Rw: 0.11437    stagnating\n",
      "\n",
      "******************************** ITER: 4 ********************************\n",
      "\n",
      " Refinement parameters :\n",
      "   1: 13.746958     2: 17.326015     3:  4.305744     4:  7.549988\n",
      "   5: 12.626496     6:  9.700677    40:  0.030647    41:  0.086797\n",
      "  43:  0.029632    60:  0.407094    61:  0.285331    62:  0.083073\n",
      " 100:  0.276465   101:  0.499415   300:  0.167523  \n",
      "\n",
      " chisq.: 0.916103   red.chisq.: 0.000215706   Rw: 0.11437    stagnating\n",
      "\n",
      "******************************** ITER: 5 ********************************\n",
      "\n",
      " Refinement parameters :\n",
      "   1: 13.746958     2: 17.326015     3:  4.305744     4:  7.549988\n",
      "   5: 12.626496     6:  9.700677    40:  0.030647    41:  0.086797\n",
      "  43:  0.029632    60:  0.407094    61:  0.285331    62:  0.083073\n",
      " 100:  0.276465   101:  0.499415   300:  0.167523  \n",
      "\n",
      " chisq.: 0.916103   red.chisq.: 0.000215706   Rw: 0.11437    stagnating\n",
      "\n",
      "================================ FINAL ==================================\n",
      "\n",
      " Refinement parameters :\n",
      "   1: 13.746958     2: 17.326015     3:  4.305744     4:  7.549988\n",
      "   5: 12.626496     6:  9.700677    40:  0.030647    41:  0.086797\n",
      "  43:  0.029632    60:  0.407094    61:  0.285331    62:  0.083073\n",
      " 100:  0.276465   101:  0.499415   300:  0.167523  \n",
      "\n",
      " chisq.: 0.916103   red.chisq.: 0.000215706   Rw: 0.11437\n",
      "\n",
      "\n",
      "Update refined results to initial for the current dataset\n",
      "\n",
      "\n",
      "\n"
     ]
    }
   ],
   "source": [
    "## The total # of Fitting object in the new PDFGuiControl will be len(gr_list) + 1\n",
    "## because of the first one is from the pre-defined ddp and has no modification \n",
    "# for i in range(2):\n",
    "# for i in tqdm(range(len(gr_serial)+1), desc =f'batch fitting with pdffit2'):\n",
    "failed_list = []\n",
    "for i in range(len(ddp_01.getFits())):\n",
    "    \n",
    "    clear_output(wait=True)\n",
    "    \n",
    "    data_name = ddp_01.getFits()[i].datasets.keys()[0]\n",
    "    print(f'{i = }\\n')\n",
    "    print(f'Data {data_name[:28]} fitting is on going\\n')\n",
    "\n",
    "    ## Free lattice parameters for fitting\n",
    "    for k in ADP_par_list:\n",
    "        ddp_01.getFits()[i].parameters[k].fixed = False\n",
    "        # new_guicontrol.fits[i+1].parameters[k].fixed = False    \n",
    "    \n",
    "    try:\n",
    "        ddp_01.getFits()[i].run()\n",
    "\n",
    "        print('\\n')\n",
    "        print('Update refined results to initial for the current dataset\\n')\n",
    "        for key, item in ddp_01.getFits()[i].parameters.items():\n",
    "            refined = ddp_01.getFits()[i].getData(key)\n",
    "            ddp_01.getFits()[i].parameters[key].setInitial(refined)\n",
    "\n",
    "    except calculationError:\n",
    "        ddp_01.getFits()[i].stop()\n",
    "        failed_list.append(data_name)\n",
    "        print(f'Data {data_name[:28]} fitting fialed\\n')\n",
    "\n",
    "        \n",
    "        tqdm_sleep_sec(30, message=f'fitting failed: {i = }, {data_name}')\n",
    "    \n",
    "    print('\\n')\n",
    "    time.sleep(3)\n"
   ]
  },
  {
   "cell_type": "code",
   "execution_count": 65,
   "id": "0b418003-1ead-4ddf-9665-42f5b7d801e2",
   "metadata": {},
   "outputs": [
    {
     "data": {
      "text/plain": [
       "37"
      ]
     },
     "execution_count": 65,
     "metadata": {},
     "output_type": "execute_result"
    }
   ],
   "source": [
    "i"
   ]
  },
  {
   "cell_type": "code",
   "execution_count": 66,
   "id": "c38174ee-8186-464d-b9ba-dc7a52acbadf",
   "metadata": {},
   "outputs": [],
   "source": [
    "# ddp_01.getFits()[i].stop()"
   ]
  },
  {
   "cell_type": "code",
   "execution_count": null,
   "id": "c5af8eb4-e263-47e7-b61e-0c43ae0e7544",
   "metadata": {},
   "outputs": [],
   "source": []
  },
  {
   "cell_type": "markdown",
   "id": "3aa104e5-34be-48ec-afe3-e061b00bc3bf",
   "metadata": {},
   "source": [
    "## Save the new PDFGuiControl as a ddp file"
   ]
  },
  {
   "cell_type": "code",
   "execution_count": 67,
   "id": "bf3a9f79-341a-4186-8851-e967100e6f05",
   "metadata": {},
   "outputs": [],
   "source": [
    "subpath = '/Users/cheng-hunglin/Documents/Data_LDRD'\n",
    "fn02 = 'Cs_x-Pb_y-B_z_serial_bkg_10min_22.ddp'\n",
    "full_fn02 = os.path.join(subpath, fn02)\n",
    "\n",
    "ddp_01.save(full_fn02)"
   ]
  },
  {
   "cell_type": "code",
   "execution_count": null,
   "id": "61fcd8ec-164c-4025-ae10-b48f8cc94a57",
   "metadata": {},
   "outputs": [],
   "source": []
  },
  {
   "cell_type": "markdown",
   "id": "77b1b281-15c8-4f9a-aeae-2643711df429",
   "metadata": {},
   "source": [
    "## Plot rw for all fittins"
   ]
  },
  {
   "cell_type": "code",
   "execution_count": 92,
   "id": "12cae788-dcfe-4afd-a573-ea039afa6b91",
   "metadata": {},
   "outputs": [],
   "source": [
    "rw_list = []\n",
    "for i in range(len(ddp_01.getFits())):\n",
    "    rw = ddp_01.getFits()[i].getData('rw')\n",
    "    rw_list.append(rw)"
   ]
  },
  {
   "cell_type": "code",
   "execution_count": 93,
   "id": "39ecc841-9347-44ea-a45a-67e31baa213f",
   "metadata": {},
   "outputs": [
    {
     "data": {
      "text/plain": [
       "38"
      ]
     },
     "execution_count": 93,
     "metadata": {},
     "output_type": "execute_result"
    }
   ],
   "source": [
    "len(rw_list)"
   ]
  },
  {
   "cell_type": "code",
   "execution_count": 94,
   "id": "4161b25a-3e8c-42a7-b03c-8e7f0efcaa9f",
   "metadata": {},
   "outputs": [],
   "source": [
    "idx = np.arange(0, 38, 1)"
   ]
  },
  {
   "cell_type": "code",
   "execution_count": 95,
   "id": "72d70e7b-1aec-44dd-907c-5c000e9833fa",
   "metadata": {},
   "outputs": [
    {
     "data": {
      "text/plain": [
       "(38,)"
      ]
     },
     "execution_count": 95,
     "metadata": {},
     "output_type": "execute_result"
    }
   ],
   "source": [
    "idx.shape"
   ]
  },
  {
   "cell_type": "code",
   "execution_count": 96,
   "id": "99ffbfdb-dae3-48a3-8716-a9974eb1bd7c",
   "metadata": {},
   "outputs": [
    {
     "data": {
      "text/plain": [
       "Text(0, 0.5, 'rw')"
      ]
     },
     "execution_count": 96,
     "metadata": {},
     "output_type": "execute_result"
    },
    {
     "data": {
      "application/vnd.jupyter.widget-view+json": {
       "model_id": "33f0cf5c07e64573b0e72e2ff10a947b",
       "version_major": 2,
       "version_minor": 0
      },
      "image/png": "[encoded data removed]",
      "text/html": [
       "\n",
       "            <div style=\"display: inline-block;\">\n",
       "                <div class=\"jupyter-widgets widget-label\" style=\"text-align: center;\">\n",
       "                    Figure\n",
       "                </div>\n",
       "                <img src='data:image/png;base64,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' width=1500.0/>\n",
       "            </div>\n",
       "        "
      ],
      "text/plain": [
       "Canvas(toolbar=Toolbar(toolitems=[('Home', 'Reset original view', 'home', 'home'), ('Back', 'Back to previous …"
      ]
     },
     "metadata": {},
     "output_type": "display_data"
    }
   ],
   "source": [
    "f = plt.figure(figsize=(15,5))\n",
    "ax = f.gca()\n",
    "ax.plot(idx, rw_list, 'o--')\n",
    "ax.set_ylabel('rw')"
   ]
  },
  {
   "cell_type": "code",
   "execution_count": null,
   "id": "7f974681-4d6e-4ba7-a1fa-0840dbd72593",
   "metadata": {},
   "outputs": [],
   "source": []
  },
  {
   "cell_type": "markdown",
   "id": "e65ec03f-a16e-438f-b602-8b1eb412d5f3",
   "metadata": {},
   "source": []
  },
  {
   "cell_type": "markdown",
   "id": "513436f3-7276-408d-b21b-77d96596a160",
   "metadata": {},
   "source": [
    "## 3rd fitting - Refine atomic positions"
   ]
  },
  {
   "cell_type": "code",
   "execution_count": null,
   "id": "f1a3aadf-f408-46ac-a16f-f257b0f5c011",
   "metadata": {},
   "outputs": [],
   "source": [
    "full_fn02"
   ]
  },
  {
   "cell_type": "code",
   "execution_count": null,
   "id": "5ce48583-ae8b-4478-9413-55018b0095aa",
   "metadata": {},
   "outputs": [],
   "source": [
    "# fn = '/Users/cheng-hunglin/Documents/Data_LDRD/Cs_x-Pb_y-B_z_serial_all6-1.ddp'\n",
    "ddp_02 = LoadProject(full_fn02)"
   ]
  },
  {
   "cell_type": "code",
   "execution_count": null,
   "id": "c8c212eb-978b-410b-baef-aa7899e9ff80",
   "metadata": {},
   "outputs": [],
   "source": [
    "len(ddp_02.getFits())"
   ]
  },
  {
   "cell_type": "code",
   "execution_count": null,
   "id": "8be234f6-11fb-4c42-874c-37db2a5d18d6",
   "metadata": {},
   "outputs": [],
   "source": [
    "ddp_02.getFits()[0].datasets.keys()[0]"
   ]
  },
  {
   "cell_type": "code",
   "execution_count": null,
   "id": "f563abe8-4ed6-4f03-912e-9d1875a3f7de",
   "metadata": {},
   "outputs": [],
   "source": [
    "ddp_02.getFits()[0].getData(1)"
   ]
  },
  {
   "cell_type": "code",
   "execution_count": null,
   "id": "afa04a7e-cbe1-403d-96ef-553c09e6a2fe",
   "metadata": {},
   "outputs": [],
   "source": [
    "# ddp_02.getFits()[0].parameters[1].fixed = False"
   ]
  },
  {
   "cell_type": "code",
   "execution_count": null,
   "id": "c1ee571f-a5fe-40ed-8f92-6c1da4f75efc",
   "metadata": {},
   "outputs": [],
   "source": [
    "## Fitting parameters of atomic positions in a list\n",
    "xyz_par_list = []"
   ]
  },
  {
   "cell_type": "code",
   "execution_count": null,
   "id": "e915e3e1-087b-4840-bea0-3c7f7b662992",
   "metadata": {},
   "outputs": [],
   "source": [
    "failed_list = []\n",
    "for i in range(len(ddp_02.getFits())):\n",
    "    \n",
    "    clear_output(wait=True)\n",
    "    \n",
    "    data_name = ddp_02.getFits()[i].datasets.keys()[0]\n",
    "    print(f'{i = }\\n')\n",
    "    print(f'Data {data_name[:28]} fitting is on going\\n')\n",
    "\n",
    "    ## Free atomic positions for fitting\n",
    "    for k in xyz_par_list:\n",
    "        ddp_02.getFits()[i].parameters[k].fixed = False\n",
    "    \n",
    "    try:\n",
    "        ddp_02.getFits()[i].run()\n",
    "\n",
    "        print('\\n')\n",
    "        print('Update refined results to initial for the current dataset\\n')\n",
    "        for key, item in ddp_02.getFits()[i].parameters.items():\n",
    "            refined = ddp_02.getFits()[i].getData(key)\n",
    "            ddp_02.getFits()[i].parameters[key].setInitial(refined)\n",
    "        \n",
    "    except calculationError:\n",
    "        ddp_02.getFits()[i].stop()\n",
    "        failed_list.append(data_name)\n",
    "        print(f'Data {data_name[:28]} fitting fialed\\n')\n",
    "        \n",
    "        \n",
    "        tqdm_sleep_sec(30, message=f'fitting failed: {i = }, {data_name}')\n",
    "    \n",
    "    print('\\n')\n",
    "    time.sleep(3)"
   ]
  },
  {
   "cell_type": "code",
   "execution_count": null,
   "id": "96f4d5f6-9317-4758-94e9-0098c6f3ec07",
   "metadata": {},
   "outputs": [],
   "source": [
    "# ddp_02.getFits()[i].stop()"
   ]
  },
  {
   "cell_type": "code",
   "execution_count": null,
   "id": "d2339620-620f-4b44-8313-46a35a48e1d8",
   "metadata": {},
   "outputs": [],
   "source": [
    "subpath = '/Users/cheng-hunglin/Documents/Data_LDRD'\n",
    "fn03 = 'Cs_x-Pb_y-B_z_serial_bkg_10min_13.ddp'\n",
    "full_fn03 = os.path.join(subpath, fn03)\n",
    "\n",
    "ddp_02.save(full_fn03)"
   ]
  },
  {
   "cell_type": "code",
   "execution_count": null,
   "id": "aff1bf09-a924-4593-a56d-7d9d4a3da6a4",
   "metadata": {},
   "outputs": [],
   "source": [
    "failed_list"
   ]
  },
  {
   "cell_type": "code",
   "execution_count": null,
   "id": "ae1b050e-a83a-4d86-aabe-b2a9d8583753",
   "metadata": {},
   "outputs": [],
   "source": []
  }
 ],
 "metadata": {
  "kernelspec": {
   "display_name": "Python 3 (ipykernel)",
   "language": "python",
   "name": "python3"
  },
  "language_info": {
   "codemirror_mode": {
    "name": "ipython",
    "version": 3
   },
   "file_extension": ".py",
   "mimetype": "text/x-python",
   "name": "python",
   "nbconvert_exporter": "python",
   "pygments_lexer": "ipython3",
   "version": "3.13.5"
  }
 },
 "nbformat": 4,
 "nbformat_minor": 5
}
