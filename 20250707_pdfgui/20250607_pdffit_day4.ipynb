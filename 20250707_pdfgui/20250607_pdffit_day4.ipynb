{
 "cells": [
  {
   "cell_type": "code",
   "execution_count": 1,
   "id": "691985d3-b22a-4415-87e1-c9bbc27d7433",
   "metadata": {},
   "outputs": [],
   "source": [
    "import os\n",
    "import glob\n",
    "import numpy as np\n",
    "import pandas as pd\n",
    "import matplotlib.pyplot as plt\n",
    "from copy import deepcopy\n",
    "from diffpy.pdfgui.tui import LoadProject\n",
    "from diffpy.pdfgui.control.pdfguicontrol import PDFGuiControl\n",
    "from diffpy.pdffit2.pdffit2 import calculationError\n",
    "\n",
    "from IPython.display import clear_output\n",
    "import time\n",
    "# from tqdm.auto import tqdm"
   ]
  },
  {
   "cell_type": "code",
   "execution_count": 2,
   "id": "69d0f7ae-3a44-49ed-8216-1698c3e33f39",
   "metadata": {},
   "outputs": [],
   "source": [
    "%matplotlib widget"
   ]
  },
  {
   "cell_type": "code",
   "execution_count": 3,
   "id": "4c102e19-54f9-421b-a225-74c46ce104eb",
   "metadata": {},
   "outputs": [],
   "source": [
    "def tqdm_sleep_sec(t, message='Sleep'):\n",
    "    import datetime\n",
    "    from tqdm import tqdm\n",
    "    now = datetime.datetime.now()\n",
    "    print(f'\\nSleep for a while: {t} seconds.')\n",
    "    print(f'Waiting starts at {now}')\n",
    "    for i in tqdm(range(0,100), desc=message):\n",
    "        time.sleep(t/100)"
   ]
  },
  {
   "cell_type": "code",
   "execution_count": null,
   "id": "6ee07dd4-4950-4ce4-bbd0-451f6e5e41b3",
   "metadata": {},
   "outputs": [],
   "source": []
  },
  {
   "cell_type": "markdown",
   "id": "00b33123-7f12-45e9-ac0a-becb43a1330e",
   "metadata": {},
   "source": [
    "## Load a pre-defined PDFGui project file (.ddp) using diffpy.pdfgui.tui.LoadProject"
   ]
  },
  {
   "cell_type": "code",
   "execution_count": 4,
   "id": "ec6a18c4-dde2-4cce-9c16-26e425d0b07c",
   "metadata": {},
   "outputs": [],
   "source": [
    "fn_dir = '/Users/cheng-hunglin/Documents/Data_LDRD'\n",
    "fn = os.path.join(fn_dir, 'Cs_x-Pb_y-B_z_serial_bkg_10min_11-1.ddp3')\n",
    "ddp = LoadProject(fn)"
   ]
  },
  {
   "cell_type": "code",
   "execution_count": null,
   "id": "6c545bb5-521f-46ad-940e-21f79a8a8728",
   "metadata": {},
   "outputs": [],
   "source": []
  },
  {
   "cell_type": "markdown",
   "id": "66f77e16-e174-4691-b869-1b1670d45241",
   "metadata": {},
   "source": [
    "## Check the fitting object (diffpy.pdfgui.control.fitting.Fitting) in the ddp project file"
   ]
  },
  {
   "cell_type": "code",
   "execution_count": 5,
   "id": "47bc1292-1ec9-4061-acb4-63b2bf47b025",
   "metadata": {},
   "outputs": [
    {
     "data": {
      "text/plain": [
       "'Fit 3 _0D_s20'"
      ]
     },
     "execution_count": 5,
     "metadata": {},
     "output_type": "execute_result"
    }
   ],
   "source": [
    "fit_demo = ddp.getFits()[21]\n",
    "fit_demo.name"
   ]
  },
  {
   "cell_type": "code",
   "execution_count": 6,
   "id": "899c948b-9b67-40ae-af2d-c6057554b5bd",
   "metadata": {},
   "outputs": [
    {
     "data": {
      "text/plain": [
       "<diffpy.pdfgui.control.pdfguicontrol.PDFGuiControl at 0x1087bbb60>"
      ]
     },
     "execution_count": 6,
     "metadata": {},
     "output_type": "execute_result"
    }
   ],
   "source": [
    "fit_demo.owner"
   ]
  },
  {
   "cell_type": "code",
   "execution_count": 7,
   "id": "77597e5a-03ed-4bc9-a85b-266a894700f1",
   "metadata": {},
   "outputs": [],
   "source": [
    "fit_demo.name = 'Fit 3 _0D_s20 demo'"
   ]
  },
  {
   "cell_type": "code",
   "execution_count": 8,
   "id": "177435b0-4831-4f98-af87-086418bc434f",
   "metadata": {},
   "outputs": [
    {
     "data": {
      "text/plain": [
       "'Fit 3 _0D_s20 demo'"
      ]
     },
     "execution_count": 8,
     "metadata": {},
     "output_type": "execute_result"
    }
   ],
   "source": [
    "fit_demo.name"
   ]
  },
  {
   "cell_type": "markdown",
   "id": "1398a8da-ba9d-4f75-8398-76bca71a946b",
   "metadata": {},
   "source": [
    "## Create an object of PDFGuiControl which holds all the data GUI needs to access or change"
   ]
  },
  {
   "cell_type": "markdown",
   "id": "1f878305-6036-41d3-8b78-74467836fe8f",
   "metadata": {},
   "source": [
    "### the PDFGuiControl object will be saved as a ddp file in the end"
   ]
  },
  {
   "cell_type": "code",
   "execution_count": 9,
   "id": "961049e8-df5e-4ac9-aa2b-c529fb546c7a",
   "metadata": {},
   "outputs": [],
   "source": [
    "new_guicontrol = PDFGuiControl()"
   ]
  },
  {
   "cell_type": "code",
   "execution_count": null,
   "id": "ce4e64d1-db60-4dbf-a3ee-aa72ea6ba56d",
   "metadata": {},
   "outputs": [],
   "source": []
  },
  {
   "cell_type": "markdown",
   "id": "cb8c9305-ee73-46a0-a212-dce08f6a80ec",
   "metadata": {},
   "source": [
    "## Copy the Fitting object from ddp to the new PDFGuiControl"
   ]
  },
  {
   "cell_type": "code",
   "execution_count": 10,
   "id": "2566de4a-952d-4a00-a675-dcf9aa5472d5",
   "metadata": {},
   "outputs": [
    {
     "data": {
      "text/plain": [
       "<diffpy.pdfgui.control.fitting.Fitting at 0x11c9db350>"
      ]
     },
     "execution_count": 10,
     "metadata": {},
     "output_type": "execute_result"
    }
   ],
   "source": [
    "new_guicontrol.add(fit_demo.copy())"
   ]
  },
  {
   "cell_type": "code",
   "execution_count": 11,
   "id": "abc6cfec-e5db-4f2a-ae2e-fe408c659752",
   "metadata": {},
   "outputs": [],
   "source": [
    "# dir(new_guicontrol)"
   ]
  },
  {
   "cell_type": "code",
   "execution_count": null,
   "id": "7233bf5d-391e-4359-b989-a9aa0dcae92f",
   "metadata": {},
   "outputs": [],
   "source": []
  },
  {
   "cell_type": "markdown",
   "id": "1a28184c-a373-4006-a4ad-331fba8526a0",
   "metadata": {},
   "source": [
    "## Using PDFGuiControl.fits to check the added Fitting object in the the new PDFGuiControl"
   ]
  },
  {
   "cell_type": "code",
   "execution_count": 12,
   "id": "9dbfaca1-0ef3-486d-8746-f56f9c89898b",
   "metadata": {},
   "outputs": [
    {
     "data": {
      "text/plain": [
       "[<diffpy.pdfgui.control.fitting.Fitting at 0x11c9db350>]"
      ]
     },
     "execution_count": 12,
     "metadata": {},
     "output_type": "execute_result"
    }
   ],
   "source": [
    "new_guicontrol.fits"
   ]
  },
  {
   "cell_type": "code",
   "execution_count": null,
   "id": "0bd91a0e-c094-4d5c-af94-ac43f1a61a84",
   "metadata": {},
   "outputs": [],
   "source": []
  },
  {
   "cell_type": "markdown",
   "id": "24102db6-6700-4ebf-9179-3f6b27687bf9",
   "metadata": {},
   "source": [
    "## Find the gr data list and sort it"
   ]
  },
  {
   "cell_type": "code",
   "execution_count": 13,
   "id": "30c06d01-7c8f-425f-8fd9-6d848b9bc239",
   "metadata": {},
   "outputs": [],
   "source": [
    "# subpath = '/Users/cheng-hunglin/Documents/Data_LDRD'\n",
    "subpath = '/Users/cheng-hunglin/Documents/Data_LDRD/Ghose_316490_d49d3e59/iqgr/bkg_day4/gr_updated'\n",
    "gr_dir = os.path.join(subpath)\n",
    "gr_list = glob.glob(gr_dir + '/*.gr')\n",
    "gr_list.sort()"
   ]
  },
  {
   "cell_type": "code",
   "execution_count": 14,
   "id": "cb494b99-38e7-492d-bd97-cb028dc9e1b2",
   "metadata": {},
   "outputs": [],
   "source": [
    "gr_serial = gr_list[:]\n",
    "# gr_serial"
   ]
  },
  {
   "cell_type": "code",
   "execution_count": null,
   "id": "0d406ea5-2eee-4646-985f-eb3b3e0a51c9",
   "metadata": {},
   "outputs": [],
   "source": []
  },
  {
   "cell_type": "markdown",
   "id": "2fd629df-d8f6-42ba-99d1-3b24b352ec40",
   "metadata": {},
   "source": [
    "## Define fitrmax, fitrmin, qdamp, qbroad from the copied Fitting object, e.g., fit_demo.copy()"
   ]
  },
  {
   "cell_type": "code",
   "execution_count": 15,
   "id": "5f61f42b-9b56-4358-b909-b45a7df29044",
   "metadata": {},
   "outputs": [],
   "source": [
    "fitrmax = new_guicontrol.fits[0].datasets[0].fitrmax\n",
    "fitrmin = new_guicontrol.fits[0].datasets[0].fitrmin\n",
    "qdamp = new_guicontrol.fits[0].datasets[0].qdamp\n",
    "qbroad = new_guicontrol.fits[0].datasets[0].qbroad\n",
    "# new_guicontrol.fits[0].datasets[1].constraints.update(new_guicontrol.fits[0].datasets[0].constraints)"
   ]
  },
  {
   "cell_type": "code",
   "execution_count": null,
   "id": "d1944c8c-6371-4124-9676-8300c4520a7f",
   "metadata": {},
   "outputs": [],
   "source": []
  },
  {
   "cell_type": "markdown",
   "id": "8d9f702d-eb99-4e74-9f38-87e00c185901",
   "metadata": {},
   "source": [
    "## Check fitting parameters"
   ]
  },
  {
   "cell_type": "code",
   "execution_count": 16,
   "id": "ed9fac6e-5c4e-44d8-98c4-c6d0c882026c",
   "metadata": {},
   "outputs": [
    {
     "data": {
      "text/plain": [
       "{1: <diffpy.pdfgui.control.parameter.Parameter at 0x11c9cb950>,\n",
       " 2: <diffpy.pdfgui.control.parameter.Parameter at 0x11c9cb9d0>,\n",
       " 3: <diffpy.pdfgui.control.parameter.Parameter at 0x11c9cbb50>,\n",
       " 100: <diffpy.pdfgui.control.parameter.Parameter at 0x11c9cbad0>,\n",
       " 101: <diffpy.pdfgui.control.parameter.Parameter at 0x11c9cb3d0>,\n",
       " 6: <diffpy.pdfgui.control.parameter.Parameter at 0x11caa81d0>,\n",
       " 40: <diffpy.pdfgui.control.parameter.Parameter at 0x11caa8250>,\n",
       " 41: <diffpy.pdfgui.control.parameter.Parameter at 0x11caa80d0>,\n",
       " 202: <diffpy.pdfgui.control.parameter.Parameter at 0x11caa83d0>,\n",
       " 43: <diffpy.pdfgui.control.parameter.Parameter at 0x11caa8150>,\n",
       " 300: <diffpy.pdfgui.control.parameter.Parameter at 0x11caa8350>,\n",
       " 200: <diffpy.pdfgui.control.parameter.Parameter at 0x11caa8050>,\n",
       " 50: <diffpy.pdfgui.control.parameter.Parameter at 0x11caa8550>,\n",
       " 51: <diffpy.pdfgui.control.parameter.Parameter at 0x11caa85d0>,\n",
       " 201: <diffpy.pdfgui.control.parameter.Parameter at 0x11caa8650>,\n",
       " 4: <diffpy.pdfgui.control.parameter.Parameter at 0x11caa8450>,\n",
       " 60: <diffpy.pdfgui.control.parameter.Parameter at 0x11caa8750>,\n",
       " 61: <diffpy.pdfgui.control.parameter.Parameter at 0x11caa86d0>,\n",
       " 62: <diffpy.pdfgui.control.parameter.Parameter at 0x11caa84d0>,\n",
       " 5: <diffpy.pdfgui.control.parameter.Parameter at 0x11caa88d0>}"
      ]
     },
     "execution_count": 16,
     "metadata": {},
     "output_type": "execute_result"
    }
   ],
   "source": [
    "new_guicontrol.fits[0].parameters"
   ]
  },
  {
   "cell_type": "code",
   "execution_count": 17,
   "id": "1f05629e-375b-45e7-8a52-f4b32276310e",
   "metadata": {},
   "outputs": [
    {
     "data": {
      "text/plain": [
       "False"
      ]
     },
     "execution_count": 17,
     "metadata": {},
     "output_type": "execute_result"
    }
   ],
   "source": [
    "new_guicontrol.fits[0].parameters[1].fixed"
   ]
  },
  {
   "cell_type": "code",
   "execution_count": 18,
   "id": "ce3881e3-7bbb-47a0-bdb4-11b4b0106298",
   "metadata": {},
   "outputs": [],
   "source": [
    "# new_guicontrol.fits[0].parameters[1].fixed = True"
   ]
  },
  {
   "cell_type": "code",
   "execution_count": 19,
   "id": "85c1e896-aec3-492e-b021-b1c1e07377bf",
   "metadata": {},
   "outputs": [],
   "source": [
    "# new_guicontrol.fits[0].parameters[1].fixed"
   ]
  },
  {
   "cell_type": "code",
   "execution_count": null,
   "id": "bb09b611-9c91-4dec-9990-843b91a91b40",
   "metadata": {},
   "outputs": [],
   "source": []
  },
  {
   "cell_type": "code",
   "execution_count": null,
   "id": "a0ccf99c-efd2-4945-b4e5-adc1b40710cf",
   "metadata": {},
   "outputs": [],
   "source": []
  },
  {
   "cell_type": "markdown",
   "id": "332a50e8-f235-4a4d-a374-657d60184487",
   "metadata": {},
   "source": [
    "## Make the fitting tree in the new PDFGuiControl"
   ]
  },
  {
   "cell_type": "code",
   "execution_count": 20,
   "id": "56e5c1cb-c554-4c14-9b78-0a395c21e38c",
   "metadata": {},
   "outputs": [],
   "source": [
    "for i in range(len(gr_serial)):\n",
    "\n",
    "    ## Add new Fitting by copying the existed Fitting object\n",
    "    new_guicontrol.add(fit_demo.copy())\n",
    "\n",
    "    ## Rename the copied Fitting object\n",
    "    new_guicontrol.fits[i+1].name = f'Fit_s{i+1:02d}'\n",
    "\n",
    "    ## Load gr data from gr_serial to the newly copied Fitting object\n",
    "    new_guicontrol.loadDataset(new_guicontrol.fits[i+1], gr_serial[i])\n",
    "\n",
    "    ## Delete the old dataset in the newly copied Fitting object  \n",
    "    new_guicontrol.fits[i+1].datasets.__delitem__(0)\n",
    "\n",
    "    ## Update fitrmax, fitrmin, qdamp, qbroad in the loaded dataset\n",
    "    new_guicontrol.fits[i+1].datasets[0].fitrmax = 45 #fitrmax\n",
    "    new_guicontrol.fits[i+1].datasets[0].fitrmin = 2.4 #fitrmin\n",
    "    new_guicontrol.fits[i+1].datasets[0].qdamp = qdamp\n",
    "    new_guicontrol.fits[i+1].datasets[0].qbroad = qbroad\n",
    "\n",
    "    ## Update the constraints for the loaded dataset, mainly for dscale, qdamp, qbroad if constrained\n",
    "    new_guicontrol.fits[i+1].datasets[0].constraints.update(deepcopy(new_guicontrol.fits[0].datasets[0].constraints))\n",
    "\n",
    "    ## Equal the amount of scale factor\n",
    "    # num_struc = len(new_guicontrol.fits[0].strucs)\n",
    "    # for j in range(num_struc):\n",
    "    #     new_guicontrol.fits[i+1].strucs[j].setvar('pscale', 1/num_struc)\n",
    "    new_guicontrol.fits[i+1].parameters[100].setInitial(0.33)  #0.615)\n",
    "    new_guicontrol.fits[i+1].parameters[101].setInitial(0.33)  #0.615)\n",
    "    \n",
    "    new_guicontrol.fits[i+1].parameters[300].setInitial(0.5)\n"
   ]
  },
  {
   "cell_type": "code",
   "execution_count": 21,
   "id": "9bd278a6-9970-42e2-bdb6-011659d9a5c5",
   "metadata": {},
   "outputs": [
    {
     "data": {
      "text/plain": [
       "34"
      ]
     },
     "execution_count": 21,
     "metadata": {},
     "output_type": "execute_result"
    }
   ],
   "source": [
    "len(new_guicontrol.fits)"
   ]
  },
  {
   "cell_type": "code",
   "execution_count": 22,
   "id": "52e9cb81-7362-4f5c-ac40-bd0f5641f19c",
   "metadata": {},
   "outputs": [
    {
     "data": {
      "text/plain": [
       "1.0"
      ]
     },
     "execution_count": 22,
     "metadata": {},
     "output_type": "execute_result"
    }
   ],
   "source": [
    "new_guicontrol.fits[i+1].strucs[1].getvar('pscal')"
   ]
  },
  {
   "cell_type": "code",
   "execution_count": 23,
   "id": "0a6d0214-3623-4900-9c10-1f2d43b6395e",
   "metadata": {},
   "outputs": [
    {
     "data": {
      "text/plain": [
       "0.33"
      ]
     },
     "execution_count": 23,
     "metadata": {},
     "output_type": "execute_result"
    }
   ],
   "source": [
    "new_guicontrol.fits[i+1].parameters[100].initialValue()"
   ]
  },
  {
   "cell_type": "code",
   "execution_count": null,
   "id": "ba1278ae-b352-41f6-b4e6-181140d560e2",
   "metadata": {},
   "outputs": [],
   "source": []
  },
  {
   "cell_type": "code",
   "execution_count": 24,
   "id": "381b064d-d3a2-4b25-b954-c26e3b8200c7",
   "metadata": {},
   "outputs": [
    {
     "data": {
      "text/plain": [
       "{'dscale': <diffpy.pdfgui.control.constraint.Constraint at 0x3176f8b90>}"
      ]
     },
     "execution_count": 24,
     "metadata": {},
     "output_type": "execute_result"
    }
   ],
   "source": [
    "new_guicontrol.fits[1].datasets[0].constraints"
   ]
  },
  {
   "cell_type": "code",
   "execution_count": 25,
   "id": "9914a983-afa8-48d2-99fe-13364ca4f892",
   "metadata": {},
   "outputs": [
    {
     "data": {
      "text/plain": [
       "34"
      ]
     },
     "execution_count": 25,
     "metadata": {},
     "output_type": "execute_result"
    }
   ],
   "source": [
    "len(new_guicontrol.fits)"
   ]
  },
  {
   "cell_type": "code",
   "execution_count": null,
   "id": "f73b1a00-9727-4880-8bdc-85c86d83a1df",
   "metadata": {},
   "outputs": [],
   "source": []
  },
  {
   "cell_type": "markdown",
   "id": "528abd9c-8088-4add-b4fb-60c315cac9cc",
   "metadata": {},
   "source": [
    "## Run all the fitting in the new PDFGuiControl"
   ]
  },
  {
   "cell_type": "markdown",
   "id": "5c9dd260-aa6c-4fcd-a9d3-9313244c9da9",
   "metadata": {},
   "source": [
    "## First fitting - Refine scales and lattice parameters"
   ]
  },
  {
   "cell_type": "code",
   "execution_count": 26,
   "id": "aa465bdd-8ead-483a-a76a-a8383128411f",
   "metadata": {},
   "outputs": [],
   "source": [
    "## Fitting parameters of lattice parameter in a list\n",
    "lat_par_list = [1 ,2 ,3, 4, 5, 6]"
   ]
  },
  {
   "cell_type": "code",
   "execution_count": 27,
   "id": "f970e35a-35e2-4885-9839-22b8c296ce6d",
   "metadata": {},
   "outputs": [
    {
     "name": "stdout",
     "output_type": "stream",
     "text": [
      "i = 33\n",
      "\n",
      "Data Cs_120_Br_090_Pb_025_OLA_005 fitting is on going\n",
      "\n",
      "\n",
      "******************************************************************************\n",
      "*                      P D F F I T   Version   1.5.1                         *\n",
      "*                                              2025-02-07                    *\n",
      "* -------------------------------------------------------------------------- *\n",
      "* (c) 1998-2007 Trustees of the Michigan State University.                   *\n",
      "* (c) 2008-2025 Trustees of the Columbia University                          *\n",
      "*               in the city of New York.                                     *\n",
      "*                                                                            *\n",
      "* Authors:                                                                   *\n",
      "*     Thomas Proffen        -   Email: tproffen@lanl.gov                     *\n",
      "*     Jacques Bloch         -   Email: bloch@pa.msu.edu                      *\n",
      "*     Christopher Farrow    -   Email: clf2121@columbia.edu                  *\n",
      "*     Pavol Juhas           -   Email: pjuhas@bnl.gov                        *\n",
      "*     Simon Billinge        -   Email: sb2896@columbia.edu                   *\n",
      "******************************************************************************\n",
      "\n",
      "\n",
      "=========================================================================\n",
      "\n",
      " Structure file format  : PDFFIT\n",
      " Phase number           : 1\n",
      " Phase title            : UNNAMED\n",
      "\n",
      " Lattice parameters     : 4.28963             4.28963             4.28963\n",
      "           & angles     : 90                  90                  90\n",
      " Unit cell volume       : 78.9332\n",
      " Number density         : 0.0253379\n",
      " Metric tensor          : 18.4009             0                   0\n",
      "                          0                   18.4009             0\n",
      "                          0                   0                   18.4009\n",
      "\n",
      " Recip. lat. parameters : 0.23312             0.23312             0.23312\n",
      "               & angles : 90                  90                  90\n",
      " Recip. unit cell vol.  : 0.0126689\n",
      " Recip. metric tensor   : 0.0543451           0                   0\n",
      "                          0                   0.0543451           0\n",
      "                          0                   0                   0.0543451\n",
      "\n",
      " Structure file format  : PDFFIT\n",
      " Phase number           : 2\n",
      " Phase title            : UNNAMED\n",
      "\n",
      " Lattice parameters     : 13.7316             13.7316             17.241\n",
      "           & angles     : 90                  90                  120\n",
      " Unit cell volume       : 2815.37\n",
      " Number density         : 0.0234428\n",
      " Metric tensor          : 188.557             -94.2784            0\n",
      "                          -94.2784            188.557             0\n",
      "                          0                   0                   297.252\n",
      "\n",
      " Recip. lat. parameters : 0.0840907           0.0840907           0.0580013\n",
      "               & angles : 90                  90                  60\n",
      " Recip. unit cell vol.  : 0.000355193\n",
      " Recip. metric tensor   : 0.00707125          0.00353563          0\n",
      "                          0.00353563          0.00707125          0\n",
      "                          0                   0                   0.00336415\n",
      "\n",
      " Structure file format  : PDFFIT\n",
      " Phase number           : 3\n",
      " Phase title            : UNNAMED\n",
      "\n",
      " Lattice parameters     : 8.42534             12.0113             8.37037\n",
      "           & angles     : 90                  90                  90\n",
      " Unit cell volume       : 847.074\n",
      " Number density         : 0.0236107\n",
      " Metric tensor          : 70.9863             0                   0\n",
      "                          0                   144.271             0\n",
      "                          0                   0                   70.063\n",
      "\n",
      " Recip. lat. parameters : 0.11869             0.083255            0.119469\n",
      "               & angles : 90                  90                  90\n",
      " Recip. unit cell vol.  : 0.00118053\n",
      " Recip. metric tensor   : 0.0140872           0                   0\n",
      "                          0                   0.00693139          0\n",
      "                          0                   0                   0.0142729\n",
      "\n",
      " Reading 4 columns ...\n",
      " Read PDF data set 1  (r = 2.39 to 45 A, 4262 points) ...\n",
      " ****WARN****\n",
      " Uncertainties on G(r) were absent or unreadable in your input\n",
      " data.  The program reset these uncertainties to unity.  This\n",
      " does not affect at all the refined parameter values.  However,\n",
      " the values of the estimated uncertainties on these refined\n",
      " parameter values are not reliable.\n",
      " ****WARN****\n",
      "\n",
      "*******************\n",
      "Starting refinement\n",
      "*******************\n",
      " Dataset: 1   Phase: 1  2  3  \n",
      "\n",
      "******************************** ITER: 0 ********************************\n",
      "\n",
      " Refinement parameters :\n",
      "   1: 13.734565     2: 17.253435     3:  4.302250     4:  8.180355\n",
      "   5: 11.841296     6:  8.322205   100:  0.330000   101:  0.330000\n",
      " 300:  0.500000  \n",
      "\n",
      " chisq.: 202.576   red.chisq.: 0.0476312   Rw: 2.52489\n",
      "\n",
      "******************************** ITER: 1 ********************************\n",
      "\n",
      " Refinement parameters :\n",
      "   1: 13.742060     2: 17.312653     3:  4.302369     4:  8.177135\n",
      "   5: 11.848778     6:  8.323859   100:  0.556943   101:  0.221337\n",
      " 300:  0.218511  \n",
      "\n",
      " chisq.: 10.4552   red.chisq.: 0.00245831   Rw: 0.573609\n",
      "\n",
      "******************************** ITER: 2 ********************************\n",
      "\n",
      " Refinement parameters :\n",
      "   1: 13.742465     2: 17.308754     3:  4.302686     4:  8.166867\n",
      "   5: 11.874485     6:  8.327225   100:  0.851576   101:  0.080366\n",
      " 300:  0.218888  \n",
      "\n",
      " chisq.: 1.3292   red.chisq.: 0.000312532   Rw: 0.204524\n",
      "\n",
      "******************************** ITER: 3 ********************************\n",
      "\n",
      " Refinement parameters :\n",
      "   1: 13.741994     2: 17.310302     3:  4.303327     4:  8.136897\n",
      "   5: 11.945237     6:  8.338951   100:  0.849889   101:  0.080451\n",
      " 300:  0.219130  \n",
      "\n",
      " chisq.: 1.3234   red.chisq.: 0.00031117   Rw: 0.204078\n",
      "\n",
      "******************************** ITER: 4 ********************************\n",
      "\n",
      " Refinement parameters :\n",
      "   1: 13.741051     2: 17.311364     3:  4.303456     4:  8.115696\n",
      "   5: 11.977098     6:  8.353107   100:  0.846811   101:  0.080073\n",
      " 300:  0.219759  \n",
      "\n",
      " chisq.: 1.32148   red.chisq.: 0.000310717   Rw: 0.203929\n",
      "\n",
      "******************************** ITER: 5 ********************************\n",
      "\n",
      " Refinement parameters :\n",
      "   1: 13.740472     2: 17.311878     3:  4.303466     4:  8.101093\n",
      "   5: 11.989868     6:  8.366460   100:  0.845213   101:  0.079900\n",
      " 300:  0.220098  \n",
      "\n",
      " chisq.: 1.32062   red.chisq.: 0.000310514   Rw: 0.203863    stagnating\n",
      "\n",
      "******************************** ITER: 6 ********************************\n",
      "\n",
      " Refinement parameters :\n",
      "   1: 13.740112     2: 17.312107     3:  4.303462     4:  8.091858\n",
      "   5: 11.994999     6:  8.377765   100:  0.844362   101:  0.079810\n",
      " 300:  0.220283  \n",
      "\n",
      " chisq.: 1.32015   red.chisq.: 0.000310404   Rw: 0.203826    stagnating\n",
      "\n",
      "******************************** ITER: 7 ********************************\n",
      "\n",
      " Refinement parameters :\n",
      "   1: 13.739872     2: 17.312177     3:  4.303468     4:  8.086424\n",
      "   5: 11.996944     6:  8.386903   100:  0.843898   101:  0.079755\n",
      " 300:  0.220389  \n",
      "\n",
      " chisq.: 1.31987   red.chisq.: 0.000310339   Rw: 0.203805    stagnating\n",
      "\n",
      "================================ FINAL ==================================\n",
      "\n",
      " Refinement parameters :\n",
      "   1: 13.739872     2: 17.312177     3:  4.303468     4:  8.086424\n",
      "   5: 11.996944     6:  8.386903   100:  0.843898   101:  0.079755\n",
      " 300:  0.220389  \n",
      "\n",
      " chisq.: 1.31987   red.chisq.: 0.000310339   Rw: 0.203805\n",
      "\n",
      "\n",
      "Update refined results to initial for the current dataset\n",
      "\n",
      "\n",
      "\n"
     ]
    }
   ],
   "source": [
    "## The total # of Fitting object in the new PDFGuiControl will be len(gr_list) + 1\n",
    "## because of the first one is from the pre-defined ddp and has no modification \n",
    "# for i in range(2):\n",
    "# for i in tqdm(range(len(gr_serial)+1), desc =f'batch fitting with pdffit2'):\n",
    "failed_list = []\n",
    "for i in range(1, len(new_guicontrol.fits)):\n",
    "    \n",
    "    clear_output(wait=True)\n",
    "    \n",
    "    data_name = new_guicontrol.fits[i].datasets.keys()[0]\n",
    "    print(f'{i = }\\n')\n",
    "    print(f'Data {data_name[:28]} fitting is on going\\n')\n",
    "\n",
    "    ## Free lattice parameters for fitting\n",
    "    for k in lat_par_list:\n",
    "        # ddp_01.getFits()[i].parameters[k].fixed = False\n",
    "        new_guicontrol.fits[i].parameters[k].fixed = False \n",
    "    \n",
    "    try:\n",
    "        new_guicontrol.fits[i].run()\n",
    "\n",
    "        print('\\n')\n",
    "        print('Update refined results to initial for the current dataset\\n')\n",
    "        for key, item in new_guicontrol.fits[i].parameters.items():\n",
    "            refined = new_guicontrol.fits[i].getData(key)\n",
    "            new_guicontrol.fits[i].parameters[key].setInitial(refined)\n",
    "\n",
    "    except calculationError:\n",
    "        new_guicontrol.fits[i].stop()\n",
    "        failed_list.append(data_name)\n",
    "        print(f'Data {data_name[:28]} fitting fialed\\n')\n",
    "        \n",
    "        \n",
    "        tqdm_sleep_sec(30, message=f'fitting failed: {i = }, {data_name}')\n",
    "    \n",
    "    print('\\n')\n",
    "    time.sleep(3)\n"
   ]
  },
  {
   "cell_type": "code",
   "execution_count": 28,
   "id": "ccd35a39-e275-41be-8629-99cbd7780b21",
   "metadata": {},
   "outputs": [
    {
     "data": {
      "text/plain": [
       "33"
      ]
     },
     "execution_count": 28,
     "metadata": {},
     "output_type": "execute_result"
    }
   ],
   "source": [
    "i"
   ]
  },
  {
   "cell_type": "code",
   "execution_count": null,
   "id": "c75da291-ac40-4fdb-9451-f88c6c92f057",
   "metadata": {},
   "outputs": [],
   "source": []
  },
  {
   "cell_type": "markdown",
   "id": "2b34c6c1-82c7-49a5-a00d-2fadd28fd3c4",
   "metadata": {},
   "source": [
    "## Save the new PDFGuiControl as a ddp file"
   ]
  },
  {
   "cell_type": "code",
   "execution_count": 29,
   "id": "254da143-53b0-4d70-aa80-cd28ae493f3f",
   "metadata": {},
   "outputs": [],
   "source": [
    "subpath = '/Users/cheng-hunglin/Documents/Data_LDRD'\n",
    "fn01 = 'Cs_x-Pb_y-B_z_serial_bkg_day4_21.ddp'\n",
    "full_fn01 = os.path.join(subpath, fn01)\n",
    "\n",
    "new_guicontrol.save(projfile=full_fn01)"
   ]
  },
  {
   "cell_type": "code",
   "execution_count": null,
   "id": "389b6cfe-6ece-4148-8d19-67c1cd68f538",
   "metadata": {},
   "outputs": [],
   "source": []
  },
  {
   "cell_type": "markdown",
   "id": "278a4560-485c-43b9-8c8e-04b49497c480",
   "metadata": {},
   "source": [
    "## Plot rw for all fittins"
   ]
  },
  {
   "cell_type": "code",
   "execution_count": 30,
   "id": "693775c2-aa52-4986-afb4-30d1ee6df203",
   "metadata": {},
   "outputs": [],
   "source": [
    "rw_list = []\n",
    "for i in range(len(new_guicontrol.fits)):\n",
    "    rw = new_guicontrol.fits[i].getData('rw')\n",
    "    rw_list.append(rw)"
   ]
  },
  {
   "cell_type": "code",
   "execution_count": 31,
   "id": "9f5641d1-60a2-4993-ae5f-3cf6eab502d9",
   "metadata": {},
   "outputs": [
    {
     "data": {
      "text/plain": [
       "34"
      ]
     },
     "execution_count": 31,
     "metadata": {},
     "output_type": "execute_result"
    }
   ],
   "source": [
    "len(rw_list)"
   ]
  },
  {
   "cell_type": "code",
   "execution_count": 34,
   "id": "17a95851-89da-4296-a074-9070a9b94ff4",
   "metadata": {},
   "outputs": [],
   "source": [
    "idx = np.arange(0, 34, 1)"
   ]
  },
  {
   "cell_type": "code",
   "execution_count": 35,
   "id": "4ed2b70d-2bfe-4abc-8bc3-32579ebbdc4f",
   "metadata": {},
   "outputs": [
    {
     "data": {
      "text/plain": [
       "(34,)"
      ]
     },
     "execution_count": 35,
     "metadata": {},
     "output_type": "execute_result"
    }
   ],
   "source": [
    "idx.shape"
   ]
  },
  {
   "cell_type": "code",
   "execution_count": 37,
   "id": "0194876e-be24-477f-a483-197c45bedd1c",
   "metadata": {},
   "outputs": [
    {
     "data": {
      "text/plain": [
       "Text(0, 0.5, 'rw')"
      ]
     },
     "execution_count": 37,
     "metadata": {},
     "output_type": "execute_result"
    },
    {
     "data": {
      "application/vnd.jupyter.widget-view+json": {
       "model_id": "a2813441a2034914aa8983bb18258aa4",
       "version_major": 2,
       "version_minor": 0
      },
      "image/png": "[encoded data removed]",
      "text/html": [
       "\n",
       "            <div style=\"display: inline-block;\">\n",
       "                <div class=\"jupyter-widgets widget-label\" style=\"text-align: center;\">\n",
       "                    Figure\n",
       "                </div>\n",
       "                <img src='data:image/png;base64,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' width=1500.0/>\n",
       "            </div>\n",
       "        "
      ],
      "text/plain": [
       "Canvas(toolbar=Toolbar(toolitems=[('Home', 'Reset original view', 'home', 'home'), ('Back', 'Back to previous …"
      ]
     },
     "metadata": {},
     "output_type": "display_data"
    }
   ],
   "source": [
    "f = plt.figure(figsize=(15,5))\n",
    "ax = f.gca()\n",
    "ax.plot(idx, rw_list, 'o--')\n",
    "ax.set_ylabel('rw')"
   ]
  },
  {
   "cell_type": "code",
   "execution_count": null,
   "id": "3e33e8d5-7c36-4543-9e3c-26ae8926a68e",
   "metadata": {},
   "outputs": [],
   "source": []
  },
  {
   "cell_type": "code",
   "execution_count": null,
   "id": "fc9a94a8-ab43-4dd8-b006-ca9f80b46b7e",
   "metadata": {},
   "outputs": [],
   "source": []
  },
  {
   "cell_type": "markdown",
   "id": "ee8be3b8-fbff-4514-87f7-579c1b358d20",
   "metadata": {},
   "source": [
    "## 2nd fitting - Refine Debye–Waller factor (Anisotropic displacement parameter, ADP)"
   ]
  },
  {
   "cell_type": "code",
   "execution_count": 38,
   "id": "51ad6ccd-37c1-4ead-b4a9-0b4f33e41dd5",
   "metadata": {},
   "outputs": [
    {
     "data": {
      "text/plain": [
       "'/Users/cheng-hunglin/Documents/Data_LDRD/Cs_x-Pb_y-B_z_serial_bkg_day4_21.ddp'"
      ]
     },
     "execution_count": 38,
     "metadata": {},
     "output_type": "execute_result"
    }
   ],
   "source": [
    "full_fn01"
   ]
  },
  {
   "cell_type": "code",
   "execution_count": 39,
   "id": "4d47eebb-a6ab-4106-935b-46bf84a3c769",
   "metadata": {},
   "outputs": [],
   "source": [
    "# fn = '/Users/cheng-hunglin/Documents/Data_LDRD/Cs_x-Pb_y-B_z_serial_all6-1.ddp'\n",
    "ddp_01 = LoadProject(full_fn01)"
   ]
  },
  {
   "cell_type": "code",
   "execution_count": 40,
   "id": "b96c725f-ad2a-4a42-abcb-6efc818e8339",
   "metadata": {},
   "outputs": [
    {
     "data": {
      "text/plain": [
       "34"
      ]
     },
     "execution_count": 40,
     "metadata": {},
     "output_type": "execute_result"
    }
   ],
   "source": [
    "len(ddp_01.getFits())"
   ]
  },
  {
   "cell_type": "code",
   "execution_count": 41,
   "id": "07ca4861-8cc2-45bc-98dd-f4ae54738066",
   "metadata": {},
   "outputs": [
    {
     "data": {
      "text/plain": [
       "'Cs_060_Br_120_Pb_060_PF_020_Tol_1200_20250606-233737_992618_scattering-1_mean_q.gr'"
      ]
     },
     "execution_count": 41,
     "metadata": {},
     "output_type": "execute_result"
    }
   ],
   "source": [
    "ddp_01.getFits()[0].datasets.keys()[0]"
   ]
  },
  {
   "cell_type": "code",
   "execution_count": 42,
   "id": "1f507d2e-4bca-4163-be63-84e6608dc461",
   "metadata": {},
   "outputs": [],
   "source": [
    "ddp_01.getFits()[0].getData(1)"
   ]
  },
  {
   "cell_type": "code",
   "execution_count": 43,
   "id": "8e318fbb-4423-4fae-ba13-77d67ef69321",
   "metadata": {},
   "outputs": [],
   "source": [
    "# ddp_01.getFits()[0].parameters[1].fixed = False"
   ]
  },
  {
   "cell_type": "code",
   "execution_count": 44,
   "id": "fd13de5d-e1b5-479d-85a9-21d62fbef542",
   "metadata": {},
   "outputs": [],
   "source": [
    "## Fitting parameters of Debye–Waller factor in a list\n",
    "ADP_par_list = [40, 41, 43, 60, 61, 62]"
   ]
  },
  {
   "cell_type": "code",
   "execution_count": null,
   "id": "23dcf709-8dbd-470d-af73-a128692ee95c",
   "metadata": {},
   "outputs": [],
   "source": []
  },
  {
   "cell_type": "code",
   "execution_count": 45,
   "id": "2427ec44-0a70-49e5-a750-826fa731d373",
   "metadata": {},
   "outputs": [
    {
     "name": "stdout",
     "output_type": "stream",
     "text": [
      "i = 33\n",
      "\n",
      "Data Cs_120_Br_090_Pb_025_OLA_005 fitting is on going\n",
      "\n",
      "\n",
      "******************************************************************************\n",
      "*                      P D F F I T   Version   1.5.1                         *\n",
      "*                                              2025-02-07                    *\n",
      "* -------------------------------------------------------------------------- *\n",
      "* (c) 1998-2007 Trustees of the Michigan State University.                   *\n",
      "* (c) 2008-2025 Trustees of the Columbia University                          *\n",
      "*               in the city of New York.                                     *\n",
      "*                                                                            *\n",
      "* Authors:                                                                   *\n",
      "*     Thomas Proffen        -   Email: tproffen@lanl.gov                     *\n",
      "*     Jacques Bloch         -   Email: bloch@pa.msu.edu                      *\n",
      "*     Christopher Farrow    -   Email: clf2121@columbia.edu                  *\n",
      "*     Pavol Juhas           -   Email: pjuhas@bnl.gov                        *\n",
      "*     Simon Billinge        -   Email: sb2896@columbia.edu                   *\n",
      "******************************************************************************\n",
      "\n",
      "\n",
      "=========================================================================\n",
      "\n",
      " Structure file format  : PDFFIT\n",
      " Phase number           : 1\n",
      " Phase title            : UNNAMED\n",
      "\n",
      " Lattice parameters     : 4.28963             4.28963             4.28963\n",
      "           & angles     : 90                  90                  90\n",
      " Unit cell volume       : 78.9332\n",
      " Number density         : 0.0253379\n",
      " Metric tensor          : 18.4009             0                   0\n",
      "                          0                   18.4009             0\n",
      "                          0                   0                   18.4009\n",
      "\n",
      " Recip. lat. parameters : 0.23312             0.23312             0.23312\n",
      "               & angles : 90                  90                  90\n",
      " Recip. unit cell vol.  : 0.0126689\n",
      " Recip. metric tensor   : 0.0543451           0                   0\n",
      "                          0                   0.0543451           0\n",
      "                          0                   0                   0.0543451\n",
      "\n",
      " Structure file format  : PDFFIT\n",
      " Phase number           : 2\n",
      " Phase title            : UNNAMED\n",
      "\n",
      " Lattice parameters     : 13.7316             13.7316             17.241\n",
      "           & angles     : 90                  90                  120\n",
      " Unit cell volume       : 2815.37\n",
      " Number density         : 0.0234428\n",
      " Metric tensor          : 188.557             -94.2784            0\n",
      "                          -94.2784            188.557             0\n",
      "                          0                   0                   297.252\n",
      "\n",
      " Recip. lat. parameters : 0.0840907           0.0840907           0.0580013\n",
      "               & angles : 90                  90                  60\n",
      " Recip. unit cell vol.  : 0.000355193\n",
      " Recip. metric tensor   : 0.00707125          0.00353563          0\n",
      "                          0.00353563          0.00707125          0\n",
      "                          0                   0                   0.00336415\n",
      "\n",
      " Structure file format  : PDFFIT\n",
      " Phase number           : 3\n",
      " Phase title            : UNNAMED\n",
      "\n",
      " Lattice parameters     : 8.42534             12.0113             8.37037\n",
      "           & angles     : 90                  90                  90\n",
      " Unit cell volume       : 847.074\n",
      " Number density         : 0.0236107\n",
      " Metric tensor          : 70.9863             0                   0\n",
      "                          0                   144.271             0\n",
      "                          0                   0                   70.063\n",
      "\n",
      " Recip. lat. parameters : 0.11869             0.083255            0.119469\n",
      "               & angles : 90                  90                  90\n",
      " Recip. unit cell vol.  : 0.00118053\n",
      " Recip. metric tensor   : 0.0140872           0                   0\n",
      "                          0                   0.00693139          0\n",
      "                          0                   0                   0.0142729\n",
      "\n",
      " Reading 4 columns ...\n",
      " Read PDF data set 1  (r = 2.39 to 45 A, 4262 points) ...\n",
      " ****WARN****\n",
      " Uncertainties on G(r) were absent or unreadable in your input\n",
      " data.  The program reset these uncertainties to unity.  This\n",
      " does not affect at all the refined parameter values.  However,\n",
      " the values of the estimated uncertainties on these refined\n",
      " parameter values are not reliable.\n",
      " ****WARN****\n",
      "\n",
      "*******************\n",
      "Starting refinement\n",
      "*******************\n",
      " Dataset: 1   Phase: 1  2  3  \n",
      "\n",
      "******************************** ITER: 0 ********************************\n",
      "\n",
      " Refinement parameters :\n",
      "   1: 13.739872     2: 17.312177     3:  4.303468     4:  8.086424\n",
      "   5: 11.996944     6:  8.386903    40:  0.023403    41:  0.046782\n",
      "  43:  0.047098    60:  0.080049    61:  0.030900    62:  0.039865\n",
      " 100:  0.843898   101:  0.079755   300:  0.220389  \n",
      "\n",
      " chisq.: 1.31987   red.chisq.: 0.000310778   Rw: 0.203805\n",
      "\n",
      "******************************** ITER: 1 ********************************\n",
      "\n",
      " Refinement parameters :\n",
      "   1: 13.741138     2: 17.311849     3:  4.304425     4:  8.114942\n",
      "   5: 11.983941     6:  8.404731    40:  0.024587    41:  0.048941\n",
      "  43:  0.047084    60:  0.059309    61:  0.107527    62:  0.016941\n",
      " 100:  0.823515   101:  0.075287   300:  0.229524  \n",
      "\n",
      " chisq.: 1.23568   red.chisq.: 0.000290953   Rw: 0.197198\n",
      "\n",
      "******************************** ITER: 2 ********************************\n",
      "\n",
      " Refinement parameters :\n",
      "   1: 13.739060     2: 17.315106     3:  4.304572     4:  8.133140\n",
      "   5: 12.067442     6:  8.393437    40:  0.023819    41:  0.049810\n",
      "  43:  0.046229    60:  0.090814    61:  0.207227    62:  0.035145\n",
      " 100:  0.788018   101:  0.067804   300:  0.240441  \n",
      "\n",
      " chisq.: 1.19103   red.chisq.: 0.00028044   Rw: 0.193602\n",
      "\n",
      "******************************** ITER: 3 ********************************\n",
      "\n",
      " Refinement parameters :\n",
      "   1: 13.736816     2: 17.319421     3:  4.303996     4:  8.133049\n",
      "   5: 12.197975     6:  8.392883    40:  0.023547    41:  0.048981\n",
      "  43:  0.045426    60:  0.159827    61:  0.287079    62:  0.069637\n",
      " 100:  0.724607   101:  0.061777   300:  0.257776  \n",
      "\n",
      " chisq.: 1.14943   red.chisq.: 0.000270645   Rw: 0.190191\n",
      "\n",
      "******************************** ITER: 4 ********************************\n",
      "\n",
      " Refinement parameters :\n",
      "   1: 13.737498     2: 17.321055     3:  4.303788     4:  8.089670\n",
      "   5: 12.259702     6:  8.468287    40:  0.023108    41:  0.047430\n",
      "  43:  0.045161    60:  0.249719    61:  0.352101    62:  0.111903\n",
      " 100:  0.641267   101:  0.055329   300:  0.284946  \n",
      "\n",
      " chisq.: 1.11923   red.chisq.: 0.000263535   Rw: 0.187677\n",
      "\n",
      "******************************** ITER: 5 ********************************\n",
      "\n",
      " Refinement parameters :\n",
      "   1: 13.738853     2: 17.318722     3:  4.303689     4:  8.024785\n",
      "   5: 12.296749     6:  8.558230    40:  0.022791    41:  0.046552\n",
      "  43:  0.045046    60:  0.299915    61:  0.399547    62:  0.104900\n",
      " 100:  0.590498   101:  0.051165   300:  0.307399  \n",
      "\n",
      " chisq.: 1.08616   red.chisq.: 0.000255748   Rw: 0.184883\n",
      "\n",
      "******************************** ITER: 6 ********************************\n",
      "\n",
      " Refinement parameters :\n",
      "   1: 13.740166     2: 17.314978     3:  4.303835     4:  7.969606\n",
      "   5: 12.332193     6:  8.628726    40:  0.022713    41:  0.045947\n",
      "  43:  0.044949    60:  0.343054    61:  0.418539    62:  0.106129\n",
      " 100:  0.560835   101:  0.049145   300:  0.322746  \n",
      "\n",
      " chisq.: 1.06593   red.chisq.: 0.000250983   Rw: 0.183153\n",
      "\n",
      "******************************** ITER: 7 ********************************\n",
      "\n",
      " Refinement parameters :\n",
      "   1: 13.740526     2: 17.312341     3:  4.304029     4:  7.921513\n",
      "   5: 12.357444     6:  8.687863    40:  0.022808    41:  0.045571\n",
      "  43:  0.044934    60:  0.366341    61:  0.421763    62:  0.097952\n",
      " 100:  0.552233   101:  0.048754   300:  0.327990  \n",
      "\n",
      " chisq.: 1.05144   red.chisq.: 0.000247574   Rw: 0.181904\n",
      "\n",
      "******************************** ITER: 8 ********************************\n",
      "\n",
      " Refinement parameters :\n",
      "   1: 13.740132     2: 17.310887     3:  4.304244     4:  7.876475\n",
      "   5: 12.373117     6:  8.745750    40:  0.023012    41:  0.045288\n",
      "  43:  0.044840    60:  0.387195    61:  0.414434    62:  0.089397\n",
      " 100:  0.552219   101:  0.048973   300:  0.328398  \n",
      "\n",
      " chisq.: 1.03829   red.chisq.: 0.000244476   Rw: 0.180763\n",
      "\n",
      "******************************** ITER: 9 ********************************\n",
      "\n",
      " Refinement parameters :\n",
      "   1: 13.739291     2: 17.310756     3:  4.304358     4:  7.836913\n",
      "   5: 12.383076     6:  8.806004    40:  0.023206    41:  0.045088\n",
      "  43:  0.044664    60:  0.403448    61:  0.404346    62:  0.081501\n",
      " 100:  0.555824   101:  0.049191   300:  0.326918  \n",
      "\n",
      " chisq.: 1.02569   red.chisq.: 0.000241508   Rw: 0.179662\n",
      "\n",
      "******************************** ITER: 10 ********************************\n",
      "\n",
      " Refinement parameters :\n",
      "   1: 13.738586     2: 17.311711     3:  4.304229     4:  7.806815\n",
      "   5: 12.391662     6:  8.867338    40:  0.023334    41:  0.044956\n",
      "  43:  0.044446    60:  0.419534    61:  0.396886    62:  0.077301\n",
      " 100:  0.557637   101:  0.048964   300:  0.326399  \n",
      "\n",
      " chisq.: 1.01345   red.chisq.: 0.000238627   Rw: 0.178587\n",
      "\n",
      "******************************** ITER: 11 ********************************\n",
      "\n",
      " Refinement parameters :\n",
      "   1: 13.738279     2: 17.313081     3:  4.303854     4:  7.784166\n",
      "   5: 12.403586     6:  8.930117    40:  0.023410    41:  0.044794\n",
      "  43:  0.044256    60:  0.436906    61:  0.395493    62:  0.075470\n",
      " 100:  0.556385   101:  0.048476   300:  0.327228  \n",
      "\n",
      " chisq.: 1.0011   red.chisq.: 0.00023572   Rw: 0.177496\n",
      "\n",
      "******************************** ITER: 12 ********************************\n",
      "\n",
      " Refinement parameters :\n",
      "   1: 13.738262     2: 17.314153     3:  4.303468     4:  7.766942\n",
      "   5: 12.418725     6:  8.987759    40:  0.023463    41:  0.044559\n",
      "  43:  0.044079    60:  0.456113    61:  0.399714    62:  0.073925\n",
      " 100:  0.553236   101:  0.048110   300:  0.328608  \n",
      "\n",
      " chisq.: 0.991458   red.chisq.: 0.000233449   Rw: 0.176639\n",
      "\n",
      "******************************** ITER: 13 ********************************\n",
      "\n",
      " Refinement parameters :\n",
      "   1: 13.738398     2: 17.314394     3:  4.303299     4:  7.756747\n",
      "   5: 12.433030     6:  9.026239    40:  0.023490    41:  0.044364\n",
      "  43:  0.043922    60:  0.472128    61:  0.405907    62:  0.072225\n",
      " 100:  0.550388   101:  0.047981   300:  0.329648  \n",
      "\n",
      " chisq.: 0.987203   red.chisq.: 0.000232447   Rw: 0.176259\n",
      "\n",
      "******************************** ITER: 14 ********************************\n",
      "\n",
      " Refinement parameters :\n",
      "   1: 13.738523     2: 17.314259     3:  4.303241     4:  7.753888\n",
      "   5: 12.443590     6:  9.042245    40:  0.023503    41:  0.044260\n",
      "  43:  0.043844    60:  0.481812    61:  0.410298    62:  0.071356\n",
      " 100:  0.548646   101:  0.047944   300:  0.330333  \n",
      "\n",
      " chisq.: 0.986252   red.chisq.: 0.000232223   Rw: 0.176175    stagnating\n",
      "\n",
      "******************************** ITER: 15 ********************************\n",
      "\n",
      " Refinement parameters :\n",
      "   1: 13.738592     2: 17.314188     3:  4.303203     4:  7.754276\n",
      "   5: 12.450048     6:  9.047222    40:  0.023509    41:  0.044209\n",
      "  43:  0.043827    60:  0.485684    61:  0.411891    62:  0.071073\n",
      " 100:  0.547981   101:  0.047949   300:  0.330606  \n",
      "\n",
      " chisq.: 0.986085   red.chisq.: 0.000232184   Rw: 0.17616    stagnating\n",
      "\n",
      "******************************** ITER: 16 ********************************\n",
      "\n",
      " Refinement parameters :\n",
      "   1: 13.738619     2: 17.314171     3:  4.303178     4:  7.755404\n",
      "   5: 12.453581     6:  9.048507    40:  0.023514    41:  0.044184\n",
      "  43:  0.043826    60:  0.487964    61:  0.412517    62:  0.070931\n",
      " 100:  0.547721   101:  0.047956   300:  0.330732  \n",
      "\n",
      " chisq.: 0.986036   red.chisq.: 0.000232172   Rw: 0.176155    stagnating\n",
      "\n",
      "================================ FINAL ==================================\n",
      "\n",
      " Refinement parameters :\n",
      "   1: 13.738619     2: 17.314171     3:  4.303178     4:  7.755404\n",
      "   5: 12.453581     6:  9.048507    40:  0.023514    41:  0.044184\n",
      "  43:  0.043826    60:  0.487964    61:  0.412517    62:  0.070931\n",
      " 100:  0.547721   101:  0.047956   300:  0.330732  \n",
      "\n",
      " chisq.: 0.986036   red.chisq.: 0.000232172   Rw: 0.176155\n",
      "\n",
      "\n",
      "Update refined results to initial for the current dataset\n",
      "\n",
      "\n",
      "\n"
     ]
    }
   ],
   "source": [
    "## The total # of Fitting object in the new PDFGuiControl will be len(gr_list) + 1\n",
    "## because of the first one is from the pre-defined ddp and has no modification \n",
    "# for i in range(2):\n",
    "# for i in tqdm(range(len(gr_serial)+1), desc =f'batch fitting with pdffit2'):\n",
    "failed_list = []\n",
    "for i in range(len(ddp_01.getFits())):\n",
    "    \n",
    "    clear_output(wait=True)\n",
    "    \n",
    "    data_name = ddp_01.getFits()[i].datasets.keys()[0]\n",
    "    print(f'{i = }\\n')\n",
    "    print(f'Data {data_name[:28]} fitting is on going\\n')\n",
    "\n",
    "    ## Free lattice parameters for fitting\n",
    "    for k in ADP_par_list:\n",
    "        ddp_01.getFits()[i].parameters[k].fixed = False\n",
    "        # new_guicontrol.fits[i+1].parameters[k].fixed = False    \n",
    "    \n",
    "    try:\n",
    "        ddp_01.getFits()[i].run()\n",
    "\n",
    "        print('\\n')\n",
    "        print('Update refined results to initial for the current dataset\\n')\n",
    "        for key, item in ddp_01.getFits()[i].parameters.items():\n",
    "            refined = ddp_01.getFits()[i].getData(key)\n",
    "            ddp_01.getFits()[i].parameters[key].setInitial(refined)\n",
    "\n",
    "    except calculationError:\n",
    "        ddp_01.getFits()[i].stop()\n",
    "        failed_list.append(data_name)\n",
    "        print(f'Data {data_name[:28]} fitting fialed\\n')\n",
    "\n",
    "        \n",
    "        tqdm_sleep_sec(30, message=f'fitting failed: {i = }, {data_name}')\n",
    "    \n",
    "    print('\\n')\n",
    "    time.sleep(3)\n"
   ]
  },
  {
   "cell_type": "code",
   "execution_count": 46,
   "id": "0b418003-1ead-4ddf-9665-42f5b7d801e2",
   "metadata": {},
   "outputs": [
    {
     "data": {
      "text/plain": [
       "33"
      ]
     },
     "execution_count": 46,
     "metadata": {},
     "output_type": "execute_result"
    }
   ],
   "source": [
    "i"
   ]
  },
  {
   "cell_type": "code",
   "execution_count": 47,
   "id": "c38174ee-8186-464d-b9ba-dc7a52acbadf",
   "metadata": {},
   "outputs": [],
   "source": [
    "# ddp_01.getFits()[i].stop()"
   ]
  },
  {
   "cell_type": "code",
   "execution_count": null,
   "id": "c5af8eb4-e263-47e7-b61e-0c43ae0e7544",
   "metadata": {},
   "outputs": [],
   "source": []
  },
  {
   "cell_type": "markdown",
   "id": "3aa104e5-34be-48ec-afe3-e061b00bc3bf",
   "metadata": {},
   "source": [
    "## Save the new PDFGuiControl as a ddp file"
   ]
  },
  {
   "cell_type": "code",
   "execution_count": 48,
   "id": "bf3a9f79-341a-4186-8851-e967100e6f05",
   "metadata": {},
   "outputs": [],
   "source": [
    "subpath = '/Users/cheng-hunglin/Documents/Data_LDRD'\n",
    "fn02 = 'Cs_x-Pb_y-B_z_serial_bkg_day4_22.ddp'\n",
    "full_fn02 = os.path.join(subpath, fn02)\n",
    "\n",
    "ddp_01.save(full_fn02)"
   ]
  },
  {
   "cell_type": "code",
   "execution_count": null,
   "id": "61fcd8ec-164c-4025-ae10-b48f8cc94a57",
   "metadata": {},
   "outputs": [],
   "source": []
  },
  {
   "cell_type": "markdown",
   "id": "77b1b281-15c8-4f9a-aeae-2643711df429",
   "metadata": {},
   "source": [
    "## Plot rw for all fittins"
   ]
  },
  {
   "cell_type": "code",
   "execution_count": 49,
   "id": "12cae788-dcfe-4afd-a573-ea039afa6b91",
   "metadata": {},
   "outputs": [],
   "source": [
    "rw_list = []\n",
    "for i in range(len(ddp_01.getFits())):\n",
    "    rw = ddp_01.getFits()[i].getData('rw')\n",
    "    rw_list.append(rw)"
   ]
  },
  {
   "cell_type": "code",
   "execution_count": 50,
   "id": "39ecc841-9347-44ea-a45a-67e31baa213f",
   "metadata": {},
   "outputs": [
    {
     "data": {
      "text/plain": [
       "34"
      ]
     },
     "execution_count": 50,
     "metadata": {},
     "output_type": "execute_result"
    }
   ],
   "source": [
    "len(rw_list)"
   ]
  },
  {
   "cell_type": "code",
   "execution_count": 51,
   "id": "4161b25a-3e8c-42a7-b03c-8e7f0efcaa9f",
   "metadata": {},
   "outputs": [],
   "source": [
    "idx = np.arange(0, 34, 1)"
   ]
  },
  {
   "cell_type": "code",
   "execution_count": 52,
   "id": "72d70e7b-1aec-44dd-907c-5c000e9833fa",
   "metadata": {},
   "outputs": [
    {
     "data": {
      "text/plain": [
       "(34,)"
      ]
     },
     "execution_count": 52,
     "metadata": {},
     "output_type": "execute_result"
    }
   ],
   "source": [
    "idx.shape"
   ]
  },
  {
   "cell_type": "code",
   "execution_count": 53,
   "id": "99ffbfdb-dae3-48a3-8716-a9974eb1bd7c",
   "metadata": {},
   "outputs": [
    {
     "data": {
      "text/plain": [
       "Text(0, 0.5, 'rw')"
      ]
     },
     "execution_count": 53,
     "metadata": {},
     "output_type": "execute_result"
    },
    {
     "data": {
      "application/vnd.jupyter.widget-view+json": {
       "model_id": "5d5dd6e1f55b4ac2a27d94cbe101e81a",
       "version_major": 2,
       "version_minor": 0
      },
      "image/png": "[encoded data removed]",
      "text/html": [
       "\n",
       "            <div style=\"display: inline-block;\">\n",
       "                <div class=\"jupyter-widgets widget-label\" style=\"text-align: center;\">\n",
       "                    Figure\n",
       "                </div>\n",
       "                <img src='data:image/png;base64,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' width=1500.0/>\n",
       "            </div>\n",
       "        "
      ],
      "text/plain": [
       "Canvas(toolbar=Toolbar(toolitems=[('Home', 'Reset original view', 'home', 'home'), ('Back', 'Back to previous …"
      ]
     },
     "metadata": {},
     "output_type": "display_data"
    }
   ],
   "source": [
    "f = plt.figure(figsize=(15,5))\n",
    "ax = f.gca()\n",
    "ax.plot(idx, rw_list, 'o--')\n",
    "ax.set_ylabel('rw')"
   ]
  },
  {
   "cell_type": "code",
   "execution_count": null,
   "id": "7f974681-4d6e-4ba7-a1fa-0840dbd72593",
   "metadata": {},
   "outputs": [],
   "source": []
  },
  {
   "cell_type": "markdown",
   "id": "e65ec03f-a16e-438f-b602-8b1eb412d5f3",
   "metadata": {},
   "source": []
  },
  {
   "cell_type": "markdown",
   "id": "513436f3-7276-408d-b21b-77d96596a160",
   "metadata": {},
   "source": [
    "## 3rd fitting - Refine atomic positions"
   ]
  },
  {
   "cell_type": "code",
   "execution_count": null,
   "id": "f1a3aadf-f408-46ac-a16f-f257b0f5c011",
   "metadata": {},
   "outputs": [],
   "source": [
    "full_fn02"
   ]
  },
  {
   "cell_type": "code",
   "execution_count": null,
   "id": "5ce48583-ae8b-4478-9413-55018b0095aa",
   "metadata": {},
   "outputs": [],
   "source": [
    "# fn = '/Users/cheng-hunglin/Documents/Data_LDRD/Cs_x-Pb_y-B_z_serial_all6-1.ddp'\n",
    "ddp_02 = LoadProject(full_fn02)"
   ]
  },
  {
   "cell_type": "code",
   "execution_count": null,
   "id": "c8c212eb-978b-410b-baef-aa7899e9ff80",
   "metadata": {},
   "outputs": [],
   "source": [
    "len(ddp_02.getFits())"
   ]
  },
  {
   "cell_type": "code",
   "execution_count": null,
   "id": "8be234f6-11fb-4c42-874c-37db2a5d18d6",
   "metadata": {},
   "outputs": [],
   "source": [
    "ddp_02.getFits()[0].datasets.keys()[0]"
   ]
  },
  {
   "cell_type": "code",
   "execution_count": null,
   "id": "f563abe8-4ed6-4f03-912e-9d1875a3f7de",
   "metadata": {},
   "outputs": [],
   "source": [
    "ddp_02.getFits()[0].getData(1)"
   ]
  },
  {
   "cell_type": "code",
   "execution_count": null,
   "id": "afa04a7e-cbe1-403d-96ef-553c09e6a2fe",
   "metadata": {},
   "outputs": [],
   "source": [
    "# ddp_02.getFits()[0].parameters[1].fixed = False"
   ]
  },
  {
   "cell_type": "code",
   "execution_count": null,
   "id": "c1ee571f-a5fe-40ed-8f92-6c1da4f75efc",
   "metadata": {},
   "outputs": [],
   "source": [
    "## Fitting parameters of atomic positions in a list\n",
    "xyz_par_list = []"
   ]
  },
  {
   "cell_type": "code",
   "execution_count": null,
   "id": "e915e3e1-087b-4840-bea0-3c7f7b662992",
   "metadata": {},
   "outputs": [],
   "source": [
    "failed_list = []\n",
    "for i in range(len(ddp_02.getFits())):\n",
    "    \n",
    "    clear_output(wait=True)\n",
    "    \n",
    "    data_name = ddp_02.getFits()[i].datasets.keys()[0]\n",
    "    print(f'{i = }\\n')\n",
    "    print(f'Data {data_name[:28]} fitting is on going\\n')\n",
    "\n",
    "    ## Free atomic positions for fitting\n",
    "    for k in xyz_par_list:\n",
    "        ddp_02.getFits()[i].parameters[k].fixed = False\n",
    "    \n",
    "    try:\n",
    "        ddp_02.getFits()[i].run()\n",
    "\n",
    "        print('\\n')\n",
    "        print('Update refined results to initial for the current dataset\\n')\n",
    "        for key, item in ddp_02.getFits()[i].parameters.items():\n",
    "            refined = ddp_02.getFits()[i].getData(key)\n",
    "            ddp_02.getFits()[i].parameters[key].setInitial(refined)\n",
    "        \n",
    "    except calculationError:\n",
    "        ddp_02.getFits()[i].stop()\n",
    "        failed_list.append(data_name)\n",
    "        print(f'Data {data_name[:28]} fitting fialed\\n')\n",
    "        \n",
    "        \n",
    "        tqdm_sleep_sec(30, message=f'fitting failed: {i = }, {data_name}')\n",
    "    \n",
    "    print('\\n')\n",
    "    time.sleep(3)"
   ]
  },
  {
   "cell_type": "code",
   "execution_count": null,
   "id": "96f4d5f6-9317-4758-94e9-0098c6f3ec07",
   "metadata": {},
   "outputs": [],
   "source": [
    "# ddp_02.getFits()[i].stop()"
   ]
  },
  {
   "cell_type": "code",
   "execution_count": null,
   "id": "d2339620-620f-4b44-8313-46a35a48e1d8",
   "metadata": {},
   "outputs": [],
   "source": [
    "subpath = '/Users/cheng-hunglin/Documents/Data_LDRD'\n",
    "fn03 = 'Cs_x-Pb_y-B_z_serial_bkg_10min_13.ddp'\n",
    "full_fn03 = os.path.join(subpath, fn03)\n",
    "\n",
    "ddp_02.save(full_fn03)"
   ]
  },
  {
   "cell_type": "code",
   "execution_count": null,
   "id": "aff1bf09-a924-4593-a56d-7d9d4a3da6a4",
   "metadata": {},
   "outputs": [],
   "source": [
    "failed_list"
   ]
  },
  {
   "cell_type": "code",
   "execution_count": null,
   "id": "ae1b050e-a83a-4d86-aabe-b2a9d8583753",
   "metadata": {},
   "outputs": [],
   "source": []
  }
 ],
 "metadata": {
  "kernelspec": {
   "display_name": "Python 3 (ipykernel)",
   "language": "python",
   "name": "python3"
  },
  "language_info": {
   "codemirror_mode": {
    "name": "ipython",
    "version": 3
   },
   "file_extension": ".py",
   "mimetype": "text/x-python",
   "name": "python",
   "nbconvert_exporter": "python",
   "pygments_lexer": "ipython3",
   "version": "3.13.5"
  }
 },
 "nbformat": 4,
 "nbformat_minor": 5
}
