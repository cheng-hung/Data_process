{
 "cells": [
  {
   "cell_type": "code",
   "execution_count": 1,
   "id": "691985d3-b22a-4415-87e1-c9bbc27d7433",
   "metadata": {},
   "outputs": [],
   "source": [
    "import os\n",
    "import glob\n",
    "import numpy as np\n",
    "import pandas as pd\n",
    "import matplotlib.pyplot as plt\n",
    "from copy import deepcopy\n",
    "from diffpy.pdfgui.tui import LoadProject\n",
    "from diffpy.pdfgui.control.pdfguicontrol import PDFGuiControl\n",
    "from diffpy.pdffit2.pdffit2 import calculationError\n",
    "\n",
    "from IPython.display import clear_output\n",
    "import time\n",
    "# from tqdm.auto import tqdm"
   ]
  },
  {
   "cell_type": "code",
   "execution_count": 2,
   "id": "69d0f7ae-3a44-49ed-8216-1698c3e33f39",
   "metadata": {},
   "outputs": [],
   "source": [
    "%matplotlib widget"
   ]
  },
  {
   "cell_type": "code",
   "execution_count": 3,
   "id": "4c102e19-54f9-421b-a225-74c46ce104eb",
   "metadata": {},
   "outputs": [],
   "source": [
    "def tqdm_sleep_sec(t, message='Sleep'):\n",
    "    import datetime\n",
    "    from tqdm import tqdm\n",
    "    now = datetime.datetime.now()\n",
    "    print(f'\\nSleep for a while: {t} seconds.')\n",
    "    print(f'Waiting starts at {now}')\n",
    "    for i in tqdm(range(0,100), desc=message):\n",
    "        time.sleep(t/100)"
   ]
  },
  {
   "cell_type": "code",
   "execution_count": null,
   "id": "6ee07dd4-4950-4ce4-bbd0-451f6e5e41b3",
   "metadata": {},
   "outputs": [],
   "source": []
  },
  {
   "cell_type": "markdown",
   "id": "00b33123-7f12-45e9-ac0a-becb43a1330e",
   "metadata": {},
   "source": [
    "## Load a pre-defined PDFGui project file (.ddp) using diffpy.pdfgui.tui.LoadProject"
   ]
  },
  {
   "cell_type": "code",
   "execution_count": 4,
   "id": "ec6a18c4-dde2-4cce-9c16-26e425d0b07c",
   "metadata": {},
   "outputs": [],
   "source": [
    "fn_dir = '/Users/cheng-hunglin/Documents/Data_LDRD'\n",
    "fn = os.path.join(fn_dir, 'Cs_x-Pb_y-B_z_serial_bkg_10min_11-1.ddp3')\n",
    "ddp = LoadProject(fn)"
   ]
  },
  {
   "cell_type": "code",
   "execution_count": null,
   "id": "6c545bb5-521f-46ad-940e-21f79a8a8728",
   "metadata": {},
   "outputs": [],
   "source": []
  },
  {
   "cell_type": "markdown",
   "id": "66f77e16-e174-4691-b869-1b1670d45241",
   "metadata": {},
   "source": [
    "## Check the fitting object (diffpy.pdfgui.control.fitting.Fitting) in the ddp project file"
   ]
  },
  {
   "cell_type": "code",
   "execution_count": 5,
   "id": "47bc1292-1ec9-4061-acb4-63b2bf47b025",
   "metadata": {},
   "outputs": [
    {
     "data": {
      "text/plain": [
       "'Fit 3 _0D_s20'"
      ]
     },
     "execution_count": 5,
     "metadata": {},
     "output_type": "execute_result"
    }
   ],
   "source": [
    "fit_demo = ddp.getFits()[21]\n",
    "fit_demo.name"
   ]
  },
  {
   "cell_type": "code",
   "execution_count": 6,
   "id": "899c948b-9b67-40ae-af2d-c6057554b5bd",
   "metadata": {},
   "outputs": [
    {
     "data": {
      "text/plain": [
       "<diffpy.pdfgui.control.pdfguicontrol.PDFGuiControl at 0x10733bb60>"
      ]
     },
     "execution_count": 6,
     "metadata": {},
     "output_type": "execute_result"
    }
   ],
   "source": [
    "fit_demo.owner"
   ]
  },
  {
   "cell_type": "code",
   "execution_count": 7,
   "id": "77597e5a-03ed-4bc9-a85b-266a894700f1",
   "metadata": {},
   "outputs": [],
   "source": [
    "fit_demo.name = 'Fit 3 _0D_s20 demo'"
   ]
  },
  {
   "cell_type": "code",
   "execution_count": 8,
   "id": "177435b0-4831-4f98-af87-086418bc434f",
   "metadata": {},
   "outputs": [
    {
     "data": {
      "text/plain": [
       "'Fit 3 _0D_s20 demo'"
      ]
     },
     "execution_count": 8,
     "metadata": {},
     "output_type": "execute_result"
    }
   ],
   "source": [
    "fit_demo.name"
   ]
  },
  {
   "cell_type": "markdown",
   "id": "1398a8da-ba9d-4f75-8398-76bca71a946b",
   "metadata": {},
   "source": [
    "## Create an object of PDFGuiControl which holds all the data GUI needs to access or change"
   ]
  },
  {
   "cell_type": "markdown",
   "id": "1f878305-6036-41d3-8b78-74467836fe8f",
   "metadata": {},
   "source": [
    "### the PDFGuiControl object will be saved as a ddp file in the end"
   ]
  },
  {
   "cell_type": "code",
   "execution_count": 9,
   "id": "961049e8-df5e-4ac9-aa2b-c529fb546c7a",
   "metadata": {},
   "outputs": [],
   "source": [
    "new_guicontrol = PDFGuiControl()"
   ]
  },
  {
   "cell_type": "code",
   "execution_count": null,
   "id": "ce4e64d1-db60-4dbf-a3ee-aa72ea6ba56d",
   "metadata": {},
   "outputs": [],
   "source": []
  },
  {
   "cell_type": "markdown",
   "id": "cb8c9305-ee73-46a0-a212-dce08f6a80ec",
   "metadata": {},
   "source": [
    "## Copy the Fitting object from ddp to the new PDFGuiControl"
   ]
  },
  {
   "cell_type": "code",
   "execution_count": 10,
   "id": "2566de4a-952d-4a00-a675-dcf9aa5472d5",
   "metadata": {},
   "outputs": [
    {
     "data": {
      "text/plain": [
       "<diffpy.pdfgui.control.fitting.Fitting at 0x13ebe3350>"
      ]
     },
     "execution_count": 10,
     "metadata": {},
     "output_type": "execute_result"
    }
   ],
   "source": [
    "new_guicontrol.add(fit_demo.copy())"
   ]
  },
  {
   "cell_type": "code",
   "execution_count": 11,
   "id": "abc6cfec-e5db-4f2a-ae2e-fe408c659752",
   "metadata": {},
   "outputs": [],
   "source": [
    "# dir(new_guicontrol)"
   ]
  },
  {
   "cell_type": "code",
   "execution_count": null,
   "id": "7233bf5d-391e-4359-b989-a9aa0dcae92f",
   "metadata": {},
   "outputs": [],
   "source": []
  },
  {
   "cell_type": "markdown",
   "id": "1a28184c-a373-4006-a4ad-331fba8526a0",
   "metadata": {},
   "source": [
    "## Using PDFGuiControl.fits to check the added Fitting object in the the new PDFGuiControl"
   ]
  },
  {
   "cell_type": "code",
   "execution_count": 12,
   "id": "9dbfaca1-0ef3-486d-8746-f56f9c89898b",
   "metadata": {},
   "outputs": [
    {
     "data": {
      "text/plain": [
       "[<diffpy.pdfgui.control.fitting.Fitting at 0x13ebe3350>]"
      ]
     },
     "execution_count": 12,
     "metadata": {},
     "output_type": "execute_result"
    }
   ],
   "source": [
    "new_guicontrol.fits"
   ]
  },
  {
   "cell_type": "code",
   "execution_count": null,
   "id": "0bd91a0e-c094-4d5c-af94-ac43f1a61a84",
   "metadata": {},
   "outputs": [],
   "source": []
  },
  {
   "cell_type": "markdown",
   "id": "24102db6-6700-4ebf-9179-3f6b27687bf9",
   "metadata": {},
   "source": [
    "## Find the gr data list and sort it"
   ]
  },
  {
   "cell_type": "code",
   "execution_count": 13,
   "id": "30c06d01-7c8f-425f-8fd9-6d848b9bc239",
   "metadata": {},
   "outputs": [],
   "source": [
    "# subpath = '/Users/cheng-hunglin/Documents/Data_LDRD'\n",
    "subpath = '/Users/cheng-hunglin/Documents/Data_LDRD/Ghose_316490_d49d3e59/iqgr/bkg_day3/gr_updated'\n",
    "gr_dir = os.path.join(subpath)\n",
    "gr_list = glob.glob(gr_dir + '/*.gr')\n",
    "gr_list.sort()"
   ]
  },
  {
   "cell_type": "code",
   "execution_count": 14,
   "id": "cb494b99-38e7-492d-bd97-cb028dc9e1b2",
   "metadata": {},
   "outputs": [],
   "source": [
    "gr_serial = gr_list[:]\n",
    "# gr_serial"
   ]
  },
  {
   "cell_type": "code",
   "execution_count": null,
   "id": "0d406ea5-2eee-4646-985f-eb3b3e0a51c9",
   "metadata": {},
   "outputs": [],
   "source": []
  },
  {
   "cell_type": "markdown",
   "id": "2fd629df-d8f6-42ba-99d1-3b24b352ec40",
   "metadata": {},
   "source": [
    "## Define fitrmax, fitrmin, qdamp, qbroad from the copied Fitting object, e.g., fit_demo.copy()"
   ]
  },
  {
   "cell_type": "code",
   "execution_count": 15,
   "id": "5f61f42b-9b56-4358-b909-b45a7df29044",
   "metadata": {},
   "outputs": [],
   "source": [
    "fitrmax = new_guicontrol.fits[0].datasets[0].fitrmax\n",
    "fitrmin = new_guicontrol.fits[0].datasets[0].fitrmin\n",
    "qdamp = new_guicontrol.fits[0].datasets[0].qdamp\n",
    "qbroad = new_guicontrol.fits[0].datasets[0].qbroad\n",
    "# new_guicontrol.fits[0].datasets[1].constraints.update(new_guicontrol.fits[0].datasets[0].constraints)"
   ]
  },
  {
   "cell_type": "code",
   "execution_count": null,
   "id": "d1944c8c-6371-4124-9676-8300c4520a7f",
   "metadata": {},
   "outputs": [],
   "source": []
  },
  {
   "cell_type": "markdown",
   "id": "8d9f702d-eb99-4e74-9f38-87e00c185901",
   "metadata": {},
   "source": [
    "## Check fitting parameters"
   ]
  },
  {
   "cell_type": "code",
   "execution_count": 16,
   "id": "ed9fac6e-5c4e-44d8-98c4-c6d0c882026c",
   "metadata": {},
   "outputs": [
    {
     "data": {
      "text/plain": [
       "{1: <diffpy.pdfgui.control.parameter.Parameter at 0x13ebd39d0>,\n",
       " 2: <diffpy.pdfgui.control.parameter.Parameter at 0x13ebd3b50>,\n",
       " 3: <diffpy.pdfgui.control.parameter.Parameter at 0x13ebd3ad0>,\n",
       " 100: <diffpy.pdfgui.control.parameter.Parameter at 0x13ebd33d0>,\n",
       " 101: <diffpy.pdfgui.control.parameter.Parameter at 0x13ed1c150>,\n",
       " 6: <diffpy.pdfgui.control.parameter.Parameter at 0x13ed1c250>,\n",
       " 40: <diffpy.pdfgui.control.parameter.Parameter at 0x13ed1c0d0>,\n",
       " 41: <diffpy.pdfgui.control.parameter.Parameter at 0x13ed1c3d0>,\n",
       " 202: <diffpy.pdfgui.control.parameter.Parameter at 0x13ed1c350>,\n",
       " 43: <diffpy.pdfgui.control.parameter.Parameter at 0x13ed1c1d0>,\n",
       " 300: <diffpy.pdfgui.control.parameter.Parameter at 0x13ed1c050>,\n",
       " 200: <diffpy.pdfgui.control.parameter.Parameter at 0x13ed1c450>,\n",
       " 50: <diffpy.pdfgui.control.parameter.Parameter at 0x13ed1c5d0>,\n",
       " 51: <diffpy.pdfgui.control.parameter.Parameter at 0x13ed1c650>,\n",
       " 201: <diffpy.pdfgui.control.parameter.Parameter at 0x13ed1c550>,\n",
       " 4: <diffpy.pdfgui.control.parameter.Parameter at 0x13ed1c750>,\n",
       " 60: <diffpy.pdfgui.control.parameter.Parameter at 0x13ed1c6d0>,\n",
       " 61: <diffpy.pdfgui.control.parameter.Parameter at 0x13ed1c4d0>,\n",
       " 62: <diffpy.pdfgui.control.parameter.Parameter at 0x13ed1c8d0>,\n",
       " 5: <diffpy.pdfgui.control.parameter.Parameter at 0x13ed1c950>}"
      ]
     },
     "execution_count": 16,
     "metadata": {},
     "output_type": "execute_result"
    }
   ],
   "source": [
    "new_guicontrol.fits[0].parameters"
   ]
  },
  {
   "cell_type": "code",
   "execution_count": 17,
   "id": "1f05629e-375b-45e7-8a52-f4b32276310e",
   "metadata": {},
   "outputs": [
    {
     "data": {
      "text/plain": [
       "False"
      ]
     },
     "execution_count": 17,
     "metadata": {},
     "output_type": "execute_result"
    }
   ],
   "source": [
    "new_guicontrol.fits[0].parameters[1].fixed"
   ]
  },
  {
   "cell_type": "code",
   "execution_count": 18,
   "id": "ce3881e3-7bbb-47a0-bdb4-11b4b0106298",
   "metadata": {},
   "outputs": [],
   "source": [
    "# new_guicontrol.fits[0].parameters[1].fixed = True"
   ]
  },
  {
   "cell_type": "code",
   "execution_count": 19,
   "id": "85c1e896-aec3-492e-b021-b1c1e07377bf",
   "metadata": {},
   "outputs": [],
   "source": [
    "# new_guicontrol.fits[0].parameters[1].fixed"
   ]
  },
  {
   "cell_type": "code",
   "execution_count": null,
   "id": "bb09b611-9c91-4dec-9990-843b91a91b40",
   "metadata": {},
   "outputs": [],
   "source": []
  },
  {
   "cell_type": "code",
   "execution_count": null,
   "id": "a0ccf99c-efd2-4945-b4e5-adc1b40710cf",
   "metadata": {},
   "outputs": [],
   "source": []
  },
  {
   "cell_type": "markdown",
   "id": "332a50e8-f235-4a4d-a374-657d60184487",
   "metadata": {},
   "source": [
    "## Make the fitting tree in the new PDFGuiControl"
   ]
  },
  {
   "cell_type": "code",
   "execution_count": 20,
   "id": "56e5c1cb-c554-4c14-9b78-0a395c21e38c",
   "metadata": {},
   "outputs": [],
   "source": [
    "for i in range(len(gr_serial)):\n",
    "\n",
    "    ## Add new Fitting by copying the existed Fitting object\n",
    "    new_guicontrol.add(fit_demo.copy())\n",
    "\n",
    "    ## Rename the copied Fitting object\n",
    "    new_guicontrol.fits[i+1].name = f'Fit_s{i+1:02d}'\n",
    "\n",
    "    ## Load gr data from gr_serial to the newly copied Fitting object\n",
    "    new_guicontrol.loadDataset(new_guicontrol.fits[i+1], gr_serial[i])\n",
    "\n",
    "    ## Delete the old dataset in the newly copied Fitting object  \n",
    "    new_guicontrol.fits[i+1].datasets.__delitem__(0)\n",
    "\n",
    "    ## Update fitrmax, fitrmin, qdamp, qbroad in the loaded dataset\n",
    "    new_guicontrol.fits[i+1].datasets[0].fitrmax = 45 #fitrmax\n",
    "    new_guicontrol.fits[i+1].datasets[0].fitrmin = 2.4 #fitrmin\n",
    "    new_guicontrol.fits[i+1].datasets[0].qdamp = qdamp\n",
    "    new_guicontrol.fits[i+1].datasets[0].qbroad = qbroad\n",
    "\n",
    "    ## Update the constraints for the loaded dataset, mainly for dscale, qdamp, qbroad if constrained\n",
    "    new_guicontrol.fits[i+1].datasets[0].constraints.update(deepcopy(new_guicontrol.fits[0].datasets[0].constraints))\n",
    "\n",
    "    ## Equal the amount of scale factor\n",
    "    # num_struc = len(new_guicontrol.fits[0].strucs)\n",
    "    # for j in range(num_struc):\n",
    "    #     new_guicontrol.fits[i+1].strucs[j].setvar('pscale', 1/num_struc)\n",
    "    new_guicontrol.fits[i+1].parameters[100].setInitial(0.33)  #0.615)\n",
    "    new_guicontrol.fits[i+1].parameters[101].setInitial(0.33)  #0.615)\n",
    "    \n",
    "    new_guicontrol.fits[i+1].parameters[300].setInitial(0.5)\n"
   ]
  },
  {
   "cell_type": "code",
   "execution_count": 21,
   "id": "9bd278a6-9970-42e2-bdb6-011659d9a5c5",
   "metadata": {},
   "outputs": [
    {
     "data": {
      "text/plain": [
       "23"
      ]
     },
     "execution_count": 21,
     "metadata": {},
     "output_type": "execute_result"
    }
   ],
   "source": [
    "len(new_guicontrol.fits)"
   ]
  },
  {
   "cell_type": "code",
   "execution_count": 22,
   "id": "52e9cb81-7362-4f5c-ac40-bd0f5641f19c",
   "metadata": {},
   "outputs": [
    {
     "data": {
      "text/plain": [
       "1.0"
      ]
     },
     "execution_count": 22,
     "metadata": {},
     "output_type": "execute_result"
    }
   ],
   "source": [
    "new_guicontrol.fits[i+1].strucs[1].getvar('pscal')"
   ]
  },
  {
   "cell_type": "code",
   "execution_count": 23,
   "id": "0a6d0214-3623-4900-9c10-1f2d43b6395e",
   "metadata": {},
   "outputs": [
    {
     "data": {
      "text/plain": [
       "0.33"
      ]
     },
     "execution_count": 23,
     "metadata": {},
     "output_type": "execute_result"
    }
   ],
   "source": [
    "new_guicontrol.fits[i+1].parameters[100].initialValue()"
   ]
  },
  {
   "cell_type": "code",
   "execution_count": null,
   "id": "ba1278ae-b352-41f6-b4e6-181140d560e2",
   "metadata": {},
   "outputs": [],
   "source": []
  },
  {
   "cell_type": "code",
   "execution_count": 24,
   "id": "381b064d-d3a2-4b25-b954-c26e3b8200c7",
   "metadata": {},
   "outputs": [
    {
     "data": {
      "text/plain": [
       "{'dscale': <diffpy.pdfgui.control.constraint.Constraint at 0x31671f290>}"
      ]
     },
     "execution_count": 24,
     "metadata": {},
     "output_type": "execute_result"
    }
   ],
   "source": [
    "new_guicontrol.fits[1].datasets[0].constraints"
   ]
  },
  {
   "cell_type": "code",
   "execution_count": 25,
   "id": "9914a983-afa8-48d2-99fe-13364ca4f892",
   "metadata": {},
   "outputs": [
    {
     "data": {
      "text/plain": [
       "23"
      ]
     },
     "execution_count": 25,
     "metadata": {},
     "output_type": "execute_result"
    }
   ],
   "source": [
    "len(new_guicontrol.fits)"
   ]
  },
  {
   "cell_type": "code",
   "execution_count": null,
   "id": "f73b1a00-9727-4880-8bdc-85c86d83a1df",
   "metadata": {},
   "outputs": [],
   "source": []
  },
  {
   "cell_type": "markdown",
   "id": "528abd9c-8088-4add-b4fb-60c315cac9cc",
   "metadata": {},
   "source": [
    "## Run all the fitting in the new PDFGuiControl"
   ]
  },
  {
   "cell_type": "markdown",
   "id": "5c9dd260-aa6c-4fcd-a9d3-9313244c9da9",
   "metadata": {},
   "source": [
    "## First fitting - Refine scales and lattice parameters"
   ]
  },
  {
   "cell_type": "code",
   "execution_count": 26,
   "id": "aa465bdd-8ead-483a-a76a-a8383128411f",
   "metadata": {},
   "outputs": [],
   "source": [
    "## Fitting parameters of lattice parameter in a list\n",
    "lat_par_list = [1 ,2 ,3, 4, 5, 6]"
   ]
  },
  {
   "cell_type": "code",
   "execution_count": 27,
   "id": "f970e35a-35e2-4885-9839-22b8c296ce6d",
   "metadata": {},
   "outputs": [
    {
     "name": "stdout",
     "output_type": "stream",
     "text": [
      "i = 22\n",
      "\n",
      "Data Cs_130_Br_050_Pb_044_OLA_014 fitting is on going\n",
      "\n",
      "\n",
      "******************************************************************************\n",
      "*                      P D F F I T   Version   1.5.1                         *\n",
      "*                                              2025-02-07                    *\n",
      "* -------------------------------------------------------------------------- *\n",
      "* (c) 1998-2007 Trustees of the Michigan State University.                   *\n",
      "* (c) 2008-2025 Trustees of the Columbia University                          *\n",
      "*               in the city of New York.                                     *\n",
      "*                                                                            *\n",
      "* Authors:                                                                   *\n",
      "*     Thomas Proffen        -   Email: tproffen@lanl.gov                     *\n",
      "*     Jacques Bloch         -   Email: bloch@pa.msu.edu                      *\n",
      "*     Christopher Farrow    -   Email: clf2121@columbia.edu                  *\n",
      "*     Pavol Juhas           -   Email: pjuhas@bnl.gov                        *\n",
      "*     Simon Billinge        -   Email: sb2896@columbia.edu                   *\n",
      "******************************************************************************\n",
      "\n",
      "\n",
      "=========================================================================\n",
      "\n",
      " Structure file format  : PDFFIT\n",
      " Phase number           : 1\n",
      " Phase title            : UNNAMED\n",
      "\n",
      " Lattice parameters     : 4.28963             4.28963             4.28963\n",
      "           & angles     : 90                  90                  90\n",
      " Unit cell volume       : 78.9332\n",
      " Number density         : 0.0253379\n",
      " Metric tensor          : 18.4009             0                   0\n",
      "                          0                   18.4009             0\n",
      "                          0                   0                   18.4009\n",
      "\n",
      " Recip. lat. parameters : 0.23312             0.23312             0.23312\n",
      "               & angles : 90                  90                  90\n",
      " Recip. unit cell vol.  : 0.0126689\n",
      " Recip. metric tensor   : 0.0543451           0                   0\n",
      "                          0                   0.0543451           0\n",
      "                          0                   0                   0.0543451\n",
      "\n",
      " Structure file format  : PDFFIT\n",
      " Phase number           : 2\n",
      " Phase title            : UNNAMED\n",
      "\n",
      " Lattice parameters     : 13.7316             13.7316             17.241\n",
      "           & angles     : 90                  90                  120\n",
      " Unit cell volume       : 2815.37\n",
      " Number density         : 0.0234428\n",
      " Metric tensor          : 188.557             -94.2784            0\n",
      "                          -94.2784            188.557             0\n",
      "                          0                   0                   297.252\n",
      "\n",
      " Recip. lat. parameters : 0.0840907           0.0840907           0.0580013\n",
      "               & angles : 90                  90                  60\n",
      " Recip. unit cell vol.  : 0.000355193\n",
      " Recip. metric tensor   : 0.00707125          0.00353563          0\n",
      "                          0.00353563          0.00707125          0\n",
      "                          0                   0                   0.00336415\n",
      "\n",
      " Structure file format  : PDFFIT\n",
      " Phase number           : 3\n",
      " Phase title            : UNNAMED\n",
      "\n",
      " Lattice parameters     : 8.42534             12.0113             8.37037\n",
      "           & angles     : 90                  90                  90\n",
      " Unit cell volume       : 847.074\n",
      " Number density         : 0.0236107\n",
      " Metric tensor          : 70.9863             0                   0\n",
      "                          0                   144.271             0\n",
      "                          0                   0                   70.063\n",
      "\n",
      " Recip. lat. parameters : 0.11869             0.083255            0.119469\n",
      "               & angles : 90                  90                  90\n",
      " Recip. unit cell vol.  : 0.00118053\n",
      " Recip. metric tensor   : 0.0140872           0                   0\n",
      "                          0                   0.00693139          0\n",
      "                          0                   0                   0.0142729\n",
      "\n",
      " Reading 4 columns ...\n",
      " Read PDF data set 1  (r = 2.39 to 45 A, 4262 points) ...\n",
      " ****WARN****\n",
      " Uncertainties on G(r) were absent or unreadable in your input\n",
      " data.  The program reset these uncertainties to unity.  This\n",
      " does not affect at all the refined parameter values.  However,\n",
      " the values of the estimated uncertainties on these refined\n",
      " parameter values are not reliable.\n",
      " ****WARN****\n",
      "\n",
      "*******************\n",
      "Starting refinement\n",
      "*******************\n",
      " Dataset: 1   Phase: 1  2  3  \n",
      "\n",
      "******************************** ITER: 0 ********************************\n",
      "\n",
      " Refinement parameters :\n",
      "   1: 13.734565     2: 17.253435     3:  4.302250     4:  8.180355\n",
      "   5: 11.841296     6:  8.322205   100:  0.330000   101:  0.330000\n",
      " 300:  0.500000  \n",
      "\n",
      " chisq.: 235.396   red.chisq.: 0.0553482   Rw: 5.17602\n",
      "\n",
      "******************************** ITER: 1 ********************************\n",
      "\n",
      " Refinement parameters :\n",
      "   1: 13.733066     2: 17.293516     3:  4.302834     4:  8.174111\n",
      "   5: 11.850678     6:  8.323921   100:  0.400493   101:  0.306297\n",
      " 300:  0.091074  \n",
      "\n",
      " chisq.: 3.03566   red.chisq.: 0.000713769   Rw: 0.587791\n",
      "\n",
      "******************************** ITER: 2 ********************************\n",
      "\n",
      " Refinement parameters :\n",
      "   1: 13.730579     2: 17.427108     3:  4.305877     4:  8.134319\n",
      "   5: 11.912631     6:  8.330695   100:  0.717987   101:  0.200586\n",
      " 300:  0.090670  \n",
      "\n",
      " chisq.: 1.7294   red.chisq.: 0.000406629   Rw: 0.443653\n",
      "\n",
      "******************************** ITER: 3 ********************************\n",
      "\n",
      " Refinement parameters :\n",
      "   1: 13.728035     2: 17.425105     3:  4.307614     4:  7.923130\n",
      "   5: 12.221174     6:  8.321669   100:  0.708037   101:  0.194610\n",
      " 300:  0.092988  \n",
      "\n",
      " chisq.: 1.70274   red.chisq.: 0.000400362   Rw: 0.440221\n",
      "\n",
      "******************************** ITER: 4 ********************************\n",
      "\n",
      " Refinement parameters :\n",
      "   1: 13.728464     2: 17.425627     3:  4.307038     4:  7.969125\n",
      "   5: 12.284750     6:  8.331697   100:  0.698001   101:  0.190465\n",
      " 300:  0.094677  \n",
      "\n",
      " chisq.: 1.69605   red.chisq.: 0.000398789   Rw: 0.439356\n",
      "\n",
      "******************************** ITER: 5 ********************************\n",
      "\n",
      " Refinement parameters :\n",
      "   1: 13.728237     2: 17.418739     3:  4.307312     4:  8.004233\n",
      "   5: 12.246095     6:  8.379568   100:  0.693383   101:  0.190860\n",
      " 300:  0.094725  \n",
      "\n",
      " chisq.: 1.69023   red.chisq.: 0.000397421   Rw: 0.438601\n",
      "\n",
      "******************************** ITER: 6 ********************************\n",
      "\n",
      " Refinement parameters :\n",
      "   1: 13.726457     2: 17.408199     3:  4.307606     4:  7.986762\n",
      "   5: 12.265001     6:  8.474935   100:  0.689164   101:  0.189318\n",
      " 300:  0.095258  \n",
      "\n",
      " chisq.: 1.67244   red.chisq.: 0.000393237   Rw: 0.436286\n",
      "\n",
      "******************************** ITER: 7 ********************************\n",
      "\n",
      " Refinement parameters :\n",
      "   1: 13.723864     2: 17.409469     3:  4.307803     4:  7.943289\n",
      "   5: 12.239941     6:  8.621873   100:  0.678447   101:  0.183192\n",
      " 300:  0.097476  \n",
      "\n",
      " chisq.: 1.64311   red.chisq.: 0.000386342   Rw: 0.432444\n",
      "\n",
      "******************************** ITER: 8 ********************************\n",
      "\n",
      " Refinement parameters :\n",
      "   1: 13.727828     2: 17.417073     3:  4.307923     4:  7.933688\n",
      "   5: 12.268756     6:  8.692293   100:  0.665099   101:  0.178754\n",
      " 300:  0.099474  \n",
      "\n",
      " chisq.: 1.63235   red.chisq.: 0.000383812   Rw: 0.431026\n",
      "\n",
      "******************************** ITER: 9 ********************************\n",
      "\n",
      " Refinement parameters :\n",
      "   1: 13.728858     2: 17.422222     3:  4.308070     4:  7.939534\n",
      "   5: 12.255094     6:  8.713925   100:  0.661540   101:  0.177780\n",
      " 300:  0.099824  \n",
      "\n",
      " chisq.: 1.63095   red.chisq.: 0.000383483   Rw: 0.430841    stagnating\n",
      "\n",
      "******************************** ITER: 10 ********************************\n",
      "\n",
      " Refinement parameters :\n",
      "   1: 13.728752     2: 17.423822     3:  4.308148     4:  7.950364\n",
      "   5: 12.255522     6:  8.719506   100:  0.660943   101:  0.177545\n",
      " 300:  0.099854  \n",
      "\n",
      " chisq.: 1.63032   red.chisq.: 0.000383335   Rw: 0.430758    stagnating\n",
      "\n",
      "******************************** ITER: 11 ********************************\n",
      "\n",
      " Refinement parameters :\n",
      "   1: 13.728188     2: 17.423253     3:  4.308248     4:  7.966380\n",
      "   5: 12.253159     6:  8.720581   100:  0.660597   101:  0.177417\n",
      " 300:  0.099830  \n",
      "\n",
      " chisq.: 1.6295   red.chisq.: 0.000383141   Rw: 0.430649    stagnating\n",
      "\n",
      "================================ FINAL ==================================\n",
      "\n",
      " Refinement parameters :\n",
      "   1: 13.728188     2: 17.423253     3:  4.308248     4:  7.966380\n",
      "   5: 12.253159     6:  8.720581   100:  0.660597   101:  0.177417\n",
      " 300:  0.099830  \n",
      "\n",
      " chisq.: 1.6295   red.chisq.: 0.000383141   Rw: 0.430649\n",
      "\n",
      "\n",
      "Update refined results to initial for the current dataset\n",
      "\n",
      "\n",
      "\n"
     ]
    }
   ],
   "source": [
    "## The total # of Fitting object in the new PDFGuiControl will be len(gr_list) + 1\n",
    "## because of the first one is from the pre-defined ddp and has no modification \n",
    "# for i in range(2):\n",
    "# for i in tqdm(range(len(gr_serial)+1), desc =f'batch fitting with pdffit2'):\n",
    "failed_list = []\n",
    "for i in range(1, len(new_guicontrol.fits)):\n",
    "    \n",
    "    clear_output(wait=True)\n",
    "    \n",
    "    data_name = new_guicontrol.fits[i].datasets.keys()[0]\n",
    "    print(f'{i = }\\n')\n",
    "    print(f'Data {data_name[:28]} fitting is on going\\n')\n",
    "\n",
    "    ## Free lattice parameters for fitting\n",
    "    for k in lat_par_list:\n",
    "        # ddp_01.getFits()[i].parameters[k].fixed = False\n",
    "        new_guicontrol.fits[i].parameters[k].fixed = False \n",
    "    \n",
    "    try:\n",
    "        new_guicontrol.fits[i].run()\n",
    "\n",
    "        print('\\n')\n",
    "        print('Update refined results to initial for the current dataset\\n')\n",
    "        for key, item in new_guicontrol.fits[i].parameters.items():\n",
    "            refined = new_guicontrol.fits[i].getData(key)\n",
    "            new_guicontrol.fits[i].parameters[key].setInitial(refined)\n",
    "\n",
    "    except calculationError:\n",
    "        new_guicontrol.fits[i].stop()\n",
    "        failed_list.append(data_name)\n",
    "        print(f'Data {data_name[:28]} fitting fialed\\n')\n",
    "        \n",
    "        \n",
    "        tqdm_sleep_sec(30, message=f'fitting failed: {i = }, {data_name}')\n",
    "    \n",
    "    print('\\n')\n",
    "    time.sleep(3)\n"
   ]
  },
  {
   "cell_type": "code",
   "execution_count": 28,
   "id": "ccd35a39-e275-41be-8629-99cbd7780b21",
   "metadata": {},
   "outputs": [
    {
     "data": {
      "text/plain": [
       "22"
      ]
     },
     "execution_count": 28,
     "metadata": {},
     "output_type": "execute_result"
    }
   ],
   "source": [
    "i"
   ]
  },
  {
   "cell_type": "code",
   "execution_count": null,
   "id": "c75da291-ac40-4fdb-9451-f88c6c92f057",
   "metadata": {},
   "outputs": [],
   "source": []
  },
  {
   "cell_type": "markdown",
   "id": "2b34c6c1-82c7-49a5-a00d-2fadd28fd3c4",
   "metadata": {},
   "source": [
    "## Save the new PDFGuiControl as a ddp file"
   ]
  },
  {
   "cell_type": "code",
   "execution_count": 29,
   "id": "254da143-53b0-4d70-aa80-cd28ae493f3f",
   "metadata": {},
   "outputs": [],
   "source": [
    "subpath = '/Users/cheng-hunglin/Documents/Data_LDRD'\n",
    "fn01 = 'Cs_x-Pb_y-B_z_serial_bkg_day3_21.ddp'\n",
    "full_fn01 = os.path.join(subpath, fn01)\n",
    "\n",
    "new_guicontrol.save(projfile=full_fn01)"
   ]
  },
  {
   "cell_type": "code",
   "execution_count": null,
   "id": "389b6cfe-6ece-4148-8d19-67c1cd68f538",
   "metadata": {},
   "outputs": [],
   "source": []
  },
  {
   "cell_type": "markdown",
   "id": "278a4560-485c-43b9-8c8e-04b49497c480",
   "metadata": {},
   "source": [
    "## Plot rw for all fittins"
   ]
  },
  {
   "cell_type": "code",
   "execution_count": 30,
   "id": "693775c2-aa52-4986-afb4-30d1ee6df203",
   "metadata": {},
   "outputs": [],
   "source": [
    "rw_list = []\n",
    "for i in range(len(new_guicontrol.fits)):\n",
    "    rw = new_guicontrol.fits[i].getData('rw')\n",
    "    rw_list.append(rw)"
   ]
  },
  {
   "cell_type": "code",
   "execution_count": 31,
   "id": "9f5641d1-60a2-4993-ae5f-3cf6eab502d9",
   "metadata": {},
   "outputs": [
    {
     "data": {
      "text/plain": [
       "23"
      ]
     },
     "execution_count": 31,
     "metadata": {},
     "output_type": "execute_result"
    }
   ],
   "source": [
    "len(rw_list)"
   ]
  },
  {
   "cell_type": "code",
   "execution_count": 33,
   "id": "17a95851-89da-4296-a074-9070a9b94ff4",
   "metadata": {},
   "outputs": [],
   "source": [
    "idx = np.arange(0, 23, 1)"
   ]
  },
  {
   "cell_type": "code",
   "execution_count": 34,
   "id": "4ed2b70d-2bfe-4abc-8bc3-32579ebbdc4f",
   "metadata": {},
   "outputs": [
    {
     "data": {
      "text/plain": [
       "(23,)"
      ]
     },
     "execution_count": 34,
     "metadata": {},
     "output_type": "execute_result"
    }
   ],
   "source": [
    "idx.shape"
   ]
  },
  {
   "cell_type": "code",
   "execution_count": 35,
   "id": "0194876e-be24-477f-a483-197c45bedd1c",
   "metadata": {},
   "outputs": [
    {
     "data": {
      "text/plain": [
       "Text(0, 0.5, 'rw')"
      ]
     },
     "execution_count": 35,
     "metadata": {},
     "output_type": "execute_result"
    },
    {
     "data": {
      "application/vnd.jupyter.widget-view+json": {
       "model_id": "5bdb7bdadbcd46a4b9ba41e0c20ed386",
       "version_major": 2,
       "version_minor": 0
      },
      "image/png": "[encoded data removed]",
      "text/html": [
       "\n",
       "            <div style=\"display: inline-block;\">\n",
       "                <div class=\"jupyter-widgets widget-label\" style=\"text-align: center;\">\n",
       "                    Figure\n",
       "                </div>\n",
       "                <img src='data:image/png;base64,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' width=1500.0/>\n",
       "            </div>\n",
       "        "
      ],
      "text/plain": [
       "Canvas(toolbar=Toolbar(toolitems=[('Home', 'Reset original view', 'home', 'home'), ('Back', 'Back to previous …"
      ]
     },
     "metadata": {},
     "output_type": "display_data"
    }
   ],
   "source": [
    "f = plt.figure(figsize=(15,5))\n",
    "ax = f.gca()\n",
    "ax.plot(idx, rw_list, 'o--')\n",
    "ax.set_ylabel('rw')"
   ]
  },
  {
   "cell_type": "code",
   "execution_count": null,
   "id": "3e33e8d5-7c36-4543-9e3c-26ae8926a68e",
   "metadata": {},
   "outputs": [],
   "source": []
  },
  {
   "cell_type": "code",
   "execution_count": null,
   "id": "fc9a94a8-ab43-4dd8-b006-ca9f80b46b7e",
   "metadata": {},
   "outputs": [],
   "source": []
  },
  {
   "cell_type": "markdown",
   "id": "ee8be3b8-fbff-4514-87f7-579c1b358d20",
   "metadata": {},
   "source": [
    "## 2nd fitting - Refine Debye–Waller factor (Anisotropic displacement parameter, ADP)"
   ]
  },
  {
   "cell_type": "code",
   "execution_count": 36,
   "id": "51ad6ccd-37c1-4ead-b4a9-0b4f33e41dd5",
   "metadata": {},
   "outputs": [
    {
     "data": {
      "text/plain": [
       "'/Users/cheng-hunglin/Documents/Data_LDRD/Cs_x-Pb_y-B_z_serial_bkg_day3_21.ddp'"
      ]
     },
     "execution_count": 36,
     "metadata": {},
     "output_type": "execute_result"
    }
   ],
   "source": [
    "full_fn01"
   ]
  },
  {
   "cell_type": "code",
   "execution_count": 37,
   "id": "4d47eebb-a6ab-4106-935b-46bf84a3c769",
   "metadata": {},
   "outputs": [],
   "source": [
    "# fn = '/Users/cheng-hunglin/Documents/Data_LDRD/Cs_x-Pb_y-B_z_serial_all6-1.ddp'\n",
    "ddp_01 = LoadProject(full_fn01)"
   ]
  },
  {
   "cell_type": "code",
   "execution_count": 38,
   "id": "b96c725f-ad2a-4a42-abcb-6efc818e8339",
   "metadata": {},
   "outputs": [
    {
     "data": {
      "text/plain": [
       "23"
      ]
     },
     "execution_count": 38,
     "metadata": {},
     "output_type": "execute_result"
    }
   ],
   "source": [
    "len(ddp_01.getFits())"
   ]
  },
  {
   "cell_type": "code",
   "execution_count": 39,
   "id": "07ca4861-8cc2-45bc-98dd-f4ae54738066",
   "metadata": {},
   "outputs": [
    {
     "data": {
      "text/plain": [
       "'Cs_060_Br_120_Pb_060_PF_020_Tol_1200_20250606-233737_992618_scattering-1_mean_q.gr'"
      ]
     },
     "execution_count": 39,
     "metadata": {},
     "output_type": "execute_result"
    }
   ],
   "source": [
    "ddp_01.getFits()[0].datasets.keys()[0]"
   ]
  },
  {
   "cell_type": "code",
   "execution_count": 40,
   "id": "1f507d2e-4bca-4163-be63-84e6608dc461",
   "metadata": {},
   "outputs": [],
   "source": [
    "ddp_01.getFits()[0].getData(1)"
   ]
  },
  {
   "cell_type": "code",
   "execution_count": 41,
   "id": "8e318fbb-4423-4fae-ba13-77d67ef69321",
   "metadata": {},
   "outputs": [],
   "source": [
    "# ddp_01.getFits()[0].parameters[1].fixed = False"
   ]
  },
  {
   "cell_type": "code",
   "execution_count": 42,
   "id": "fd13de5d-e1b5-479d-85a9-21d62fbef542",
   "metadata": {},
   "outputs": [],
   "source": [
    "## Fitting parameters of Debye–Waller factor in a list\n",
    "ADP_par_list = [40, 41, 43, 60, 61, 62]"
   ]
  },
  {
   "cell_type": "code",
   "execution_count": null,
   "id": "23dcf709-8dbd-470d-af73-a128692ee95c",
   "metadata": {},
   "outputs": [],
   "source": []
  },
  {
   "cell_type": "code",
   "execution_count": 43,
   "id": "2427ec44-0a70-49e5-a750-826fa731d373",
   "metadata": {},
   "outputs": [
    {
     "name": "stdout",
     "output_type": "stream",
     "text": [
      "i = 22\n",
      "\n",
      "Data Cs_130_Br_050_Pb_044_OLA_014 fitting is on going\n",
      "\n",
      "\n",
      "******************************************************************************\n",
      "*                      P D F F I T   Version   1.5.1                         *\n",
      "*                                              2025-02-07                    *\n",
      "* -------------------------------------------------------------------------- *\n",
      "* (c) 1998-2007 Trustees of the Michigan State University.                   *\n",
      "* (c) 2008-2025 Trustees of the Columbia University                          *\n",
      "*               in the city of New York.                                     *\n",
      "*                                                                            *\n",
      "* Authors:                                                                   *\n",
      "*     Thomas Proffen        -   Email: tproffen@lanl.gov                     *\n",
      "*     Jacques Bloch         -   Email: bloch@pa.msu.edu                      *\n",
      "*     Christopher Farrow    -   Email: clf2121@columbia.edu                  *\n",
      "*     Pavol Juhas           -   Email: pjuhas@bnl.gov                        *\n",
      "*     Simon Billinge        -   Email: sb2896@columbia.edu                   *\n",
      "******************************************************************************\n",
      "\n",
      "\n",
      "=========================================================================\n",
      "\n",
      " Structure file format  : PDFFIT\n",
      " Phase number           : 1\n",
      " Phase title            : UNNAMED\n",
      "\n",
      " Lattice parameters     : 4.28963             4.28963             4.28963\n",
      "           & angles     : 90                  90                  90\n",
      " Unit cell volume       : 78.9332\n",
      " Number density         : 0.0253379\n",
      " Metric tensor          : 18.4009             0                   0\n",
      "                          0                   18.4009             0\n",
      "                          0                   0                   18.4009\n",
      "\n",
      " Recip. lat. parameters : 0.23312             0.23312             0.23312\n",
      "               & angles : 90                  90                  90\n",
      " Recip. unit cell vol.  : 0.0126689\n",
      " Recip. metric tensor   : 0.0543451           0                   0\n",
      "                          0                   0.0543451           0\n",
      "                          0                   0                   0.0543451\n",
      "\n",
      " Structure file format  : PDFFIT\n",
      " Phase number           : 2\n",
      " Phase title            : UNNAMED\n",
      "\n",
      " Lattice parameters     : 13.7316             13.7316             17.241\n",
      "           & angles     : 90                  90                  120\n",
      " Unit cell volume       : 2815.37\n",
      " Number density         : 0.0234428\n",
      " Metric tensor          : 188.557             -94.2784            0\n",
      "                          -94.2784            188.557             0\n",
      "                          0                   0                   297.252\n",
      "\n",
      " Recip. lat. parameters : 0.0840907           0.0840907           0.0580013\n",
      "               & angles : 90                  90                  60\n",
      " Recip. unit cell vol.  : 0.000355193\n",
      " Recip. metric tensor   : 0.00707125          0.00353563          0\n",
      "                          0.00353563          0.00707125          0\n",
      "                          0                   0                   0.00336415\n",
      "\n",
      " Structure file format  : PDFFIT\n",
      " Phase number           : 3\n",
      " Phase title            : UNNAMED\n",
      "\n",
      " Lattice parameters     : 8.42534             12.0113             8.37037\n",
      "           & angles     : 90                  90                  90\n",
      " Unit cell volume       : 847.074\n",
      " Number density         : 0.0236107\n",
      " Metric tensor          : 70.9863             0                   0\n",
      "                          0                   144.271             0\n",
      "                          0                   0                   70.063\n",
      "\n",
      " Recip. lat. parameters : 0.11869             0.083255            0.119469\n",
      "               & angles : 90                  90                  90\n",
      " Recip. unit cell vol.  : 0.00118053\n",
      " Recip. metric tensor   : 0.0140872           0                   0\n",
      "                          0                   0.00693139          0\n",
      "                          0                   0                   0.0142729\n",
      "\n",
      " Reading 4 columns ...\n",
      " Read PDF data set 1  (r = 2.39 to 45 A, 4262 points) ...\n",
      " ****WARN****\n",
      " Uncertainties on G(r) were absent or unreadable in your input\n",
      " data.  The program reset these uncertainties to unity.  This\n",
      " does not affect at all the refined parameter values.  However,\n",
      " the values of the estimated uncertainties on these refined\n",
      " parameter values are not reliable.\n",
      " ****WARN****\n",
      "\n",
      "*******************\n",
      "Starting refinement\n",
      "*******************\n",
      " Dataset: 1   Phase: 1  2  3  \n",
      "\n",
      "******************************** ITER: 0 ********************************\n",
      "\n",
      " Refinement parameters :\n",
      "   1: 13.728188     2: 17.423253     3:  4.308248     4:  7.966380\n",
      "   5: 12.253159     6:  8.720581    40:  0.023403    41:  0.046782\n",
      "  43:  0.047098    60:  0.080049    61:  0.030900    62:  0.039865\n",
      " 100:  0.660597   101:  0.177417   300:  0.099830  \n",
      "\n",
      " chisq.: 1.6295   red.chisq.: 0.000383682   Rw: 0.430649\n",
      "\n",
      "******************************** ITER: 1 ********************************\n",
      "\n",
      " Refinement parameters :\n",
      "   1: 13.728188     2: 17.423253     3:  4.308248     4:  7.966380\n",
      "   5: 12.253159     6:  8.720581    40:  0.023403    41:  0.046782\n",
      "  43:  0.047098    60:  0.080049    61:  0.030900    62:  0.039865\n",
      " 100:  0.660597   101:  0.177417   300:  0.099830  \n",
      "\n",
      " chisq.: 1.6295   red.chisq.: 0.000383682   Rw: 0.430649\n",
      "\n",
      "******************************** ITER: 2 ********************************\n",
      "\n",
      " Refinement parameters :\n",
      "   1: 13.728188     2: 17.423253     3:  4.308248     4:  7.966380\n",
      "   5: 12.253159     6:  8.720581    40:  0.023403    41:  0.046782\n",
      "  43:  0.047098    60:  0.080049    61:  0.030900    62:  0.039865\n",
      " 100:  0.660597   101:  0.177417   300:  0.099830  \n",
      "\n",
      " chisq.: 1.6295   red.chisq.: 0.000383682   Rw: 0.430649    stagnating\n",
      "\n",
      "******************************** ITER: 3 ********************************\n",
      "\n",
      " Refinement parameters :\n",
      "   1: 13.728188     2: 17.423253     3:  4.308248     4:  7.966380\n",
      "   5: 12.253159     6:  8.720581    40:  0.023403    41:  0.046782\n",
      "  43:  0.047098    60:  0.080049    61:  0.030900    62:  0.039865\n",
      " 100:  0.660597   101:  0.177417   300:  0.099830  \n",
      "\n",
      " chisq.: 1.6295   red.chisq.: 0.000383682   Rw: 0.430649    stagnating\n",
      "\n",
      "******************************** ITER: 4 ********************************\n",
      "\n",
      " Refinement parameters :\n",
      "   1: 13.728188     2: 17.423253     3:  4.308248     4:  7.966380\n",
      "   5: 12.253159     6:  8.720581    40:  0.023403    41:  0.046782\n",
      "  43:  0.047098    60:  0.080049    61:  0.030900    62:  0.039865\n",
      " 100:  0.660597   101:  0.177417   300:  0.099830  \n",
      "\n",
      " chisq.: 1.6295   red.chisq.: 0.000383682   Rw: 0.430649    stagnating\n",
      "\n",
      "================================ FINAL ==================================\n",
      "\n",
      " Refinement parameters :\n",
      "   1: 13.728188     2: 17.423253     3:  4.308248     4:  7.966380\n",
      "   5: 12.253159     6:  8.720581    40:  0.023403    41:  0.046782\n",
      "  43:  0.047098    60:  0.080049    61:  0.030900    62:  0.039865\n",
      " 100:  0.660597   101:  0.177417   300:  0.099830  \n",
      "\n",
      " chisq.: 1.6295   red.chisq.: 0.000383682   Rw: 0.430649\n",
      "\n",
      "\n",
      "Update refined results to initial for the current dataset\n",
      "\n",
      "\n",
      "\n"
     ]
    }
   ],
   "source": [
    "## The total # of Fitting object in the new PDFGuiControl will be len(gr_list) + 1\n",
    "## because of the first one is from the pre-defined ddp and has no modification \n",
    "# for i in range(2):\n",
    "# for i in tqdm(range(len(gr_serial)+1), desc =f'batch fitting with pdffit2'):\n",
    "failed_list = []\n",
    "for i in range(len(ddp_01.getFits())):\n",
    "    \n",
    "    clear_output(wait=True)\n",
    "    \n",
    "    data_name = ddp_01.getFits()[i].datasets.keys()[0]\n",
    "    print(f'{i = }\\n')\n",
    "    print(f'Data {data_name[:28]} fitting is on going\\n')\n",
    "\n",
    "    ## Free lattice parameters for fitting\n",
    "    for k in ADP_par_list:\n",
    "        ddp_01.getFits()[i].parameters[k].fixed = False\n",
    "        # new_guicontrol.fits[i+1].parameters[k].fixed = False    \n",
    "    \n",
    "    try:\n",
    "        ddp_01.getFits()[i].run()\n",
    "\n",
    "        print('\\n')\n",
    "        print('Update refined results to initial for the current dataset\\n')\n",
    "        for key, item in ddp_01.getFits()[i].parameters.items():\n",
    "            refined = ddp_01.getFits()[i].getData(key)\n",
    "            ddp_01.getFits()[i].parameters[key].setInitial(refined)\n",
    "\n",
    "    except calculationError:\n",
    "        ddp_01.getFits()[i].stop()\n",
    "        failed_list.append(data_name)\n",
    "        print(f'Data {data_name[:28]} fitting fialed\\n')\n",
    "\n",
    "        \n",
    "        tqdm_sleep_sec(30, message=f'fitting failed: {i = }, {data_name}')\n",
    "    \n",
    "    print('\\n')\n",
    "    time.sleep(3)\n"
   ]
  },
  {
   "cell_type": "code",
   "execution_count": 44,
   "id": "0b418003-1ead-4ddf-9665-42f5b7d801e2",
   "metadata": {},
   "outputs": [
    {
     "data": {
      "text/plain": [
       "22"
      ]
     },
     "execution_count": 44,
     "metadata": {},
     "output_type": "execute_result"
    }
   ],
   "source": [
    "i"
   ]
  },
  {
   "cell_type": "code",
   "execution_count": 45,
   "id": "c38174ee-8186-464d-b9ba-dc7a52acbadf",
   "metadata": {},
   "outputs": [],
   "source": [
    "# ddp_01.getFits()[i].stop()"
   ]
  },
  {
   "cell_type": "code",
   "execution_count": null,
   "id": "c5af8eb4-e263-47e7-b61e-0c43ae0e7544",
   "metadata": {},
   "outputs": [],
   "source": []
  },
  {
   "cell_type": "markdown",
   "id": "3aa104e5-34be-48ec-afe3-e061b00bc3bf",
   "metadata": {},
   "source": [
    "## Save the new PDFGuiControl as a ddp file"
   ]
  },
  {
   "cell_type": "code",
   "execution_count": 46,
   "id": "bf3a9f79-341a-4186-8851-e967100e6f05",
   "metadata": {},
   "outputs": [],
   "source": [
    "subpath = '/Users/cheng-hunglin/Documents/Data_LDRD'\n",
    "fn02 = 'Cs_x-Pb_y-B_z_serial_bkg_day3_22.ddp'\n",
    "full_fn02 = os.path.join(subpath, fn02)\n",
    "\n",
    "ddp_01.save(full_fn02)"
   ]
  },
  {
   "cell_type": "code",
   "execution_count": null,
   "id": "61fcd8ec-164c-4025-ae10-b48f8cc94a57",
   "metadata": {},
   "outputs": [],
   "source": []
  },
  {
   "cell_type": "markdown",
   "id": "77b1b281-15c8-4f9a-aeae-2643711df429",
   "metadata": {},
   "source": [
    "## Plot rw for all fittins"
   ]
  },
  {
   "cell_type": "code",
   "execution_count": 47,
   "id": "12cae788-dcfe-4afd-a573-ea039afa6b91",
   "metadata": {},
   "outputs": [],
   "source": [
    "rw_list = []\n",
    "for i in range(len(ddp_01.getFits())):\n",
    "    rw = ddp_01.getFits()[i].getData('rw')\n",
    "    rw_list.append(rw)"
   ]
  },
  {
   "cell_type": "code",
   "execution_count": 48,
   "id": "39ecc841-9347-44ea-a45a-67e31baa213f",
   "metadata": {},
   "outputs": [
    {
     "data": {
      "text/plain": [
       "23"
      ]
     },
     "execution_count": 48,
     "metadata": {},
     "output_type": "execute_result"
    }
   ],
   "source": [
    "len(rw_list)"
   ]
  },
  {
   "cell_type": "code",
   "execution_count": 49,
   "id": "4161b25a-3e8c-42a7-b03c-8e7f0efcaa9f",
   "metadata": {},
   "outputs": [],
   "source": [
    "idx = np.arange(0, 23, 1)"
   ]
  },
  {
   "cell_type": "code",
   "execution_count": 50,
   "id": "72d70e7b-1aec-44dd-907c-5c000e9833fa",
   "metadata": {},
   "outputs": [
    {
     "data": {
      "text/plain": [
       "(23,)"
      ]
     },
     "execution_count": 50,
     "metadata": {},
     "output_type": "execute_result"
    }
   ],
   "source": [
    "idx.shape"
   ]
  },
  {
   "cell_type": "code",
   "execution_count": 51,
   "id": "99ffbfdb-dae3-48a3-8716-a9974eb1bd7c",
   "metadata": {},
   "outputs": [
    {
     "data": {
      "text/plain": [
       "Text(0, 0.5, 'rw')"
      ]
     },
     "execution_count": 51,
     "metadata": {},
     "output_type": "execute_result"
    },
    {
     "data": {
      "application/vnd.jupyter.widget-view+json": {
       "model_id": "a34cf8de834d436994ba48c2272df40f",
       "version_major": 2,
       "version_minor": 0
      },
      "image/png": "[encoded data removed]",
      "text/html": [
       "\n",
       "            <div style=\"display: inline-block;\">\n",
       "                <div class=\"jupyter-widgets widget-label\" style=\"text-align: center;\">\n",
       "                    Figure\n",
       "                </div>\n",
       "                <img src='data:image/png;base64,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' width=1500.0/>\n",
       "            </div>\n",
       "        "
      ],
      "text/plain": [
       "Canvas(toolbar=Toolbar(toolitems=[('Home', 'Reset original view', 'home', 'home'), ('Back', 'Back to previous …"
      ]
     },
     "metadata": {},
     "output_type": "display_data"
    }
   ],
   "source": [
    "f = plt.figure(figsize=(15,5))\n",
    "ax = f.gca()\n",
    "ax.plot(idx, rw_list, 'o--')\n",
    "ax.set_ylabel('rw')"
   ]
  },
  {
   "cell_type": "code",
   "execution_count": null,
   "id": "7f974681-4d6e-4ba7-a1fa-0840dbd72593",
   "metadata": {},
   "outputs": [],
   "source": []
  },
  {
   "cell_type": "markdown",
   "id": "e65ec03f-a16e-438f-b602-8b1eb412d5f3",
   "metadata": {},
   "source": []
  },
  {
   "cell_type": "markdown",
   "id": "513436f3-7276-408d-b21b-77d96596a160",
   "metadata": {},
   "source": [
    "## 3rd fitting - Refine atomic positions"
   ]
  },
  {
   "cell_type": "code",
   "execution_count": null,
   "id": "f1a3aadf-f408-46ac-a16f-f257b0f5c011",
   "metadata": {},
   "outputs": [],
   "source": [
    "full_fn02"
   ]
  },
  {
   "cell_type": "code",
   "execution_count": null,
   "id": "5ce48583-ae8b-4478-9413-55018b0095aa",
   "metadata": {},
   "outputs": [],
   "source": [
    "# fn = '/Users/cheng-hunglin/Documents/Data_LDRD/Cs_x-Pb_y-B_z_serial_all6-1.ddp'\n",
    "ddp_02 = LoadProject(full_fn02)"
   ]
  },
  {
   "cell_type": "code",
   "execution_count": null,
   "id": "c8c212eb-978b-410b-baef-aa7899e9ff80",
   "metadata": {},
   "outputs": [],
   "source": [
    "len(ddp_02.getFits())"
   ]
  },
  {
   "cell_type": "code",
   "execution_count": null,
   "id": "8be234f6-11fb-4c42-874c-37db2a5d18d6",
   "metadata": {},
   "outputs": [],
   "source": [
    "ddp_02.getFits()[0].datasets.keys()[0]"
   ]
  },
  {
   "cell_type": "code",
   "execution_count": null,
   "id": "f563abe8-4ed6-4f03-912e-9d1875a3f7de",
   "metadata": {},
   "outputs": [],
   "source": [
    "ddp_02.getFits()[0].getData(1)"
   ]
  },
  {
   "cell_type": "code",
   "execution_count": null,
   "id": "afa04a7e-cbe1-403d-96ef-553c09e6a2fe",
   "metadata": {},
   "outputs": [],
   "source": [
    "# ddp_02.getFits()[0].parameters[1].fixed = False"
   ]
  },
  {
   "cell_type": "code",
   "execution_count": null,
   "id": "c1ee571f-a5fe-40ed-8f92-6c1da4f75efc",
   "metadata": {},
   "outputs": [],
   "source": [
    "## Fitting parameters of atomic positions in a list\n",
    "xyz_par_list = []"
   ]
  },
  {
   "cell_type": "code",
   "execution_count": null,
   "id": "e915e3e1-087b-4840-bea0-3c7f7b662992",
   "metadata": {},
   "outputs": [],
   "source": [
    "failed_list = []\n",
    "for i in range(len(ddp_02.getFits())):\n",
    "    \n",
    "    clear_output(wait=True)\n",
    "    \n",
    "    data_name = ddp_02.getFits()[i].datasets.keys()[0]\n",
    "    print(f'{i = }\\n')\n",
    "    print(f'Data {data_name[:28]} fitting is on going\\n')\n",
    "\n",
    "    ## Free atomic positions for fitting\n",
    "    for k in xyz_par_list:\n",
    "        ddp_02.getFits()[i].parameters[k].fixed = False\n",
    "    \n",
    "    try:\n",
    "        ddp_02.getFits()[i].run()\n",
    "\n",
    "        print('\\n')\n",
    "        print('Update refined results to initial for the current dataset\\n')\n",
    "        for key, item in ddp_02.getFits()[i].parameters.items():\n",
    "            refined = ddp_02.getFits()[i].getData(key)\n",
    "            ddp_02.getFits()[i].parameters[key].setInitial(refined)\n",
    "        \n",
    "    except calculationError:\n",
    "        ddp_02.getFits()[i].stop()\n",
    "        failed_list.append(data_name)\n",
    "        print(f'Data {data_name[:28]} fitting fialed\\n')\n",
    "        \n",
    "        \n",
    "        tqdm_sleep_sec(30, message=f'fitting failed: {i = }, {data_name}')\n",
    "    \n",
    "    print('\\n')\n",
    "    time.sleep(3)"
   ]
  },
  {
   "cell_type": "code",
   "execution_count": null,
   "id": "96f4d5f6-9317-4758-94e9-0098c6f3ec07",
   "metadata": {},
   "outputs": [],
   "source": [
    "# ddp_02.getFits()[i].stop()"
   ]
  },
  {
   "cell_type": "code",
   "execution_count": null,
   "id": "d2339620-620f-4b44-8313-46a35a48e1d8",
   "metadata": {},
   "outputs": [],
   "source": [
    "subpath = '/Users/cheng-hunglin/Documents/Data_LDRD'\n",
    "fn03 = 'Cs_x-Pb_y-B_z_serial_bkg_10min_13.ddp'\n",
    "full_fn03 = os.path.join(subpath, fn03)\n",
    "\n",
    "ddp_02.save(full_fn03)"
   ]
  },
  {
   "cell_type": "code",
   "execution_count": null,
   "id": "aff1bf09-a924-4593-a56d-7d9d4a3da6a4",
   "metadata": {},
   "outputs": [],
   "source": [
    "failed_list"
   ]
  },
  {
   "cell_type": "code",
   "execution_count": null,
   "id": "ae1b050e-a83a-4d86-aabe-b2a9d8583753",
   "metadata": {},
   "outputs": [],
   "source": []
  }
 ],
 "metadata": {
  "kernelspec": {
   "display_name": "Python 3 (ipykernel)",
   "language": "python",
   "name": "python3"
  },
  "language_info": {
   "codemirror_mode": {
    "name": "ipython",
    "version": 3
   },
   "file_extension": ".py",
   "mimetype": "text/x-python",
   "name": "python",
   "nbconvert_exporter": "python",
   "pygments_lexer": "ipython3",
   "version": "3.13.5"
  }
 },
 "nbformat": 4,
 "nbformat_minor": 5
}
