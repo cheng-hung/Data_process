{
 "cells": [
  {
   "cell_type": "code",
   "execution_count": 34,
   "id": "691985d3-b22a-4415-87e1-c9bbc27d7433",
   "metadata": {},
   "outputs": [],
   "source": [
    "import os\n",
    "import glob\n",
    "import numpy as np\n",
    "import pandas as pd\n",
    "import matplotlib.pyplot as plt\n",
    "from copy import deepcopy\n",
    "from diffpy.pdfgui.tui import LoadProject\n",
    "from diffpy.pdfgui.control.pdfguicontrol import PDFGuiControl\n",
    "from diffpy.pdffit2.pdffit2 import calculationError\n",
    "\n",
    "from IPython.display import clear_output\n",
    "# from tqdm.auto import tqdm\n",
    "import time"
   ]
  },
  {
   "cell_type": "code",
   "execution_count": 35,
   "id": "69d0f7ae-3a44-49ed-8216-1698c3e33f39",
   "metadata": {},
   "outputs": [],
   "source": [
    "%matplotlib widget"
   ]
  },
  {
   "cell_type": "code",
   "execution_count": 36,
   "id": "4c102e19-54f9-421b-a225-74c46ce104eb",
   "metadata": {},
   "outputs": [],
   "source": [
    "def tqdm_sleep_sec(t, message='Sleep'):\n",
    "    import datetime\n",
    "    from tqdm import tqdm\n",
    "    now = datetime.datetime.now()\n",
    "    print(f'\\nSleep for a while: {t} seconds.')\n",
    "    print(f'Waiting starts at {now}')\n",
    "    for i in tqdm(range(0,100), desc=message):\n",
    "        time.sleep(t/100)"
   ]
  },
  {
   "cell_type": "code",
   "execution_count": null,
   "id": "6ee07dd4-4950-4ce4-bbd0-451f6e5e41b3",
   "metadata": {},
   "outputs": [],
   "source": []
  },
  {
   "cell_type": "markdown",
   "id": "00b33123-7f12-45e9-ac0a-becb43a1330e",
   "metadata": {},
   "source": [
    "## Load a pre-defined PDFGui project file (.ddp) using diffpy.pdfgui.tui.LoadProject"
   ]
  },
  {
   "cell_type": "code",
   "execution_count": 37,
   "id": "ec6a18c4-dde2-4cce-9c16-26e425d0b07c",
   "metadata": {},
   "outputs": [],
   "source": [
    "fn = '/Users/cheng-hunglin/Documents/Data_LDRD/Cs_x-Pb_y-B_z_04_02.ddp3'\n",
    "ddp = LoadProject(fn)"
   ]
  },
  {
   "cell_type": "code",
   "execution_count": null,
   "id": "6c545bb5-521f-46ad-940e-21f79a8a8728",
   "metadata": {},
   "outputs": [],
   "source": []
  },
  {
   "cell_type": "markdown",
   "id": "66f77e16-e174-4691-b869-1b1670d45241",
   "metadata": {},
   "source": [
    "## Check the fitting object (diffpy.pdfgui.control.fitting.Fitting) in the ddp project file"
   ]
  },
  {
   "cell_type": "code",
   "execution_count": 38,
   "id": "47bc1292-1ec9-4061-acb4-63b2bf47b025",
   "metadata": {},
   "outputs": [
    {
     "data": {
      "text/plain": [
       "'Fit 2_01'"
      ]
     },
     "execution_count": 38,
     "metadata": {},
     "output_type": "execute_result"
    }
   ],
   "source": [
    "fit_demo = ddp.getFits()[4]\n",
    "fit_demo.name"
   ]
  },
  {
   "cell_type": "code",
   "execution_count": 39,
   "id": "899c948b-9b67-40ae-af2d-c6057554b5bd",
   "metadata": {},
   "outputs": [
    {
     "data": {
      "text/plain": [
       "<diffpy.pdfgui.control.pdfguicontrol.PDFGuiControl at 0x394000b90>"
      ]
     },
     "execution_count": 39,
     "metadata": {},
     "output_type": "execute_result"
    }
   ],
   "source": [
    "fit_demo.owner"
   ]
  },
  {
   "cell_type": "code",
   "execution_count": null,
   "id": "177435b0-4831-4f98-af87-086418bc434f",
   "metadata": {},
   "outputs": [],
   "source": []
  },
  {
   "cell_type": "markdown",
   "id": "1398a8da-ba9d-4f75-8398-76bca71a946b",
   "metadata": {},
   "source": [
    "## Create an object of PDFGuiControl which holds all the data GUI needs to access or change"
   ]
  },
  {
   "cell_type": "markdown",
   "id": "1f878305-6036-41d3-8b78-74467836fe8f",
   "metadata": {},
   "source": [
    "### the PDFGuiControl object will be saved as a ddp file in the end"
   ]
  },
  {
   "cell_type": "code",
   "execution_count": 40,
   "id": "961049e8-df5e-4ac9-aa2b-c529fb546c7a",
   "metadata": {},
   "outputs": [],
   "source": [
    "new_guicontrol = PDFGuiControl()"
   ]
  },
  {
   "cell_type": "code",
   "execution_count": null,
   "id": "ce4e64d1-db60-4dbf-a3ee-aa72ea6ba56d",
   "metadata": {},
   "outputs": [],
   "source": []
  },
  {
   "cell_type": "markdown",
   "id": "cb8c9305-ee73-46a0-a212-dce08f6a80ec",
   "metadata": {},
   "source": [
    "## Copy the Fitting object from ddp to the new PDFGuiControl"
   ]
  },
  {
   "cell_type": "code",
   "execution_count": 41,
   "id": "2566de4a-952d-4a00-a675-dcf9aa5472d5",
   "metadata": {},
   "outputs": [
    {
     "data": {
      "text/plain": [
       "<diffpy.pdfgui.control.fitting.Fitting at 0x37b577570>"
      ]
     },
     "execution_count": 41,
     "metadata": {},
     "output_type": "execute_result"
    }
   ],
   "source": [
    "new_guicontrol.add(fit_demo.copy())"
   ]
  },
  {
   "cell_type": "code",
   "execution_count": 42,
   "id": "abc6cfec-e5db-4f2a-ae2e-fe408c659752",
   "metadata": {},
   "outputs": [],
   "source": [
    "# dir(new_guicontrol)"
   ]
  },
  {
   "cell_type": "code",
   "execution_count": null,
   "id": "7233bf5d-391e-4359-b989-a9aa0dcae92f",
   "metadata": {},
   "outputs": [],
   "source": []
  },
  {
   "cell_type": "markdown",
   "id": "1a28184c-a373-4006-a4ad-331fba8526a0",
   "metadata": {},
   "source": [
    "## Using PDFGuiControl.fits to check the added Fitting object in the the new PDFGuiControl"
   ]
  },
  {
   "cell_type": "code",
   "execution_count": 43,
   "id": "9dbfaca1-0ef3-486d-8746-f56f9c89898b",
   "metadata": {},
   "outputs": [
    {
     "data": {
      "text/plain": [
       "[<diffpy.pdfgui.control.fitting.Fitting at 0x37b577570>]"
      ]
     },
     "execution_count": 43,
     "metadata": {},
     "output_type": "execute_result"
    }
   ],
   "source": [
    "new_guicontrol.fits"
   ]
  },
  {
   "cell_type": "code",
   "execution_count": null,
   "id": "0bd91a0e-c094-4d5c-af94-ac43f1a61a84",
   "metadata": {},
   "outputs": [],
   "source": []
  },
  {
   "cell_type": "markdown",
   "id": "24102db6-6700-4ebf-9179-3f6b27687bf9",
   "metadata": {},
   "source": [
    "## Find the gr data list and sort it"
   ]
  },
  {
   "cell_type": "code",
   "execution_count": 44,
   "id": "30c06d01-7c8f-425f-8fd9-6d848b9bc239",
   "metadata": {},
   "outputs": [],
   "source": [
    "subpath = '/Users/cheng-hunglin/Documents/Data_LDRD'\n",
    "gr_dir = os.path.join(subpath, 'gr_data')\n",
    "gr_list = glob.glob(gr_dir + '/*.gr')\n",
    "gr_list.sort()"
   ]
  },
  {
   "cell_type": "code",
   "execution_count": 45,
   "id": "cb494b99-38e7-492d-bd97-cb028dc9e1b2",
   "metadata": {},
   "outputs": [],
   "source": [
    "gr_serial = gr_list[:]"
   ]
  },
  {
   "cell_type": "code",
   "execution_count": null,
   "id": "0d406ea5-2eee-4646-985f-eb3b3e0a51c9",
   "metadata": {},
   "outputs": [],
   "source": []
  },
  {
   "cell_type": "markdown",
   "id": "2fd629df-d8f6-42ba-99d1-3b24b352ec40",
   "metadata": {},
   "source": [
    "## Define fitrmax, fitrmin, qdamp, qbroad from the copied Fitting object, e.g., fit_demo.copy()"
   ]
  },
  {
   "cell_type": "code",
   "execution_count": 46,
   "id": "5f61f42b-9b56-4358-b909-b45a7df29044",
   "metadata": {},
   "outputs": [],
   "source": [
    "fitrmax = new_guicontrol.fits[0].datasets[0].fitrmax\n",
    "fitrmin = new_guicontrol.fits[0].datasets[0].fitrmin\n",
    "qdamp = new_guicontrol.fits[0].datasets[0].qdamp\n",
    "qbroad = new_guicontrol.fits[0].datasets[0].qbroad\n",
    "# new_guicontrol.fits[0].datasets[1].constraints.update(new_guicontrol.fits[0].datasets[0].constraints)"
   ]
  },
  {
   "cell_type": "code",
   "execution_count": null,
   "id": "d1944c8c-6371-4124-9676-8300c4520a7f",
   "metadata": {},
   "outputs": [],
   "source": []
  },
  {
   "cell_type": "markdown",
   "id": "8d9f702d-eb99-4e74-9f38-87e00c185901",
   "metadata": {},
   "source": [
    "## Check fitting parameters"
   ]
  },
  {
   "cell_type": "code",
   "execution_count": 47,
   "id": "ed9fac6e-5c4e-44d8-98c4-c6d0c882026c",
   "metadata": {},
   "outputs": [
    {
     "data": {
      "text/plain": [
       "{11: <diffpy.pdfgui.control.parameter.Parameter at 0x364fc9fd0>,\n",
       " 12: <diffpy.pdfgui.control.parameter.Parameter at 0x364fca2d0>,\n",
       " 91: <diffpy.pdfgui.control.parameter.Parameter at 0x364fcb750>,\n",
       " 92: <diffpy.pdfgui.control.parameter.Parameter at 0x364fcb7d0>,\n",
       " 131: <diffpy.pdfgui.control.parameter.Parameter at 0x364fc8050>,\n",
       " 132: <diffpy.pdfgui.control.parameter.Parameter at 0x364fcbc50>,\n",
       " 133: <diffpy.pdfgui.control.parameter.Parameter at 0x364fcbed0>,\n",
       " 14: <diffpy.pdfgui.control.parameter.Parameter at 0x364fcbe50>,\n",
       " 54: <diffpy.pdfgui.control.parameter.Parameter at 0x364fcbbd0>,\n",
       " 94: <diffpy.pdfgui.control.parameter.Parameter at 0x364fcbdd0>,\n",
       " 134: <diffpy.pdfgui.control.parameter.Parameter at 0x364fcbf50>,\n",
       " 141: <diffpy.pdfgui.control.parameter.Parameter at 0x364fca050>,\n",
       " 142: <diffpy.pdfgui.control.parameter.Parameter at 0x364fca450>,\n",
       " 143: <diffpy.pdfgui.control.parameter.Parameter at 0x364fca4d0>,\n",
       " 261: <diffpy.pdfgui.control.parameter.Parameter at 0x364fca550>,\n",
       " 262: <diffpy.pdfgui.control.parameter.Parameter at 0x364fca3d0>,\n",
       " 263: <diffpy.pdfgui.control.parameter.Parameter at 0x364fca650>,\n",
       " 401: <diffpy.pdfgui.control.parameter.Parameter at 0x364fca5d0>,\n",
       " 402: <diffpy.pdfgui.control.parameter.Parameter at 0x364fca350>,\n",
       " 403: <diffpy.pdfgui.control.parameter.Parameter at 0x364fca7d0>,\n",
       " 144: <diffpy.pdfgui.control.parameter.Parameter at 0x364fca850>,\n",
       " 264: <diffpy.pdfgui.control.parameter.Parameter at 0x364fca8d0>,\n",
       " 384: <diffpy.pdfgui.control.parameter.Parameter at 0x364fca750>,\n",
       " 404: <diffpy.pdfgui.control.parameter.Parameter at 0x364fca9d0>,\n",
       " 1: <diffpy.pdfgui.control.parameter.Parameter at 0x364fca950>,\n",
       " 2: <diffpy.pdfgui.control.parameter.Parameter at 0x364fcbd50>,\n",
       " 3: <diffpy.pdfgui.control.parameter.Parameter at 0x364fc80d0>,\n",
       " 100: <diffpy.pdfgui.control.parameter.Parameter at 0x364fc8250>,\n",
       " 4: <diffpy.pdfgui.control.parameter.Parameter at 0x364fc81d0>,\n",
       " 5: <diffpy.pdfgui.control.parameter.Parameter at 0x364fc83d0>,\n",
       " 200: <diffpy.pdfgui.control.parameter.Parameter at 0x364fc84d0>,\n",
       " 201: <diffpy.pdfgui.control.parameter.Parameter at 0x364fc8450>,\n",
       " 414: <diffpy.pdfgui.control.parameter.Parameter at 0x364fcad50>,\n",
       " 424: <diffpy.pdfgui.control.parameter.Parameter at 0x364fcaad0>,\n",
       " 6: <diffpy.pdfgui.control.parameter.Parameter at 0x364fcb4d0>,\n",
       " 101: <diffpy.pdfgui.control.parameter.Parameter at 0x364fcb950>,\n",
       " 202: <diffpy.pdfgui.control.parameter.Parameter at 0x364fcb9d0>,\n",
       " 300: <diffpy.pdfgui.control.parameter.Parameter at 0x364fcba50>}"
      ]
     },
     "execution_count": 47,
     "metadata": {},
     "output_type": "execute_result"
    }
   ],
   "source": [
    "new_guicontrol.fits[0].parameters"
   ]
  },
  {
   "cell_type": "code",
   "execution_count": 48,
   "id": "1f05629e-375b-45e7-8a52-f4b32276310e",
   "metadata": {},
   "outputs": [
    {
     "data": {
      "text/plain": [
       "False"
      ]
     },
     "execution_count": 48,
     "metadata": {},
     "output_type": "execute_result"
    }
   ],
   "source": [
    "new_guicontrol.fits[0].parameters[1].fixed"
   ]
  },
  {
   "cell_type": "code",
   "execution_count": 49,
   "id": "ce3881e3-7bbb-47a0-bdb4-11b4b0106298",
   "metadata": {},
   "outputs": [],
   "source": [
    "new_guicontrol.fits[0].parameters[1].fixed = False"
   ]
  },
  {
   "cell_type": "code",
   "execution_count": 50,
   "id": "85c1e896-aec3-492e-b021-b1c1e07377bf",
   "metadata": {},
   "outputs": [
    {
     "data": {
      "text/plain": [
       "False"
      ]
     },
     "execution_count": 50,
     "metadata": {},
     "output_type": "execute_result"
    }
   ],
   "source": [
    "new_guicontrol.fits[0].parameters[1].fixed"
   ]
  },
  {
   "cell_type": "code",
   "execution_count": 51,
   "id": "bb09b611-9c91-4dec-9990-843b91a91b40",
   "metadata": {},
   "outputs": [],
   "source": [
    "## Fitting parameters of lattice parameter in a list\n",
    "lat_par_list = [1 ,2 ,3, 4, 5, 6]"
   ]
  },
  {
   "cell_type": "code",
   "execution_count": null,
   "id": "a0ccf99c-efd2-4945-b4e5-adc1b40710cf",
   "metadata": {},
   "outputs": [],
   "source": []
  },
  {
   "cell_type": "markdown",
   "id": "332a50e8-f235-4a4d-a374-657d60184487",
   "metadata": {},
   "source": [
    "## Make the fitting tree in the new PDFGuiControl"
   ]
  },
  {
   "cell_type": "code",
   "execution_count": 52,
   "id": "56e5c1cb-c554-4c14-9b78-0a395c21e38c",
   "metadata": {},
   "outputs": [],
   "source": [
    "for i in range(len(gr_serial)):\n",
    "\n",
    "    ## Add new Fitting by copying the existed Fitting object\n",
    "    new_guicontrol.add(fit_demo.copy())\n",
    "\n",
    "    ## Rename the copied Fitting object\n",
    "    new_guicontrol.fits[i+1].name = f'Fit 3 _3D_s{i:02d}'\n",
    "\n",
    "    ## Load gr data from gr_list to the newly copied Fitting object\n",
    "    new_guicontrol.loadDataset(new_guicontrol.fits[i+1], gr_list[i])\n",
    "\n",
    "    ## Delete the old dataset in the newly copied Fitting object  \n",
    "    new_guicontrol.fits[i+1].datasets.__delitem__(0)\n",
    "\n",
    "    ## Update fitrmax, fitrmin, qdamp, qbroad in the loaded dataset\n",
    "    new_guicontrol.fits[i+1].datasets[0].fitrmax = fitrmax\n",
    "    new_guicontrol.fits[i+1].datasets[0].fitrmin = fitrmin\n",
    "    new_guicontrol.fits[i+1].datasets[0].qdamp = qdamp\n",
    "    new_guicontrol.fits[i+1].datasets[0].qbroad = qbroad\n",
    "\n",
    "    ## Update the constraints for the loaded dataset, mainly for dscale, qdamp, qbroad if constrained\n",
    "    new_guicontrol.fits[i+1].datasets[0].constraints.update(deepcopy(new_guicontrol.fits[0].datasets[0].constraints))\n",
    "\n",
    "    ## Equal the amount of scale factor\n",
    "    num_struc = len(new_guicontrol.fits[0].strucs)\n",
    "    for j in range(num_struc):\n",
    "        new_guicontrol.fits[i+1].strucs[j].setvar('pscale', 1/num_struc)\n",
    "    # new_guicontrol.fits[i+1].parameters[100].setInitial(0.615)\n",
    "    # new_guicontrol.fits[i+1].parameters[101].setInitial(0.615)\n",
    "    \n",
    "    new_guicontrol.fits[i+1].parameters[300].setInitial(0.5)\n",
    "    \n",
    "    ## Free lattice parameters for fitting\n",
    "    for k in lat_par_list:\n",
    "        new_guicontrol.fits[i+1].parameters[k].fixed = False\n",
    "    "
   ]
  },
  {
   "cell_type": "code",
   "execution_count": 53,
   "id": "9bd278a6-9970-42e2-bdb6-011659d9a5c5",
   "metadata": {},
   "outputs": [
    {
     "data": {
      "text/plain": [
       "85"
      ]
     },
     "execution_count": 53,
     "metadata": {},
     "output_type": "execute_result"
    }
   ],
   "source": [
    "len(new_guicontrol.fits)"
   ]
  },
  {
   "cell_type": "code",
   "execution_count": 54,
   "id": "52e9cb81-7362-4f5c-ac40-bd0f5641f19c",
   "metadata": {},
   "outputs": [
    {
     "data": {
      "text/plain": [
       "0.3333333333333333"
      ]
     },
     "execution_count": 54,
     "metadata": {},
     "output_type": "execute_result"
    }
   ],
   "source": [
    "new_guicontrol.fits[i+1].strucs[1].getvar('pscal')"
   ]
  },
  {
   "cell_type": "code",
   "execution_count": 55,
   "id": "0a6d0214-3623-4900-9c10-1f2d43b6395e",
   "metadata": {},
   "outputs": [
    {
     "data": {
      "text/plain": [
       "0.33"
      ]
     },
     "execution_count": 55,
     "metadata": {},
     "output_type": "execute_result"
    }
   ],
   "source": [
    "new_guicontrol.fits[i+1].parameters[100].initialValue()"
   ]
  },
  {
   "cell_type": "code",
   "execution_count": null,
   "id": "ba1278ae-b352-41f6-b4e6-181140d560e2",
   "metadata": {},
   "outputs": [],
   "source": []
  },
  {
   "cell_type": "code",
   "execution_count": 56,
   "id": "381b064d-d3a2-4b25-b954-c26e3b8200c7",
   "metadata": {},
   "outputs": [
    {
     "data": {
      "text/plain": [
       "{'dscale': <diffpy.pdfgui.control.constraint.Constraint at 0x394feea50>}"
      ]
     },
     "execution_count": 56,
     "metadata": {},
     "output_type": "execute_result"
    }
   ],
   "source": [
    "new_guicontrol.fits[1].datasets[0].constraints"
   ]
  },
  {
   "cell_type": "code",
   "execution_count": null,
   "id": "9914a983-afa8-48d2-99fe-13364ca4f892",
   "metadata": {},
   "outputs": [],
   "source": []
  },
  {
   "cell_type": "markdown",
   "id": "528abd9c-8088-4add-b4fb-60c315cac9cc",
   "metadata": {},
   "source": [
    "## Run all the fitting in the new PDFGuiControl"
   ]
  },
  {
   "cell_type": "code",
   "execution_count": 57,
   "id": "f970e35a-35e2-4885-9839-22b8c296ce6d",
   "metadata": {
    "scrolled": true
   },
   "outputs": [
    {
     "name": "stdout",
     "output_type": "stream",
     "text": [
      "i = 0\n",
      "\n",
      "Data Cs_078_Br_092_Pb_000_OLA_020 fitting is on going\n",
      "\n",
      "\n",
      "******************************************************************************\n",
      "*                      P D F F I T   Version   1.5.1                         *\n",
      "*                                              2025-02-07                    *\n",
      "* -------------------------------------------------------------------------- *\n",
      "* (c) 1998-2007 Trustees of the Michigan State University.                   *\n",
      "* (c) 2008-2025 Trustees of the Columbia University                          *\n",
      "*               in the city of New York.                                     *\n",
      "*                                                                            *\n",
      "* Authors:                                                                   *\n",
      "*     Thomas Proffen        -   Email: tproffen@lanl.gov                     *\n",
      "*     Jacques Bloch         -   Email: bloch@pa.msu.edu                      *\n",
      "*     Christopher Farrow    -   Email: clf2121@columbia.edu                  *\n",
      "*     Pavol Juhas           -   Email: pjuhas@bnl.gov                        *\n",
      "*     Simon Billinge        -   Email: sb2896@columbia.edu                   *\n",
      "******************************************************************************\n",
      "\n",
      "\n",
      "=========================================================================\n",
      "\n",
      " Structure file format  : PDFFIT\n",
      " Phase number           : 1\n",
      " Phase title            : UNNAMED\n",
      "\n",
      " Lattice parameters     : 7.95897             8.57074             11.9884\n",
      "           & angles     : 90                  90                  90\n",
      " Unit cell volume       : 817.781\n",
      " Number density         : 0.0244564\n",
      " Metric tensor          : 63.3452             0                   0\n",
      "                          0                   73.4576             0\n",
      "                          0                   0                   143.722\n",
      "\n",
      " Recip. lat. parameters : 0.125644            0.116676            0.0834139\n",
      "               & angles : 90                  90                  90\n",
      " Recip. unit cell vol.  : 0.00122282\n",
      " Recip. metric tensor   : 0.0157865           0                   0\n",
      "                          0                   0.0136133           0\n",
      "                          0                   0                   0.00695787\n",
      "\n",
      " Structure file format  : PDFFIT\n",
      " Phase number           : 2\n",
      " Phase title            : UNNAMED\n",
      "\n",
      " Lattice parameters     : 13.7974             13.7974             16.3903\n",
      "           & angles     : 90                  90                  120\n",
      " Unit cell volume       : 2702.17\n",
      " Number density         : 0.0140628\n",
      " Metric tensor          : 190.369             -95.1843            0\n",
      "                          -95.1843            190.369             0\n",
      "                          0                   0                   268.641\n",
      "\n",
      " Recip. lat. parameters : 0.0836896           0.0836896           0.0610118\n",
      "               & angles : 90                  90                  60\n",
      " Recip. unit cell vol.  : 0.000370074\n",
      " Recip. metric tensor   : 0.00700396          0.00350198          0\n",
      "                          0.00350198          0.00700396          0\n",
      "                          0                   0                   0.00372244\n",
      "\n",
      " Structure file format  : PDFFIT\n",
      " Phase number           : 3\n",
      " Phase title            : UNNAMED\n",
      "\n",
      " Lattice parameters     : 4.2991              4.2991              4.2991\n",
      "           & angles     : 90                  90                  90\n",
      " Unit cell volume       : 79.4571\n",
      " Number density         : 0.0251708\n",
      " Metric tensor          : 18.4823             0                   0\n",
      "                          0                   18.4823             0\n",
      "                          0                   0                   18.4823\n",
      "\n",
      " Recip. lat. parameters : 0.232607            0.232607            0.232607\n",
      "               & angles : 90                  90                  90\n",
      " Recip. unit cell vol.  : 0.0125854\n",
      " Recip. metric tensor   : 0.0541059           0                   0\n",
      "                          0                   0.0541059           0\n",
      "                          0                   0                   0.0541059\n",
      "\n",
      " Reading 4 columns ...\n",
      " Read PDF data set 1  (r = 1.99 to 60 A, 5802 points) ...\n",
      " ****WARN****\n",
      " Uncertainties on G(r) were absent or unreadable in your input\n",
      " data.  The program reset these uncertainties to unity.  This\n",
      " does not affect at all the refined parameter values.  However,\n",
      " the values of the estimated uncertainties on these refined\n",
      " parameter values are not reliable.\n",
      " ****WARN****\n",
      "\n",
      "*******************\n",
      "Starting refinement\n",
      "*******************\n",
      " Dataset: 1   Phase: 1  2  3  \n",
      "\n",
      "******************************** ITER: 0 ********************************\n",
      "\n",
      " Refinement parameters :\n",
      "   1:  7.958968     2:  8.570741     3: 11.988415     4: 13.797413\n",
      "   5: 16.390266     6:  4.299100   100:  0.330000   101:  0.330000\n",
      " 300:  1.000000  \n",
      "\n",
      " chisq.: 656.101   red.chisq.: 0.113258   Rw: 3.07085\n",
      "\n",
      "******************************** ITER: 1 ********************************\n",
      "\n",
      " Refinement parameters :\n",
      "   1:  7.957457     2:  8.570669     3: 11.982227     4: 13.781472\n",
      "   5: 16.393482     6:  4.301361   100:  0.294039   101:  0.341143\n",
      " 300:  0.183462  \n",
      "\n",
      " chisq.: 9.28311   red.chisq.: 0.00160247   Rw: 0.365275\n",
      "\n",
      "******************************** ITER: 2 ********************************\n",
      "\n",
      " Refinement parameters :\n",
      "   1:  7.951974     2:  8.571022     3: 11.942670     4: 13.715320\n",
      "   5: 16.384456     6:  4.310361   100:  0.135887   101:  0.374320\n",
      " 300:  0.177766  \n",
      "\n",
      " chisq.: 4.01078   red.chisq.: 0.00069235   Rw: 0.240097\n",
      "\n",
      "******************************** ITER: 3 ********************************\n",
      "\n",
      " Refinement parameters :\n",
      "   1:  7.947245     2:  8.578113     3: 11.886323     4: 13.746192\n",
      "   5: 16.254560     6:  4.309808   100:  0.134304   101:  0.380954\n",
      " 300:  0.183007  \n",
      "\n",
      " chisq.: 3.92005   red.chisq.: 0.000676688   Rw: 0.237366\n",
      "\n",
      "******************************** ITER: 4 ********************************\n",
      "\n",
      " Refinement parameters :\n",
      "   1:  7.946307     2:  8.572070     3: 11.873638     4: 13.731390\n",
      "   5: 16.149741     6:  4.309655   100:  0.130668   101:  0.388027\n",
      " 300:  0.185144  \n",
      "\n",
      " chisq.: 3.87649   red.chisq.: 0.000669169   Rw: 0.236044\n",
      "\n",
      "******************************** ITER: 5 ********************************\n",
      "\n",
      " Refinement parameters :\n",
      "   1:  7.951968     2:  8.560830     3: 11.868989     4: 13.715488\n",
      "   5: 16.101640     6:  4.309495   100:  0.126137   101:  0.395664\n",
      " 300:  0.186745  \n",
      "\n",
      " chisq.: 3.86323   red.chisq.: 0.000666879   Rw: 0.23564\n",
      "\n",
      "******************************** ITER: 6 ********************************\n",
      "\n",
      " Refinement parameters :\n",
      "   1:  7.958401     2:  8.549282     3: 11.868964     4: 13.705650\n",
      "   5: 16.082220     6:  4.309411   100:  0.124008   101:  0.398403\n",
      " 300:  0.187157  \n",
      "\n",
      " chisq.: 3.8597   red.chisq.: 0.000666269   Rw: 0.235532    stagnating\n"
     ]
    },
    {
     "ename": "KeyboardInterrupt",
     "evalue": "",
     "output_type": "error",
     "traceback": [
      "\u001b[31m---------------------------------------------------------------------------\u001b[39m",
      "\u001b[31mKeyboardInterrupt\u001b[39m                         Traceback (most recent call last)",
      "\u001b[36mCell\u001b[39m\u001b[36m \u001b[39m\u001b[32mIn[57]\u001b[39m\u001b[32m, line 15\u001b[39m\n\u001b[32m     12\u001b[39m \u001b[38;5;28mprint\u001b[39m(\u001b[33mf\u001b[39m\u001b[33m'\u001b[39m\u001b[33mData \u001b[39m\u001b[38;5;132;01m{\u001b[39;00mdata_name[:\u001b[32m28\u001b[39m]\u001b[38;5;132;01m}\u001b[39;00m\u001b[33m fitting is on going\u001b[39m\u001b[38;5;130;01m\\n\u001b[39;00m\u001b[33m'\u001b[39m)\n\u001b[32m     14\u001b[39m \u001b[38;5;28;01mtry\u001b[39;00m:\n\u001b[32m---> \u001b[39m\u001b[32m15\u001b[39m     \u001b[43mnew_guicontrol\u001b[49m\u001b[43m.\u001b[49m\u001b[43mfits\u001b[49m\u001b[43m[\u001b[49m\u001b[43mi\u001b[49m\u001b[43m]\u001b[49m\u001b[43m.\u001b[49m\u001b[43mrun\u001b[49m\u001b[43m(\u001b[49m\u001b[43m)\u001b[49m\n\u001b[32m     17\u001b[39m     \u001b[38;5;28mprint\u001b[39m(\u001b[33m'\u001b[39m\u001b[38;5;130;01m\\n\u001b[39;00m\u001b[33m'\u001b[39m)\n\u001b[32m     18\u001b[39m     \u001b[38;5;28mprint\u001b[39m(\u001b[33m'\u001b[39m\u001b[33mUpdate refined results to initial for the current dataset\u001b[39m\u001b[38;5;130;01m\\n\u001b[39;00m\u001b[33m'\u001b[39m)\n",
      "\u001b[36mFile \u001b[39m\u001b[32m/opt/miniconda3/envs/pdfgui_313/lib/python3.13/site-packages/diffpy/pdfgui/control/fitting.py:414\u001b[39m, in \u001b[36mFitting.run\u001b[39m\u001b[34m(self)\u001b[39m\n\u001b[32m    411\u001b[39m     \u001b[38;5;28mself\u001b[39m.configure()\n\u001b[32m    413\u001b[39m     \u001b[38;5;66;03m# if self.refine_step return True, fitting is finished\u001b[39;00m\n\u001b[32m--> \u001b[39m\u001b[32m414\u001b[39m     \u001b[38;5;28;01mif\u001b[39;00m \u001b[38;5;28;43mself\u001b[39;49m\u001b[43m.\u001b[49m\u001b[43mrefine_step\u001b[49m\u001b[43m(\u001b[49m\u001b[43m)\u001b[49m:\n\u001b[32m    415\u001b[39m         \u001b[38;5;28;01mbreak\u001b[39;00m\n\u001b[32m    416\u001b[39m \u001b[38;5;28;01melse\u001b[39;00m:\n\u001b[32m    417\u001b[39m     \u001b[38;5;66;03m# Wait on an event, pause for a while\u001b[39;00m\n",
      "\u001b[36mFile \u001b[39m\u001b[32m/opt/miniconda3/envs/pdfgui_313/lib/python3.13/site-packages/diffpy/pdfgui/control/fitting.py:694\u001b[39m, in \u001b[36mFitting.refine_step\u001b[39m\u001b[34m(self)\u001b[39m\n\u001b[32m    690\u001b[39m \u001b[38;5;28;01mif\u001b[39;00m \u001b[38;5;28mself\u001b[39m.fitStatus == Fitting.DONE:\n\u001b[32m    691\u001b[39m     \u001b[38;5;66;03m# do nothing but return finished\u001b[39;00m\n\u001b[32m    692\u001b[39m     \u001b[38;5;28;01mreturn\u001b[39;00m \u001b[38;5;28;01mTrue\u001b[39;00m\n\u001b[32m--> \u001b[39m\u001b[32m694\u001b[39m finished = \u001b[38;5;28;43mself\u001b[39;49m\u001b[43m.\u001b[49m\u001b[43mserver\u001b[49m\u001b[43m.\u001b[49m\u001b[43mrefine_step\u001b[49m\u001b[43m(\u001b[49m\u001b[38;5;28;43mself\u001b[39;49m\u001b[43m.\u001b[49m\u001b[43mtolerancy\u001b[49m\u001b[43m)\u001b[49m\n\u001b[32m    696\u001b[39m \u001b[38;5;66;03m# get fitted data\u001b[39;00m\n\u001b[32m    697\u001b[39m idataset = \u001b[32m1\u001b[39m\n",
      "\u001b[36mFile \u001b[39m\u001b[32m/opt/miniconda3/envs/pdfgui_313/lib/python3.13/site-packages/diffpy/pdffit2/pdffit.py:350\u001b[39m, in \u001b[36mPdfFit.refine_step\u001b[39m\u001b[34m(self, toler)\u001b[39m\n\u001b[32m    336\u001b[39m \u001b[38;5;28;01mdef\u001b[39;00m\u001b[38;5;250m \u001b[39m\u001b[34mrefine_step\u001b[39m(\u001b[38;5;28mself\u001b[39m, toler=\u001b[32m0.00000001\u001b[39m):\n\u001b[32m    337\u001b[39m \u001b[38;5;250m    \u001b[39m\u001b[33;03m\"\"\"refine_step(toler = 0.00000001) --> Run a single step of the fit.\u001b[39;00m\n\u001b[32m    338\u001b[39m \n\u001b[32m    339\u001b[39m \u001b[33;03m    toler   --  tolerance of the fit\u001b[39;00m\n\u001b[32m   (...)\u001b[39m\u001b[32m    348\u001b[39m \u001b[33;03m    Returns: 1 (0) if refinement is (is not) finished\u001b[39;00m\n\u001b[32m    349\u001b[39m \u001b[33;03m    \"\"\"\u001b[39;00m\n\u001b[32m--> \u001b[39m\u001b[32m350\u001b[39m     \u001b[38;5;28mself\u001b[39m.finished = \u001b[43mpdffit2\u001b[49m\u001b[43m.\u001b[49m\u001b[43mrefine_step\u001b[49m\u001b[43m(\u001b[49m\u001b[38;5;28;43mself\u001b[39;49m\u001b[43m.\u001b[49m\u001b[43m_handle\u001b[49m\u001b[43m,\u001b[49m\u001b[43m \u001b[49m\u001b[43mtoler\u001b[49m\u001b[43m)\u001b[49m\n\u001b[32m    351\u001b[39m     \u001b[38;5;28;01mreturn\u001b[39;00m \u001b[38;5;28mself\u001b[39m.finished\n",
      "\u001b[31mKeyboardInterrupt\u001b[39m: "
     ]
    }
   ],
   "source": [
    "## The total # of Fitting object in the new PDFGuiControl will be len(gr_list) + 1\n",
    "## because of the first one is from the pre-defined ddp and has no modification \n",
    "# for i in range(2):\n",
    "# for i in tqdm(range(len(gr_serial)+1), desc =f'batch fitting with pdffit2'):\n",
    "failed_list = []\n",
    "for i in range(len(gr_serial)+1):\n",
    "    \n",
    "    clear_output(wait=True)\n",
    "    \n",
    "    data_name = new_guicontrol.fits[i].datasets.keys()[0]\n",
    "    print(f'{i = }\\n')\n",
    "    print(f'Data {data_name[:28]} fitting is on going\\n')\n",
    "    \n",
    "    try:\n",
    "        new_guicontrol.fits[i].run()\n",
    "\n",
    "        print('\\n')\n",
    "        print('Update refined results to initial for the current dataset\\n')\n",
    "        for key, item in new_guicontrol.fits[i].parameters.items():\n",
    "            refined = new_guicontrol.fits[i].getData(key)\n",
    "            new_guicontrol.fits[i].parameters[key].setInitial(refined)\n",
    "\n",
    "        # print('Update refined results to initial for the next dataset\\n')\n",
    "        # try:\n",
    "        #     for key, item in new_guicontrol.fits[i].parameters.items():\n",
    "        #         refined = new_guicontrol.fits[i].getData(key)\n",
    "        #         new_guicontrol.fits[i+1].parameters[key].setInitial(refined)\n",
    "        # except IndexError:\n",
    "        #     pass\n",
    "        \n",
    "    except calculationError:\n",
    "        new_guicontrol.fits[i].stop()\n",
    "        failed_list.append(data_name)\n",
    "        print(f'Data {data_name[:28]} fitting fialed\\n')\n",
    "        \n",
    "        # print('Update refined resutls to initial for the next dataset from the previous one\\n')\n",
    "        # try:\n",
    "        #     for key, item in new_guicontrol.fits[i-1].parameters.items():\n",
    "        #         refined = new_guicontrol.fits[i-1].getData(key)\n",
    "        #         new_guicontrol.fits[i+1].parameters[key].setInitial(refined)\n",
    "        # except IndexError:\n",
    "        #     pass\n",
    "        \n",
    "        tqdm_sleep_sec(30, message=f'fitting failed: {i = }, {data_name}')\n",
    "    \n",
    "    print('\\n')\n",
    "    time.sleep(3)\n"
   ]
  },
  {
   "cell_type": "code",
   "execution_count": null,
   "id": "ccd35a39-e275-41be-8629-99cbd7780b21",
   "metadata": {},
   "outputs": [],
   "source": [
    "i"
   ]
  },
  {
   "cell_type": "code",
   "execution_count": null,
   "id": "c75da291-ac40-4fdb-9451-f88c6c92f057",
   "metadata": {},
   "outputs": [],
   "source": []
  },
  {
   "cell_type": "markdown",
   "id": "2b34c6c1-82c7-49a5-a00d-2fadd28fd3c4",
   "metadata": {},
   "source": [
    "## Save the new PDFGuiControl as a ddp file"
   ]
  },
  {
   "cell_type": "code",
   "execution_count": null,
   "id": "254da143-53b0-4d70-aa80-cd28ae493f3f",
   "metadata": {},
   "outputs": [],
   "source": [
    "subpath = '/Users/cheng-hunglin/Documents/Data_LDRD'\n",
    "fn = 'Cs_x-Pb_y-B_z_serial_all5-1.ddp'\n",
    "full_fn = os.path.join(subpath, fn)\n",
    "\n",
    "new_guicontrol.save(projfile=full_fn)"
   ]
  },
  {
   "cell_type": "code",
   "execution_count": null,
   "id": "389b6cfe-6ece-4148-8d19-67c1cd68f538",
   "metadata": {},
   "outputs": [],
   "source": []
  },
  {
   "cell_type": "markdown",
   "id": "278a4560-485c-43b9-8c8e-04b49497c480",
   "metadata": {},
   "source": [
    "## Plot rw for all fittins"
   ]
  },
  {
   "cell_type": "code",
   "execution_count": null,
   "id": "693775c2-aa52-4986-afb4-30d1ee6df203",
   "metadata": {},
   "outputs": [],
   "source": [
    "rw_list = []\n",
    "for i in range(len(gr_serial)+1):\n",
    "    rw = new_guicontrol.fits[i].getData('rw')\n",
    "    rw_list.append(rw)"
   ]
  },
  {
   "cell_type": "code",
   "execution_count": null,
   "id": "9f5641d1-60a2-4993-ae5f-3cf6eab502d9",
   "metadata": {},
   "outputs": [],
   "source": [
    "len(rw_list)"
   ]
  },
  {
   "cell_type": "code",
   "execution_count": null,
   "id": "17a95851-89da-4296-a074-9070a9b94ff4",
   "metadata": {},
   "outputs": [],
   "source": [
    "idx = np.arange(-1, 84, 1)"
   ]
  },
  {
   "cell_type": "code",
   "execution_count": null,
   "id": "4ed2b70d-2bfe-4abc-8bc3-32579ebbdc4f",
   "metadata": {},
   "outputs": [],
   "source": [
    "idx.shape"
   ]
  },
  {
   "cell_type": "code",
   "execution_count": null,
   "id": "0194876e-be24-477f-a483-197c45bedd1c",
   "metadata": {},
   "outputs": [],
   "source": [
    "f = plt.figure(figsize=(15,5))\n",
    "ax = f.gca()\n",
    "ax.plot(idx, rw_list, 'o--')\n",
    "ax.set_ylabel('rw')"
   ]
  },
  {
   "cell_type": "code",
   "execution_count": null,
   "id": "3e33e8d5-7c36-4543-9e3c-26ae8926a68e",
   "metadata": {},
   "outputs": [],
   "source": []
  },
  {
   "cell_type": "markdown",
   "id": "513436f3-7276-408d-b21b-77d96596a160",
   "metadata": {},
   "source": [
    "## Re fitting"
   ]
  },
  {
   "cell_type": "code",
   "execution_count": 58,
   "id": "5ce48583-ae8b-4478-9413-55018b0095aa",
   "metadata": {},
   "outputs": [],
   "source": [
    "fn = '/Users/cheng-hunglin/Documents/Data_LDRD/Cs_x-Pb_y-B_z_serial_all5-1.ddp'\n",
    "ddp_01 = LoadProject(fn)"
   ]
  },
  {
   "cell_type": "code",
   "execution_count": 59,
   "id": "c8c212eb-978b-410b-baef-aa7899e9ff80",
   "metadata": {},
   "outputs": [
    {
     "data": {
      "text/plain": [
       "85"
      ]
     },
     "execution_count": 59,
     "metadata": {},
     "output_type": "execute_result"
    }
   ],
   "source": [
    "len(ddp_01.getFits())"
   ]
  },
  {
   "cell_type": "code",
   "execution_count": 60,
   "id": "8be234f6-11fb-4c42-874c-37db2a5d18d6",
   "metadata": {},
   "outputs": [
    {
     "data": {
      "text/plain": [
       "'Cs_078_Br_092_Pb_000_OLA_020_PF_016_Tol_948_20250608-191128_dc413d_scattering-1_mean_q.gr'"
      ]
     },
     "execution_count": 60,
     "metadata": {},
     "output_type": "execute_result"
    }
   ],
   "source": [
    "ddp_01.getFits()[0].datasets.keys()[0]"
   ]
  },
  {
   "cell_type": "code",
   "execution_count": 61,
   "id": "f563abe8-4ed6-4f03-912e-9d1875a3f7de",
   "metadata": {},
   "outputs": [
    {
     "data": {
      "text/plain": [
       "7.970430408803134"
      ]
     },
     "execution_count": 61,
     "metadata": {},
     "output_type": "execute_result"
    }
   ],
   "source": [
    "ddp_01.getFits()[0].getData(1)"
   ]
  },
  {
   "cell_type": "code",
   "execution_count": 62,
   "id": "afa04a7e-cbe1-403d-96ef-553c09e6a2fe",
   "metadata": {},
   "outputs": [],
   "source": [
    "# ddp_01.getFits()[0].parameters[1].fixed = False"
   ]
  },
  {
   "cell_type": "code",
   "execution_count": 63,
   "id": "e915e3e1-087b-4840-bea0-3c7f7b662992",
   "metadata": {},
   "outputs": [
    {
     "name": "stdout",
     "output_type": "stream",
     "text": [
      "i = 84\n",
      "\n",
      "Data Cs_180_Br_040_Pb_020_PF_020_ fitting is on going\n",
      "\n",
      "\n",
      "******************************************************************************\n",
      "*                      P D F F I T   Version   1.5.1                         *\n",
      "*                                              2025-02-07                    *\n",
      "* -------------------------------------------------------------------------- *\n",
      "* (c) 1998-2007 Trustees of the Michigan State University.                   *\n",
      "* (c) 2008-2025 Trustees of the Columbia University                          *\n",
      "*               in the city of New York.                                     *\n",
      "*                                                                            *\n",
      "* Authors:                                                                   *\n",
      "*     Thomas Proffen        -   Email: tproffen@lanl.gov                     *\n",
      "*     Jacques Bloch         -   Email: bloch@pa.msu.edu                      *\n",
      "*     Christopher Farrow    -   Email: clf2121@columbia.edu                  *\n",
      "*     Pavol Juhas           -   Email: pjuhas@bnl.gov                        *\n",
      "*     Simon Billinge        -   Email: sb2896@columbia.edu                   *\n",
      "******************************************************************************\n",
      "\n",
      "\n",
      "=========================================================================\n",
      "\n",
      " Structure file format  : PDFFIT\n",
      " Phase number           : 1\n",
      " Phase title            : UNNAMED\n",
      "\n",
      " Lattice parameters     : 7.95897             8.57074             11.9884\n",
      "           & angles     : 90                  90                  90\n",
      " Unit cell volume       : 817.781\n",
      " Number density         : 0.0244564\n",
      " Metric tensor          : 63.3452             0                   0\n",
      "                          0                   73.4576             0\n",
      "                          0                   0                   143.722\n",
      "\n",
      " Recip. lat. parameters : 0.125644            0.116676            0.0834139\n",
      "               & angles : 90                  90                  90\n",
      " Recip. unit cell vol.  : 0.00122282\n",
      " Recip. metric tensor   : 0.0157865           0                   0\n",
      "                          0                   0.0136133           0\n",
      "                          0                   0                   0.00695787\n",
      "\n",
      " Structure file format  : PDFFIT\n",
      " Phase number           : 2\n",
      " Phase title            : UNNAMED\n",
      "\n",
      " Lattice parameters     : 13.7974             13.7974             16.3903\n",
      "           & angles     : 90                  90                  120\n",
      " Unit cell volume       : 2702.17\n",
      " Number density         : 0.0140628\n",
      " Metric tensor          : 190.369             -95.1843            0\n",
      "                          -95.1843            190.369             0\n",
      "                          0                   0                   268.641\n",
      "\n",
      " Recip. lat. parameters : 0.0836896           0.0836896           0.0610118\n",
      "               & angles : 90                  90                  60\n",
      " Recip. unit cell vol.  : 0.000370074\n",
      " Recip. metric tensor   : 0.00700396          0.00350198          0\n",
      "                          0.00350198          0.00700396          0\n",
      "                          0                   0                   0.00372244\n",
      "\n",
      " Structure file format  : PDFFIT\n",
      " Phase number           : 3\n",
      " Phase title            : UNNAMED\n",
      "\n",
      " Lattice parameters     : 4.2991              4.2991              4.2991\n",
      "           & angles     : 90                  90                  90\n",
      " Unit cell volume       : 79.4571\n",
      " Number density         : 0.0251708\n",
      " Metric tensor          : 18.4823             0                   0\n",
      "                          0                   18.4823             0\n",
      "                          0                   0                   18.4823\n",
      "\n",
      " Recip. lat. parameters : 0.232607            0.232607            0.232607\n",
      "               & angles : 90                  90                  90\n",
      " Recip. unit cell vol.  : 0.0125854\n",
      " Recip. metric tensor   : 0.0541059           0                   0\n",
      "                          0                   0.0541059           0\n",
      "                          0                   0                   0.0541059\n",
      "\n",
      " Reading 4 columns ...\n",
      " Read PDF data set 1  (r = 1.99 to 60 A, 5802 points) ...\n",
      " ****WARN****\n",
      " Uncertainties on G(r) were absent or unreadable in your input\n",
      " data.  The program reset these uncertainties to unity.  This\n",
      " does not affect at all the refined parameter values.  However,\n",
      " the values of the estimated uncertainties on these refined\n",
      " parameter values are not reliable.\n",
      " ****WARN****\n",
      "\n",
      "*******************\n",
      "Starting refinement\n",
      "*******************\n",
      " Dataset: 1   Phase: 1  2  3  \n",
      "\n",
      "******************************** ITER: 0 ********************************\n",
      "\n",
      " Refinement parameters :\n",
      "   1:  7.977328     2:  8.511567     3: 11.932476     4: 13.764466\n",
      "   5: 16.144591     6:  4.308842   100:  0.182103   101:  0.469103\n",
      " 200:  5.129970   201:  7.979040   202:  5.690000   300:  0.099185\n",
      "\n",
      " chisq.: 2.24699   red.chisq.: 0.000388081   Rw: 0.42112\n",
      "\n",
      "******************************** ITER: 1 ********************************\n",
      "\n",
      " Refinement parameters :\n",
      "   1:  7.977328     2:  8.511567     3: 11.932476     4: 13.764466\n",
      "   5: 16.144591     6:  4.308842   100:  0.182103   101:  0.469103\n",
      " 200:  5.129970   201:  7.979040   202:  5.690000   300:  0.099185\n",
      "\n",
      " chisq.: 2.24699   red.chisq.: 0.000388081   Rw: 0.42112\n",
      "\n",
      "******************************** ITER: 2 ********************************\n",
      "\n",
      " Refinement parameters :\n",
      "   1:  7.977328     2:  8.511567     3: 11.932476     4: 13.764466\n",
      "   5: 16.144591     6:  4.308842   100:  0.182103   101:  0.469103\n",
      " 200:  5.129970   201:  7.979040   202:  5.690000   300:  0.099185\n",
      "\n",
      " chisq.: 2.24699   red.chisq.: 0.000388081   Rw: 0.42112    stagnating\n",
      "\n",
      "******************************** ITER: 3 ********************************\n",
      "\n",
      " Refinement parameters :\n",
      "   1:  7.977328     2:  8.511567     3: 11.932476     4: 13.764466\n",
      "   5: 16.144591     6:  4.308842   100:  0.182103   101:  0.469103\n",
      " 200:  5.129970   201:  7.979040   202:  5.690000   300:  0.099185\n",
      "\n",
      " chisq.: 2.24699   red.chisq.: 0.000388081   Rw: 0.42112    stagnating\n",
      "\n",
      "******************************** ITER: 4 ********************************\n",
      "\n",
      " Refinement parameters :\n",
      "   1:  7.977328     2:  8.511567     3: 11.932476     4: 13.764466\n",
      "   5: 16.144591     6:  4.308842   100:  0.182103   101:  0.469103\n",
      " 200:  5.129970   201:  7.979040   202:  5.690000   300:  0.099185\n",
      "\n",
      " chisq.: 2.24699   red.chisq.: 0.000388081   Rw: 0.42112    stagnating\n",
      "\n",
      "================================ FINAL ==================================\n",
      "\n",
      " Refinement parameters :\n",
      "   1:  7.977328     2:  8.511567     3: 11.932476     4: 13.764466\n",
      "   5: 16.144591     6:  4.308842   100:  0.182103   101:  0.469103\n",
      " 200:  5.129970   201:  7.979040   202:  5.690000   300:  0.099185\n",
      "\n",
      " chisq.: 2.24699   red.chisq.: 0.000388081   Rw: 0.42112\n",
      "\n",
      "\n",
      "Update refined results to initial for the current dataset\n",
      "\n",
      "\n",
      "\n"
     ]
    }
   ],
   "source": [
    "failed_list = []\n",
    "for i in range(len(ddp_01.getFits())):\n",
    "    \n",
    "    clear_output(wait=True)\n",
    "    \n",
    "    data_name = ddp_01.getFits()[i].datasets.keys()[0]\n",
    "    print(f'{i = }\\n')\n",
    "    print(f'Data {data_name[:28]} fitting is on going\\n')\n",
    "\n",
    "    ## Free delta2 for fitting\n",
    "    for k in [200, 201, 202]:\n",
    "        ddp_01.getFits()[i].parameters[k].fixed = False\n",
    "    \n",
    "    try:\n",
    "        ddp_01.getFits()[i].run()\n",
    "\n",
    "        print('\\n')\n",
    "        print('Update refined results to initial for the current dataset\\n')\n",
    "        for key, item in ddp_01.getFits()[i].parameters.items():\n",
    "            refined = ddp_01.getFits()[i].getData(key)\n",
    "            ddp_01.getFits()[i].parameters[key].setInitial(refined)\n",
    "\n",
    "        # print('Update refined results to initial for the next dataset\\n')\n",
    "        # try:\n",
    "        #     for key, item in new_guicontrol.fits[i].parameters.items():\n",
    "        #         refined = new_guicontrol.fits[i].getData(key)\n",
    "        #         new_guicontrol.fits[i+1].parameters[key].setInitial(refined)\n",
    "        # except IndexError:\n",
    "        #     pass\n",
    "        \n",
    "    except calculationError:\n",
    "        ddp_01.getFits()[i].stop()\n",
    "        failed_list.append(data_name)\n",
    "        print(f'Data {data_name[:28]} fitting fialed\\n')\n",
    "        \n",
    "        # print('Update refined resutls to initial for the next dataset from the previous one\\n')\n",
    "        # try:\n",
    "        #     for key, item in new_guicontrol.fits[i-1].parameters.items():\n",
    "        #         refined = new_guicontrol.fits[i-1].getData(key)\n",
    "        #         new_guicontrol.fits[i+1].parameters[key].setInitial(refined)\n",
    "        # except IndexError:\n",
    "        #     pass\n",
    "        \n",
    "        tqdm_sleep_sec(30, message=f'fitting failed: {i = }, {data_name}')\n",
    "    \n",
    "    print('\\n')\n",
    "    time.sleep(3)"
   ]
  },
  {
   "cell_type": "code",
   "execution_count": 64,
   "id": "96f4d5f6-9317-4758-94e9-0098c6f3ec07",
   "metadata": {},
   "outputs": [],
   "source": [
    "ddp_01.getFits()[i].stop()"
   ]
  },
  {
   "cell_type": "code",
   "execution_count": 65,
   "id": "d2339620-620f-4b44-8313-46a35a48e1d8",
   "metadata": {},
   "outputs": [],
   "source": [
    "subpath = '/Users/cheng-hunglin/Documents/Data_LDRD'\n",
    "fn = 'Cs_x-Pb_y-B_z_serial_all5-2.ddp'\n",
    "full_fn = os.path.join(subpath, fn)\n",
    "\n",
    "ddp_01.save(full_fn)"
   ]
  },
  {
   "cell_type": "code",
   "execution_count": 66,
   "id": "aff1bf09-a924-4593-a56d-7d9d4a3da6a4",
   "metadata": {},
   "outputs": [
    {
     "data": {
      "text/plain": [
       "['Cs_010_Br_136_Pb_093_OLA_000_PF_020_Tol_1195_20250608-173020_a5e8e9_scattering-1_mean_q.gr']"
      ]
     },
     "execution_count": 66,
     "metadata": {},
     "output_type": "execute_result"
    }
   ],
   "source": [
    "failed_list"
   ]
  },
  {
   "cell_type": "code",
   "execution_count": null,
   "id": "ae1b050e-a83a-4d86-aabe-b2a9d8583753",
   "metadata": {},
   "outputs": [],
   "source": []
  }
 ],
 "metadata": {
  "kernelspec": {
   "display_name": "Python 3 (ipykernel)",
   "language": "python",
   "name": "python3"
  },
  "language_info": {
   "codemirror_mode": {
    "name": "ipython",
    "version": 3
   },
   "file_extension": ".py",
   "mimetype": "text/x-python",
   "name": "python",
   "nbconvert_exporter": "python",
   "pygments_lexer": "ipython3",
   "version": "3.13.5"
  }
 },
 "nbformat": 4,
 "nbformat_minor": 5
}
