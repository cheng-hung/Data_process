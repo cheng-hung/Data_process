{
 "cells": [
  {
   "cell_type": "code",
   "execution_count": 1,
   "id": "dba2bc8e-8b94-4d27-9d71-1c86eabe821a",
   "metadata": {},
   "outputs": [],
   "source": [
    "import glob\n",
    "import os\n",
    "import re\n",
    "\n",
    "import matplotlib as mpl\n",
    "import matplotlib.pyplot as plt\n",
    "import seaborn as sns\n",
    "import palettable\n",
    "\n",
    "import numpy as np\n",
    "import pandas as pd\n",
    "\n",
    "\n",
    "from scipy import integrate\n",
    "from scipy.optimize import curve_fit\n",
    "# from scipy.signal import find_peaks\n",
    "\n",
    "%matplotlib widget"
   ]
  },
  {
   "cell_type": "code",
   "execution_count": 2,
   "id": "ece54c97-5e88-422a-9355-a345e97c1d3b",
   "metadata": {},
   "outputs": [],
   "source": [
    "plt.close('all')"
   ]
  },
  {
   "cell_type": "code",
   "execution_count": 3,
   "id": "48f3eaa4-f886-4c23-9b7b-763f7d67406a",
   "metadata": {},
   "outputs": [],
   "source": [
    "## Plotting parameters\n",
    "\n",
    "palette2 = palettable.colorbrewer.diverging.RdYlGn_4_r\n",
    "# palette1 = palettable.lightbartlein.diverging.BlueGreen_4_r\n",
    "# palette = pld.Spectral_10_r\n",
    "# cmap1 = palette1.mpl_colormap\n",
    "RdYlGn_4_r = palette2.mpl_colormap\n",
    "# cmap = plt.get_cmap('rainbow')\n",
    "transparency = 0.7\n",
    "labelsize = 20\n",
    "spinewidth = 3\n",
    "fontsize = 26\n",
    "legendsize = 20\n",
    "fontweight = 'bold'\n",
    "labelpad = 6\n",
    "pad = 10\n",
    "linewidth = 2.5\n"
   ]
  },
  {
   "cell_type": "code",
   "execution_count": 4,
   "id": "72322a2c-4634-474f-be00-64b6945cc2b2",
   "metadata": {},
   "outputs": [
    {
     "data": {
      "image/png": "[encoded data removed]",
      "text/html": [
       "<div style=\"vertical-align: middle;\"><strong>RdYlGn_r</strong> </div><div class=\"cmap\"><img alt=\"RdYlGn_r colormap\" title=\"RdYlGn_r\" style=\"border: 1px solid #555;\" src=\"data:image/png;base64,iVBORw0KGgoAAAANSUhEUgAAAgAAAABACAYAAABsv8+/AAAAF3RFWHRUaXRsZQBSZFlsR25fciBjb2xvcm1hcBVEop8AAAAddEVYdERlc2NyaXB0aW9uAFJkWWxHbl9yIGNvbG9ybWFwPDpFtgAAADB0RVh0QXV0aG9yAE1hdHBsb3RsaWIgdjMuNC4zLCBodHRwczovL21hdHBsb3RsaWIub3JnCV3z0wAAADJ0RVh0U29mdHdhcmUATWF0cGxvdGxpYiB2My40LjMsIGh0dHBzOi8vbWF0cGxvdGxpYi5vcmcn+2z0AAAB0UlEQVR4nO3WQXKCQBRAwcFj5Da5ZI4bsghYJRTBoLvXvTETxvmILt708fU5jzHGNH7dlj+maXpY35Yd07reXL/vH4/XD/ePzfnb/W+fd3LOydztfR2+f93/4ryj53Q+7+R5jJNznvycp9/fm+fd98/z8rrex7i4nl98/7p+1/28+7znPt/t5Lrn9b/1+jzn7+Ufy+tuPa/rg/3z43q3bz4493v8ef3q/Pu5L87f3v/V+fvrj+c9O3937u7+rs3ff3/X5u8+18X5u9/B5vcKAIQIAAAIEgAAECQAACBIAABAkAAAgCABAABBAgAAggQAAAQJAAAIEgAAECQAACBIAABAkAAAgCABAABBAgAAggQAAAQJAAAIEgAAECQAACBIAABAkAAAgCABAABBAgAAggQAAAQJAAAIEgAAECQAACBIAABAkAAAgCABAABBAgAAggQAAAQJAAAIEgAAECQAACBIAABAkAAAgCABAABBAgAAggQAAAQJAAAIEgAAECQAACBIAABAkAAAgCABAABBAgAAggQAAAQJAAAIEgAAECQAACBIAABAkAAAgCABAABBAgAAggQAAAQJAAAIEgAAECQAACBIAABAkAAAgCABAABBPww79ouMV4rBAAAAAElFTkSuQmCC\"></div><div style=\"vertical-align: middle; max-width: 514px; display: flex; justify-content: space-between;\"><div style=\"float: left;\"><div title=\"#1a9641ff\" style=\"display: inline-block; width: 1em; height: 1em; margin: 0; vertical-align: middle; border: 1px solid #555; background-color: #1a9641ff;\"></div> under</div><div style=\"margin: 0 auto; display: inline-block;\">bad <div title=\"#00000000\" style=\"display: inline-block; width: 1em; height: 1em; margin: 0; vertical-align: middle; border: 1px solid #555; background-color: #00000000;\"></div></div><div style=\"float: right;\">over <div title=\"#d7191cff\" style=\"display: inline-block; width: 1em; height: 1em; margin: 0; vertical-align: middle; border: 1px solid #555; background-color: #d7191cff;\"></div></div>"
      ],
      "text/plain": [
       "<matplotlib.colors.LinearSegmentedColormap at 0x7f9eb00da160>"
      ]
     },
     "execution_count": 4,
     "metadata": {},
     "output_type": "execute_result"
    }
   ],
   "source": [
    "RdYlGn_4_r"
   ]
  },
  {
   "cell_type": "code",
   "execution_count": 5,
   "id": "f30bcec6-2281-4295-ae28-3ae3475a0207",
   "metadata": {},
   "outputs": [
    {
     "data": {
      "image/png": "[encoded data removed]",
      "text/html": [
       "<div style=\"vertical-align: middle;\"><strong>BlGn</strong> </div><div class=\"cmap\"><img alt=\"BlGn colormap\" title=\"BlGn\" style=\"border: 1px solid #555;\" src=\"data:image/png;base64,iVBORw0KGgoAAAANSUhEUgAAAgAAAABACAYAAABsv8+/AAAAE3RFWHRUaXRsZQBCbEduIGNvbG9ybWFwFgNy6gAAABl0RVh0RGVzY3JpcHRpb24AQmxHbiBjb2xvcm1hcJ2x4nIAAAAwdEVYdEF1dGhvcgBNYXRwbG90bGliIHYzLjQuMywgaHR0cHM6Ly9tYXRwbG90bGliLm9yZwld89MAAAAydEVYdFNvZnR3YXJlAE1hdHBsb3RsaWIgdjMuNC4zLCBodHRwczovL21hdHBsb3RsaWIub3JnJ/ts9AAAAcFJREFUeJzt1sFpw0AQQFHJ5aTANJC+4xSgEQzoYMh/77isd0e2MP/8/vp5H4P3Oa1dF6e1Y7nv0XmvYd8n5xlnXM73cMZHzzd9j9t7Pzjj+H5O+27ek9/lPb/TbzjOsz1v99np3tu712fu3tHtjNvnu59xefejeXazTO/D7d3LtfO8/rW+Xte1c1h7DXNvz7u/Z9g3nLmeZ9q3fubrebd7H5w57ZufeTnL3ff94Mz9M1/Pm3+r3WeP4zhulgGA/0wAAECQAACAIAEAAEECAACCBAAABAkAAAgSAAAQJAAAIEgAAECQAACAIAEAAEECAACCBAAABAkAAAgSAAAQJAAAIEgAAECQAACAIAEAAEECAACCBAAABAkAAAgSAAAQJAAAIEgAAECQAACAIAEAAEECAACCBAAABAkAAAgSAAAQJAAAIEgAAECQAACAIAEAAEECAACCBAAABAkAAAgSAAAQJAAAIEgAAECQAACAIAEAAEECAACCBAAABAkAAAgSAAAQJAAAIEgAAECQAACAIAEAAEECAACCBAAABAkAAAgSAAAQJAAAIEgAAECQAACAIAEAAEECAACCBAAABAkAAAj6Az12VUx8q/GgAAAAAElFTkSuQmCC\"></div><div style=\"vertical-align: middle; max-width: 514px; display: flex; justify-content: space-between;\"><div style=\"float: left;\"><div title=\"#762a83ff\" style=\"display: inline-block; width: 1em; height: 1em; margin: 0; vertical-align: middle; border: 1px solid #555; background-color: #762a83ff;\"></div> under</div><div style=\"margin: 0 auto; display: inline-block;\">bad <div title=\"#00000000\" style=\"display: inline-block; width: 1em; height: 1em; margin: 0; vertical-align: middle; border: 1px solid #555; background-color: #00000000;\"></div></div><div style=\"float: right;\">over <div title=\"#66c2a5ff\" style=\"display: inline-block; width: 1em; height: 1em; margin: 0; vertical-align: middle; border: 1px solid #555; background-color: #66c2a5ff;\"></div></div>"
      ],
      "text/plain": [
       "<matplotlib.colors.LinearSegmentedColormap at 0x7f9ee14c1880>"
      ]
     },
     "execution_count": 5,
     "metadata": {},
     "output_type": "execute_result"
    }
   ],
   "source": [
    "from matplotlib.colors import LinearSegmentedColormap\n",
    "\n",
    "colors = [\n",
    "    # (0.25098039215686274, 0.0, 0.29411764705882354), \n",
    "    (0.4627450980392157, 0.16470588235294117, 0.5137254901960784),\n",
    "    (0.3686274509803922, 0.30980392156862746, 0.6352941176470588), \n",
    "    (0.19607843137254902, 0.5333333333333333, 0.7411764705882353), \n",
    "    (0.4, 0.7607843137254902, 0.6470588235294118),\n",
    " # (0.6705882352941176, 0.8666666666666667, 0.6431372549019608),\n",
    " # (0.6509803921568628, 0.8509803921568627, 0.41568627450980394),\n",
    " # (0.10196078431372549, 0.5882352941176471, 0.2549019607843137), \n",
    "         ]\n",
    "\n",
    "BlGn = LinearSegmentedColormap.from_list('BlGn', colors, N=100)\n",
    "BlGn"
   ]
  },
  {
   "cell_type": "code",
   "execution_count": 6,
   "id": "a68ce55b-4738-4a7f-afb8-d4ce7466c555",
   "metadata": {},
   "outputs": [
    {
     "data": {
      "image/png": "[encoded data removed]",
      "text/html": [
       "<div style=\"vertical-align: middle;\"><strong>BlGn_r</strong> </div><div class=\"cmap\"><img alt=\"BlGn_r colormap\" title=\"BlGn_r\" style=\"border: 1px solid #555;\" src=\"data:image/png;base64,iVBORw0KGgoAAAANSUhEUgAAAgAAAABACAYAAABsv8+/AAAAFXRFWHRUaXRsZQBCbEduX3IgY29sb3JtYXAfU04QAAAAG3RFWHREZXNjcmlwdGlvbgBCbEduX3IgY29sb3JtYXBWxFb0AAAAMHRFWHRBdXRob3IATWF0cGxvdGxpYiB2My40LjMsIGh0dHBzOi8vbWF0cGxvdGxpYi5vcmcJXfPTAAAAMnRFWHRTb2Z0d2FyZQBNYXRwbG90bGliIHYzLjQuMywgaHR0cHM6Ly9tYXRwbG90bGliLm9yZyf7bPQAAAHLSURBVHic7daxccMwEABBUMW6MzfiwkQHDvWcgSwFHt9uiBGAJ6ngjo+vz3MN7vdp7XhYO4e1ae95Tr/bWzunWYbzruf5/Znbe6ffbZ73zJnTjNvfYPu8vVmu1ufn3pxn87zj/vi3ndZuw9paax3n7v5h73T3cN5097z38Y7LuXefe/P5juH5xrm339fV+x7WNve/9r437x3Ou7x783+ypne2ufbS3mfO3P3W757xibnHb/jmeV4572fGvzPPvPZ43Fpr3eZlAOA/EwAAECQAACBIAABAkAAAgCABAABBAgAAggQAAAQJAAAIEgAAECQAACBIAABAkAAAgCABAABBAgAAggQAAAQJAAAIEgAAECQAACBIAABAkAAAgCABAABBAgAAggQAAAQJAAAIEgAAECQAACBIAABAkAAAgCABAABBAgAAggQAAAQJAAAIEgAAECQAACBIAABAkAAAgCABAABBAgAAggQAAAQJAAAIEgAAECQAACBIAABAkAAAgCABAABBAgAAggQAAAQJAAAIEgAAECQAACBIAABAkAAAgCABAABBAgAAggQAAAQJAAAIEgAAECQAACBIAABAkAAAgCABAABBAgAAgr4Bz5nAosONrjUAAAAASUVORK5CYII=\"></div><div style=\"vertical-align: middle; max-width: 514px; display: flex; justify-content: space-between;\"><div style=\"float: left;\"><div title=\"#66c2a5ff\" style=\"display: inline-block; width: 1em; height: 1em; margin: 0; vertical-align: middle; border: 1px solid #555; background-color: #66c2a5ff;\"></div> under</div><div style=\"margin: 0 auto; display: inline-block;\">bad <div title=\"#00000000\" style=\"display: inline-block; width: 1em; height: 1em; margin: 0; vertical-align: middle; border: 1px solid #555; background-color: #00000000;\"></div></div><div style=\"float: right;\">over <div title=\"#762a83ff\" style=\"display: inline-block; width: 1em; height: 1em; margin: 0; vertical-align: middle; border: 1px solid #555; background-color: #762a83ff;\"></div></div>"
      ],
      "text/plain": [
       "<matplotlib.colors.LinearSegmentedColormap at 0x7f9ee14d7ac0>"
      ]
     },
     "execution_count": 6,
     "metadata": {},
     "output_type": "execute_result"
    }
   ],
   "source": [
    "BlGn_r = LinearSegmentedColormap.from_list('BlGn_r', list(reversed(colors)), N=100)\n",
    "BlGn_r"
   ]
  },
  {
   "cell_type": "markdown",
   "id": "2afacf98-8766-4a2b-9984-d08c24895b54",
   "metadata": {},
   "source": [
    "# Prepare uid for dataset grid"
   ]
  },
  {
   "cell_type": "code",
   "execution_count": 7,
   "id": "cd009543-6c6c-40e0-ad86-3f3c1bd0e5d1",
   "metadata": {},
   "outputs": [
    {
     "name": "stdout",
     "output_type": "stream",
     "text": [
      "/Users/chenghunglin/Library/CloudStorage/OneDrive-BrookhavenNationalLaboratory/data_processing/20240201_all_halides/20240201182611_4aa8c3c5_fluorescence\n",
      "/Users/chenghunglin/Library/CloudStorage/OneDrive-BrookhavenNationalLaboratory/data_processing/20240201_all_halides/20240201183536_0b53f605_fluorescence\n",
      "/Users/chenghunglin/Library/CloudStorage/OneDrive-BrookhavenNationalLaboratory/data_processing/20240201_all_halides/20240201184413_aa7df1d9_fluorescence\n",
      "/Users/chenghunglin/Library/CloudStorage/OneDrive-BrookhavenNationalLaboratory/data_processing/20240201_all_halides/20240201185348_d10a8f4e_fluorescence\n",
      "/Users/chenghunglin/Library/CloudStorage/OneDrive-BrookhavenNationalLaboratory/data_processing/20240201_all_halides/20240201190655_fd182abe_fluorescence\n",
      "/Users/chenghunglin/Library/CloudStorage/OneDrive-BrookhavenNationalLaboratory/data_processing/20240201_all_halides/20240201191705_895b4953_fluorescence\n",
      "/Users/chenghunglin/Library/CloudStorage/OneDrive-BrookhavenNationalLaboratory/data_processing/20240201_all_halides/20240201192756_9688da37_fluorescence\n",
      "/Users/chenghunglin/Library/CloudStorage/OneDrive-BrookhavenNationalLaboratory/data_processing/20240201_all_halides/20240201193912_162e3bd4_fluorescence\n",
      "/Users/chenghunglin/Library/CloudStorage/OneDrive-BrookhavenNationalLaboratory/data_processing/20240201_all_halides/20240201194847_259b96e8_fluorescence\n",
      "/Users/chenghunglin/Library/CloudStorage/OneDrive-BrookhavenNationalLaboratory/data_processing/20240201_all_halides/20240201200014_c2799dc7_fluorescence\n"
     ]
    }
   ],
   "source": [
    "#cwd = os.getcwd()\n",
    "# cwd = '/nsls2/users/clin1/Documents/Cheng-Hung/temp/20221108_insitu'\n",
    "onedrive = '/Users/chenghunglin/Library/CloudStorage/OneDrive-BrookhavenNationalLaboratory'\n",
    "cwd = '/data_processing/20240201_all_halides'\n",
    "subfolder = glob.glob(onedrive + cwd + '/**fluorescence**')\n",
    "subfolder.sort()\n",
    "# # del subfolder[-1]\n",
    "print(*subfolder, sep = '\\n')  ## Print one element per line"
   ]
  },
  {
   "cell_type": "code",
   "execution_count": 8,
   "id": "c1474f86-e63d-44bb-a3c2-8cc414ff5f17",
   "metadata": {},
   "outputs": [
    {
     "data": {
      "text/plain": [
       "10"
      ]
     },
     "execution_count": 8,
     "metadata": {},
     "output_type": "execute_result"
    }
   ],
   "source": [
    "len(subfolder)"
   ]
  },
  {
   "cell_type": "markdown",
   "id": "64ef9a0a-46d3-4d78-8db1-24eb8c82757d",
   "metadata": {},
   "source": [
    "## Check filename, uid, pump rate"
   ]
  },
  {
   "cell_type": "code",
   "execution_count": 9,
   "id": "2f870ecf-6e43-4a92-a803-f1df9891f4de",
   "metadata": {},
   "outputs": [],
   "source": [
    "fn_list = []\n",
    "uid_list = []\n",
    "rate_list = []\n",
    "peak_list = []\n",
    "\n",
    "for i in range(len(subfolder)):\n",
    "    data_files = glob.glob(subfolder[i] + f'/**.csv')\n",
    "    data_files.sort()\n",
    "    # del data_files[-1]\n",
    "    filename = os.path.basename(data_files[0])\n",
    "    fn_list.append(filename)\n",
    "    rate_list.append(filename[:35])\n",
    "    with open(data_files[-1], 'r') as data:\n",
    "        line = data.readlines()        # Read data line by ine\n",
    "        uid = line[0].strip('\\n').split(',')[1]\n",
    "        # dds2_p1 = line[5].strip('\\n').split(',')\n",
    "        # dds2_p2 = line[6].strip('\\n').split(',')\n",
    "        # rate = f'{dds2_p1[1]}_{int(float(dds2_p1[2])):03d}_{dds2_p2[1]}_{int(float(dds2_p2[2])):03d}'\n",
    "        \n",
    "        peak = float(line[13].strip('\\n').split(',')[2])\n",
    "        \n",
    "        uid_list.append(uid)\n",
    "        peak_list.append(peak)\n",
    "        # rate_list.append(rate)\n",
    "        \n",
    "    data.close()\n",
    "        "
   ]
  },
  {
   "cell_type": "code",
   "execution_count": 10,
   "id": "76e06a2a-a1da-4b31-bd0f-c1e6543f8fce",
   "metadata": {},
   "outputs": [
    {
     "data": {
      "text/plain": [
       "'CsPb_010_TOABr_086_ZnCl_104_ZnI_000_20240201-200014_c2799dc7_000.csv'"
      ]
     },
     "execution_count": 10,
     "metadata": {},
     "output_type": "execute_result"
    }
   ],
   "source": [
    "filename"
   ]
  },
  {
   "cell_type": "code",
   "execution_count": 11,
   "id": "1fc28867-176d-49cb-8421-31fc9bf215da",
   "metadata": {},
   "outputs": [],
   "source": [
    "# i = 1\n",
    "# print(*rate_list[0+i*6:6+i*6], sep = '\\n')  ## Print one element per line\n",
    "# print('\\n')\n",
    "# print(*uid_lis[0+i*6:6+i*6], sep = '\\n')  ## Print one element per line"
   ]
  },
  {
   "cell_type": "code",
   "execution_count": 12,
   "id": "af299dc7-728e-4b91-af22-17292aa9109c",
   "metadata": {},
   "outputs": [
    {
     "name": "stdout",
     "output_type": "stream",
     "text": [
      "CsPb_010_TOABr_070_ZnCl_000_ZnI_119\n",
      "CsPb_024_TOABr_118_ZnCl_000_ZnI_100\n",
      "CsPb_030_TOABr_151_ZnCl_000_ZnI_098\n",
      "CsPb_019_TOABr_131_ZnCl_000_ZnI_058\n",
      "CsPb_012_TOABr_118_ZnCl_000_ZnI_049\n",
      "CsPb_024_TOABr_116_ZnCl_000_ZnI_033\n",
      "CsPb_010_TOABr_139_ZnCl_005_ZnI_000\n",
      "CsPb_010_TOABr_119_ZnCl_023_ZnI_000\n",
      "CsPb_010_TOABr_148_ZnCl_070_ZnI_000\n",
      "CsPb_010_TOABr_086_ZnCl_104_ZnI_000\n"
     ]
    }
   ],
   "source": [
    "print(*rate_list, sep = '\\n')  ## Print one element per line"
   ]
  },
  {
   "cell_type": "code",
   "execution_count": 13,
   "id": "a4b82275-207a-4b04-8774-3699aefe416d",
   "metadata": {},
   "outputs": [
    {
     "name": "stdout",
     "output_type": "stream",
     "text": [
      "4aa8c3c5-8b44-438e-a227-3a486a3fc3cb\n",
      "0b53f605-d210-4438-9ae4-893f283c0894\n",
      "aa7df1d9-e7da-42f6-b879-c8a54442776a\n",
      "d10a8f4e-f3b9-4e79-bf57-768d75dc37b9\n",
      "fd182abe-8852-4fbb-a9fc-91041f90fc0d\n",
      "895b4953-3176-4161-ba65-7bb377141e4f\n",
      "9688da37-2e94-4df3-acdc-3c66f36e85f5\n",
      "162e3bd4-077f-473b-9d27-9d6eca347126\n",
      "259b96e8-3ff1-4634-af44-4eb782c972d2\n",
      "c2799dc7-ad10-4012-bb6b-c35e7478285f\n"
     ]
    }
   ],
   "source": [
    "print(*uid_list, sep = '\\n')  ## Print one element per line"
   ]
  },
  {
   "cell_type": "code",
   "execution_count": 14,
   "id": "29fdb838-7956-4e21-999d-8c31cddb9b60",
   "metadata": {},
   "outputs": [
    {
     "name": "stdout",
     "output_type": "stream",
     "text": [
      "644.4470217411738\n",
      "610.243251124579\n",
      "589.313340931548\n",
      "536.5959271235996\n",
      "529.0041890995745\n",
      "521.8329232322295\n",
      "504.19394000724935\n",
      "484.05652124753186\n",
      "464.81325702176963\n",
      "436.92245432518166\n"
     ]
    }
   ],
   "source": [
    "print(*peak_list, sep = '\\n')  ## Print one element per line"
   ]
  },
  {
   "cell_type": "code",
   "execution_count": null,
   "id": "c5ef80c4-1ecf-4780-9d90-02a5bc874d4d",
   "metadata": {},
   "outputs": [],
   "source": []
  },
  {
   "cell_type": "code",
   "execution_count": null,
   "id": "55ff1508-3be7-48b0-ad52-b8c922a11fe5",
   "metadata": {},
   "outputs": [],
   "source": []
  },
  {
   "cell_type": "code",
   "execution_count": null,
   "id": "969ca200-56bd-4d86-9384-d80538a19263",
   "metadata": {},
   "outputs": [],
   "source": []
  },
  {
   "cell_type": "markdown",
   "id": "2f2a42a6-d982-43bb-8799-70fcb8f5da3d",
   "metadata": {},
   "source": [
    "# Reading Uv-Vis data in .csv"
   ]
  },
  {
   "cell_type": "markdown",
   "id": "4e0215d5-03da-450f-8ed4-4bb3312276bb",
   "metadata": {},
   "source": [
    "## Find the subfolders in the current working folder (cwd)"
   ]
  },
  {
   "cell_type": "code",
   "execution_count": 15,
   "id": "40df7daf-ea8a-43ec-8a13-a97da5dcfea1",
   "metadata": {},
   "outputs": [
    {
     "name": "stdout",
     "output_type": "stream",
     "text": [
      "/Users/chenghunglin/Library/CloudStorage/OneDrive-BrookhavenNationalLaboratory/data_processing/20240201_all_halides/20240201182611_4aa8c3c5_fluorescence\n",
      "/Users/chenghunglin/Library/CloudStorage/OneDrive-BrookhavenNationalLaboratory/data_processing/20240201_all_halides/20240201183536_0b53f605_fluorescence\n",
      "/Users/chenghunglin/Library/CloudStorage/OneDrive-BrookhavenNationalLaboratory/data_processing/20240201_all_halides/20240201184413_aa7df1d9_fluorescence\n",
      "/Users/chenghunglin/Library/CloudStorage/OneDrive-BrookhavenNationalLaboratory/data_processing/20240201_all_halides/20240201185348_d10a8f4e_fluorescence\n",
      "/Users/chenghunglin/Library/CloudStorage/OneDrive-BrookhavenNationalLaboratory/data_processing/20240201_all_halides/20240201190655_fd182abe_fluorescence\n",
      "/Users/chenghunglin/Library/CloudStorage/OneDrive-BrookhavenNationalLaboratory/data_processing/20240201_all_halides/20240201191705_895b4953_fluorescence\n",
      "/Users/chenghunglin/Library/CloudStorage/OneDrive-BrookhavenNationalLaboratory/data_processing/20240201_all_halides/20240201192756_9688da37_fluorescence\n",
      "/Users/chenghunglin/Library/CloudStorage/OneDrive-BrookhavenNationalLaboratory/data_processing/20240201_all_halides/20240201193912_162e3bd4_fluorescence\n",
      "/Users/chenghunglin/Library/CloudStorage/OneDrive-BrookhavenNationalLaboratory/data_processing/20240201_all_halides/20240201194847_259b96e8_fluorescence\n",
      "/Users/chenghunglin/Library/CloudStorage/OneDrive-BrookhavenNationalLaboratory/data_processing/20240201_all_halides/20240201200014_c2799dc7_fluorescence\n"
     ]
    }
   ],
   "source": [
    "#cwd = os.getcwd()\n",
    "# cwd = '/nsls2/users/clin1/Documents/Cheng-Hung/temp/20221108_insitu'\n",
    "onedrive = '/Users/chenghunglin/Library/CloudStorage/OneDrive-BrookhavenNationalLaboratory'\n",
    "cwd = '/data_processing/20240201_all_halides'\n",
    "subfolder.sort()\n",
    "# # del subfolder[-1]\n",
    "print(*subfolder, sep = '\\n')  ## Print one element per line"
   ]
  },
  {
   "cell_type": "code",
   "execution_count": 16,
   "id": "c2fc6490-12f5-4168-a509-1bc81f9b1bab",
   "metadata": {},
   "outputs": [],
   "source": [
    "# dilute_list = [os.path.basename(i) for i in subfolder]\n",
    "# dilute_list\n",
    "# np.float32(re.findall(r'\\d+', dilute_list[0]))"
   ]
  },
  {
   "cell_type": "code",
   "execution_count": 17,
   "id": "72f7701a-2e46-4dbd-9387-25d5ccb99883",
   "metadata": {},
   "outputs": [],
   "source": [
    "# dilute_ratio = []\n",
    "# for i in range(len(dilute_list)):\n",
    "#     rates = np.float32(re.findall(r'\\d+', dilute_list[i]))\n",
    "#     # c = rates[:2].sum() / rates.sum()\n",
    "#     c = 1/rates[-1]\n",
    "#     dilute_ratio.append(c)\n",
    "# dilute_ratio"
   ]
  },
  {
   "cell_type": "code",
   "execution_count": 18,
   "id": "a76bacf9-06a9-4663-99d0-cc61cabbde1d",
   "metadata": {},
   "outputs": [],
   "source": [
    "# dilute_factor = np.asarray([1.0, 1.0, 1.5, 2.0, 2.0, 2.5, 3.0, 3.5, 4.0])\n",
    "# dilute_ratio = 1/dilute_factor"
   ]
  },
  {
   "cell_type": "code",
   "execution_count": 19,
   "id": "cea864b0-f9c8-4b02-9429-e77c6ed3fb2e",
   "metadata": {},
   "outputs": [],
   "source": [
    "# dilute_ratio"
   ]
  },
  {
   "cell_type": "markdown",
   "id": "8ab0f517-2681-4ba6-95f7-8ce1eb979084",
   "metadata": {},
   "source": [
    "# Flurorescence (PL)"
   ]
  },
  {
   "cell_type": "markdown",
   "id": "b787b446-a3d2-4d4e-b4da-cb381a724d58",
   "metadata": {},
   "source": [
    "## Read PL data into pandas dataframe"
   ]
  },
  {
   "cell_type": "code",
   "execution_count": 20,
   "id": "f68af048-5bc7-46ed-abb4-64a21d34e321",
   "metadata": {},
   "outputs": [],
   "source": [
    "df = pd.DataFrame()\n",
    "# integration_time = ['200ms', '300ms', '400ms', '2000ms', '3000ms', '4000ms']\n",
    "# integration_time = ['300ms']\n",
    "\n",
    "for i in range(len(subfolder)):\n",
    "# for i in range(len(dilute_list)):\n",
    "    data_files = glob.glob(subfolder[i] + f'/**.csv')\n",
    "    data_files.sort()\n",
    "    del data_files[-1]\n",
    "    # suffix = os.path.basename(subfolder_PL[i])\n",
    "    suffix = rate_list[i]\n",
    "    # id0 = 8\n",
    "    # id1 = 22\n",
    "\n",
    "    skiprows = 12 ## skip 23 rows if data processed by dioptas or ## 8\n",
    "    df_int = pd.DataFrame()\n",
    "    df_temp = pd.DataFrame()\n",
    "\n",
    "    for k in range(len(data_files)):        \n",
    "        # df_int = pd.read_csv(data_files[k], skiprows=skiprows, sep='\\t', names=['Wavelength', f'PL_{k:03d}'])\n",
    "        # df_temp = pd.concat([df_temp, df_int[f'PL_{k:03d}']], axis=1, ignore_index=False)\n",
    "        df_int = pd.read_csv(data_files[k], skiprows=skiprows, sep=',')\n",
    "        df_temp = pd.concat([df_temp, df_int['Fluorescence']], axis=1, ignore_index=False)\n",
    "\n",
    "    # df_temp[f'{suffix}_mean'] = df_temp.mean(axis=1)\n",
    "    # df_temp = pd.read_csv(data_files[i], skiprows=skiprows, sep=',')\n",
    "    df[f'x_{suffix}'] = df_int['Wavelength']\n",
    "    df[f'{suffix}_mean'] = df_temp.mean(axis=1)\n",
    "    "
   ]
  },
  {
   "cell_type": "code",
   "execution_count": 21,
   "id": "bd037ad6-5faa-46c0-8e85-fb5f5ee57cc7",
   "metadata": {},
   "outputs": [
    {
     "data": {
      "text/plain": [
       "9"
      ]
     },
     "execution_count": 21,
     "metadata": {},
     "output_type": "execute_result"
    }
   ],
   "source": [
    "i"
   ]
  },
  {
   "cell_type": "markdown",
   "id": "065d21b6-d5a9-48d1-8b9a-645494c52992",
   "metadata": {
    "tags": []
   },
   "source": [
    "## Export PL of dilute CsPbBr3 for PLQY_summary_02.ipynb"
   ]
  },
  {
   "cell_type": "code",
   "execution_count": 22,
   "id": "075856f1-7164-46fd-851f-f135a2c9ef4e",
   "metadata": {},
   "outputs": [],
   "source": [
    "# df_66 = pd.DataFrame()\n",
    "\n",
    "# df_66['Wavelength_01'] = df['x_2E-4M_200ms']\n",
    "# df_66['quinine_0.2mM_PL'] = df['2E-4M_200ms_mean']\n",
    "# df_66['Wavelength_02'] = df2['x_2E-4M_200ms']\n",
    "# df_66['quinine_0.2mM_Abs'] = df2['2E-4M_200ms_mean']\n",
    "\n",
    "# df.to_csv('20230829_CsPbBr_PL.txt', index=False, sep=' ', float_format='{:.5e}'.format)"
   ]
  },
  {
   "cell_type": "code",
   "execution_count": 23,
   "id": "895f3dfa-4a3f-4e26-a6e6-66a804d7c3f8",
   "metadata": {},
   "outputs": [
    {
     "data": {
      "text/html": [
       "<div>\n",
       "<style scoped>\n",
       "    .dataframe tbody tr th:only-of-type {\n",
       "        vertical-align: middle;\n",
       "    }\n",
       "\n",
       "    .dataframe tbody tr th {\n",
       "        vertical-align: top;\n",
       "    }\n",
       "\n",
       "    .dataframe thead th {\n",
       "        text-align: right;\n",
       "    }\n",
       "</style>\n",
       "<table border=\"1\" class=\"dataframe\">\n",
       "  <thead>\n",
       "    <tr style=\"text-align: right;\">\n",
       "      <th></th>\n",
       "      <th>x_CsPb_010_TOABr_070_ZnCl_000_ZnI_119</th>\n",
       "      <th>CsPb_010_TOABr_070_ZnCl_000_ZnI_119_mean</th>\n",
       "      <th>x_CsPb_024_TOABr_118_ZnCl_000_ZnI_100</th>\n",
       "      <th>CsPb_024_TOABr_118_ZnCl_000_ZnI_100_mean</th>\n",
       "      <th>x_CsPb_030_TOABr_151_ZnCl_000_ZnI_098</th>\n",
       "      <th>CsPb_030_TOABr_151_ZnCl_000_ZnI_098_mean</th>\n",
       "      <th>x_CsPb_019_TOABr_131_ZnCl_000_ZnI_058</th>\n",
       "      <th>CsPb_019_TOABr_131_ZnCl_000_ZnI_058_mean</th>\n",
       "      <th>x_CsPb_012_TOABr_118_ZnCl_000_ZnI_049</th>\n",
       "      <th>CsPb_012_TOABr_118_ZnCl_000_ZnI_049_mean</th>\n",
       "      <th>x_CsPb_024_TOABr_116_ZnCl_000_ZnI_033</th>\n",
       "      <th>CsPb_024_TOABr_116_ZnCl_000_ZnI_033_mean</th>\n",
       "      <th>x_CsPb_010_TOABr_139_ZnCl_005_ZnI_000</th>\n",
       "      <th>CsPb_010_TOABr_139_ZnCl_005_ZnI_000_mean</th>\n",
       "      <th>x_CsPb_010_TOABr_119_ZnCl_023_ZnI_000</th>\n",
       "      <th>CsPb_010_TOABr_119_ZnCl_023_ZnI_000_mean</th>\n",
       "      <th>x_CsPb_010_TOABr_148_ZnCl_070_ZnI_000</th>\n",
       "      <th>CsPb_010_TOABr_148_ZnCl_070_ZnI_000_mean</th>\n",
       "      <th>x_CsPb_010_TOABr_086_ZnCl_104_ZnI_000</th>\n",
       "      <th>CsPb_010_TOABr_086_ZnCl_104_ZnI_000_mean</th>\n",
       "    </tr>\n",
       "  </thead>\n",
       "  <tbody>\n",
       "    <tr>\n",
       "      <th>0</th>\n",
       "      <td>197.742294</td>\n",
       "      <td>1.36</td>\n",
       "      <td>197.742294</td>\n",
       "      <td>1.545</td>\n",
       "      <td>197.742294</td>\n",
       "      <td>0.56</td>\n",
       "      <td>197.742294</td>\n",
       "      <td>1.44</td>\n",
       "      <td>197.742294</td>\n",
       "      <td>1.155</td>\n",
       "      <td>197.742294</td>\n",
       "      <td>1.09</td>\n",
       "      <td>197.742294</td>\n",
       "      <td>0.86</td>\n",
       "      <td>197.742294</td>\n",
       "      <td>0.73</td>\n",
       "      <td>197.742294</td>\n",
       "      <td>1.23</td>\n",
       "      <td>197.742294</td>\n",
       "      <td>1.15</td>\n",
       "    </tr>\n",
       "    <tr>\n",
       "      <th>1</th>\n",
       "      <td>198.544478</td>\n",
       "      <td>1.20</td>\n",
       "      <td>198.544478</td>\n",
       "      <td>0.615</td>\n",
       "      <td>198.544478</td>\n",
       "      <td>0.71</td>\n",
       "      <td>198.544478</td>\n",
       "      <td>1.09</td>\n",
       "      <td>198.544478</td>\n",
       "      <td>0.505</td>\n",
       "      <td>198.544478</td>\n",
       "      <td>1.52</td>\n",
       "      <td>198.544478</td>\n",
       "      <td>0.89</td>\n",
       "      <td>198.544478</td>\n",
       "      <td>0.67</td>\n",
       "      <td>198.544478</td>\n",
       "      <td>0.38</td>\n",
       "      <td>198.544478</td>\n",
       "      <td>0.94</td>\n",
       "    </tr>\n",
       "    <tr>\n",
       "      <th>2</th>\n",
       "      <td>199.346597</td>\n",
       "      <td>0.68</td>\n",
       "      <td>199.346597</td>\n",
       "      <td>0.585</td>\n",
       "      <td>199.346597</td>\n",
       "      <td>0.41</td>\n",
       "      <td>199.346597</td>\n",
       "      <td>0.98</td>\n",
       "      <td>199.346597</td>\n",
       "      <td>0.445</td>\n",
       "      <td>199.346597</td>\n",
       "      <td>1.15</td>\n",
       "      <td>199.346597</td>\n",
       "      <td>0.55</td>\n",
       "      <td>199.346597</td>\n",
       "      <td>0.59</td>\n",
       "      <td>199.346597</td>\n",
       "      <td>0.66</td>\n",
       "      <td>199.346597</td>\n",
       "      <td>1.00</td>\n",
       "    </tr>\n",
       "    <tr>\n",
       "      <th>3</th>\n",
       "      <td>200.148650</td>\n",
       "      <td>0.84</td>\n",
       "      <td>200.148650</td>\n",
       "      <td>1.255</td>\n",
       "      <td>200.148650</td>\n",
       "      <td>0.94</td>\n",
       "      <td>200.148650</td>\n",
       "      <td>0.86</td>\n",
       "      <td>200.148650</td>\n",
       "      <td>0.355</td>\n",
       "      <td>200.148650</td>\n",
       "      <td>0.57</td>\n",
       "      <td>200.148650</td>\n",
       "      <td>0.45</td>\n",
       "      <td>200.148650</td>\n",
       "      <td>0.42</td>\n",
       "      <td>200.148650</td>\n",
       "      <td>0.48</td>\n",
       "      <td>200.148650</td>\n",
       "      <td>0.47</td>\n",
       "    </tr>\n",
       "    <tr>\n",
       "      <th>4</th>\n",
       "      <td>200.950637</td>\n",
       "      <td>2.20</td>\n",
       "      <td>200.950637</td>\n",
       "      <td>1.935</td>\n",
       "      <td>200.950637</td>\n",
       "      <td>1.71</td>\n",
       "      <td>200.950637</td>\n",
       "      <td>0.78</td>\n",
       "      <td>200.950637</td>\n",
       "      <td>0.745</td>\n",
       "      <td>200.950637</td>\n",
       "      <td>1.06</td>\n",
       "      <td>200.950637</td>\n",
       "      <td>2.74</td>\n",
       "      <td>200.950637</td>\n",
       "      <td>7.59</td>\n",
       "      <td>200.950637</td>\n",
       "      <td>1.17</td>\n",
       "      <td>200.950637</td>\n",
       "      <td>0.56</td>\n",
       "    </tr>\n",
       "    <tr>\n",
       "      <th>...</th>\n",
       "      <td>...</td>\n",
       "      <td>...</td>\n",
       "      <td>...</td>\n",
       "      <td>...</td>\n",
       "      <td>...</td>\n",
       "      <td>...</td>\n",
       "      <td>...</td>\n",
       "      <td>...</td>\n",
       "      <td>...</td>\n",
       "      <td>...</td>\n",
       "      <td>...</td>\n",
       "      <td>...</td>\n",
       "      <td>...</td>\n",
       "      <td>...</td>\n",
       "      <td>...</td>\n",
       "      <td>...</td>\n",
       "      <td>...</td>\n",
       "      <td>...</td>\n",
       "      <td>...</td>\n",
       "      <td>...</td>\n",
       "    </tr>\n",
       "    <tr>\n",
       "      <th>1039</th>\n",
       "      <td>990.769837</td>\n",
       "      <td>1.48</td>\n",
       "      <td>990.769837</td>\n",
       "      <td>3.215</td>\n",
       "      <td>990.769837</td>\n",
       "      <td>2.75</td>\n",
       "      <td>990.769837</td>\n",
       "      <td>0.83</td>\n",
       "      <td>990.769837</td>\n",
       "      <td>2.665</td>\n",
       "      <td>990.769837</td>\n",
       "      <td>0.92</td>\n",
       "      <td>990.769837</td>\n",
       "      <td>2.34</td>\n",
       "      <td>990.769837</td>\n",
       "      <td>1.27</td>\n",
       "      <td>990.769837</td>\n",
       "      <td>1.89</td>\n",
       "      <td>990.769837</td>\n",
       "      <td>1.34</td>\n",
       "    </tr>\n",
       "    <tr>\n",
       "      <th>1040</th>\n",
       "      <td>991.489165</td>\n",
       "      <td>0.86</td>\n",
       "      <td>991.489165</td>\n",
       "      <td>0.895</td>\n",
       "      <td>991.489165</td>\n",
       "      <td>0.34</td>\n",
       "      <td>991.489165</td>\n",
       "      <td>0.39</td>\n",
       "      <td>991.489165</td>\n",
       "      <td>0.285</td>\n",
       "      <td>991.489165</td>\n",
       "      <td>0.84</td>\n",
       "      <td>991.489165</td>\n",
       "      <td>0.82</td>\n",
       "      <td>991.489165</td>\n",
       "      <td>1.31</td>\n",
       "      <td>991.489165</td>\n",
       "      <td>1.13</td>\n",
       "      <td>991.489165</td>\n",
       "      <td>0.78</td>\n",
       "    </tr>\n",
       "    <tr>\n",
       "      <th>1041</th>\n",
       "      <td>992.208398</td>\n",
       "      <td>0.95</td>\n",
       "      <td>992.208398</td>\n",
       "      <td>0.665</td>\n",
       "      <td>992.208398</td>\n",
       "      <td>0.58</td>\n",
       "      <td>992.208398</td>\n",
       "      <td>1.20</td>\n",
       "      <td>992.208398</td>\n",
       "      <td>0.995</td>\n",
       "      <td>992.208398</td>\n",
       "      <td>1.01</td>\n",
       "      <td>992.208398</td>\n",
       "      <td>0.50</td>\n",
       "      <td>992.208398</td>\n",
       "      <td>0.89</td>\n",
       "      <td>992.208398</td>\n",
       "      <td>0.75</td>\n",
       "      <td>992.208398</td>\n",
       "      <td>1.14</td>\n",
       "    </tr>\n",
       "    <tr>\n",
       "      <th>1042</th>\n",
       "      <td>992.927537</td>\n",
       "      <td>2.17</td>\n",
       "      <td>992.927537</td>\n",
       "      <td>1.495</td>\n",
       "      <td>992.927537</td>\n",
       "      <td>1.07</td>\n",
       "      <td>992.927537</td>\n",
       "      <td>0.83</td>\n",
       "      <td>992.927537</td>\n",
       "      <td>1.115</td>\n",
       "      <td>992.927537</td>\n",
       "      <td>1.30</td>\n",
       "      <td>992.927537</td>\n",
       "      <td>0.70</td>\n",
       "      <td>992.927537</td>\n",
       "      <td>0.93</td>\n",
       "      <td>992.927537</td>\n",
       "      <td>0.60</td>\n",
       "      <td>992.927537</td>\n",
       "      <td>1.00</td>\n",
       "    </tr>\n",
       "    <tr>\n",
       "      <th>1043</th>\n",
       "      <td>993.646582</td>\n",
       "      <td>0.69</td>\n",
       "      <td>993.646582</td>\n",
       "      <td>0.815</td>\n",
       "      <td>993.646582</td>\n",
       "      <td>0.74</td>\n",
       "      <td>993.646582</td>\n",
       "      <td>0.70</td>\n",
       "      <td>993.646582</td>\n",
       "      <td>1.045</td>\n",
       "      <td>993.646582</td>\n",
       "      <td>0.82</td>\n",
       "      <td>993.646582</td>\n",
       "      <td>0.89</td>\n",
       "      <td>993.646582</td>\n",
       "      <td>0.66</td>\n",
       "      <td>993.646582</td>\n",
       "      <td>1.05</td>\n",
       "      <td>993.646582</td>\n",
       "      <td>0.65</td>\n",
       "    </tr>\n",
       "  </tbody>\n",
       "</table>\n",
       "<p>1044 rows × 20 columns</p>\n",
       "</div>"
      ],
      "text/plain": [
       "      x_CsPb_010_TOABr_070_ZnCl_000_ZnI_119  \\\n",
       "0                                197.742294   \n",
       "1                                198.544478   \n",
       "2                                199.346597   \n",
       "3                                200.148650   \n",
       "4                                200.950637   \n",
       "...                                     ...   \n",
       "1039                             990.769837   \n",
       "1040                             991.489165   \n",
       "1041                             992.208398   \n",
       "1042                             992.927537   \n",
       "1043                             993.646582   \n",
       "\n",
       "      CsPb_010_TOABr_070_ZnCl_000_ZnI_119_mean  \\\n",
       "0                                         1.36   \n",
       "1                                         1.20   \n",
       "2                                         0.68   \n",
       "3                                         0.84   \n",
       "4                                         2.20   \n",
       "...                                        ...   \n",
       "1039                                      1.48   \n",
       "1040                                      0.86   \n",
       "1041                                      0.95   \n",
       "1042                                      2.17   \n",
       "1043                                      0.69   \n",
       "\n",
       "      x_CsPb_024_TOABr_118_ZnCl_000_ZnI_100  \\\n",
       "0                                197.742294   \n",
       "1                                198.544478   \n",
       "2                                199.346597   \n",
       "3                                200.148650   \n",
       "4                                200.950637   \n",
       "...                                     ...   \n",
       "1039                             990.769837   \n",
       "1040                             991.489165   \n",
       "1041                             992.208398   \n",
       "1042                             992.927537   \n",
       "1043                             993.646582   \n",
       "\n",
       "      CsPb_024_TOABr_118_ZnCl_000_ZnI_100_mean  \\\n",
       "0                                        1.545   \n",
       "1                                        0.615   \n",
       "2                                        0.585   \n",
       "3                                        1.255   \n",
       "4                                        1.935   \n",
       "...                                        ...   \n",
       "1039                                     3.215   \n",
       "1040                                     0.895   \n",
       "1041                                     0.665   \n",
       "1042                                     1.495   \n",
       "1043                                     0.815   \n",
       "\n",
       "      x_CsPb_030_TOABr_151_ZnCl_000_ZnI_098  \\\n",
       "0                                197.742294   \n",
       "1                                198.544478   \n",
       "2                                199.346597   \n",
       "3                                200.148650   \n",
       "4                                200.950637   \n",
       "...                                     ...   \n",
       "1039                             990.769837   \n",
       "1040                             991.489165   \n",
       "1041                             992.208398   \n",
       "1042                             992.927537   \n",
       "1043                             993.646582   \n",
       "\n",
       "      CsPb_030_TOABr_151_ZnCl_000_ZnI_098_mean  \\\n",
       "0                                         0.56   \n",
       "1                                         0.71   \n",
       "2                                         0.41   \n",
       "3                                         0.94   \n",
       "4                                         1.71   \n",
       "...                                        ...   \n",
       "1039                                      2.75   \n",
       "1040                                      0.34   \n",
       "1041                                      0.58   \n",
       "1042                                      1.07   \n",
       "1043                                      0.74   \n",
       "\n",
       "      x_CsPb_019_TOABr_131_ZnCl_000_ZnI_058  \\\n",
       "0                                197.742294   \n",
       "1                                198.544478   \n",
       "2                                199.346597   \n",
       "3                                200.148650   \n",
       "4                                200.950637   \n",
       "...                                     ...   \n",
       "1039                             990.769837   \n",
       "1040                             991.489165   \n",
       "1041                             992.208398   \n",
       "1042                             992.927537   \n",
       "1043                             993.646582   \n",
       "\n",
       "      CsPb_019_TOABr_131_ZnCl_000_ZnI_058_mean  \\\n",
       "0                                         1.44   \n",
       "1                                         1.09   \n",
       "2                                         0.98   \n",
       "3                                         0.86   \n",
       "4                                         0.78   \n",
       "...                                        ...   \n",
       "1039                                      0.83   \n",
       "1040                                      0.39   \n",
       "1041                                      1.20   \n",
       "1042                                      0.83   \n",
       "1043                                      0.70   \n",
       "\n",
       "      x_CsPb_012_TOABr_118_ZnCl_000_ZnI_049  \\\n",
       "0                                197.742294   \n",
       "1                                198.544478   \n",
       "2                                199.346597   \n",
       "3                                200.148650   \n",
       "4                                200.950637   \n",
       "...                                     ...   \n",
       "1039                             990.769837   \n",
       "1040                             991.489165   \n",
       "1041                             992.208398   \n",
       "1042                             992.927537   \n",
       "1043                             993.646582   \n",
       "\n",
       "      CsPb_012_TOABr_118_ZnCl_000_ZnI_049_mean  \\\n",
       "0                                        1.155   \n",
       "1                                        0.505   \n",
       "2                                        0.445   \n",
       "3                                        0.355   \n",
       "4                                        0.745   \n",
       "...                                        ...   \n",
       "1039                                     2.665   \n",
       "1040                                     0.285   \n",
       "1041                                     0.995   \n",
       "1042                                     1.115   \n",
       "1043                                     1.045   \n",
       "\n",
       "      x_CsPb_024_TOABr_116_ZnCl_000_ZnI_033  \\\n",
       "0                                197.742294   \n",
       "1                                198.544478   \n",
       "2                                199.346597   \n",
       "3                                200.148650   \n",
       "4                                200.950637   \n",
       "...                                     ...   \n",
       "1039                             990.769837   \n",
       "1040                             991.489165   \n",
       "1041                             992.208398   \n",
       "1042                             992.927537   \n",
       "1043                             993.646582   \n",
       "\n",
       "      CsPb_024_TOABr_116_ZnCl_000_ZnI_033_mean  \\\n",
       "0                                         1.09   \n",
       "1                                         1.52   \n",
       "2                                         1.15   \n",
       "3                                         0.57   \n",
       "4                                         1.06   \n",
       "...                                        ...   \n",
       "1039                                      0.92   \n",
       "1040                                      0.84   \n",
       "1041                                      1.01   \n",
       "1042                                      1.30   \n",
       "1043                                      0.82   \n",
       "\n",
       "      x_CsPb_010_TOABr_139_ZnCl_005_ZnI_000  \\\n",
       "0                                197.742294   \n",
       "1                                198.544478   \n",
       "2                                199.346597   \n",
       "3                                200.148650   \n",
       "4                                200.950637   \n",
       "...                                     ...   \n",
       "1039                             990.769837   \n",
       "1040                             991.489165   \n",
       "1041                             992.208398   \n",
       "1042                             992.927537   \n",
       "1043                             993.646582   \n",
       "\n",
       "      CsPb_010_TOABr_139_ZnCl_005_ZnI_000_mean  \\\n",
       "0                                         0.86   \n",
       "1                                         0.89   \n",
       "2                                         0.55   \n",
       "3                                         0.45   \n",
       "4                                         2.74   \n",
       "...                                        ...   \n",
       "1039                                      2.34   \n",
       "1040                                      0.82   \n",
       "1041                                      0.50   \n",
       "1042                                      0.70   \n",
       "1043                                      0.89   \n",
       "\n",
       "      x_CsPb_010_TOABr_119_ZnCl_023_ZnI_000  \\\n",
       "0                                197.742294   \n",
       "1                                198.544478   \n",
       "2                                199.346597   \n",
       "3                                200.148650   \n",
       "4                                200.950637   \n",
       "...                                     ...   \n",
       "1039                             990.769837   \n",
       "1040                             991.489165   \n",
       "1041                             992.208398   \n",
       "1042                             992.927537   \n",
       "1043                             993.646582   \n",
       "\n",
       "      CsPb_010_TOABr_119_ZnCl_023_ZnI_000_mean  \\\n",
       "0                                         0.73   \n",
       "1                                         0.67   \n",
       "2                                         0.59   \n",
       "3                                         0.42   \n",
       "4                                         7.59   \n",
       "...                                        ...   \n",
       "1039                                      1.27   \n",
       "1040                                      1.31   \n",
       "1041                                      0.89   \n",
       "1042                                      0.93   \n",
       "1043                                      0.66   \n",
       "\n",
       "      x_CsPb_010_TOABr_148_ZnCl_070_ZnI_000  \\\n",
       "0                                197.742294   \n",
       "1                                198.544478   \n",
       "2                                199.346597   \n",
       "3                                200.148650   \n",
       "4                                200.950637   \n",
       "...                                     ...   \n",
       "1039                             990.769837   \n",
       "1040                             991.489165   \n",
       "1041                             992.208398   \n",
       "1042                             992.927537   \n",
       "1043                             993.646582   \n",
       "\n",
       "      CsPb_010_TOABr_148_ZnCl_070_ZnI_000_mean  \\\n",
       "0                                         1.23   \n",
       "1                                         0.38   \n",
       "2                                         0.66   \n",
       "3                                         0.48   \n",
       "4                                         1.17   \n",
       "...                                        ...   \n",
       "1039                                      1.89   \n",
       "1040                                      1.13   \n",
       "1041                                      0.75   \n",
       "1042                                      0.60   \n",
       "1043                                      1.05   \n",
       "\n",
       "      x_CsPb_010_TOABr_086_ZnCl_104_ZnI_000  \\\n",
       "0                                197.742294   \n",
       "1                                198.544478   \n",
       "2                                199.346597   \n",
       "3                                200.148650   \n",
       "4                                200.950637   \n",
       "...                                     ...   \n",
       "1039                             990.769837   \n",
       "1040                             991.489165   \n",
       "1041                             992.208398   \n",
       "1042                             992.927537   \n",
       "1043                             993.646582   \n",
       "\n",
       "      CsPb_010_TOABr_086_ZnCl_104_ZnI_000_mean  \n",
       "0                                         1.15  \n",
       "1                                         0.94  \n",
       "2                                         1.00  \n",
       "3                                         0.47  \n",
       "4                                         0.56  \n",
       "...                                        ...  \n",
       "1039                                      1.34  \n",
       "1040                                      0.78  \n",
       "1041                                      1.14  \n",
       "1042                                      1.00  \n",
       "1043                                      0.65  \n",
       "\n",
       "[1044 rows x 20 columns]"
      ]
     },
     "execution_count": 23,
     "metadata": {},
     "output_type": "execute_result"
    }
   ],
   "source": [
    "df"
   ]
  },
  {
   "cell_type": "markdown",
   "id": "cfb8a913-ea0d-4edc-b6b1-df5d105de03c",
   "metadata": {},
   "source": [
    "## Check data in pd dataframe"
   ]
  },
  {
   "cell_type": "code",
   "execution_count": 24,
   "id": "d455a236-952c-4086-9335-f56a5e8ad817",
   "metadata": {},
   "outputs": [
    {
     "data": {
      "text/plain": [
       "Index(['x_CsPb_010_TOABr_070_ZnCl_000_ZnI_119',\n",
       "       'CsPb_010_TOABr_070_ZnCl_000_ZnI_119_mean',\n",
       "       'x_CsPb_024_TOABr_118_ZnCl_000_ZnI_100',\n",
       "       'CsPb_024_TOABr_118_ZnCl_000_ZnI_100_mean',\n",
       "       'x_CsPb_030_TOABr_151_ZnCl_000_ZnI_098',\n",
       "       'CsPb_030_TOABr_151_ZnCl_000_ZnI_098_mean',\n",
       "       'x_CsPb_019_TOABr_131_ZnCl_000_ZnI_058',\n",
       "       'CsPb_019_TOABr_131_ZnCl_000_ZnI_058_mean',\n",
       "       'x_CsPb_012_TOABr_118_ZnCl_000_ZnI_049',\n",
       "       'CsPb_012_TOABr_118_ZnCl_000_ZnI_049_mean',\n",
       "       'x_CsPb_024_TOABr_116_ZnCl_000_ZnI_033',\n",
       "       'CsPb_024_TOABr_116_ZnCl_000_ZnI_033_mean',\n",
       "       'x_CsPb_010_TOABr_139_ZnCl_005_ZnI_000',\n",
       "       'CsPb_010_TOABr_139_ZnCl_005_ZnI_000_mean',\n",
       "       'x_CsPb_010_TOABr_119_ZnCl_023_ZnI_000',\n",
       "       'CsPb_010_TOABr_119_ZnCl_023_ZnI_000_mean',\n",
       "       'x_CsPb_010_TOABr_148_ZnCl_070_ZnI_000',\n",
       "       'CsPb_010_TOABr_148_ZnCl_070_ZnI_000_mean',\n",
       "       'x_CsPb_010_TOABr_086_ZnCl_104_ZnI_000',\n",
       "       'CsPb_010_TOABr_086_ZnCl_104_ZnI_000_mean'],\n",
       "      dtype='object')"
      ]
     },
     "execution_count": 24,
     "metadata": {},
     "output_type": "execute_result"
    }
   ],
   "source": [
    "df.keys()"
   ]
  },
  {
   "cell_type": "code",
   "execution_count": 25,
   "id": "bca4bba8-787f-4bd4-a604-e693b9cdbe9b",
   "metadata": {},
   "outputs": [
    {
     "data": {
      "text/plain": [
       "(1044, 20)"
      ]
     },
     "execution_count": 25,
     "metadata": {},
     "output_type": "execute_result"
    }
   ],
   "source": [
    "df.shape"
   ]
  },
  {
   "cell_type": "markdown",
   "id": "6a23f62a-e218-44f5-9c15-0b5560225e4f",
   "metadata": {
    "tags": []
   },
   "source": [
    "## Prepare keys for average scans in pd dataframe"
   ]
  },
  {
   "cell_type": "code",
   "execution_count": 26,
   "id": "02d18092-3e89-4f15-8f48-b8d3dd73a244",
   "metadata": {
    "tags": []
   },
   "outputs": [
    {
     "data": {
      "text/plain": [
       "['x_CsPb_010_TOABr_070_ZnCl_000_ZnI_119',\n",
       " 'CsPb_010_TOABr_070_ZnCl_000_ZnI_119_mean',\n",
       " 'x_CsPb_024_TOABr_118_ZnCl_000_ZnI_100',\n",
       " 'CsPb_024_TOABr_118_ZnCl_000_ZnI_100_mean',\n",
       " 'x_CsPb_030_TOABr_151_ZnCl_000_ZnI_098',\n",
       " 'CsPb_030_TOABr_151_ZnCl_000_ZnI_098_mean',\n",
       " 'x_CsPb_019_TOABr_131_ZnCl_000_ZnI_058',\n",
       " 'CsPb_019_TOABr_131_ZnCl_000_ZnI_058_mean',\n",
       " 'x_CsPb_012_TOABr_118_ZnCl_000_ZnI_049',\n",
       " 'CsPb_012_TOABr_118_ZnCl_000_ZnI_049_mean',\n",
       " 'x_CsPb_024_TOABr_116_ZnCl_000_ZnI_033',\n",
       " 'CsPb_024_TOABr_116_ZnCl_000_ZnI_033_mean',\n",
       " 'x_CsPb_010_TOABr_139_ZnCl_005_ZnI_000',\n",
       " 'CsPb_010_TOABr_139_ZnCl_005_ZnI_000_mean',\n",
       " 'x_CsPb_010_TOABr_119_ZnCl_023_ZnI_000',\n",
       " 'CsPb_010_TOABr_119_ZnCl_023_ZnI_000_mean',\n",
       " 'x_CsPb_010_TOABr_148_ZnCl_070_ZnI_000',\n",
       " 'CsPb_010_TOABr_148_ZnCl_070_ZnI_000_mean',\n",
       " 'x_CsPb_010_TOABr_086_ZnCl_104_ZnI_000',\n",
       " 'CsPb_010_TOABr_086_ZnCl_104_ZnI_000_mean']"
      ]
     },
     "execution_count": 26,
     "metadata": {},
     "output_type": "execute_result"
    }
   ],
   "source": [
    "keys_list = list(df.keys())\n",
    "# k1 = [k for k in keys_list if 'mean' in k]\n",
    "keys_list"
   ]
  },
  {
   "cell_type": "code",
   "execution_count": 27,
   "id": "934734f1-3025-41f5-96de-ba006f4fa2a3",
   "metadata": {},
   "outputs": [
    {
     "name": "stdout",
     "output_type": "stream",
     "text": [
      "CsPb_010_TOABr_070_ZnCl_000_ZnI_119_mean\n",
      "CsPb_024_TOABr_118_ZnCl_000_ZnI_100_mean\n",
      "CsPb_030_TOABr_151_ZnCl_000_ZnI_098_mean\n",
      "CsPb_019_TOABr_131_ZnCl_000_ZnI_058_mean\n",
      "CsPb_012_TOABr_118_ZnCl_000_ZnI_049_mean\n",
      "CsPb_024_TOABr_116_ZnCl_000_ZnI_033_mean\n",
      "CsPb_010_TOABr_139_ZnCl_005_ZnI_000_mean\n",
      "CsPb_010_TOABr_119_ZnCl_023_ZnI_000_mean\n",
      "CsPb_010_TOABr_148_ZnCl_070_ZnI_000_mean\n",
      "CsPb_010_TOABr_086_ZnCl_104_ZnI_000_mean\n"
     ]
    }
   ],
   "source": [
    "# title = [os.path.basename(subfolder[i]) for i in range(len(subfolder))]\n",
    "title = keys_list[1::2]\n",
    "print(*title, sep='\\n')\n",
    "\n",
    "# label1 = ['quinine_1E-4M', 'quinine_2E-4M', 'quinine_5E-4M']\n",
    "#          # 'Insitu CsPb 6mM + Br 6 mM + ZnI2 128uL/min']\n",
    "\n",
    "# label2 = ['200ms', '300ms']\n",
    "#          # 'ZnI2 128 uL/min']"
   ]
  },
  {
   "cell_type": "markdown",
   "id": "bba1c2f4-c604-41d4-bb1c-e3b03a40199a",
   "metadata": {},
   "source": [
    "## Preapre color index for Cl and I exchabge"
   ]
  },
  {
   "cell_type": "code",
   "execution_count": 28,
   "id": "af35b6bc-80be-4326-bacf-016a009b8b27",
   "metadata": {},
   "outputs": [],
   "source": [
    "def find_nearest(array, value):\n",
    "    array = np.asarray(array)\n",
    "    idx = (np.abs(array - value)).argmin()\n",
    "    return idx, array[idx]\n",
    "\n",
    "\n",
    "\n",
    "def color_idx_map_halides(peak_wavelength, halide_w_range=[420, 520, 660]):\n",
    "    \n",
    "    from matplotlib.colors import LinearSegmentedColormap\n",
    "    colors = [\n",
    "        # (0.25098039215686274, 0.0, 0.29411764705882354), \n",
    "        (0.4627450980392157, 0.16470588235294117, 0.5137254901960784),\n",
    "        (0.3686274509803922, 0.30980392156862746, 0.6352941176470588), \n",
    "        (0.19607843137254902, 0.5333333333333333, 0.7411764705882353), \n",
    "        (0.4, 0.7607843137254902, 0.6470588235294118),\n",
    "     # (0.6705882352941176, 0.8666666666666667, 0.6431372549019608),\n",
    "     # (0.6509803921568628, 0.8509803921568627, 0.41568627450980394),\n",
    "     # (0.10196078431372549, 0.5882352941176471, 0.2549019607843137), \n",
    "             ]\n",
    "    BlGn = LinearSegmentedColormap.from_list('BlGn', colors, N=100)\n",
    "    \n",
    "    if  peak_wavelength >= halide_w_range[0] and peak_wavelength < halide_w_range[1]:\n",
    "        wavelength_range=[halide_w_range[0], halide_w_range[1]]\n",
    "        cmap = BlGn\n",
    "    elif peak_wavelength >= halide_w_range[1] and peak_wavelength <= halide_w_range[2]:\n",
    "        wavelength_range=[halide_w_range[1], halide_w_range[2]]\n",
    "        cmap = RdYlGn_4_r\n",
    "        \n",
    "    else:\n",
    "        raise ValueError(f'Peak at {peak_wavelength} nm is not in the range of {halide_w_range} nm.')\n",
    "    \n",
    "    w1 = wavelength_range[0]  ## in nm\n",
    "    w2 = wavelength_range[1]  ## in nm\n",
    "    w_steps = abs(int(2*(w2-w1)))\n",
    "    w_array = np.linspace(w1, w2, w_steps)\n",
    "    color_array = np.linspace(0, 1, w_steps)\n",
    "    idx, _ = find_nearest(w_array, peak_wavelength)\n",
    "    # ax.plot(x, y, label=label, color=cmap(color_array[idx]))\n",
    "    \n",
    "    color = cmap(color_array[idx])\n",
    "    \n",
    "    return color\n",
    "    \n",
    "    \n",
    "#     wavelength_Cl = [420, 520]\n",
    "#     wavelength_I = [520, 660]\n",
    "\n",
    "#     Cl1 = wavelength_Cl[0]  ## in nm\n",
    "#     Cl2 = wavelength_Cl[1]  ## in nm\n",
    "#     I1 = wavelength_I[0]  ## in nm\n",
    "#     I2 = wavelength_I[1]  ## in nm\n",
    "\n",
    "#     Cl_steps = abs(int(2*(Cl2-Cl1)))\n",
    "#     Cl_array = np.linspace(Cl1, Cl2, Cl_steps)\n",
    "#     Cl_color_array = np.linspace(0, 1, Cl_steps)\n",
    "#     idx, _ = find_nearest(Cl_array, wavelength)\n",
    "\n",
    "#     I_steps = abs(int(2*(I2-I1)))\n",
    "#     I_array = np.linspace(I1, I2, I_steps)\n",
    "#     I_color_array = np.linspace(0, 1, I_steps)\n",
    "#     idx, _ = find_nearest(I_array, wavelength)"
   ]
  },
  {
   "cell_type": "code",
   "execution_count": 29,
   "id": "ebfd8675-d817-44cb-ad2f-df988e7e6345",
   "metadata": {},
   "outputs": [
    {
     "data": {
      "text/plain": [
       "(0.3771836007130125, 0.2966131907308378, 0.6242424242424242, 1.0)"
      ]
     },
     "execution_count": 29,
     "metadata": {},
     "output_type": "execute_result"
    }
   ],
   "source": [
    "color_idx_map_halides(450)"
   ]
  },
  {
   "cell_type": "markdown",
   "id": "4643ce95-f0b5-46b7-8907-74598db4e70d",
   "metadata": {},
   "source": [
    "## Plot all PL scans together"
   ]
  },
  {
   "cell_type": "code",
   "execution_count": 30,
   "id": "20e68e0e-3498-49a5-9ac0-6e500715d286",
   "metadata": {},
   "outputs": [
    {
     "data": {
      "application/vnd.jupyter.widget-view+json": {
       "model_id": "427218990939434e8fd525c33c496d21",
       "version_major": 2,
       "version_minor": 0
      },
      "image/png": "[encoded data removed]",
      "text/html": [
       "\n",
       "            <div style=\"display: inline-block;\">\n",
       "                <div class=\"jupyter-widgets widget-label\" style=\"text-align: center;\">\n",
       "                    Figure\n",
       "                </div>\n",
       "                <img src='data:image/png;base64,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' width=800.0/>\n",
       "            </div>\n",
       "        "
      ],
      "text/plain": [
       "Canvas(toolbar=Toolbar(toolitems=[('Home', 'Reset original view', 'home', 'home'), ('Back', 'Back to previous …"
      ]
     },
     "metadata": {},
     "output_type": "display_data"
    }
   ],
   "source": [
    "f1, ax1 = plt.subplots(1, 1, figsize = (8, 6), constrained_layout=True)\n",
    "# f1, (ax1, ax2) = plt.subplots(1, 2, figsize = (6, 9), gridspec_kw={'width_ratios': [1,1]})\n",
    "\n",
    "label = title\n",
    "k = len(title)\n",
    "color_idx = np.linspace(0, 1, k)\n",
    "# linestyle = ['solid', 'dashed', 'solid', 'dashed', 'solid', 'dashed']\n",
    "id0 = 8\n",
    "id1 = 30\n",
    "\n",
    "for i in range(len(title)):\n",
    "    # ax1.plot(df_tth.iloc[:,i], df_int[k1[i]]+offset*i, color=cmap(color_idx[i]), label=label[i])\n",
    "    # t = re.findall(r'\\d+', title[i])[-1]\n",
    "    ax1.plot(df[keys_list[i*2]], df[keys_list[i*2+1]], color=color_idx_map_halides(peak_list[i]), label=label[i][:id1])\n",
    "        \n",
    "legend_properties = {'weight':'bold', 'size':10}    \n",
    "ax1.legend(prop=legend_properties)\n",
    "# ax1[1].legend(prop=legend_properties)\n",
    "\n",
    "ax1.set_xlim(400, 700)\n",
    "# ax1.set_ylim(2500, 9500)\n",
    "# ax1.set_xlabel('tth (degree)', fontsize=16, fontweight='regular')\n",
    "# ax1.set_ylabel('Intensity', fontsize=16, fontweight='regular')\n",
    "# ax1.tick_params(axis='both', direction='out', labelsize=12, size=4, width=1)\n",
    "spinewidth = 1.5\n",
    "ax1.spines[\"bottom\"].set_linewidth(spinewidth)\n",
    "ax1.spines[\"right\"].set_linewidth(spinewidth)\n",
    "ax1.spines[\"top\"].set_linewidth(spinewidth)\n",
    "ax1.spines[\"left\"].set_linewidth(spinewidth)\n",
    "\n",
    "imag_name = '20221228_ZnI2_tth_01.png'\n",
    "# cwd = '/Users/chenghunglin/Library/CloudStorage/OneDrive-BrookhavenNationalLaboratory/data_processing/20221127_Cl_Br_I'\n",
    "# plt.savefig(cwd + '/' + imag_name, dpi = 600,  transparent=True)\n",
    "\n",
    "\n",
    "### Define integrate range ###\n",
    "def find_nearest(array, value):\n",
    "    array = np.asarray(array)\n",
    "    idx = (np.abs(array - value)).argmin()\n",
    "    return idx, array[idx]\n",
    "\n",
    "wavelength_range = [390, 750]\n",
    "idx_w0, w0 = find_nearest(df[keys_list[0]], wavelength_range[0])\n",
    "idx_w1, w1 = find_nearest(df[keys_list[0]], wavelength_range[1])\n",
    "\n",
    "# ax1.axvline(w0)\n",
    "# ax1.axvline(w1)"
   ]
  },
  {
   "cell_type": "code",
   "execution_count": null,
   "id": "41aa8e68-34e4-411a-8447-96c4299efa4a",
   "metadata": {},
   "outputs": [],
   "source": []
  },
  {
   "cell_type": "code",
   "execution_count": null,
   "id": "6c07f5fc-2122-4894-8aad-a45a5868e282",
   "metadata": {},
   "outputs": [],
   "source": []
  },
  {
   "cell_type": "code",
   "execution_count": null,
   "id": "4d68dd46-2f22-4af2-b026-4a3dbd98b9f6",
   "metadata": {},
   "outputs": [],
   "source": []
  },
  {
   "cell_type": "code",
   "execution_count": null,
   "id": "8e561b83-5b0b-4c32-9682-64004a9d45ad",
   "metadata": {},
   "outputs": [],
   "source": []
  },
  {
   "cell_type": "code",
   "execution_count": null,
   "id": "aa74310a-3336-47b0-bc99-30e9f18d3f9d",
   "metadata": {},
   "outputs": [],
   "source": []
  },
  {
   "cell_type": "code",
   "execution_count": null,
   "id": "03e58071-f9b7-420d-9363-ed733169240c",
   "metadata": {},
   "outputs": [],
   "source": []
  },
  {
   "cell_type": "code",
   "execution_count": null,
   "id": "22bc7e20-7dd8-41cb-86b7-c855d9679c9e",
   "metadata": {},
   "outputs": [],
   "source": []
  },
  {
   "cell_type": "markdown",
   "id": "34d90fbb-e96c-411d-8c08-91af7ac40692",
   "metadata": {},
   "source": [
    "## Create new folder \"plqy\" for saving data"
   ]
  },
  {
   "cell_type": "code",
   "execution_count": null,
   "id": "ca41303a-e160-4039-9348-ef239c4355c4",
   "metadata": {},
   "outputs": [],
   "source": [
    "new_dir = cwd + '/plqy'\n",
    "\n",
    "try:\n",
    "    os.mkdir(new_dir)\n",
    "except FileExistsError:\n",
    "    pass\n",
    "\n",
    "# if os.path.exists(new_dir):\n",
    "#     pass\n",
    "# else:\n",
    "#     os.mkdir(new_dir)"
   ]
  },
  {
   "cell_type": "markdown",
   "id": "b086155a-ab74-4cc1-8c3f-6f87096f2397",
   "metadata": {},
   "source": [
    "## Integrate peak area"
   ]
  },
  {
   "cell_type": "code",
   "execution_count": null,
   "id": "2f19e053-0d06-4e83-9763-887d2cc99c8e",
   "metadata": {},
   "outputs": [],
   "source": [
    "simpson_int = []\n",
    "for i in range(len(title)):\n",
    "    x = df[keys_list[i*2]][idx_w0:idx_w1]\n",
    "    y = df[keys_list[i*2+1]][idx_w0:idx_w1]\n",
    "    simpson_int.append(integrate.simpson(y, x))\n",
    "\n",
    "df_int = pd.DataFrame()\n",
    "df_int['Data_source'] = [title[i] for i in range(len(title))]\n",
    "df_int['Simpson_integrate'] = simpson_int\n",
    "df_int"
   ]
  },
  {
   "cell_type": "markdown",
   "id": "7c195eaf-1ed8-49f7-a9e0-484b1a287cdf",
   "metadata": {},
   "source": [
    "## Save Simpson integrate of PL peak"
   ]
  },
  {
   "cell_type": "code",
   "execution_count": null,
   "id": "f2e5b196-156c-4789-9ae6-728278222b85",
   "metadata": {},
   "outputs": [],
   "source": [
    "# df_int.to_csv(os.path.join(new_dir, 'Cs_Br_66mM_all_simpson_integrate.csv'), index=False, sep=',', float_format='{:.8e}'.format)"
   ]
  },
  {
   "cell_type": "code",
   "execution_count": null,
   "id": "59f71b40-7c2c-4bd1-a868-e7a7acc4764e",
   "metadata": {},
   "outputs": [],
   "source": [
    "# df_int.to_csv('Cs_Br_66mM_all_simpson_integrate.txt', index=False, sep=' ', float_format='{:.5e}'.format)"
   ]
  },
  {
   "cell_type": "code",
   "execution_count": null,
   "id": "b16e9f64-5341-4f6d-ba92-8fb4280239ae",
   "metadata": {},
   "outputs": [],
   "source": []
  },
  {
   "cell_type": "code",
   "execution_count": null,
   "id": "2fbb2216-6462-42a1-955a-c0dbc2175cae",
   "metadata": {},
   "outputs": [],
   "source": []
  },
  {
   "cell_type": "markdown",
   "id": "aeeae1bd-d941-4945-b211-5e96a1f1c1e6",
   "metadata": {},
   "source": [
    "# Absorbance"
   ]
  },
  {
   "cell_type": "markdown",
   "id": "99fd6921-67e1-4763-82a2-fffdfd9c25c8",
   "metadata": {},
   "source": [
    "### Read Abs data into pandas dataframe"
   ]
  },
  {
   "cell_type": "code",
   "execution_count": null,
   "id": "0472bc15-17d7-4e12-bbe4-b38aeba220ab",
   "metadata": {
    "tags": []
   },
   "outputs": [],
   "source": [
    "# df_x = pd.DataFrame()\n",
    "# df_int = pd.DataFrame()\n",
    "df2 = pd.DataFrame()\n",
    "# integration_time = ['200ms', '300ms', '400ms', '2000ms', '3000ms', '4000ms']\n",
    "# integration_time = ['20ms']\n",
    "\n",
    "# for i in range(len(subfolder)):\n",
    "for i in range(len(dilute_list)):\n",
    "    # data_files = subfolder\n",
    "    data_files = glob.glob(subfolder[i] + f'/**absorbance**/**.csv')\n",
    "    data_files.sort()\n",
    "    # del data_files[0]\n",
    "    # suffix = os.path.basename(subfolder_PL[i])\n",
    "    suffix = dilute_list[i]\n",
    "    # id0 = 8\n",
    "    # id1 = 22\n",
    "\n",
    "    skiprows = 10 ## skip 23 rows if data processed by dioptas or ## 8\n",
    "    df_int = pd.DataFrame()\n",
    "    df_temp = pd.DataFrame()\n",
    "\n",
    "    for k in range(len(data_files)):        \n",
    "        # df_int = pd.read_csv(data_files[k], skiprows=skiprows, sep='\\t', names=['Wavelength', f'Abs_{k:03d}'])\n",
    "        # df_temp = pd.concat([df_temp, df_int[f'Abs_{k:03d}']], axis=1, ignore_index=False)\n",
    "        df_int = pd.read_csv(data_files[k], skiprows=skiprows, sep=',')\n",
    "        df_temp = pd.concat([df_temp, df_int['Absorbance']], axis=1, ignore_index=False)\n",
    "\n",
    "    # df_temp[f'{suffix}_mean'] = df_temp.mean(axis=1)\n",
    "    # df_temp = pd.read_csv(data_files[i], skiprows=skiprows, sep=',')\n",
    "    df2[f'x_{suffix}'] = df_int['Wavelength']\n",
    "    df2[f'{suffix}_mean'] = df_temp.mean(axis=1)\n"
   ]
  },
  {
   "cell_type": "code",
   "execution_count": null,
   "id": "fc30ab15-29a7-45b3-b92b-2cf80fddd6fb",
   "metadata": {},
   "outputs": [],
   "source": [
    "i"
   ]
  },
  {
   "cell_type": "markdown",
   "id": "e4d5a1c1-c737-43c5-b4b1-42d23620056b",
   "metadata": {
    "tags": []
   },
   "source": [
    "## Export Absorbance of dilute CsPbBr3 for PLQY_summary_02.ipynb"
   ]
  },
  {
   "cell_type": "code",
   "execution_count": null,
   "id": "ff4fe298-367e-43bf-8e14-7cc296ba190a",
   "metadata": {},
   "outputs": [],
   "source": [
    "# df_66 = pd.DataFrame()\n",
    "\n",
    "# df_66['Wavelength_01'] = df['x_2E-4M_200ms']\n",
    "# df_66['quinine_0.2mM_PL'] = df['2E-4M_200ms_mean']\n",
    "# df_66['Wavelength_02'] = df2['x_2E-4M_200ms']\n",
    "# df_66['quinine_0.2mM_Abs'] = df2['2E-4M_200ms_mean']\n",
    "\n",
    "# df2.to_csv('20230829_CsPbBr_abs.txt', index=False, sep=' ', float_format='{:.5e}'.format)"
   ]
  },
  {
   "cell_type": "code",
   "execution_count": null,
   "id": "7990383c-d75c-4a43-a5bb-bb309e3c5411",
   "metadata": {},
   "outputs": [],
   "source": [
    "df2"
   ]
  },
  {
   "cell_type": "markdown",
   "id": "12e3c8c3-18b3-4c67-8111-b2eb5b78e1e6",
   "metadata": {
    "tags": []
   },
   "source": [
    "## Prepare keys for average scans in pd dataframe"
   ]
  },
  {
   "cell_type": "code",
   "execution_count": null,
   "id": "4e38e7b6-b762-40ba-8124-d78639a75bc0",
   "metadata": {
    "tags": []
   },
   "outputs": [],
   "source": [
    "keys_list2 = list(df2.keys())\n",
    "# k1 = [k for k in keys_list if 'mean' in k]\n",
    "keys_list2"
   ]
  },
  {
   "cell_type": "code",
   "execution_count": null,
   "id": "b89a20c3-c0e6-45b2-9e16-78bddf76c25e",
   "metadata": {},
   "outputs": [],
   "source": [
    "# title = [os.path.basename(subfolder_Abs[i]) for i in range(len(subfolder_Abs))]\n",
    "title = keys_list2[1::2]\n",
    "print(*title, sep='\\n')\n",
    "\n",
    "# label1 = ['quinine_1E-4M', 'quinine_2E-4M', 'quinine_5E-4M']\n",
    "#          # 'Insitu CsPb 6mM + Br 6 mM + ZnI2 128uL/min']\n",
    "\n",
    "# label2 = ['200ms', '300ms']\n",
    "#          # 'ZnI2 128 uL/min']"
   ]
  },
  {
   "cell_type": "markdown",
   "id": "ebe2fa39-3965-4199-bcc6-82c0dba82011",
   "metadata": {},
   "source": [
    "## Plot all Abs scans together"
   ]
  },
  {
   "cell_type": "code",
   "execution_count": null,
   "id": "5d2beb3d-fb72-434d-addc-24ccfe13f283",
   "metadata": {},
   "outputs": [],
   "source": [
    "f2, ax2 = plt.subplots(1, 1, figsize = (8, 4), constrained_layout=True)\n",
    "# f1, (ax1, ax2) = plt.subplots(1, 2, figsize = (6, 9), gridspec_kw={'width_ratios': [1,1]})\n",
    "\n",
    "label = title\n",
    "k = len(title)\n",
    "color_idx = np.linspace(0, 1, k)\n",
    "# linestyle = ['solid', 'dashed', 'solid', 'dashed', 'solid', 'dashed']\n",
    "id0 = 8\n",
    "id1 = -5\n",
    "\n",
    "for i in range(len(title)):\n",
    "    # ax2.plot(df_tth.iloc[:,i], df_int[k1[i]]+offset*i, color=cmap(color_idx[i]), label=label[i])\n",
    "    ax2.plot(df2[keys_list2[i*2]], df2[keys_list2[i*2+1]], color=cmap(color_idx[i]), label=label[i][:id1])\n",
    "\n",
    "legend_properties = {'weight':'bold', 'size':10}    \n",
    "ax2.legend(prop=legend_properties)\n",
    "\n",
    "# ax2.set_xlim(-0.5, 20)\n",
    "# ax2.set_ylim(2500, 9500)\n",
    "# ax2.set_xlabel('tth (degree)', fontsize=16, fontweight='regular')\n",
    "# ax2.set_ylabel('Intensity', fontsize=16, fontweight='regular')\n",
    "ax2.tick_params(axis='both', direction='out', labelsize=12, size=4, width=1)\n",
    "spinewidth = 1.5\n",
    "ax2.spines[\"bottom\"].set_linewidth(spinewidth)\n",
    "ax2.spines[\"right\"].set_linewidth(spinewidth)\n",
    "ax2.spines[\"top\"].set_linewidth(spinewidth)\n",
    "ax2.spines[\"left\"].set_linewidth(spinewidth)\n",
    "\n",
    "imag_name = '20221228_ZnI2_tth_01.png'\n",
    "# cwd = '/Users/chenghunglin/Library/CloudStorage/OneDrive-BrookhavenNationalLaboratory/data_processing/20221127_Cl_Br_I'\n",
    "# plt.savefig(cwd + '/' + imag_name, dpi = 600,  transparent=True)"
   ]
  },
  {
   "cell_type": "markdown",
   "id": "7f2c03d9-a2c2-4d45-b98c-ed7f386af19d",
   "metadata": {},
   "source": [
    "## Try linear fitting"
   ]
  },
  {
   "cell_type": "code",
   "execution_count": null,
   "id": "e157d028-d406-419d-b89a-a97438322512",
   "metadata": {},
   "outputs": [],
   "source": [
    "def line_2D(x, slope, y_intercept):\n",
    "    y = x*slope + y_intercept\n",
    "    return y\n",
    "\n",
    "\n",
    "def find_nearest(array, value):\n",
    "    array = np.asarray(array)\n",
    "    idx = (np.abs(array - value)).argmin()\n",
    "    return idx, array[idx]\n",
    "\n",
    "def fit_line_2D(x, y, fit_function, x_range=[500, 900], maxfev=10000, plot=True):\n",
    "    x = np.asarray(x)\n",
    "    y = np.asarray(y)\n",
    "    y = np.nan_to_num(y, nan=0)\n",
    "    \n",
    "    try:        \n",
    "        idx0, _ = find_nearest(x, x_range[0])\n",
    "        idx1, _ = find_nearest(x, x_range[1])\n",
    "    except (TypeError, IndexError):\n",
    "        idx0 = 0\n",
    "        idx1 = -1\n",
    "    \n",
    "    slope = (y[idx1]-y[idx0]) / (x[idx1]-x[idx0])\n",
    "    y_intercept = np.mean(y[idx0:idx1])\n",
    "    \n",
    "    try:\n",
    "        initial_guess = [slope, y_intercept]\n",
    "    except (TypeError, IndexError):\n",
    "        initial_guess = [0.01, 0]\n",
    "    \n",
    "    try:\n",
    "        popt, pcov = curve_fit(fit_function, x[idx0:idx1], y[idx0:idx1], p0=initial_guess, maxfev=maxfev)\n",
    "    except RuntimeError:\n",
    "        maxfev=1000000\n",
    "        popt, pcov = curve_fit(fit_function, x[idx0:idx1], y[idx0:idx1], p0=initial_guess, maxfev=maxfev)\n",
    "        \n",
    "    if plot:\n",
    "        plt.figure()\n",
    "        plt.plot(x, y, label='data')\n",
    "        plt.plot(x, fit_function(x, popt[0], popt[1]), label=f'y={popt[0]:.4f}x+{popt[1]:.4f}')\n",
    "        plt.legend()\n",
    "    \n",
    "    return popt, pcov\n"
   ]
  },
  {
   "cell_type": "code",
   "execution_count": null,
   "id": "377d944b-780c-4ebc-8f77-d336d84b1e71",
   "metadata": {},
   "outputs": [],
   "source": [
    "x = df2[keys_list2[0]]\n",
    "y = df2[keys_list2[1]]\n",
    "x_range=[957, 960]\n",
    "idx0, v0 = find_nearest(x, x_range[0])\n",
    "idx1, v1 = find_nearest(x, x_range[1])\n",
    "popt, pcov = fit_line_2D(x,y,line_2D, x_range=x_range)"
   ]
  },
  {
   "cell_type": "code",
   "execution_count": null,
   "id": "95fc6689-1031-4bce-b9d2-2aa43755018d",
   "metadata": {},
   "outputs": [],
   "source": [
    "title.append('dummy')\n",
    "title"
   ]
  },
  {
   "cell_type": "code",
   "execution_count": null,
   "id": "d715aa38-c4f2-41ab-ac61-742433196234",
   "metadata": {},
   "outputs": [],
   "source": [
    "rows = 5\n",
    "cols = 2\n",
    "f3, ax3 = plt.subplots(rows, cols, figsize = (8, 8), constrained_layout=True)\n",
    "\n",
    "label = title\n",
    "title_reshape = np.asarray(title).reshape(rows, cols)\n",
    "color_idx = np.linspace(0, 1, len(title))\n",
    "id0 = 8\n",
    "id1 = 22\n",
    "x_range_list = [[957, 960], [950, 970], \n",
    "                [850, 950], [850, 950], \n",
    "                [800, 900], [700, 900],\n",
    "                [700, 900], [700, 900], \n",
    "                [700, 900], [700, 900],\n",
    "               ]\n",
    "\n",
    "legend_properties = {'weight':'bold', 'size':10}\n",
    "df4 = pd.DataFrame()\n",
    "for i in range(len(title)):\n",
    "    # ax1.plot(df_tth.iloc[:,i], df_int[k1[i]]+offset*i, color=cmap(color_idx[i]), label=label[i])\n",
    "    idx_ax = np.argwhere(title_reshape==title[i])\n",
    "    try:\n",
    "        x = df2[keys_list2[i*2]]\n",
    "        y = df2[keys_list2[i*2+1]]\n",
    "        popt, pcov = fit_line_2D(x, y, line_2D, x_range=x_range_list[i], plot=False)\n",
    "        ax3[idx_ax[0][0], idx_ax[0][1]].plot(x, y, color=cmap(color_idx[i]), label=label[i][:id1])\n",
    "        ax3[idx_ax[0][0], idx_ax[0][1]].plot(x, line_2D(x, popt[0], popt[1]), label=f'y={popt[0]:.4f}x+{popt[1]:.4f}')\n",
    "        ax3[idx_ax[0][0], idx_ax[0][1]].legend(prop=legend_properties)\n",
    "        df4[keys_list2[i*2]] = x\n",
    "        # df4[keys_list2[i*2+1]] = y - popt[1]\n",
    "        df4[keys_list2[i*2+1]] = y - line_2D(x, *popt)\n",
    "    \n",
    "    except (KeyError, IndexError):\n",
    "        pass\n",
    "\n",
    "# # ax3.set_xlim(-0.5, 20)\n",
    "# # ax3.set_ylim(2500, 9500)\n",
    "# # ax3.set_xlabel('tth (degree)', fontsize=16, fontweight='regular')\n",
    "# # ax3.set_ylabel('Intensity', fontsize=16, fontweight='regular')\n",
    "# ax3.tick_params(axis='both', direction='out', labelsize=12, size=4, width=1)\n",
    "# spinewidth = 1.5\n",
    "# ax3.spines[\"bottom\"].set_linewidth(spinewidth)\n",
    "# ax3.spines[\"right\"].set_linewidth(spinewidth)\n",
    "# ax3.spines[\"top\"].set_linewidth(spinewidth)\n",
    "# ax3.spines[\"left\"].set_linewidth(spinewidth)"
   ]
  },
  {
   "cell_type": "code",
   "execution_count": null,
   "id": "94ffb8cb-acbb-4c0c-b9c0-5dcc1544b485",
   "metadata": {},
   "outputs": [],
   "source": [
    "title = keys_list2[1::2]\n",
    "title"
   ]
  },
  {
   "cell_type": "markdown",
   "id": "9ef96fd9-c9e4-426b-8975-99e86a40a209",
   "metadata": {},
   "source": [
    "## Plot Abs by offset"
   ]
  },
  {
   "cell_type": "code",
   "execution_count": null,
   "id": "b8b55e1d-7307-4117-8428-5247f2e01ad3",
   "metadata": {},
   "outputs": [],
   "source": [
    "f4, ax4 = plt.subplots(1, 1, figsize = (8, 4), constrained_layout=True)\n",
    "# f1, (ax1, ax2) = plt.subplots(1, 2, figsize = (6, 9), gridspec_kw={'width_ratios': [1,1]})\n",
    "\n",
    "label = title\n",
    "k = len(title)\n",
    "color_idx = np.linspace(0, 1, k)\n",
    "# linestyle = ['solid', 'dashed', 'solid', 'dashed', 'solid', 'dashed']\n",
    "id0 = 8\n",
    "id1 = 30\n",
    "\n",
    "for i in range(len(title)):\n",
    "    # ax4.plot(df_tth.iloc[:,i], df_int[k1[i]]+offset*i, color=cmap(color_idx[i]), label=label[i])\n",
    "    ax4.plot(df4[keys_list2[i*2]], df4[keys_list2[i*2+1]], color=cmap(color_idx[i]), label=label[i][:id1])\n",
    "\n",
    "legend_properties = {'weight':'bold', 'size':10}    \n",
    "ax4.legend(prop=legend_properties)\n",
    "\n",
    "# ax4.set_xlim(-0.5, 20)\n",
    "# ax4.set_ylim(2500, 9500)\n",
    "# ax4.set_xlabel('tth (degree)', fontsize=16, fontweight='regular')\n",
    "# ax4.set_ylabel('Intensity', fontsize=16, fontweight='regular')\n",
    "ax4.tick_params(axis='both', direction='out', labelsize=12, size=4, width=1)\n",
    "spinewidth = 1.5\n",
    "ax4.spines[\"bottom\"].set_linewidth(spinewidth)\n",
    "ax4.spines[\"right\"].set_linewidth(spinewidth)\n",
    "ax4.spines[\"top\"].set_linewidth(spinewidth)\n",
    "ax4.spines[\"left\"].set_linewidth(spinewidth)\n",
    "\n",
    "imag_name = '20221228_ZnI2_tth_01.png'\n",
    "# cwd = '/Users/chenghunglin/Library/CloudStorage/OneDrive-BrookhavenNationalLaboratory/data_processing/20221127_Cl_Br_I'\n",
    "# plt.savefig(cwd + '/' + imag_name, dpi = 600,  transparent=True)"
   ]
  },
  {
   "cell_type": "markdown",
   "id": "00241e2e-d92e-40af-8622-cb3e8e0001e2",
   "metadata": {
    "tags": []
   },
   "source": [
    "## Prepare keys for offset data in pd dataframe"
   ]
  },
  {
   "cell_type": "code",
   "execution_count": null,
   "id": "133ba834-a423-4961-a3e2-b53dd110dab1",
   "metadata": {
    "tags": []
   },
   "outputs": [],
   "source": [
    "keys_list4 = list(df4.keys())\n",
    "# k1 = [k for k in keys_list if 'mean' in k]\n",
    "keys_list4"
   ]
  },
  {
   "cell_type": "markdown",
   "id": "9ba4e501-0321-49c0-8171-cd1ba96d9147",
   "metadata": {},
   "source": [
    "## Save offset data as csv"
   ]
  },
  {
   "cell_type": "code",
   "execution_count": null,
   "id": "89cba7fa-e79f-4a41-b4a7-d988cd8647ac",
   "metadata": {},
   "outputs": [],
   "source": [
    "for i in range(len(title)):\n",
    "    df_temp = pd.DataFrame()\n",
    "    df_temp['Wavelength'] = df4[keys_list4[i*2]].fillna(0)\n",
    "    df_temp['Absorbance'] = df4[keys_list4[i*2+1]].fillna(0)\n",
    "    fn = title[i][:id1] + '_offset.csv'\n",
    "    print(fn)\n",
    "    # df_temp.to_csv(os.path.join(new_dir, fn), index=False, sep=',', float_format='{:.8e}'.format)"
   ]
  },
  {
   "cell_type": "markdown",
   "id": "76c49237-cd79-414f-b2a5-b01757fb4e9a",
   "metadata": {},
   "source": [
    "## Save Absorbance at 365 nm"
   ]
  },
  {
   "cell_type": "code",
   "execution_count": null,
   "id": "e09a0df1-be34-4df3-8812-20df76718f8f",
   "metadata": {},
   "outputs": [],
   "source": [
    "idx_365, w365 = find_nearest(df4[keys_list2[0]], 365)\n",
    "# df4.iloc[idx_365][::-2][::-1].to_list()\n",
    "\n",
    "df_365 = pd.DataFrame()\n",
    "df_365['Data_source'] = [title[i] for i in range(len(title))]\n",
    "df_365['Abs_365'] = df2.iloc[idx_365][1::2].to_list()\n",
    "df_365['Abs_offset_365'] = df4.iloc[idx_365][1::2].to_list()\n",
    "df_365"
   ]
  },
  {
   "cell_type": "code",
   "execution_count": null,
   "id": "5324c7c8-4e5a-4455-b4ab-31db850243eb",
   "metadata": {},
   "outputs": [],
   "source": [
    "# df_365.to_csv(os.path.join(new_dir, 'Cs_Br_66mM_all_abs_365.csv'), index=False, sep=',', float_format='{:.8e}'.format)"
   ]
  },
  {
   "cell_type": "code",
   "execution_count": null,
   "id": "4a2794cf-95c6-4daf-861e-f791f7966cee",
   "metadata": {},
   "outputs": [],
   "source": [
    "# df_365.to_csv('Cs_Br_66mM_all_abs_365.txt', index=False, sep=' ', float_format='{:.5e}'.format)"
   ]
  },
  {
   "cell_type": "code",
   "execution_count": null,
   "id": "8bf81756-8817-4cca-9a1f-1df16cd6ac17",
   "metadata": {},
   "outputs": [],
   "source": [
    "df2.keys()"
   ]
  },
  {
   "cell_type": "code",
   "execution_count": null,
   "id": "5ed823be-4e8e-4739-b14b-aa7e56a1d172",
   "metadata": {},
   "outputs": [],
   "source": []
  },
  {
   "cell_type": "code",
   "execution_count": null,
   "id": "ddbba226-bc99-4727-aa76-7f076ed5e792",
   "metadata": {},
   "outputs": [],
   "source": []
  },
  {
   "cell_type": "markdown",
   "id": "5b7a1564-391b-451d-afeb-38a146f6964d",
   "metadata": {},
   "source": [
    "## Import analysis functions"
   ]
  },
  {
   "cell_type": "code",
   "execution_count": null,
   "id": "32a528ff-cfca-4103-8ebc-055ade35b8f3",
   "metadata": {
    "tags": []
   },
   "outputs": [],
   "source": [
    "%run -i /Users/chenghunglin/Documents/Git_BNL/profile_collection_ldrd20-31/scripts/_data_analysis.py"
   ]
  },
  {
   "cell_type": "markdown",
   "id": "3b1c5d25-568c-4dc8-b893-bcf263d30811",
   "metadata": {},
   "source": [
    "## Gaussian peak fittimg"
   ]
  },
  {
   "cell_type": "code",
   "execution_count": null,
   "id": "95a1f316-21b6-4ca4-9373-4fa4e9495191",
   "metadata": {},
   "outputs": [],
   "source": [
    "keys_list.append('x_dummy')\n",
    "keys_list.append('dummy')\n",
    "keys_list"
   ]
  },
  {
   "cell_type": "code",
   "execution_count": null,
   "id": "77a63436-cc4a-4c28-b6da-673bf46b71c0",
   "metadata": {},
   "outputs": [],
   "source": [
    "rows = 5\n",
    "cols = 2\n",
    "f5, ax5 = plt.subplots(rows, cols, figsize = (8, 9), constrained_layout=True)\n",
    "# ax4 = ax4.flatten()\n",
    "wl1 = 400\n",
    "wl2 = 800\n",
    "idx1, w1 = find_nearest(df[keys_list[0]], wl1)\n",
    "idx2, w2 = find_nearest(df[keys_list[0]], wl2)\n",
    "\n",
    "key_x_reshape = np.asarray(keys_list[0::2]).reshape(cols, rows).T\n",
    "key_y_reshape = np.asarray(keys_list[1::2]).reshape(cols, rows).T\n",
    "\n",
    "peak_list = []\n",
    "fwhm = []\n",
    "simpson_int = []\n",
    "\n",
    "for i in range(cols):\n",
    "    for j in range(rows):\n",
    "        #i = 4\n",
    "        try:\n",
    "            x0 = df[key_x_reshape[j][i]][idx1:idx2].to_numpy()\n",
    "            y0 = df[key_y_reshape[j][i]][idx1:idx2].to_numpy()\n",
    "            #_2peak_fit_PL(x,y, distr='G', height=1000, second_peak=-4, plot=True, plot_title=os.path.basename(subfolder[i]))\n",
    "\n",
    "            peak, prop = good_bad_data(x0, y0, key_height=1, data_id = f'{key_x_reshape[j][i]}', distance=20, height=1)\n",
    "            x, y, p, f, popt = _fitting_in_kafka(x0, y0, f'{key_y_reshape[j][i]}', peak, prop)  \n",
    "\n",
    "\n",
    "            simpson_int.append(integrate.simpson(y,x))\n",
    "            peak_list.append(popt[1])\n",
    "            fwhm.append(2.355*popt[2])\n",
    "\n",
    "\n",
    "            fitted_result = f(x, *popt)\n",
    "            r_2 = r_square(x, y, fitted_result)\n",
    "            r2 = f'R\\u00b2={r_2:.2f}'\n",
    "            ax5[j][i].set_title(key_y_reshape[j][i][14:27])\n",
    "            ax5[j][i].plot(x,y,'b+:',label='data')\n",
    "            ax5[j][i].plot(x,fitted_result,'ro:',label='Total fit\\n'+r2, alpha=0.5, markersize=3)\n",
    "\n",
    "        #     # peak 1\n",
    "        #     peak_1 = _1gauss(x, *popt[0:3])\n",
    "        #     ax4[i].plot(x, peak_1, \"g\", label='peak 1')\n",
    "        #     ax4[i].fill_between(x, peak_1.min(), peak_1, facecolor=\"green\", alpha=0.5)\n",
    "\n",
    "        #     # peak 2\n",
    "        #     peak_2 = _1gauss(x, *popt[3:6])\n",
    "        #     ax4[i].plot(x, peak_2, \"y\", label='peak 2')\n",
    "        #     ax4[i].fill_between(x, peak_2.min(), peak_2, facecolor=\"yellow\", alpha=0.5)\n",
    "\n",
    "            ax5[j][i].legend()\n",
    "        \n",
    "        except (KeyError, IndexError):\n",
    "            pass"
   ]
  },
  {
   "cell_type": "code",
   "execution_count": null,
   "id": "0a143252-a9bd-479e-ba79-d77d8093f8d4",
   "metadata": {},
   "outputs": [],
   "source": [
    "simpson_int"
   ]
  },
  {
   "cell_type": "markdown",
   "id": "5c83cf48-81cf-4723-9403-c069af873449",
   "metadata": {},
   "source": [
    "## Plot PE, FWHM, PLQY"
   ]
  },
  {
   "cell_type": "code",
   "execution_count": null,
   "id": "e4cc6172-6323-4ed3-b936-06c206f14eae",
   "metadata": {},
   "outputs": [],
   "source": [
    "def plqy_quinine(absorbance_sample, PL_integral_sample, refractive_index_solvent, \n",
    "                     absorbance_reference, PL_integral_reference, refractive_index_reference, plqy_reference):\n",
    "    \n",
    "    integral_ratio = PL_integral_sample / PL_integral_reference\n",
    "    absorbance_ratio = absorbance_reference / absorbance_sample\n",
    "    refractive_index_ratio = (refractive_index_solvent / refractive_index_reference)**2\n",
    "\n",
    "    plqy = plqy_reference * integral_ratio * absorbance_ratio * refractive_index_ratio\n",
    "    return plqy"
   ]
  },
  {
   "cell_type": "code",
   "execution_count": null,
   "id": "7b296f96-4a78-43a2-b900-e5bcc6ca303e",
   "metadata": {},
   "outputs": [],
   "source": [
    "df_365['Abs_offset_365']"
   ]
  },
  {
   "cell_type": "code",
   "execution_count": null,
   "id": "8ba39bb2-3ea6-4a9b-a09f-63c1fd999dd1",
   "metadata": {},
   "outputs": [],
   "source": [
    "# abs_365 = df11.iloc[210][1::2].to_numpy()\n",
    "abs_365 = df_365['Abs_offset_365']\n",
    "\n",
    "abs_365_r = 0.360459 ## 0.231965  ##  20230919_quinine_sapphire.ipynb: 5E-4M_300ms_mean\n",
    "plqy_r = 0.546\n",
    "ref_idx_toluene = 1.506\n",
    "ref_idx_H2SO4 = 1.337\n",
    "integral_r = 295825.609793  ##  20230919_quinine_sapphire.ipynb: 5E-4M_300ms_mean\n",
    "integral_pqds = np.asarray(simpson_int)\n",
    "\n",
    "plqy = plqy_quinine(abs_365, integral_pqds, 1.506, abs_365_r, integral_r, 1.337, 0.546)\n",
    "# plqy_4000ms = plqy_quinine(abs_365, integral_pqds[1::2], 1.506, abs_365_r, integral_r[1], 1.337, 0.546)\n",
    "    \n",
    "\n",
    "# dilute_constant = np.asarray([1,8,16,24])\n",
    "dilute_constant = np.asarray(dilute_ratio)\n",
    "x_list = 33 * (2/3) * dilute_constant\n",
    "# x_list_T = np.asarray(x_list).reshape(cols, rows).T\n",
    "# peak_list_T = np.asarray(peak_list).reshape(cols, rows).T\n",
    "# fwhm_T = np.asarray(fwhm).reshape(cols, rows).T\n",
    "# plqy_T = np.asarray(plqy).reshape(cols, rows).T\n",
    "\n",
    "rows = 1\n",
    "cols = 3\n",
    "integration_time = ['Sapphire 300ms']\n",
    "\n",
    "f5, ax5 = plt.subplots(rows, cols, figsize = (10, 3), constrained_layout=True)\n",
    "# for i in range(rows):\n",
    "ax5[0].set_title(f'Emission Peak {integration_time[0]}')\n",
    "ax5[0].set_xlabel(r'$CsPbBr_3\\ concentration\\ (mM)$', fontdict={'size': 10})\n",
    "ax5[0].set_ylabel('Emission Peak (nm)')\n",
    "ax5[1].set_title(f'FWHM {integration_time[0]}')\n",
    "ax5[1].set_xlabel(r'$CsPbBr_3\\ concentration\\ (mM)$', fontdict={'size': 10})\n",
    "ax5[1].set_ylabel('FWHM (nm)')\n",
    "ax5[2].set_title(f'PLQY {integration_time[0]}')\n",
    "ax5[2].set_xlabel(r'$CsPbBr_3\\ concentration\\ (mM)$', fontdict={'size': 10})\n",
    "ax5[2].set_ylabel('PLQY')\n",
    "\n",
    "\n",
    "ax5[0].plot(x_list, peak_list, '.--', markersize=10)\n",
    "ax5[1].plot(x_list, fwhm, 'g^--', markersize=8)\n",
    "ax5[2].plot(x_list, plqy, 'r*--', markersize=10)"
   ]
  },
  {
   "cell_type": "code",
   "execution_count": null,
   "id": "66891aa0-0997-4bb3-acd0-73ba63694d28",
   "metadata": {},
   "outputs": [],
   "source": [
    "plqy"
   ]
  },
  {
   "cell_type": "code",
   "execution_count": null,
   "id": "4c2edf79-b197-44c7-bc5b-897941ef6c87",
   "metadata": {},
   "outputs": [],
   "source": [
    "x_list"
   ]
  },
  {
   "cell_type": "code",
   "execution_count": null,
   "id": "a1543b7c-6f97-4fc6-b5ea-c7e3afcf2954",
   "metadata": {},
   "outputs": [],
   "source": []
  },
  {
   "cell_type": "code",
   "execution_count": null,
   "id": "084a767f-bf10-4885-a933-c3836e93e676",
   "metadata": {},
   "outputs": [],
   "source": []
  }
 ],
 "metadata": {
  "kernelspec": {
   "display_name": "Python 3 (ipykernel)",
   "language": "python",
   "name": "python3"
  },
  "language_info": {
   "codemirror_mode": {
    "name": "ipython",
    "version": 3
   },
   "file_extension": ".py",
   "mimetype": "text/x-python",
   "name": "python",
   "nbconvert_exporter": "python",
   "pygments_lexer": "ipython3",
   "version": "3.9.7"
  }
 },
 "nbformat": 4,
 "nbformat_minor": 5
}
