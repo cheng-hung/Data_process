{
 "cells": [
  {
   "cell_type": "code",
   "execution_count": 1,
   "id": "dba2bc8e-8b94-4d27-9d71-1c86eabe821a",
   "metadata": {},
   "outputs": [],
   "source": [
    "import glob\n",
    "import os\n",
    "\n",
    "import matplotlib as mpl\n",
    "import matplotlib.pyplot as plt\n",
    "# import mpld3 \n",
    "import seaborn as sns\n",
    "import palettable.colorbrewer.diverging as pld\n",
    "# import palettable.lightbartlein.diverging as pld\n",
    "\n",
    "import numpy as np\n",
    "import pandas as pd\n",
    "# from sklearn import preprocessing\n",
    "\n",
    "# from scipy import integrate  \n",
    "# import scipy.signal as scipy\n",
    "# from scipy.optimize import curve_fit\n",
    "# from scipy.signal import find_peaks\n",
    "\n",
    "%matplotlib widget"
   ]
  },
  {
   "cell_type": "code",
   "execution_count": 2,
   "id": "ece54c97-5e88-422a-9355-a345e97c1d3b",
   "metadata": {},
   "outputs": [],
   "source": [
    "plt.close('all')"
   ]
  },
  {
   "cell_type": "code",
   "execution_count": 3,
   "id": "48f3eaa4-f886-4c23-9b7b-763f7d67406a",
   "metadata": {},
   "outputs": [],
   "source": [
    "## Plotting parameters\n",
    "\n",
    "palette = pld.RdYlGn_4_r\n",
    "# palette = pld.BlueGreen_4_r\n",
    "# palette = pld.Spectral_10_r\n",
    "cmap = palette.mpl_colormap\n",
    "# cmap = plt.get_cmap('rainbow')\n",
    "transparency = 0.7\n",
    "labelsize = 20\n",
    "spinewidth = 3\n",
    "fontsize = 26\n",
    "legendsize = 20\n",
    "fontweight = 'bold'\n",
    "labelpad = 6\n",
    "pad = 10\n",
    "linewidth = 2.5\n"
   ]
  },
  {
   "cell_type": "code",
   "execution_count": 4,
   "id": "73acc5e3-06a9-4819-bdf8-01d8221b18e8",
   "metadata": {},
   "outputs": [
    {
     "data": {
      "image/png": "[encoded data removed]",
      "text/html": [
       "<div style=\"vertical-align: middle;\"><strong>RdYlGn_r</strong> </div><div class=\"cmap\"><img alt=\"RdYlGn_r colormap\" title=\"RdYlGn_r\" style=\"border: 1px solid #555;\" src=\"data:image/png;base64,iVBORw0KGgoAAAANSUhEUgAAAgAAAABACAYAAABsv8+/AAAAF3RFWHRUaXRsZQBSZFlsR25fciBjb2xvcm1hcBVEop8AAAAddEVYdERlc2NyaXB0aW9uAFJkWWxHbl9yIGNvbG9ybWFwPDpFtgAAADB0RVh0QXV0aG9yAE1hdHBsb3RsaWIgdjMuNC4zLCBodHRwczovL21hdHBsb3RsaWIub3JnCV3z0wAAADJ0RVh0U29mdHdhcmUATWF0cGxvdGxpYiB2My40LjMsIGh0dHBzOi8vbWF0cGxvdGxpYi5vcmcn+2z0AAAB0UlEQVR4nO3WQXKCQBRAwcFj5Da5ZI4bsghYJRTBoLvXvTETxvmILt708fU5jzHGNH7dlj+maXpY35Yd07reXL/vH4/XD/ePzfnb/W+fd3LOydztfR2+f93/4ryj53Q+7+R5jJNznvycp9/fm+fd98/z8rrex7i4nl98/7p+1/28+7znPt/t5Lrn9b/1+jzn7+Ufy+tuPa/rg/3z43q3bz4493v8ef3q/Pu5L87f3v/V+fvrj+c9O3937u7+rs3ff3/X5u8+18X5u9/B5vcKAIQIAAAIEgAAECQAACBIAABAkAAAgCABAABBAgAAggQAAAQJAAAIEgAAECQAACBIAABAkAAAgCABAABBAgAAggQAAAQJAAAIEgAAECQAACBIAABAkAAAgCABAABBAgAAggQAAAQJAAAIEgAAECQAACBIAABAkAAAgCABAABBAgAAggQAAAQJAAAIEgAAECQAACBIAABAkAAAgCABAABBAgAAggQAAAQJAAAIEgAAECQAACBIAABAkAAAgCABAABBAgAAggQAAAQJAAAIEgAAECQAACBIAABAkAAAgCABAABBAgAAggQAAAQJAAAIEgAAECQAACBIAABAkAAAgCABAABBPww79ouMV4rBAAAAAElFTkSuQmCC\"></div><div style=\"vertical-align: middle; max-width: 514px; display: flex; justify-content: space-between;\"><div style=\"float: left;\"><div title=\"#1a9641ff\" style=\"display: inline-block; width: 1em; height: 1em; margin: 0; vertical-align: middle; border: 1px solid #555; background-color: #1a9641ff;\"></div> under</div><div style=\"margin: 0 auto; display: inline-block;\">bad <div title=\"#00000000\" style=\"display: inline-block; width: 1em; height: 1em; margin: 0; vertical-align: middle; border: 1px solid #555; background-color: #00000000;\"></div></div><div style=\"float: right;\">over <div title=\"#d7191cff\" style=\"display: inline-block; width: 1em; height: 1em; margin: 0; vertical-align: middle; border: 1px solid #555; background-color: #d7191cff;\"></div></div>"
      ],
      "text/plain": [
       "<matplotlib.colors.LinearSegmentedColormap at 0x7fab6914a100>"
      ]
     },
     "execution_count": 4,
     "metadata": {},
     "output_type": "execute_result"
    }
   ],
   "source": [
    "cmap"
   ]
  },
  {
   "cell_type": "markdown",
   "id": "2f2a42a6-d982-43bb-8799-70fcb8f5da3d",
   "metadata": {},
   "source": [
    "# Reading .xy data"
   ]
  },
  {
   "cell_type": "code",
   "execution_count": 5,
   "id": "40df7daf-ea8a-43ec-8a13-a97da5dcfea1",
   "metadata": {},
   "outputs": [
    {
     "name": "stdout",
     "output_type": "stream",
     "text": [
      "/Users/chenghunglin/Library/CloudStorage/OneDrive-BrookhavenNationalLaboratory/data_processing/20220329_XPD/Tol_Olm_bkg_200micl_2x20min/integration/Tol_Olm_bkg_200micl_2x20min_20220331-140052_9f21b1_primary-1_mean_tth.chi\n",
      "/Users/chenghunglin/Library/CloudStorage/OneDrive-BrookhavenNationalLaboratory/data_processing/20220329_XPD/Tol_Olm_bkg_200micl_2x20min/integration/Tol_Olm_bkg_200micl_2x20min_20220331-143133_992f77_primary-1_mean_tth.chi\n"
     ]
    }
   ],
   "source": [
    "## Find the subfolders in the current working folder (cwd)\n",
    "#cwd = os.getcwd()\n",
    "# cwd = '/nsls2/users/clin1/Documents/Cheng-Hung/temp/20221108_insitu'\n",
    "cwd = '/Users/chenghunglin/Library/CloudStorage/OneDrive-BrookhavenNationalLaboratory/data_processing/20220329_XPD/Tol_Olm_bkg_200micl_2x20min/integration'\n",
    "subfolder = glob.glob(cwd + '/**tth.chi')\n",
    "subfolder.sort()\n",
    "# subfolder_Cl.reverse()\n",
    "# del subfolder[-1]\n",
    "print(*subfolder, sep = '\\n')  ## Print one element per line"
   ]
  },
  {
   "cell_type": "code",
   "execution_count": 6,
   "id": "c41e568d-7651-4a4c-85bd-1be1f5e25fb0",
   "metadata": {},
   "outputs": [],
   "source": [
    "## Reading dark and reference\n",
    "# dark = glob.glob(cwd + '/dark_ref/' + 'Dark**.csv')\n",
    "# ref = glob.glob(cwd + '/dark_ref/' + 'Tol_OA**.csv')\n",
    "\n",
    "# dark_df = pd.read_csv(dark[0], skiprows=5, sep=',')\n",
    "# ref_df = pd.read_csv(ref[0], skiprows=5, sep=',')"
   ]
  },
  {
   "cell_type": "code",
   "execution_count": 7,
   "id": "f68af048-5bc7-46ed-abb4-64a21d34e321",
   "metadata": {},
   "outputs": [],
   "source": [
    "## Read data into pandas dataframe\n",
    "\n",
    "df_tth = pd.DataFrame()\n",
    "df_int = pd.DataFrame()\n",
    "\n",
    "for i in range(len(subfolder)):\n",
    "    data_files = subfolder[i]\n",
    "    # data_files = glob.glob(subfolder[i] + '/**.xy')\n",
    "    # data_files.sort()\n",
    "    # del data_files[0]\n",
    "    suffix = os.path.basename(data_files)[:7]\n",
    "\n",
    "    skiprows = 1 ## skip 23 rows if data processed by dioptas or ## 8\n",
    "    # df_temp = pd.DataFrame()\n",
    "    \n",
    "    df = pd.read_csv(data_files, skiprows=skiprows, sep=' ', names=[f'tth_{suffix}-{i:02d}', f'{suffix}-{i:02d}'])\n",
    "    df_int = pd.concat([df_int, df[f'{suffix}-{i:02d}']], axis=1, ignore_index=False)\n",
    "    df_tth = pd.concat([df_tth, df[f'tth_{suffix}-{i:02d}']], axis=1, ignore_index=False)\n",
    "    \n",
    "df_int['Tol_Olm_mean'] = df_int.mean(axis=1)\n",
    "    \n",
    "#     for j in range(len(data_files)):        \n",
    "#         df = pd.read_csv(data_files[j], skiprows=skiprows, sep=' ', names=[f'tth_{suffix}-{j:02d}', f'{suffix}-{j:02d}'])\n",
    "#         df_temp = pd.concat([df_temp, df[f'{suffix}-{j:02d}']], axis=1, ignore_index=False)\n",
    "#         df_int = pd.concat([df_int, df[f'{suffix}-{j:02d}']], axis=1, ignore_index=False)\n",
    "    \n",
    "#     df_tth = pd.concat([df_tth, df[f'tth_{suffix}-{j:02d}']], axis=1, ignore_index=False)\n",
    "#     df_temp[f'{suffix}_mean'] = df_temp.mean(axis=1)\n",
    "#     df_int = pd.concat([df_int, df_temp[f'{suffix}_mean']], axis=1, ignore_index=False)\n",
    "    "
   ]
  },
  {
   "cell_type": "code",
   "execution_count": 8,
   "id": "895f3dfa-4a3f-4e26-a6e6-66a804d7c3f8",
   "metadata": {},
   "outputs": [
    {
     "data": {
      "text/html": [
       "<div>\n",
       "<style scoped>\n",
       "    .dataframe tbody tr th:only-of-type {\n",
       "        vertical-align: middle;\n",
       "    }\n",
       "\n",
       "    .dataframe tbody tr th {\n",
       "        vertical-align: top;\n",
       "    }\n",
       "\n",
       "    .dataframe thead th {\n",
       "        text-align: right;\n",
       "    }\n",
       "</style>\n",
       "<table border=\"1\" class=\"dataframe\">\n",
       "  <thead>\n",
       "    <tr style=\"text-align: right;\">\n",
       "      <th></th>\n",
       "      <th>Tol_Olm-00</th>\n",
       "      <th>Tol_Olm-01</th>\n",
       "      <th>Tol_Olm_mean</th>\n",
       "    </tr>\n",
       "  </thead>\n",
       "  <tbody>\n",
       "    <tr>\n",
       "      <th>0</th>\n",
       "      <td>237.479187</td>\n",
       "      <td>238.525864</td>\n",
       "      <td>238.002525</td>\n",
       "    </tr>\n",
       "    <tr>\n",
       "      <th>1</th>\n",
       "      <td>237.503983</td>\n",
       "      <td>238.505127</td>\n",
       "      <td>238.004555</td>\n",
       "    </tr>\n",
       "    <tr>\n",
       "      <th>2</th>\n",
       "      <td>237.672943</td>\n",
       "      <td>238.755402</td>\n",
       "      <td>238.214172</td>\n",
       "    </tr>\n",
       "    <tr>\n",
       "      <th>3</th>\n",
       "      <td>237.786469</td>\n",
       "      <td>238.946609</td>\n",
       "      <td>238.366539</td>\n",
       "    </tr>\n",
       "    <tr>\n",
       "      <th>4</th>\n",
       "      <td>238.158798</td>\n",
       "      <td>239.386703</td>\n",
       "      <td>238.772751</td>\n",
       "    </tr>\n",
       "    <tr>\n",
       "      <th>...</th>\n",
       "      <td>...</td>\n",
       "      <td>...</td>\n",
       "      <td>...</td>\n",
       "    </tr>\n",
       "    <tr>\n",
       "      <th>2995</th>\n",
       "      <td>431.674744</td>\n",
       "      <td>433.937653</td>\n",
       "      <td>432.806198</td>\n",
       "    </tr>\n",
       "    <tr>\n",
       "      <th>2996</th>\n",
       "      <td>337.452942</td>\n",
       "      <td>338.850739</td>\n",
       "      <td>338.151840</td>\n",
       "    </tr>\n",
       "    <tr>\n",
       "      <th>2997</th>\n",
       "      <td>232.128174</td>\n",
       "      <td>232.423523</td>\n",
       "      <td>232.275848</td>\n",
       "    </tr>\n",
       "    <tr>\n",
       "      <th>2998</th>\n",
       "      <td>127.441109</td>\n",
       "      <td>127.441109</td>\n",
       "      <td>127.441109</td>\n",
       "    </tr>\n",
       "    <tr>\n",
       "      <th>2999</th>\n",
       "      <td>27.902277</td>\n",
       "      <td>27.902277</td>\n",
       "      <td>27.902277</td>\n",
       "    </tr>\n",
       "  </tbody>\n",
       "</table>\n",
       "<p>3000 rows × 3 columns</p>\n",
       "</div>"
      ],
      "text/plain": [
       "      Tol_Olm-00  Tol_Olm-01  Tol_Olm_mean\n",
       "0     237.479187  238.525864    238.002525\n",
       "1     237.503983  238.505127    238.004555\n",
       "2     237.672943  238.755402    238.214172\n",
       "3     237.786469  238.946609    238.366539\n",
       "4     238.158798  239.386703    238.772751\n",
       "...          ...         ...           ...\n",
       "2995  431.674744  433.937653    432.806198\n",
       "2996  337.452942  338.850739    338.151840\n",
       "2997  232.128174  232.423523    232.275848\n",
       "2998  127.441109  127.441109    127.441109\n",
       "2999   27.902277   27.902277     27.902277\n",
       "\n",
       "[3000 rows x 3 columns]"
      ]
     },
     "execution_count": 8,
     "metadata": {},
     "output_type": "execute_result"
    }
   ],
   "source": [
    "df_int"
   ]
  },
  {
   "cell_type": "markdown",
   "id": "cfb8a913-ea0d-4edc-b6b1-df5d105de03c",
   "metadata": {},
   "source": [
    "# Check data in pd dataframe"
   ]
  },
  {
   "cell_type": "code",
   "execution_count": 9,
   "id": "d455a236-952c-4086-9335-f56a5e8ad817",
   "metadata": {},
   "outputs": [
    {
     "data": {
      "text/plain": [
       "Index(['Tol_Olm-00', 'Tol_Olm-01', 'Tol_Olm_mean'], dtype='object')"
      ]
     },
     "execution_count": 9,
     "metadata": {},
     "output_type": "execute_result"
    }
   ],
   "source": [
    "df_int.keys()"
   ]
  },
  {
   "cell_type": "code",
   "execution_count": 10,
   "id": "e57e697c-c4c4-479c-a566-c517cef078e1",
   "metadata": {},
   "outputs": [],
   "source": [
    "tth_step = []\n",
    "for i in range(df_tth.shape[0]-1):\n",
    "    tth_step.append(df_tth.iloc[i,0] - df_tth.iloc[i+1,0])"
   ]
  },
  {
   "cell_type": "code",
   "execution_count": 11,
   "id": "fc39612c-4199-4d14-b64e-527cb9a548a8",
   "metadata": {},
   "outputs": [
    {
     "data": {
      "text/plain": [
       "[-0.015902481165659656,\n",
       " -0.01590248116565965,\n",
       " -0.015902481165659663,\n",
       " -0.015902481165659663,\n",
       " -0.015902481165659663,\n",
       " -0.015902481165659635,\n",
       " -0.015902481165659663,\n",
       " -0.015902481165659663,\n",
       " -0.015902481165659677,\n",
       " -0.01590248116565965]"
      ]
     },
     "execution_count": 11,
     "metadata": {},
     "output_type": "execute_result"
    }
   ],
   "source": [
    "tth_step[:10]"
   ]
  },
  {
   "cell_type": "code",
   "execution_count": 12,
   "id": "bca4bba8-787f-4bd4-a604-e693b9cdbe9b",
   "metadata": {},
   "outputs": [
    {
     "data": {
      "text/plain": [
       "(3000, 2)"
      ]
     },
     "execution_count": 12,
     "metadata": {},
     "output_type": "execute_result"
    }
   ],
   "source": [
    "df_tth.shape"
   ]
  },
  {
   "cell_type": "code",
   "execution_count": 13,
   "id": "d2ca2cca-7206-4b27-8e5c-7f57a18cb90d",
   "metadata": {},
   "outputs": [
    {
     "data": {
      "text/html": [
       "<div>\n",
       "<style scoped>\n",
       "    .dataframe tbody tr th:only-of-type {\n",
       "        vertical-align: middle;\n",
       "    }\n",
       "\n",
       "    .dataframe tbody tr th {\n",
       "        vertical-align: top;\n",
       "    }\n",
       "\n",
       "    .dataframe thead th {\n",
       "        text-align: right;\n",
       "    }\n",
       "</style>\n",
       "<table border=\"1\" class=\"dataframe\">\n",
       "  <thead>\n",
       "    <tr style=\"text-align: right;\">\n",
       "      <th></th>\n",
       "      <th>Tol_Olm-00</th>\n",
       "      <th>Tol_Olm-01</th>\n",
       "      <th>Tol_Olm_mean</th>\n",
       "    </tr>\n",
       "  </thead>\n",
       "  <tbody>\n",
       "    <tr>\n",
       "      <th>0</th>\n",
       "      <td>237.479187</td>\n",
       "      <td>238.525864</td>\n",
       "      <td>238.002525</td>\n",
       "    </tr>\n",
       "    <tr>\n",
       "      <th>1</th>\n",
       "      <td>237.503983</td>\n",
       "      <td>238.505127</td>\n",
       "      <td>238.004555</td>\n",
       "    </tr>\n",
       "    <tr>\n",
       "      <th>2</th>\n",
       "      <td>237.672943</td>\n",
       "      <td>238.755402</td>\n",
       "      <td>238.214172</td>\n",
       "    </tr>\n",
       "    <tr>\n",
       "      <th>3</th>\n",
       "      <td>237.786469</td>\n",
       "      <td>238.946609</td>\n",
       "      <td>238.366539</td>\n",
       "    </tr>\n",
       "    <tr>\n",
       "      <th>4</th>\n",
       "      <td>238.158798</td>\n",
       "      <td>239.386703</td>\n",
       "      <td>238.772751</td>\n",
       "    </tr>\n",
       "    <tr>\n",
       "      <th>...</th>\n",
       "      <td>...</td>\n",
       "      <td>...</td>\n",
       "      <td>...</td>\n",
       "    </tr>\n",
       "    <tr>\n",
       "      <th>2995</th>\n",
       "      <td>431.674744</td>\n",
       "      <td>433.937653</td>\n",
       "      <td>432.806198</td>\n",
       "    </tr>\n",
       "    <tr>\n",
       "      <th>2996</th>\n",
       "      <td>337.452942</td>\n",
       "      <td>338.850739</td>\n",
       "      <td>338.151840</td>\n",
       "    </tr>\n",
       "    <tr>\n",
       "      <th>2997</th>\n",
       "      <td>232.128174</td>\n",
       "      <td>232.423523</td>\n",
       "      <td>232.275848</td>\n",
       "    </tr>\n",
       "    <tr>\n",
       "      <th>2998</th>\n",
       "      <td>127.441109</td>\n",
       "      <td>127.441109</td>\n",
       "      <td>127.441109</td>\n",
       "    </tr>\n",
       "    <tr>\n",
       "      <th>2999</th>\n",
       "      <td>27.902277</td>\n",
       "      <td>27.902277</td>\n",
       "      <td>27.902277</td>\n",
       "    </tr>\n",
       "  </tbody>\n",
       "</table>\n",
       "<p>3000 rows × 3 columns</p>\n",
       "</div>"
      ],
      "text/plain": [
       "      Tol_Olm-00  Tol_Olm-01  Tol_Olm_mean\n",
       "0     237.479187  238.525864    238.002525\n",
       "1     237.503983  238.505127    238.004555\n",
       "2     237.672943  238.755402    238.214172\n",
       "3     237.786469  238.946609    238.366539\n",
       "4     238.158798  239.386703    238.772751\n",
       "...          ...         ...           ...\n",
       "2995  431.674744  433.937653    432.806198\n",
       "2996  337.452942  338.850739    338.151840\n",
       "2997  232.128174  232.423523    232.275848\n",
       "2998  127.441109  127.441109    127.441109\n",
       "2999   27.902277   27.902277     27.902277\n",
       "\n",
       "[3000 rows x 3 columns]"
      ]
     },
     "execution_count": 13,
     "metadata": {},
     "output_type": "execute_result"
    }
   ],
   "source": [
    "df_int"
   ]
  },
  {
   "cell_type": "markdown",
   "id": "8d39a586-76d0-4c4c-88a2-0ca0f326191c",
   "metadata": {},
   "source": [
    "# Plot data"
   ]
  },
  {
   "cell_type": "code",
   "execution_count": 14,
   "id": "934734f1-3025-41f5-96de-ba006f4fa2a3",
   "metadata": {},
   "outputs": [],
   "source": [
    "# title = ['CsPbBr_200uL_Cl_64', \n",
    "#          'CsPbBr_200uL_Cl_32', \n",
    "#          'CsPbBr_200uL_Cl_16', \n",
    "#          'CsPbBr_200uL_Cl_08', \n",
    "#          'CsPbBr_200uL_Cl_0',\n",
    "#          'CsPbBr_100uL', \n",
    "#          'CsPbBr_100uL_I_08uL', \n",
    "#          'CsPbBr_100uL_I_16uL', \n",
    "#          'CsPbBr_100uL_I_32uL', \n",
    "#          'CsPbBr_100uL_I_64uL']\n",
    "\n",
    "# title = ['00 uL/min', \n",
    "#          '08 uL/min', \n",
    "#          '16 uL/min', \n",
    "#          '32 uL/min', \n",
    "#          '64 uL/min']\n",
    "\n",
    "title = ['Tol_Olm']\n",
    "         \n",
    "label = title"
   ]
  },
  {
   "cell_type": "markdown",
   "id": "6629488b-68e0-4119-a7e8-01368d201e61",
   "metadata": {
    "tags": []
   },
   "source": [
    "## Prepare keys for average scans in pd dataframe"
   ]
  },
  {
   "cell_type": "code",
   "execution_count": 15,
   "id": "5531a17f-e7bb-448e-86e8-1834abbfcc58",
   "metadata": {
    "tags": []
   },
   "outputs": [
    {
     "data": {
      "text/plain": [
       "['Tol_Olm-00', 'Tol_Olm-01', 'Tol_Olm_mean']"
      ]
     },
     "execution_count": 15,
     "metadata": {},
     "output_type": "execute_result"
    }
   ],
   "source": [
    "keys_list = list(df_int.keys())\n",
    "# k1 = [k for k in keys_list if 'mean' in k]\n",
    "k1 = [k for k in keys_list]\n",
    "k1"
   ]
  },
  {
   "cell_type": "markdown",
   "id": "d7895bd7-0248-4a6d-a033-67f59dbca5ad",
   "metadata": {},
   "source": [
    "## Plot average scans together"
   ]
  },
  {
   "cell_type": "code",
   "execution_count": 16,
   "id": "ada8f74d-c4a3-4067-bec8-77b3699750ab",
   "metadata": {},
   "outputs": [
    {
     "data": {
      "application/vnd.jupyter.widget-view+json": {
       "model_id": "9bb5a3c9367c40ffad6d9912ce131922",
       "version_major": 2,
       "version_minor": 0
      },
      "image/png": "[encoded data removed]",
      "text/html": [
       "\n",
       "            <div style=\"display: inline-block;\">\n",
       "                <div class=\"jupyter-widgets widget-label\" style=\"text-align: center;\">\n",
       "                    Figure\n",
       "                </div>\n",
       "                <img src='data:image/png;base64,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' width=800.0/>\n",
       "            </div>\n",
       "        "
      ],
      "text/plain": [
       "Canvas(toolbar=Toolbar(toolitems=[('Home', 'Reset original view', 'home', 'home'), ('Back', 'Back to previous …"
      ]
     },
     "metadata": {},
     "output_type": "display_data"
    }
   ],
   "source": [
    "f1, ax1 = plt.subplots(1, 1, figsize = (8, 6), constrained_layout=True)\n",
    "# f1, (ax1, ax2) = plt.subplots(1, 2, figsize = (6, 9), gridspec_kw={'width_ratios': [1,1]})\n",
    "\n",
    "# mpld3.disable_notebook()\n",
    "# label = title\n",
    "# k = len(title)\n",
    "color_idx = np.linspace(0, 1, len(k1))\n",
    "for i in range(len(k1)):\n",
    "    # ax1.plot(df_tth.iloc[:,i], df_int.iloc[:,i], color=cmap(color_idx[i]), label=label[i])\n",
    "    ax1.plot(df_tth.iloc[:,0], df_int[k1[i]], color=cmap(color_idx[i]), label=k1[i])\n",
    "\n",
    "legend_properties = {'weight':'bold', 'size':16}    \n",
    "ax1.legend(prop=legend_properties)\n",
    "\n",
    "# ax1.set_xlim(2.6, 11.4)\n",
    "# ax1.set_ylim(2500, 9500)\n",
    "ax1.set_xlabel('tth (degree)', fontsize=16, fontweight='regular')\n",
    "ax1.set_ylabel('Intensity', fontsize=16, fontweight='regular')\n",
    "ax1.tick_params(axis='both', direction='out', labelsize=12, size=4, width=1)\n",
    "spinewidth = 1.5\n",
    "ax1.spines[\"bottom\"].set_linewidth(spinewidth)\n",
    "ax1.spines[\"right\"].set_linewidth(spinewidth)\n",
    "ax1.spines[\"top\"].set_linewidth(spinewidth)\n",
    "ax1.spines[\"left\"].set_linewidth(spinewidth)\n",
    "\n",
    "imag_name = '20221228_ZnI2_tth_01.png'\n",
    "# cwd = '/Users/chenghunglin/Library/CloudStorage/OneDrive-BrookhavenNationalLaboratory/data_processing/20221127_Cl_Br_I'\n",
    "# plt.savefig(cwd + '/' + imag_name, dpi = 600,  transparent=True)"
   ]
  },
  {
   "cell_type": "markdown",
   "id": "6f82d724-3d06-4a9c-83c6-97ee861cd384",
   "metadata": {
    "tags": []
   },
   "source": [
    "## Prepare keys for indiviual scan in pd dataframe"
   ]
  },
  {
   "cell_type": "code",
   "execution_count": 17,
   "id": "6012ddfd-794a-4cb7-83a4-fceb93bb117b",
   "metadata": {
    "tags": []
   },
   "outputs": [],
   "source": [
    "# keys_list = list(df_int.keys())\n",
    "# k2 = []\n",
    "# for i in range(len(subfolder)):\n",
    "#     suffix = os.path.basename(subfolder[i])\n",
    "#     k2.append([k for k in keys_list if 'Tol' in k])"
   ]
  },
  {
   "cell_type": "code",
   "execution_count": 18,
   "id": "2cd37231-b5aa-4260-b085-c98a90ccf890",
   "metadata": {},
   "outputs": [],
   "source": [
    "# k2"
   ]
  },
  {
   "cell_type": "markdown",
   "id": "de4e4636-8986-4e3e-8477-8de158121d3d",
   "metadata": {},
   "source": [
    "## Plot indiviual scans together"
   ]
  },
  {
   "cell_type": "code",
   "execution_count": 19,
   "id": "4a25223b-83c2-43bc-9e4e-dba3783a5f05",
   "metadata": {},
   "outputs": [],
   "source": [
    "# f2, ax2 = plt.subplots(2, 2, figsize = (10, 8), constrained_layout=True)\n",
    "# # f1, (ax1, ax2) = plt.subplots(1, 2, figsize = (6, 9), gridspec_kw={'width_ratios': [1,1]})\n",
    "# ax2 = ax2.flatten()\n",
    "# legend_properties = {'weight':'bold', 'size':10}\n",
    "\n",
    "# # mpld3.disable_notebook()\n",
    "# label = title\n",
    "# k = len(title)\n",
    "# color_idx = np.linspace(0, 1, k)\n",
    "# for i in range(len(title)):\n",
    "#     for j in range(len(k2[i])):\n",
    "#         color_idx = np.linspace(0, 1, len(k2[i]))\n",
    "#         ax2[i].plot(df_tth.iloc[:,i], df_int[k2[i][j]], color=cmap(color_idx[j]), label=k2[i][j])    \n",
    "#     ax2[i].legend(prop=legend_properties)\n",
    "\n",
    "# # cwd = '/Users/chenghunglin/Library/CloudStorage/OneDrive-BrookhavenNationalLaboratory/data_processing/20221127_Cl_Br_I'\n",
    "# # plt.savefig(cwd + '/' + imag_name, dpi = 600,  transparent=True)"
   ]
  },
  {
   "cell_type": "markdown",
   "id": "ce57412b-6402-4343-8d14-4f9c9df45242",
   "metadata": {
    "tags": []
   },
   "source": [
    "# Save average data as another .xy"
   ]
  },
  {
   "cell_type": "code",
   "execution_count": 20,
   "id": "1f9b4b03-e96d-4cf5-97f5-45854cce11e2",
   "metadata": {},
   "outputs": [],
   "source": [
    "path = cwd\n",
    "# # name = ['CsPbBr_ZnCl_00', 'CsPbBr_ZnCl_08', 'CsPbBr_ZnCl_16', 'CsPbBr_ZnCl_32', 'CsPbBr_ZnCl_64']\n",
    "# for i in range(len(k1)):\n",
    "#     df = pd.DataFrame()\n",
    "#     df['tth'] = df_tth.iloc[:,i]\n",
    "#     df['Intensity'] = df_int[k1[i]]\n",
    "#     fn = cwd + '/' + k1[i] + '.xy'\n",
    "#     df.to_csv(fn, sep=' ', header=False, index=False, float_format='{:.8e}'.format)\n",
    "\n",
    "\n",
    "df = pd.DataFrame()\n",
    "df['tth'] = df_tth.iloc[:,-1]\n",
    "df['Intensity'] = df_int[k1[-1]]\n",
    "fn = cwd + '/' + k1[-1] + '.xy'\n",
    "# df.to_csv(fn, sep=' ', header=False, index=False, float_format='{:.8e}'.format)"
   ]
  },
  {
   "cell_type": "code",
   "execution_count": 21,
   "id": "9ed6e673-33d9-45ea-a4f0-7a044d9d4517",
   "metadata": {},
   "outputs": [
    {
     "data": {
      "text/html": [
       "<div>\n",
       "<style scoped>\n",
       "    .dataframe tbody tr th:only-of-type {\n",
       "        vertical-align: middle;\n",
       "    }\n",
       "\n",
       "    .dataframe tbody tr th {\n",
       "        vertical-align: top;\n",
       "    }\n",
       "\n",
       "    .dataframe thead th {\n",
       "        text-align: right;\n",
       "    }\n",
       "</style>\n",
       "<table border=\"1\" class=\"dataframe\">\n",
       "  <thead>\n",
       "    <tr style=\"text-align: right;\">\n",
       "      <th></th>\n",
       "      <th>tth</th>\n",
       "      <th>Intensity</th>\n",
       "    </tr>\n",
       "  </thead>\n",
       "  <tbody>\n",
       "    <tr>\n",
       "      <th>0</th>\n",
       "      <td>0.007951</td>\n",
       "      <td>238.002525</td>\n",
       "    </tr>\n",
       "    <tr>\n",
       "      <th>1</th>\n",
       "      <td>0.023854</td>\n",
       "      <td>238.004555</td>\n",
       "    </tr>\n",
       "    <tr>\n",
       "      <th>2</th>\n",
       "      <td>0.039756</td>\n",
       "      <td>238.214172</td>\n",
       "    </tr>\n",
       "    <tr>\n",
       "      <th>3</th>\n",
       "      <td>0.055659</td>\n",
       "      <td>238.366539</td>\n",
       "    </tr>\n",
       "    <tr>\n",
       "      <th>4</th>\n",
       "      <td>0.071561</td>\n",
       "      <td>238.772751</td>\n",
       "    </tr>\n",
       "    <tr>\n",
       "      <th>...</th>\n",
       "      <td>...</td>\n",
       "      <td>...</td>\n",
       "    </tr>\n",
       "    <tr>\n",
       "      <th>2995</th>\n",
       "      <td>47.635882</td>\n",
       "      <td>432.806198</td>\n",
       "    </tr>\n",
       "    <tr>\n",
       "      <th>2996</th>\n",
       "      <td>47.651785</td>\n",
       "      <td>338.151840</td>\n",
       "    </tr>\n",
       "    <tr>\n",
       "      <th>2997</th>\n",
       "      <td>47.667687</td>\n",
       "      <td>232.275848</td>\n",
       "    </tr>\n",
       "    <tr>\n",
       "      <th>2998</th>\n",
       "      <td>47.683590</td>\n",
       "      <td>127.441109</td>\n",
       "    </tr>\n",
       "    <tr>\n",
       "      <th>2999</th>\n",
       "      <td>47.699492</td>\n",
       "      <td>27.902277</td>\n",
       "    </tr>\n",
       "  </tbody>\n",
       "</table>\n",
       "<p>3000 rows × 2 columns</p>\n",
       "</div>"
      ],
      "text/plain": [
       "            tth   Intensity\n",
       "0      0.007951  238.002525\n",
       "1      0.023854  238.004555\n",
       "2      0.039756  238.214172\n",
       "3      0.055659  238.366539\n",
       "4      0.071561  238.772751\n",
       "...         ...         ...\n",
       "2995  47.635882  432.806198\n",
       "2996  47.651785  338.151840\n",
       "2997  47.667687  232.275848\n",
       "2998  47.683590  127.441109\n",
       "2999  47.699492   27.902277\n",
       "\n",
       "[3000 rows x 2 columns]"
      ]
     },
     "execution_count": 21,
     "metadata": {},
     "output_type": "execute_result"
    }
   ],
   "source": [
    "df"
   ]
  },
  {
   "cell_type": "code",
   "execution_count": null,
   "id": "9d43b683-b98c-4c9a-af6e-64e6b80621e8",
   "metadata": {},
   "outputs": [],
   "source": []
  },
  {
   "cell_type": "code",
   "execution_count": null,
   "id": "7a2607c5-09f3-4dc6-82f4-70dddd1344ac",
   "metadata": {},
   "outputs": [],
   "source": []
  }
 ],
 "metadata": {
  "kernelspec": {
   "display_name": "Python 3 (ipykernel)",
   "language": "python",
   "name": "python3"
  },
  "language_info": {
   "codemirror_mode": {
    "name": "ipython",
    "version": 3
   },
   "file_extension": ".py",
   "mimetype": "text/x-python",
   "name": "python",
   "nbconvert_exporter": "python",
   "pygments_lexer": "ipython3",
   "version": "3.9.7"
  }
 },
 "nbformat": 4,
 "nbformat_minor": 5
}
