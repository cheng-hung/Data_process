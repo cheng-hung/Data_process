{
 "cells": [
  {
   "cell_type": "markdown",
   "id": "6b982c42-6f69-47b8-97f7-ead40f2a7f42",
   "metadata": {},
   "source": [
    "# Sort a string list"
   ]
  },
  {
   "cell_type": "code",
   "execution_count": 1,
   "id": "de844899-9eba-4a2d-8604-fecbdd202bf5",
   "metadata": {},
   "outputs": [],
   "source": [
    "import glob\n",
    "import os\n",
    "import re"
   ]
  },
  {
   "cell_type": "code",
   "execution_count": 2,
   "id": "bc5da6ca-14af-45aa-8e4a-33b96a14e99e",
   "metadata": {},
   "outputs": [
    {
     "data": {
      "text/plain": [
       "['/Users/chenghunglin/Library/CloudStorage/OneDrive-BrookhavenNationalLaboratory/data_processing/UVVIS_OceanView/2022081822/fluorescence_I/CsPbBr3_Fl_I_0_Subt11__0__100.txt',\n",
       " '/Users/chenghunglin/Library/CloudStorage/OneDrive-BrookhavenNationalLaboratory/data_processing/UVVIS_OceanView/2022081822/fluorescence_I/CsPbBr3_Fl_I_0_Subt11__1__101.txt',\n",
       " '/Users/chenghunglin/Library/CloudStorage/OneDrive-BrookhavenNationalLaboratory/data_processing/UVVIS_OceanView/2022081822/fluorescence_I/CsPbBr3_Fl_I_0_Subt11__2__102.txt',\n",
       " '/Users/chenghunglin/Library/CloudStorage/OneDrive-BrookhavenNationalLaboratory/data_processing/UVVIS_OceanView/2022081822/fluorescence_I/CsPbBr3_Fl_I_0_Subt11__3__103.txt',\n",
       " '/Users/chenghunglin/Library/CloudStorage/OneDrive-BrookhavenNationalLaboratory/data_processing/UVVIS_OceanView/2022081822/fluorescence_I/CsPbBr3_Fl_I_0_Subt11__4__104.txt',\n",
       " '/Users/chenghunglin/Library/CloudStorage/OneDrive-BrookhavenNationalLaboratory/data_processing/UVVIS_OceanView/2022081822/fluorescence_I/CsPbBr3_Fl_I_0_Subt11__5__105.txt',\n",
       " '/Users/chenghunglin/Library/CloudStorage/OneDrive-BrookhavenNationalLaboratory/data_processing/UVVIS_OceanView/2022081822/fluorescence_I/CsPbBr3_Fl_I_0_Subt11__6__106.txt',\n",
       " '/Users/chenghunglin/Library/CloudStorage/OneDrive-BrookhavenNationalLaboratory/data_processing/UVVIS_OceanView/2022081822/fluorescence_I/CsPbBr3_Fl_I_0_Subt11__7__107.txt',\n",
       " '/Users/chenghunglin/Library/CloudStorage/OneDrive-BrookhavenNationalLaboratory/data_processing/UVVIS_OceanView/2022081822/fluorescence_I/CsPbBr3_Fl_I_0_Subt11__8__108.txt',\n",
       " '/Users/chenghunglin/Library/CloudStorage/OneDrive-BrookhavenNationalLaboratory/data_processing/UVVIS_OceanView/2022081822/fluorescence_I/CsPbBr3_Fl_I_0_Subt11__9__109.txt',\n",
       " '/Users/chenghunglin/Library/CloudStorage/OneDrive-BrookhavenNationalLaboratory/data_processing/UVVIS_OceanView/2022081822/fluorescence_I/CsPbBr3_Fl_I_0_Subt11__10__110.txt',\n",
       " '/Users/chenghunglin/Library/CloudStorage/OneDrive-BrookhavenNationalLaboratory/data_processing/UVVIS_OceanView/2022081822/fluorescence_I/CsPbBr3_Fl_I_0_Subt11__11__111.txt',\n",
       " '/Users/chenghunglin/Library/CloudStorage/OneDrive-BrookhavenNationalLaboratory/data_processing/UVVIS_OceanView/2022081822/fluorescence_I/CsPbBr3_Fl_I_0_Subt11__12__112.txt',\n",
       " '/Users/chenghunglin/Library/CloudStorage/OneDrive-BrookhavenNationalLaboratory/data_processing/UVVIS_OceanView/2022081822/fluorescence_I/CsPbBr3_Fl_I_0_Subt11__13__113.txt',\n",
       " '/Users/chenghunglin/Library/CloudStorage/OneDrive-BrookhavenNationalLaboratory/data_processing/UVVIS_OceanView/2022081822/fluorescence_I/CsPbBr3_Fl_I_0_Subt11__14__114.txt',\n",
       " '/Users/chenghunglin/Library/CloudStorage/OneDrive-BrookhavenNationalLaboratory/data_processing/UVVIS_OceanView/2022081822/fluorescence_I/CsPbBr3_Fl_I_0_Subt11__15__115.txt',\n",
       " '/Users/chenghunglin/Library/CloudStorage/OneDrive-BrookhavenNationalLaboratory/data_processing/UVVIS_OceanView/2022081822/fluorescence_I/CsPbBr3_Fl_I_0_Subt11__16__116.txt',\n",
       " '/Users/chenghunglin/Library/CloudStorage/OneDrive-BrookhavenNationalLaboratory/data_processing/UVVIS_OceanView/2022081822/fluorescence_I/CsPbBr3_Fl_I_0_Subt11__17__117.txt',\n",
       " '/Users/chenghunglin/Library/CloudStorage/OneDrive-BrookhavenNationalLaboratory/data_processing/UVVIS_OceanView/2022081822/fluorescence_I/CsPbBr3_Fl_I_0_Subt11__18__118.txt',\n",
       " '/Users/chenghunglin/Library/CloudStorage/OneDrive-BrookhavenNationalLaboratory/data_processing/UVVIS_OceanView/2022081822/fluorescence_I/CsPbBr3_Fl_I_0_Subt11__19__119.txt',\n",
       " '/Users/chenghunglin/Library/CloudStorage/OneDrive-BrookhavenNationalLaboratory/data_processing/UVVIS_OceanView/2022081822/fluorescence_I/CsPbBr3_Fl_I_5_Subt11__0__20.txt',\n",
       " '/Users/chenghunglin/Library/CloudStorage/OneDrive-BrookhavenNationalLaboratory/data_processing/UVVIS_OceanView/2022081822/fluorescence_I/CsPbBr3_Fl_I_5_Subt11__1__21.txt',\n",
       " '/Users/chenghunglin/Library/CloudStorage/OneDrive-BrookhavenNationalLaboratory/data_processing/UVVIS_OceanView/2022081822/fluorescence_I/CsPbBr3_Fl_I_5_Subt11__2__22.txt',\n",
       " '/Users/chenghunglin/Library/CloudStorage/OneDrive-BrookhavenNationalLaboratory/data_processing/UVVIS_OceanView/2022081822/fluorescence_I/CsPbBr3_Fl_I_5_Subt11__3__23.txt',\n",
       " '/Users/chenghunglin/Library/CloudStorage/OneDrive-BrookhavenNationalLaboratory/data_processing/UVVIS_OceanView/2022081822/fluorescence_I/CsPbBr3_Fl_I_5_Subt11__4__24.txt',\n",
       " '/Users/chenghunglin/Library/CloudStorage/OneDrive-BrookhavenNationalLaboratory/data_processing/UVVIS_OceanView/2022081822/fluorescence_I/CsPbBr3_Fl_I_5_Subt11__5__25.txt',\n",
       " '/Users/chenghunglin/Library/CloudStorage/OneDrive-BrookhavenNationalLaboratory/data_processing/UVVIS_OceanView/2022081822/fluorescence_I/CsPbBr3_Fl_I_5_Subt11__6__26.txt',\n",
       " '/Users/chenghunglin/Library/CloudStorage/OneDrive-BrookhavenNationalLaboratory/data_processing/UVVIS_OceanView/2022081822/fluorescence_I/CsPbBr3_Fl_I_5_Subt11__7__27.txt',\n",
       " '/Users/chenghunglin/Library/CloudStorage/OneDrive-BrookhavenNationalLaboratory/data_processing/UVVIS_OceanView/2022081822/fluorescence_I/CsPbBr3_Fl_I_5_Subt11__8__28.txt',\n",
       " '/Users/chenghunglin/Library/CloudStorage/OneDrive-BrookhavenNationalLaboratory/data_processing/UVVIS_OceanView/2022081822/fluorescence_I/CsPbBr3_Fl_I_5_Subt11__9__29.txt',\n",
       " '/Users/chenghunglin/Library/CloudStorage/OneDrive-BrookhavenNationalLaboratory/data_processing/UVVIS_OceanView/2022081822/fluorescence_I/CsPbBr3_Fl_I_5_Subt11__10__30.txt',\n",
       " '/Users/chenghunglin/Library/CloudStorage/OneDrive-BrookhavenNationalLaboratory/data_processing/UVVIS_OceanView/2022081822/fluorescence_I/CsPbBr3_Fl_I_5_Subt11__11__31.txt',\n",
       " '/Users/chenghunglin/Library/CloudStorage/OneDrive-BrookhavenNationalLaboratory/data_processing/UVVIS_OceanView/2022081822/fluorescence_I/CsPbBr3_Fl_I_5_Subt11__12__32.txt',\n",
       " '/Users/chenghunglin/Library/CloudStorage/OneDrive-BrookhavenNationalLaboratory/data_processing/UVVIS_OceanView/2022081822/fluorescence_I/CsPbBr3_Fl_I_5_Subt11__13__33.txt',\n",
       " '/Users/chenghunglin/Library/CloudStorage/OneDrive-BrookhavenNationalLaboratory/data_processing/UVVIS_OceanView/2022081822/fluorescence_I/CsPbBr3_Fl_I_5_Subt11__14__34.txt',\n",
       " '/Users/chenghunglin/Library/CloudStorage/OneDrive-BrookhavenNationalLaboratory/data_processing/UVVIS_OceanView/2022081822/fluorescence_I/CsPbBr3_Fl_I_5_Subt11__15__35.txt',\n",
       " '/Users/chenghunglin/Library/CloudStorage/OneDrive-BrookhavenNationalLaboratory/data_processing/UVVIS_OceanView/2022081822/fluorescence_I/CsPbBr3_Fl_I_5_Subt11__16__36.txt',\n",
       " '/Users/chenghunglin/Library/CloudStorage/OneDrive-BrookhavenNationalLaboratory/data_processing/UVVIS_OceanView/2022081822/fluorescence_I/CsPbBr3_Fl_I_5_Subt11__17__37.txt',\n",
       " '/Users/chenghunglin/Library/CloudStorage/OneDrive-BrookhavenNationalLaboratory/data_processing/UVVIS_OceanView/2022081822/fluorescence_I/CsPbBr3_Fl_I_5_Subt11__18__38.txt',\n",
       " '/Users/chenghunglin/Library/CloudStorage/OneDrive-BrookhavenNationalLaboratory/data_processing/UVVIS_OceanView/2022081822/fluorescence_I/CsPbBr3_Fl_I_5_Subt11__19__39.txt',\n",
       " '/Users/chenghunglin/Library/CloudStorage/OneDrive-BrookhavenNationalLaboratory/data_processing/UVVIS_OceanView/2022081822/fluorescence_I/CsPbBr3_Fl_I_10_Subt11__0__0.txt',\n",
       " '/Users/chenghunglin/Library/CloudStorage/OneDrive-BrookhavenNationalLaboratory/data_processing/UVVIS_OceanView/2022081822/fluorescence_I/CsPbBr3_Fl_I_10_Subt11__1__1.txt',\n",
       " '/Users/chenghunglin/Library/CloudStorage/OneDrive-BrookhavenNationalLaboratory/data_processing/UVVIS_OceanView/2022081822/fluorescence_I/CsPbBr3_Fl_I_10_Subt11__2__2.txt',\n",
       " '/Users/chenghunglin/Library/CloudStorage/OneDrive-BrookhavenNationalLaboratory/data_processing/UVVIS_OceanView/2022081822/fluorescence_I/CsPbBr3_Fl_I_10_Subt11__3__3.txt',\n",
       " '/Users/chenghunglin/Library/CloudStorage/OneDrive-BrookhavenNationalLaboratory/data_processing/UVVIS_OceanView/2022081822/fluorescence_I/CsPbBr3_Fl_I_10_Subt11__4__4.txt',\n",
       " '/Users/chenghunglin/Library/CloudStorage/OneDrive-BrookhavenNationalLaboratory/data_processing/UVVIS_OceanView/2022081822/fluorescence_I/CsPbBr3_Fl_I_10_Subt11__5__5.txt',\n",
       " '/Users/chenghunglin/Library/CloudStorage/OneDrive-BrookhavenNationalLaboratory/data_processing/UVVIS_OceanView/2022081822/fluorescence_I/CsPbBr3_Fl_I_10_Subt11__6__6.txt',\n",
       " '/Users/chenghunglin/Library/CloudStorage/OneDrive-BrookhavenNationalLaboratory/data_processing/UVVIS_OceanView/2022081822/fluorescence_I/CsPbBr3_Fl_I_10_Subt11__7__7.txt',\n",
       " '/Users/chenghunglin/Library/CloudStorage/OneDrive-BrookhavenNationalLaboratory/data_processing/UVVIS_OceanView/2022081822/fluorescence_I/CsPbBr3_Fl_I_10_Subt11__8__8.txt',\n",
       " '/Users/chenghunglin/Library/CloudStorage/OneDrive-BrookhavenNationalLaboratory/data_processing/UVVIS_OceanView/2022081822/fluorescence_I/CsPbBr3_Fl_I_10_Subt11__9__9.txt',\n",
       " '/Users/chenghunglin/Library/CloudStorage/OneDrive-BrookhavenNationalLaboratory/data_processing/UVVIS_OceanView/2022081822/fluorescence_I/CsPbBr3_Fl_I_10_Subt11__10__10.txt',\n",
       " '/Users/chenghunglin/Library/CloudStorage/OneDrive-BrookhavenNationalLaboratory/data_processing/UVVIS_OceanView/2022081822/fluorescence_I/CsPbBr3_Fl_I_10_Subt11__11__11.txt',\n",
       " '/Users/chenghunglin/Library/CloudStorage/OneDrive-BrookhavenNationalLaboratory/data_processing/UVVIS_OceanView/2022081822/fluorescence_I/CsPbBr3_Fl_I_10_Subt11__12__12.txt',\n",
       " '/Users/chenghunglin/Library/CloudStorage/OneDrive-BrookhavenNationalLaboratory/data_processing/UVVIS_OceanView/2022081822/fluorescence_I/CsPbBr3_Fl_I_10_Subt11__13__13.txt',\n",
       " '/Users/chenghunglin/Library/CloudStorage/OneDrive-BrookhavenNationalLaboratory/data_processing/UVVIS_OceanView/2022081822/fluorescence_I/CsPbBr3_Fl_I_10_Subt11__14__14.txt',\n",
       " '/Users/chenghunglin/Library/CloudStorage/OneDrive-BrookhavenNationalLaboratory/data_processing/UVVIS_OceanView/2022081822/fluorescence_I/CsPbBr3_Fl_I_10_Subt11__15__15.txt',\n",
       " '/Users/chenghunglin/Library/CloudStorage/OneDrive-BrookhavenNationalLaboratory/data_processing/UVVIS_OceanView/2022081822/fluorescence_I/CsPbBr3_Fl_I_10_Subt11__16__16.txt',\n",
       " '/Users/chenghunglin/Library/CloudStorage/OneDrive-BrookhavenNationalLaboratory/data_processing/UVVIS_OceanView/2022081822/fluorescence_I/CsPbBr3_Fl_I_10_Subt11__17__17.txt',\n",
       " '/Users/chenghunglin/Library/CloudStorage/OneDrive-BrookhavenNationalLaboratory/data_processing/UVVIS_OceanView/2022081822/fluorescence_I/CsPbBr3_Fl_I_10_Subt11__18__18.txt',\n",
       " '/Users/chenghunglin/Library/CloudStorage/OneDrive-BrookhavenNationalLaboratory/data_processing/UVVIS_OceanView/2022081822/fluorescence_I/CsPbBr3_Fl_I_10_Subt11__19__19.txt',\n",
       " '/Users/chenghunglin/Library/CloudStorage/OneDrive-BrookhavenNationalLaboratory/data_processing/UVVIS_OceanView/2022081822/fluorescence_I/CsPbBr3_Fl_I_25_Subt11__0__60.txt',\n",
       " '/Users/chenghunglin/Library/CloudStorage/OneDrive-BrookhavenNationalLaboratory/data_processing/UVVIS_OceanView/2022081822/fluorescence_I/CsPbBr3_Fl_I_25_Subt11__1__61.txt',\n",
       " '/Users/chenghunglin/Library/CloudStorage/OneDrive-BrookhavenNationalLaboratory/data_processing/UVVIS_OceanView/2022081822/fluorescence_I/CsPbBr3_Fl_I_25_Subt11__2__62.txt',\n",
       " '/Users/chenghunglin/Library/CloudStorage/OneDrive-BrookhavenNationalLaboratory/data_processing/UVVIS_OceanView/2022081822/fluorescence_I/CsPbBr3_Fl_I_25_Subt11__3__63.txt',\n",
       " '/Users/chenghunglin/Library/CloudStorage/OneDrive-BrookhavenNationalLaboratory/data_processing/UVVIS_OceanView/2022081822/fluorescence_I/CsPbBr3_Fl_I_25_Subt11__4__64.txt',\n",
       " '/Users/chenghunglin/Library/CloudStorage/OneDrive-BrookhavenNationalLaboratory/data_processing/UVVIS_OceanView/2022081822/fluorescence_I/CsPbBr3_Fl_I_25_Subt11__5__65.txt',\n",
       " '/Users/chenghunglin/Library/CloudStorage/OneDrive-BrookhavenNationalLaboratory/data_processing/UVVIS_OceanView/2022081822/fluorescence_I/CsPbBr3_Fl_I_25_Subt11__6__66.txt',\n",
       " '/Users/chenghunglin/Library/CloudStorage/OneDrive-BrookhavenNationalLaboratory/data_processing/UVVIS_OceanView/2022081822/fluorescence_I/CsPbBr3_Fl_I_25_Subt11__7__67.txt',\n",
       " '/Users/chenghunglin/Library/CloudStorage/OneDrive-BrookhavenNationalLaboratory/data_processing/UVVIS_OceanView/2022081822/fluorescence_I/CsPbBr3_Fl_I_25_Subt11__8__68.txt',\n",
       " '/Users/chenghunglin/Library/CloudStorage/OneDrive-BrookhavenNationalLaboratory/data_processing/UVVIS_OceanView/2022081822/fluorescence_I/CsPbBr3_Fl_I_25_Subt11__9__69.txt',\n",
       " '/Users/chenghunglin/Library/CloudStorage/OneDrive-BrookhavenNationalLaboratory/data_processing/UVVIS_OceanView/2022081822/fluorescence_I/CsPbBr3_Fl_I_25_Subt11__10__70.txt',\n",
       " '/Users/chenghunglin/Library/CloudStorage/OneDrive-BrookhavenNationalLaboratory/data_processing/UVVIS_OceanView/2022081822/fluorescence_I/CsPbBr3_Fl_I_25_Subt11__11__71.txt',\n",
       " '/Users/chenghunglin/Library/CloudStorage/OneDrive-BrookhavenNationalLaboratory/data_processing/UVVIS_OceanView/2022081822/fluorescence_I/CsPbBr3_Fl_I_25_Subt11__12__72.txt',\n",
       " '/Users/chenghunglin/Library/CloudStorage/OneDrive-BrookhavenNationalLaboratory/data_processing/UVVIS_OceanView/2022081822/fluorescence_I/CsPbBr3_Fl_I_25_Subt11__13__73.txt',\n",
       " '/Users/chenghunglin/Library/CloudStorage/OneDrive-BrookhavenNationalLaboratory/data_processing/UVVIS_OceanView/2022081822/fluorescence_I/CsPbBr3_Fl_I_25_Subt11__14__74.txt',\n",
       " '/Users/chenghunglin/Library/CloudStorage/OneDrive-BrookhavenNationalLaboratory/data_processing/UVVIS_OceanView/2022081822/fluorescence_I/CsPbBr3_Fl_I_25_Subt11__15__75.txt',\n",
       " '/Users/chenghunglin/Library/CloudStorage/OneDrive-BrookhavenNationalLaboratory/data_processing/UVVIS_OceanView/2022081822/fluorescence_I/CsPbBr3_Fl_I_25_Subt11__16__76.txt',\n",
       " '/Users/chenghunglin/Library/CloudStorage/OneDrive-BrookhavenNationalLaboratory/data_processing/UVVIS_OceanView/2022081822/fluorescence_I/CsPbBr3_Fl_I_25_Subt11__17__77.txt',\n",
       " '/Users/chenghunglin/Library/CloudStorage/OneDrive-BrookhavenNationalLaboratory/data_processing/UVVIS_OceanView/2022081822/fluorescence_I/CsPbBr3_Fl_I_25_Subt11__18__78.txt',\n",
       " '/Users/chenghunglin/Library/CloudStorage/OneDrive-BrookhavenNationalLaboratory/data_processing/UVVIS_OceanView/2022081822/fluorescence_I/CsPbBr3_Fl_I_25_Subt11__19__79.txt',\n",
       " '/Users/chenghunglin/Library/CloudStorage/OneDrive-BrookhavenNationalLaboratory/data_processing/UVVIS_OceanView/2022081822/fluorescence_I/CsPbBr3_Fl_I_50_Subt11__0__40.txt',\n",
       " '/Users/chenghunglin/Library/CloudStorage/OneDrive-BrookhavenNationalLaboratory/data_processing/UVVIS_OceanView/2022081822/fluorescence_I/CsPbBr3_Fl_I_50_Subt11__1__41.txt',\n",
       " '/Users/chenghunglin/Library/CloudStorage/OneDrive-BrookhavenNationalLaboratory/data_processing/UVVIS_OceanView/2022081822/fluorescence_I/CsPbBr3_Fl_I_50_Subt11__2__42.txt',\n",
       " '/Users/chenghunglin/Library/CloudStorage/OneDrive-BrookhavenNationalLaboratory/data_processing/UVVIS_OceanView/2022081822/fluorescence_I/CsPbBr3_Fl_I_50_Subt11__3__43.txt',\n",
       " '/Users/chenghunglin/Library/CloudStorage/OneDrive-BrookhavenNationalLaboratory/data_processing/UVVIS_OceanView/2022081822/fluorescence_I/CsPbBr3_Fl_I_50_Subt11__4__44.txt',\n",
       " '/Users/chenghunglin/Library/CloudStorage/OneDrive-BrookhavenNationalLaboratory/data_processing/UVVIS_OceanView/2022081822/fluorescence_I/CsPbBr3_Fl_I_50_Subt11__5__45.txt',\n",
       " '/Users/chenghunglin/Library/CloudStorage/OneDrive-BrookhavenNationalLaboratory/data_processing/UVVIS_OceanView/2022081822/fluorescence_I/CsPbBr3_Fl_I_50_Subt11__6__46.txt',\n",
       " '/Users/chenghunglin/Library/CloudStorage/OneDrive-BrookhavenNationalLaboratory/data_processing/UVVIS_OceanView/2022081822/fluorescence_I/CsPbBr3_Fl_I_50_Subt11__7__47.txt',\n",
       " '/Users/chenghunglin/Library/CloudStorage/OneDrive-BrookhavenNationalLaboratory/data_processing/UVVIS_OceanView/2022081822/fluorescence_I/CsPbBr3_Fl_I_50_Subt11__8__48.txt',\n",
       " '/Users/chenghunglin/Library/CloudStorage/OneDrive-BrookhavenNationalLaboratory/data_processing/UVVIS_OceanView/2022081822/fluorescence_I/CsPbBr3_Fl_I_50_Subt11__9__49.txt',\n",
       " '/Users/chenghunglin/Library/CloudStorage/OneDrive-BrookhavenNationalLaboratory/data_processing/UVVIS_OceanView/2022081822/fluorescence_I/CsPbBr3_Fl_I_50_Subt11__10__50.txt',\n",
       " '/Users/chenghunglin/Library/CloudStorage/OneDrive-BrookhavenNationalLaboratory/data_processing/UVVIS_OceanView/2022081822/fluorescence_I/CsPbBr3_Fl_I_50_Subt11__11__51.txt',\n",
       " '/Users/chenghunglin/Library/CloudStorage/OneDrive-BrookhavenNationalLaboratory/data_processing/UVVIS_OceanView/2022081822/fluorescence_I/CsPbBr3_Fl_I_50_Subt11__12__52.txt',\n",
       " '/Users/chenghunglin/Library/CloudStorage/OneDrive-BrookhavenNationalLaboratory/data_processing/UVVIS_OceanView/2022081822/fluorescence_I/CsPbBr3_Fl_I_50_Subt11__13__53.txt',\n",
       " '/Users/chenghunglin/Library/CloudStorage/OneDrive-BrookhavenNationalLaboratory/data_processing/UVVIS_OceanView/2022081822/fluorescence_I/CsPbBr3_Fl_I_50_Subt11__14__54.txt',\n",
       " '/Users/chenghunglin/Library/CloudStorage/OneDrive-BrookhavenNationalLaboratory/data_processing/UVVIS_OceanView/2022081822/fluorescence_I/CsPbBr3_Fl_I_50_Subt11__15__55.txt',\n",
       " '/Users/chenghunglin/Library/CloudStorage/OneDrive-BrookhavenNationalLaboratory/data_processing/UVVIS_OceanView/2022081822/fluorescence_I/CsPbBr3_Fl_I_50_Subt11__16__56.txt',\n",
       " '/Users/chenghunglin/Library/CloudStorage/OneDrive-BrookhavenNationalLaboratory/data_processing/UVVIS_OceanView/2022081822/fluorescence_I/CsPbBr3_Fl_I_50_Subt11__17__57.txt',\n",
       " '/Users/chenghunglin/Library/CloudStorage/OneDrive-BrookhavenNationalLaboratory/data_processing/UVVIS_OceanView/2022081822/fluorescence_I/CsPbBr3_Fl_I_50_Subt11__18__58.txt',\n",
       " '/Users/chenghunglin/Library/CloudStorage/OneDrive-BrookhavenNationalLaboratory/data_processing/UVVIS_OceanView/2022081822/fluorescence_I/CsPbBr3_Fl_I_50_Subt11__19__59.txt',\n",
       " '/Users/chenghunglin/Library/CloudStorage/OneDrive-BrookhavenNationalLaboratory/data_processing/UVVIS_OceanView/2022081822/fluorescence_I/CsPbBr3_Fl_I_100_Subt11__0__80.txt',\n",
       " '/Users/chenghunglin/Library/CloudStorage/OneDrive-BrookhavenNationalLaboratory/data_processing/UVVIS_OceanView/2022081822/fluorescence_I/CsPbBr3_Fl_I_100_Subt11__1__81.txt',\n",
       " '/Users/chenghunglin/Library/CloudStorage/OneDrive-BrookhavenNationalLaboratory/data_processing/UVVIS_OceanView/2022081822/fluorescence_I/CsPbBr3_Fl_I_100_Subt11__2__82.txt',\n",
       " '/Users/chenghunglin/Library/CloudStorage/OneDrive-BrookhavenNationalLaboratory/data_processing/UVVIS_OceanView/2022081822/fluorescence_I/CsPbBr3_Fl_I_100_Subt11__3__83.txt',\n",
       " '/Users/chenghunglin/Library/CloudStorage/OneDrive-BrookhavenNationalLaboratory/data_processing/UVVIS_OceanView/2022081822/fluorescence_I/CsPbBr3_Fl_I_100_Subt11__4__84.txt',\n",
       " '/Users/chenghunglin/Library/CloudStorage/OneDrive-BrookhavenNationalLaboratory/data_processing/UVVIS_OceanView/2022081822/fluorescence_I/CsPbBr3_Fl_I_100_Subt11__5__85.txt',\n",
       " '/Users/chenghunglin/Library/CloudStorage/OneDrive-BrookhavenNationalLaboratory/data_processing/UVVIS_OceanView/2022081822/fluorescence_I/CsPbBr3_Fl_I_100_Subt11__6__86.txt',\n",
       " '/Users/chenghunglin/Library/CloudStorage/OneDrive-BrookhavenNationalLaboratory/data_processing/UVVIS_OceanView/2022081822/fluorescence_I/CsPbBr3_Fl_I_100_Subt11__7__87.txt',\n",
       " '/Users/chenghunglin/Library/CloudStorage/OneDrive-BrookhavenNationalLaboratory/data_processing/UVVIS_OceanView/2022081822/fluorescence_I/CsPbBr3_Fl_I_100_Subt11__8__88.txt',\n",
       " '/Users/chenghunglin/Library/CloudStorage/OneDrive-BrookhavenNationalLaboratory/data_processing/UVVIS_OceanView/2022081822/fluorescence_I/CsPbBr3_Fl_I_100_Subt11__9__89.txt',\n",
       " '/Users/chenghunglin/Library/CloudStorage/OneDrive-BrookhavenNationalLaboratory/data_processing/UVVIS_OceanView/2022081822/fluorescence_I/CsPbBr3_Fl_I_100_Subt11__10__90.txt',\n",
       " '/Users/chenghunglin/Library/CloudStorage/OneDrive-BrookhavenNationalLaboratory/data_processing/UVVIS_OceanView/2022081822/fluorescence_I/CsPbBr3_Fl_I_100_Subt11__11__91.txt',\n",
       " '/Users/chenghunglin/Library/CloudStorage/OneDrive-BrookhavenNationalLaboratory/data_processing/UVVIS_OceanView/2022081822/fluorescence_I/CsPbBr3_Fl_I_100_Subt11__12__92.txt',\n",
       " '/Users/chenghunglin/Library/CloudStorage/OneDrive-BrookhavenNationalLaboratory/data_processing/UVVIS_OceanView/2022081822/fluorescence_I/CsPbBr3_Fl_I_100_Subt11__13__93.txt',\n",
       " '/Users/chenghunglin/Library/CloudStorage/OneDrive-BrookhavenNationalLaboratory/data_processing/UVVIS_OceanView/2022081822/fluorescence_I/CsPbBr3_Fl_I_100_Subt11__14__94.txt',\n",
       " '/Users/chenghunglin/Library/CloudStorage/OneDrive-BrookhavenNationalLaboratory/data_processing/UVVIS_OceanView/2022081822/fluorescence_I/CsPbBr3_Fl_I_100_Subt11__15__95.txt',\n",
       " '/Users/chenghunglin/Library/CloudStorage/OneDrive-BrookhavenNationalLaboratory/data_processing/UVVIS_OceanView/2022081822/fluorescence_I/CsPbBr3_Fl_I_100_Subt11__16__96.txt',\n",
       " '/Users/chenghunglin/Library/CloudStorage/OneDrive-BrookhavenNationalLaboratory/data_processing/UVVIS_OceanView/2022081822/fluorescence_I/CsPbBr3_Fl_I_100_Subt11__17__97.txt',\n",
       " '/Users/chenghunglin/Library/CloudStorage/OneDrive-BrookhavenNationalLaboratory/data_processing/UVVIS_OceanView/2022081822/fluorescence_I/CsPbBr3_Fl_I_100_Subt11__18__98.txt',\n",
       " '/Users/chenghunglin/Library/CloudStorage/OneDrive-BrookhavenNationalLaboratory/data_processing/UVVIS_OceanView/2022081822/fluorescence_I/CsPbBr3_Fl_I_100_Subt11__19__99.txt']"
      ]
     },
     "execution_count": 2,
     "metadata": {},
     "output_type": "execute_result"
    }
   ],
   "source": [
    "cwd = '/Users/chenghunglin/Library/CloudStorage/OneDrive-BrookhavenNationalLaboratory/data_processing/UVVIS_OceanView/2022081822'\n",
    "subfolder = glob.glob(cwd + '/**')\n",
    "subfolder.sort()\n",
    "for i in range(len(subfolder)):\n",
    "    data = glob.glob(subfolder[i] + '/**.txt')\n",
    "    # data_files = subfolder\n",
    "    data_files = sorted(data, key = lambda x: (int(re.findall(r'\\d+', x)[2]), int(re.findall(r'\\d+', x)[4]), int(re.findall(r'\\d+', x)[5])))\n",
    "data_files"
   ]
  },
  {
   "cell_type": "code",
   "execution_count": null,
   "id": "3d3c36ae-b078-43a2-b914-bc0714319948",
   "metadata": {},
   "outputs": [],
   "source": []
  },
  {
   "cell_type": "code",
   "execution_count": 26,
   "id": "ca770e2d-d82c-4c15-9379-c328e9aece4b",
   "metadata": {},
   "outputs": [
    {
     "data": {
      "text/plain": [
       "['/Users/chenghunglin/Library/CloudStorage/OneDrive-BrookhavenNationalLaboratory/data_processing/UVVIS_OceanView/2022081822/fluorescence_I/CsPbBr3_Fl_I_0_Subt11__0__100.txt',\n",
       " '/Users/chenghunglin/Library/CloudStorage/OneDrive-BrookhavenNationalLaboratory/data_processing/UVVIS_OceanView/2022081822/fluorescence_I/CsPbBr3_Fl_I_0_Subt11__1__101.txt',\n",
       " '/Users/chenghunglin/Library/CloudStorage/OneDrive-BrookhavenNationalLaboratory/data_processing/UVVIS_OceanView/2022081822/fluorescence_I/CsPbBr3_Fl_I_0_Subt11__2__102.txt',\n",
       " '/Users/chenghunglin/Library/CloudStorage/OneDrive-BrookhavenNationalLaboratory/data_processing/UVVIS_OceanView/2022081822/fluorescence_I/CsPbBr3_Fl_I_0_Subt11__3__103.txt',\n",
       " '/Users/chenghunglin/Library/CloudStorage/OneDrive-BrookhavenNationalLaboratory/data_processing/UVVIS_OceanView/2022081822/fluorescence_I/CsPbBr3_Fl_I_0_Subt11__4__104.txt',\n",
       " '/Users/chenghunglin/Library/CloudStorage/OneDrive-BrookhavenNationalLaboratory/data_processing/UVVIS_OceanView/2022081822/fluorescence_I/CsPbBr3_Fl_I_0_Subt11__5__105.txt',\n",
       " '/Users/chenghunglin/Library/CloudStorage/OneDrive-BrookhavenNationalLaboratory/data_processing/UVVIS_OceanView/2022081822/fluorescence_I/CsPbBr3_Fl_I_0_Subt11__6__106.txt',\n",
       " '/Users/chenghunglin/Library/CloudStorage/OneDrive-BrookhavenNationalLaboratory/data_processing/UVVIS_OceanView/2022081822/fluorescence_I/CsPbBr3_Fl_I_0_Subt11__7__107.txt',\n",
       " '/Users/chenghunglin/Library/CloudStorage/OneDrive-BrookhavenNationalLaboratory/data_processing/UVVIS_OceanView/2022081822/fluorescence_I/CsPbBr3_Fl_I_0_Subt11__8__108.txt',\n",
       " '/Users/chenghunglin/Library/CloudStorage/OneDrive-BrookhavenNationalLaboratory/data_processing/UVVIS_OceanView/2022081822/fluorescence_I/CsPbBr3_Fl_I_0_Subt11__9__109.txt']"
      ]
     },
     "execution_count": 26,
     "metadata": {},
     "output_type": "execute_result"
    }
   ],
   "source": [
    "# data_files = sorted(data, key = lambda x: (len (x), x))\n",
    "data_files[0:10]"
   ]
  },
  {
   "cell_type": "code",
   "execution_count": 5,
   "id": "f8f0a7c7-85b8-40f2-9688-5d30a23a1484",
   "metadata": {},
   "outputs": [
    {
     "data": {
      "text/plain": [
       "'2022081822'"
      ]
     },
     "execution_count": 5,
     "metadata": {},
     "output_type": "execute_result"
    }
   ],
   "source": [
    "re.search(r'\\d+', data_files[0]).group()"
   ]
  },
  {
   "cell_type": "code",
   "execution_count": 4,
   "id": "65d113d3-94ba-4136-96fb-be8c8ea592bc",
   "metadata": {},
   "outputs": [
    {
     "data": {
      "text/plain": [
       "111"
      ]
     },
     "execution_count": 4,
     "metadata": {},
     "output_type": "execute_result"
    }
   ],
   "source": [
    "re.findall(r'\\d+', data_files[0])\n",
    "s = [int(i) for i in re.findall(r'\\d+', data_files[0])[2:6]]\n",
    "sum(s)"
   ]
  },
  {
   "cell_type": "code",
   "execution_count": 6,
   "id": "736d16aa-5ce0-40ec-a9cf-d8e898000063",
   "metadata": {},
   "outputs": [
    {
     "data": {
      "text/plain": [
       "['0']"
      ]
     },
     "execution_count": 6,
     "metadata": {},
     "output_type": "execute_result"
    }
   ],
   "source": [
    "re.findall(r'CsPbBr3_Fl_I_(\\d+)', data_files[0])"
   ]
  },
  {
   "cell_type": "code",
   "execution_count": 7,
   "id": "50cd706e-3c06-4ff8-a9af-a26d01b88b6e",
   "metadata": {},
   "outputs": [
    {
     "data": {
      "text/plain": [
       "['/Users/chenghunglin/Library/CloudStorage/OneDrive-BrookhavenNationalLaboratory/data_processing/UVVIS_OceanView/2022081822/fluorescence_I/CsPbBr3_Fl_I_0_Subt11__0__100.txt',\n",
       " '/Users/chenghunglin/Library/CloudStorage/OneDrive-BrookhavenNationalLaboratory/data_processing/UVVIS_OceanView/2022081822/fluorescence_I/CsPbBr3_Fl_I_0_Subt11__1__101.txt',\n",
       " '/Users/chenghunglin/Library/CloudStorage/OneDrive-BrookhavenNationalLaboratory/data_processing/UVVIS_OceanView/2022081822/fluorescence_I/CsPbBr3_Fl_I_0_Subt11__2__102.txt',\n",
       " '/Users/chenghunglin/Library/CloudStorage/OneDrive-BrookhavenNationalLaboratory/data_processing/UVVIS_OceanView/2022081822/fluorescence_I/CsPbBr3_Fl_I_0_Subt11__3__103.txt',\n",
       " '/Users/chenghunglin/Library/CloudStorage/OneDrive-BrookhavenNationalLaboratory/data_processing/UVVIS_OceanView/2022081822/fluorescence_I/CsPbBr3_Fl_I_0_Subt11__4__104.txt',\n",
       " '/Users/chenghunglin/Library/CloudStorage/OneDrive-BrookhavenNationalLaboratory/data_processing/UVVIS_OceanView/2022081822/fluorescence_I/CsPbBr3_Fl_I_0_Subt11__5__105.txt',\n",
       " '/Users/chenghunglin/Library/CloudStorage/OneDrive-BrookhavenNationalLaboratory/data_processing/UVVIS_OceanView/2022081822/fluorescence_I/CsPbBr3_Fl_I_0_Subt11__6__106.txt',\n",
       " '/Users/chenghunglin/Library/CloudStorage/OneDrive-BrookhavenNationalLaboratory/data_processing/UVVIS_OceanView/2022081822/fluorescence_I/CsPbBr3_Fl_I_0_Subt11__7__107.txt',\n",
       " '/Users/chenghunglin/Library/CloudStorage/OneDrive-BrookhavenNationalLaboratory/data_processing/UVVIS_OceanView/2022081822/fluorescence_I/CsPbBr3_Fl_I_0_Subt11__8__108.txt',\n",
       " '/Users/chenghunglin/Library/CloudStorage/OneDrive-BrookhavenNationalLaboratory/data_processing/UVVIS_OceanView/2022081822/fluorescence_I/CsPbBr3_Fl_I_0_Subt11__9__109.txt',\n",
       " '/Users/chenghunglin/Library/CloudStorage/OneDrive-BrookhavenNationalLaboratory/data_processing/UVVIS_OceanView/2022081822/fluorescence_I/CsPbBr3_Fl_I_0_Subt11__10__110.txt',\n",
       " '/Users/chenghunglin/Library/CloudStorage/OneDrive-BrookhavenNationalLaboratory/data_processing/UVVIS_OceanView/2022081822/fluorescence_I/CsPbBr3_Fl_I_0_Subt11__11__111.txt',\n",
       " '/Users/chenghunglin/Library/CloudStorage/OneDrive-BrookhavenNationalLaboratory/data_processing/UVVIS_OceanView/2022081822/fluorescence_I/CsPbBr3_Fl_I_0_Subt11__12__112.txt',\n",
       " '/Users/chenghunglin/Library/CloudStorage/OneDrive-BrookhavenNationalLaboratory/data_processing/UVVIS_OceanView/2022081822/fluorescence_I/CsPbBr3_Fl_I_0_Subt11__13__113.txt',\n",
       " '/Users/chenghunglin/Library/CloudStorage/OneDrive-BrookhavenNationalLaboratory/data_processing/UVVIS_OceanView/2022081822/fluorescence_I/CsPbBr3_Fl_I_0_Subt11__14__114.txt',\n",
       " '/Users/chenghunglin/Library/CloudStorage/OneDrive-BrookhavenNationalLaboratory/data_processing/UVVIS_OceanView/2022081822/fluorescence_I/CsPbBr3_Fl_I_0_Subt11__15__115.txt',\n",
       " '/Users/chenghunglin/Library/CloudStorage/OneDrive-BrookhavenNationalLaboratory/data_processing/UVVIS_OceanView/2022081822/fluorescence_I/CsPbBr3_Fl_I_0_Subt11__16__116.txt',\n",
       " '/Users/chenghunglin/Library/CloudStorage/OneDrive-BrookhavenNationalLaboratory/data_processing/UVVIS_OceanView/2022081822/fluorescence_I/CsPbBr3_Fl_I_0_Subt11__17__117.txt',\n",
       " '/Users/chenghunglin/Library/CloudStorage/OneDrive-BrookhavenNationalLaboratory/data_processing/UVVIS_OceanView/2022081822/fluorescence_I/CsPbBr3_Fl_I_0_Subt11__18__118.txt',\n",
       " '/Users/chenghunglin/Library/CloudStorage/OneDrive-BrookhavenNationalLaboratory/data_processing/UVVIS_OceanView/2022081822/fluorescence_I/CsPbBr3_Fl_I_0_Subt11__19__119.txt',\n",
       " '/Users/chenghunglin/Library/CloudStorage/OneDrive-BrookhavenNationalLaboratory/data_processing/UVVIS_OceanView/2022081822/fluorescence_I/CsPbBr3_Fl_I_5_Subt11__0__20.txt',\n",
       " '/Users/chenghunglin/Library/CloudStorage/OneDrive-BrookhavenNationalLaboratory/data_processing/UVVIS_OceanView/2022081822/fluorescence_I/CsPbBr3_Fl_I_5_Subt11__1__21.txt',\n",
       " '/Users/chenghunglin/Library/CloudStorage/OneDrive-BrookhavenNationalLaboratory/data_processing/UVVIS_OceanView/2022081822/fluorescence_I/CsPbBr3_Fl_I_5_Subt11__2__22.txt',\n",
       " '/Users/chenghunglin/Library/CloudStorage/OneDrive-BrookhavenNationalLaboratory/data_processing/UVVIS_OceanView/2022081822/fluorescence_I/CsPbBr3_Fl_I_5_Subt11__3__23.txt',\n",
       " '/Users/chenghunglin/Library/CloudStorage/OneDrive-BrookhavenNationalLaboratory/data_processing/UVVIS_OceanView/2022081822/fluorescence_I/CsPbBr3_Fl_I_5_Subt11__4__24.txt',\n",
       " '/Users/chenghunglin/Library/CloudStorage/OneDrive-BrookhavenNationalLaboratory/data_processing/UVVIS_OceanView/2022081822/fluorescence_I/CsPbBr3_Fl_I_5_Subt11__5__25.txt',\n",
       " '/Users/chenghunglin/Library/CloudStorage/OneDrive-BrookhavenNationalLaboratory/data_processing/UVVIS_OceanView/2022081822/fluorescence_I/CsPbBr3_Fl_I_5_Subt11__6__26.txt',\n",
       " '/Users/chenghunglin/Library/CloudStorage/OneDrive-BrookhavenNationalLaboratory/data_processing/UVVIS_OceanView/2022081822/fluorescence_I/CsPbBr3_Fl_I_5_Subt11__7__27.txt',\n",
       " '/Users/chenghunglin/Library/CloudStorage/OneDrive-BrookhavenNationalLaboratory/data_processing/UVVIS_OceanView/2022081822/fluorescence_I/CsPbBr3_Fl_I_5_Subt11__8__28.txt',\n",
       " '/Users/chenghunglin/Library/CloudStorage/OneDrive-BrookhavenNationalLaboratory/data_processing/UVVIS_OceanView/2022081822/fluorescence_I/CsPbBr3_Fl_I_5_Subt11__9__29.txt',\n",
       " '/Users/chenghunglin/Library/CloudStorage/OneDrive-BrookhavenNationalLaboratory/data_processing/UVVIS_OceanView/2022081822/fluorescence_I/CsPbBr3_Fl_I_5_Subt11__10__30.txt',\n",
       " '/Users/chenghunglin/Library/CloudStorage/OneDrive-BrookhavenNationalLaboratory/data_processing/UVVIS_OceanView/2022081822/fluorescence_I/CsPbBr3_Fl_I_5_Subt11__11__31.txt',\n",
       " '/Users/chenghunglin/Library/CloudStorage/OneDrive-BrookhavenNationalLaboratory/data_processing/UVVIS_OceanView/2022081822/fluorescence_I/CsPbBr3_Fl_I_5_Subt11__12__32.txt',\n",
       " '/Users/chenghunglin/Library/CloudStorage/OneDrive-BrookhavenNationalLaboratory/data_processing/UVVIS_OceanView/2022081822/fluorescence_I/CsPbBr3_Fl_I_5_Subt11__13__33.txt',\n",
       " '/Users/chenghunglin/Library/CloudStorage/OneDrive-BrookhavenNationalLaboratory/data_processing/UVVIS_OceanView/2022081822/fluorescence_I/CsPbBr3_Fl_I_5_Subt11__14__34.txt',\n",
       " '/Users/chenghunglin/Library/CloudStorage/OneDrive-BrookhavenNationalLaboratory/data_processing/UVVIS_OceanView/2022081822/fluorescence_I/CsPbBr3_Fl_I_5_Subt11__15__35.txt',\n",
       " '/Users/chenghunglin/Library/CloudStorage/OneDrive-BrookhavenNationalLaboratory/data_processing/UVVIS_OceanView/2022081822/fluorescence_I/CsPbBr3_Fl_I_5_Subt11__16__36.txt',\n",
       " '/Users/chenghunglin/Library/CloudStorage/OneDrive-BrookhavenNationalLaboratory/data_processing/UVVIS_OceanView/2022081822/fluorescence_I/CsPbBr3_Fl_I_5_Subt11__17__37.txt',\n",
       " '/Users/chenghunglin/Library/CloudStorage/OneDrive-BrookhavenNationalLaboratory/data_processing/UVVIS_OceanView/2022081822/fluorescence_I/CsPbBr3_Fl_I_5_Subt11__18__38.txt',\n",
       " '/Users/chenghunglin/Library/CloudStorage/OneDrive-BrookhavenNationalLaboratory/data_processing/UVVIS_OceanView/2022081822/fluorescence_I/CsPbBr3_Fl_I_5_Subt11__19__39.txt',\n",
       " '/Users/chenghunglin/Library/CloudStorage/OneDrive-BrookhavenNationalLaboratory/data_processing/UVVIS_OceanView/2022081822/fluorescence_I/CsPbBr3_Fl_I_10_Subt11__0__0.txt',\n",
       " '/Users/chenghunglin/Library/CloudStorage/OneDrive-BrookhavenNationalLaboratory/data_processing/UVVIS_OceanView/2022081822/fluorescence_I/CsPbBr3_Fl_I_10_Subt11__1__1.txt',\n",
       " '/Users/chenghunglin/Library/CloudStorage/OneDrive-BrookhavenNationalLaboratory/data_processing/UVVIS_OceanView/2022081822/fluorescence_I/CsPbBr3_Fl_I_10_Subt11__2__2.txt',\n",
       " '/Users/chenghunglin/Library/CloudStorage/OneDrive-BrookhavenNationalLaboratory/data_processing/UVVIS_OceanView/2022081822/fluorescence_I/CsPbBr3_Fl_I_10_Subt11__3__3.txt',\n",
       " '/Users/chenghunglin/Library/CloudStorage/OneDrive-BrookhavenNationalLaboratory/data_processing/UVVIS_OceanView/2022081822/fluorescence_I/CsPbBr3_Fl_I_10_Subt11__4__4.txt',\n",
       " '/Users/chenghunglin/Library/CloudStorage/OneDrive-BrookhavenNationalLaboratory/data_processing/UVVIS_OceanView/2022081822/fluorescence_I/CsPbBr3_Fl_I_10_Subt11__5__5.txt',\n",
       " '/Users/chenghunglin/Library/CloudStorage/OneDrive-BrookhavenNationalLaboratory/data_processing/UVVIS_OceanView/2022081822/fluorescence_I/CsPbBr3_Fl_I_10_Subt11__6__6.txt',\n",
       " '/Users/chenghunglin/Library/CloudStorage/OneDrive-BrookhavenNationalLaboratory/data_processing/UVVIS_OceanView/2022081822/fluorescence_I/CsPbBr3_Fl_I_10_Subt11__7__7.txt',\n",
       " '/Users/chenghunglin/Library/CloudStorage/OneDrive-BrookhavenNationalLaboratory/data_processing/UVVIS_OceanView/2022081822/fluorescence_I/CsPbBr3_Fl_I_10_Subt11__8__8.txt',\n",
       " '/Users/chenghunglin/Library/CloudStorage/OneDrive-BrookhavenNationalLaboratory/data_processing/UVVIS_OceanView/2022081822/fluorescence_I/CsPbBr3_Fl_I_10_Subt11__9__9.txt',\n",
       " '/Users/chenghunglin/Library/CloudStorage/OneDrive-BrookhavenNationalLaboratory/data_processing/UVVIS_OceanView/2022081822/fluorescence_I/CsPbBr3_Fl_I_10_Subt11__10__10.txt',\n",
       " '/Users/chenghunglin/Library/CloudStorage/OneDrive-BrookhavenNationalLaboratory/data_processing/UVVIS_OceanView/2022081822/fluorescence_I/CsPbBr3_Fl_I_10_Subt11__11__11.txt',\n",
       " '/Users/chenghunglin/Library/CloudStorage/OneDrive-BrookhavenNationalLaboratory/data_processing/UVVIS_OceanView/2022081822/fluorescence_I/CsPbBr3_Fl_I_10_Subt11__12__12.txt',\n",
       " '/Users/chenghunglin/Library/CloudStorage/OneDrive-BrookhavenNationalLaboratory/data_processing/UVVIS_OceanView/2022081822/fluorescence_I/CsPbBr3_Fl_I_10_Subt11__13__13.txt',\n",
       " '/Users/chenghunglin/Library/CloudStorage/OneDrive-BrookhavenNationalLaboratory/data_processing/UVVIS_OceanView/2022081822/fluorescence_I/CsPbBr3_Fl_I_10_Subt11__14__14.txt',\n",
       " '/Users/chenghunglin/Library/CloudStorage/OneDrive-BrookhavenNationalLaboratory/data_processing/UVVIS_OceanView/2022081822/fluorescence_I/CsPbBr3_Fl_I_10_Subt11__15__15.txt',\n",
       " '/Users/chenghunglin/Library/CloudStorage/OneDrive-BrookhavenNationalLaboratory/data_processing/UVVIS_OceanView/2022081822/fluorescence_I/CsPbBr3_Fl_I_10_Subt11__16__16.txt',\n",
       " '/Users/chenghunglin/Library/CloudStorage/OneDrive-BrookhavenNationalLaboratory/data_processing/UVVIS_OceanView/2022081822/fluorescence_I/CsPbBr3_Fl_I_10_Subt11__17__17.txt',\n",
       " '/Users/chenghunglin/Library/CloudStorage/OneDrive-BrookhavenNationalLaboratory/data_processing/UVVIS_OceanView/2022081822/fluorescence_I/CsPbBr3_Fl_I_10_Subt11__18__18.txt',\n",
       " '/Users/chenghunglin/Library/CloudStorage/OneDrive-BrookhavenNationalLaboratory/data_processing/UVVIS_OceanView/2022081822/fluorescence_I/CsPbBr3_Fl_I_10_Subt11__19__19.txt',\n",
       " '/Users/chenghunglin/Library/CloudStorage/OneDrive-BrookhavenNationalLaboratory/data_processing/UVVIS_OceanView/2022081822/fluorescence_I/CsPbBr3_Fl_I_25_Subt11__0__60.txt',\n",
       " '/Users/chenghunglin/Library/CloudStorage/OneDrive-BrookhavenNationalLaboratory/data_processing/UVVIS_OceanView/2022081822/fluorescence_I/CsPbBr3_Fl_I_25_Subt11__1__61.txt',\n",
       " '/Users/chenghunglin/Library/CloudStorage/OneDrive-BrookhavenNationalLaboratory/data_processing/UVVIS_OceanView/2022081822/fluorescence_I/CsPbBr3_Fl_I_25_Subt11__2__62.txt',\n",
       " '/Users/chenghunglin/Library/CloudStorage/OneDrive-BrookhavenNationalLaboratory/data_processing/UVVIS_OceanView/2022081822/fluorescence_I/CsPbBr3_Fl_I_25_Subt11__3__63.txt',\n",
       " '/Users/chenghunglin/Library/CloudStorage/OneDrive-BrookhavenNationalLaboratory/data_processing/UVVIS_OceanView/2022081822/fluorescence_I/CsPbBr3_Fl_I_25_Subt11__4__64.txt',\n",
       " '/Users/chenghunglin/Library/CloudStorage/OneDrive-BrookhavenNationalLaboratory/data_processing/UVVIS_OceanView/2022081822/fluorescence_I/CsPbBr3_Fl_I_25_Subt11__5__65.txt',\n",
       " '/Users/chenghunglin/Library/CloudStorage/OneDrive-BrookhavenNationalLaboratory/data_processing/UVVIS_OceanView/2022081822/fluorescence_I/CsPbBr3_Fl_I_25_Subt11__6__66.txt',\n",
       " '/Users/chenghunglin/Library/CloudStorage/OneDrive-BrookhavenNationalLaboratory/data_processing/UVVIS_OceanView/2022081822/fluorescence_I/CsPbBr3_Fl_I_25_Subt11__7__67.txt',\n",
       " '/Users/chenghunglin/Library/CloudStorage/OneDrive-BrookhavenNationalLaboratory/data_processing/UVVIS_OceanView/2022081822/fluorescence_I/CsPbBr3_Fl_I_25_Subt11__8__68.txt',\n",
       " '/Users/chenghunglin/Library/CloudStorage/OneDrive-BrookhavenNationalLaboratory/data_processing/UVVIS_OceanView/2022081822/fluorescence_I/CsPbBr3_Fl_I_25_Subt11__9__69.txt',\n",
       " '/Users/chenghunglin/Library/CloudStorage/OneDrive-BrookhavenNationalLaboratory/data_processing/UVVIS_OceanView/2022081822/fluorescence_I/CsPbBr3_Fl_I_25_Subt11__10__70.txt',\n",
       " '/Users/chenghunglin/Library/CloudStorage/OneDrive-BrookhavenNationalLaboratory/data_processing/UVVIS_OceanView/2022081822/fluorescence_I/CsPbBr3_Fl_I_25_Subt11__11__71.txt',\n",
       " '/Users/chenghunglin/Library/CloudStorage/OneDrive-BrookhavenNationalLaboratory/data_processing/UVVIS_OceanView/2022081822/fluorescence_I/CsPbBr3_Fl_I_25_Subt11__12__72.txt',\n",
       " '/Users/chenghunglin/Library/CloudStorage/OneDrive-BrookhavenNationalLaboratory/data_processing/UVVIS_OceanView/2022081822/fluorescence_I/CsPbBr3_Fl_I_25_Subt11__13__73.txt',\n",
       " '/Users/chenghunglin/Library/CloudStorage/OneDrive-BrookhavenNationalLaboratory/data_processing/UVVIS_OceanView/2022081822/fluorescence_I/CsPbBr3_Fl_I_25_Subt11__14__74.txt',\n",
       " '/Users/chenghunglin/Library/CloudStorage/OneDrive-BrookhavenNationalLaboratory/data_processing/UVVIS_OceanView/2022081822/fluorescence_I/CsPbBr3_Fl_I_25_Subt11__15__75.txt',\n",
       " '/Users/chenghunglin/Library/CloudStorage/OneDrive-BrookhavenNationalLaboratory/data_processing/UVVIS_OceanView/2022081822/fluorescence_I/CsPbBr3_Fl_I_25_Subt11__16__76.txt',\n",
       " '/Users/chenghunglin/Library/CloudStorage/OneDrive-BrookhavenNationalLaboratory/data_processing/UVVIS_OceanView/2022081822/fluorescence_I/CsPbBr3_Fl_I_25_Subt11__17__77.txt',\n",
       " '/Users/chenghunglin/Library/CloudStorage/OneDrive-BrookhavenNationalLaboratory/data_processing/UVVIS_OceanView/2022081822/fluorescence_I/CsPbBr3_Fl_I_25_Subt11__18__78.txt',\n",
       " '/Users/chenghunglin/Library/CloudStorage/OneDrive-BrookhavenNationalLaboratory/data_processing/UVVIS_OceanView/2022081822/fluorescence_I/CsPbBr3_Fl_I_25_Subt11__19__79.txt',\n",
       " '/Users/chenghunglin/Library/CloudStorage/OneDrive-BrookhavenNationalLaboratory/data_processing/UVVIS_OceanView/2022081822/fluorescence_I/CsPbBr3_Fl_I_50_Subt11__0__40.txt',\n",
       " '/Users/chenghunglin/Library/CloudStorage/OneDrive-BrookhavenNationalLaboratory/data_processing/UVVIS_OceanView/2022081822/fluorescence_I/CsPbBr3_Fl_I_50_Subt11__1__41.txt',\n",
       " '/Users/chenghunglin/Library/CloudStorage/OneDrive-BrookhavenNationalLaboratory/data_processing/UVVIS_OceanView/2022081822/fluorescence_I/CsPbBr3_Fl_I_50_Subt11__2__42.txt',\n",
       " '/Users/chenghunglin/Library/CloudStorage/OneDrive-BrookhavenNationalLaboratory/data_processing/UVVIS_OceanView/2022081822/fluorescence_I/CsPbBr3_Fl_I_50_Subt11__3__43.txt',\n",
       " '/Users/chenghunglin/Library/CloudStorage/OneDrive-BrookhavenNationalLaboratory/data_processing/UVVIS_OceanView/2022081822/fluorescence_I/CsPbBr3_Fl_I_50_Subt11__4__44.txt',\n",
       " '/Users/chenghunglin/Library/CloudStorage/OneDrive-BrookhavenNationalLaboratory/data_processing/UVVIS_OceanView/2022081822/fluorescence_I/CsPbBr3_Fl_I_50_Subt11__5__45.txt',\n",
       " '/Users/chenghunglin/Library/CloudStorage/OneDrive-BrookhavenNationalLaboratory/data_processing/UVVIS_OceanView/2022081822/fluorescence_I/CsPbBr3_Fl_I_50_Subt11__6__46.txt',\n",
       " '/Users/chenghunglin/Library/CloudStorage/OneDrive-BrookhavenNationalLaboratory/data_processing/UVVIS_OceanView/2022081822/fluorescence_I/CsPbBr3_Fl_I_50_Subt11__7__47.txt',\n",
       " '/Users/chenghunglin/Library/CloudStorage/OneDrive-BrookhavenNationalLaboratory/data_processing/UVVIS_OceanView/2022081822/fluorescence_I/CsPbBr3_Fl_I_50_Subt11__8__48.txt',\n",
       " '/Users/chenghunglin/Library/CloudStorage/OneDrive-BrookhavenNationalLaboratory/data_processing/UVVIS_OceanView/2022081822/fluorescence_I/CsPbBr3_Fl_I_50_Subt11__9__49.txt',\n",
       " '/Users/chenghunglin/Library/CloudStorage/OneDrive-BrookhavenNationalLaboratory/data_processing/UVVIS_OceanView/2022081822/fluorescence_I/CsPbBr3_Fl_I_50_Subt11__10__50.txt',\n",
       " '/Users/chenghunglin/Library/CloudStorage/OneDrive-BrookhavenNationalLaboratory/data_processing/UVVIS_OceanView/2022081822/fluorescence_I/CsPbBr3_Fl_I_50_Subt11__11__51.txt',\n",
       " '/Users/chenghunglin/Library/CloudStorage/OneDrive-BrookhavenNationalLaboratory/data_processing/UVVIS_OceanView/2022081822/fluorescence_I/CsPbBr3_Fl_I_50_Subt11__12__52.txt',\n",
       " '/Users/chenghunglin/Library/CloudStorage/OneDrive-BrookhavenNationalLaboratory/data_processing/UVVIS_OceanView/2022081822/fluorescence_I/CsPbBr3_Fl_I_50_Subt11__13__53.txt',\n",
       " '/Users/chenghunglin/Library/CloudStorage/OneDrive-BrookhavenNationalLaboratory/data_processing/UVVIS_OceanView/2022081822/fluorescence_I/CsPbBr3_Fl_I_50_Subt11__14__54.txt',\n",
       " '/Users/chenghunglin/Library/CloudStorage/OneDrive-BrookhavenNationalLaboratory/data_processing/UVVIS_OceanView/2022081822/fluorescence_I/CsPbBr3_Fl_I_50_Subt11__15__55.txt',\n",
       " '/Users/chenghunglin/Library/CloudStorage/OneDrive-BrookhavenNationalLaboratory/data_processing/UVVIS_OceanView/2022081822/fluorescence_I/CsPbBr3_Fl_I_50_Subt11__16__56.txt',\n",
       " '/Users/chenghunglin/Library/CloudStorage/OneDrive-BrookhavenNationalLaboratory/data_processing/UVVIS_OceanView/2022081822/fluorescence_I/CsPbBr3_Fl_I_50_Subt11__17__57.txt',\n",
       " '/Users/chenghunglin/Library/CloudStorage/OneDrive-BrookhavenNationalLaboratory/data_processing/UVVIS_OceanView/2022081822/fluorescence_I/CsPbBr3_Fl_I_50_Subt11__18__58.txt',\n",
       " '/Users/chenghunglin/Library/CloudStorage/OneDrive-BrookhavenNationalLaboratory/data_processing/UVVIS_OceanView/2022081822/fluorescence_I/CsPbBr3_Fl_I_50_Subt11__19__59.txt',\n",
       " '/Users/chenghunglin/Library/CloudStorage/OneDrive-BrookhavenNationalLaboratory/data_processing/UVVIS_OceanView/2022081822/fluorescence_I/CsPbBr3_Fl_I_100_Subt11__0__80.txt',\n",
       " '/Users/chenghunglin/Library/CloudStorage/OneDrive-BrookhavenNationalLaboratory/data_processing/UVVIS_OceanView/2022081822/fluorescence_I/CsPbBr3_Fl_I_100_Subt11__1__81.txt',\n",
       " '/Users/chenghunglin/Library/CloudStorage/OneDrive-BrookhavenNationalLaboratory/data_processing/UVVIS_OceanView/2022081822/fluorescence_I/CsPbBr3_Fl_I_100_Subt11__2__82.txt',\n",
       " '/Users/chenghunglin/Library/CloudStorage/OneDrive-BrookhavenNationalLaboratory/data_processing/UVVIS_OceanView/2022081822/fluorescence_I/CsPbBr3_Fl_I_100_Subt11__3__83.txt',\n",
       " '/Users/chenghunglin/Library/CloudStorage/OneDrive-BrookhavenNationalLaboratory/data_processing/UVVIS_OceanView/2022081822/fluorescence_I/CsPbBr3_Fl_I_100_Subt11__4__84.txt',\n",
       " '/Users/chenghunglin/Library/CloudStorage/OneDrive-BrookhavenNationalLaboratory/data_processing/UVVIS_OceanView/2022081822/fluorescence_I/CsPbBr3_Fl_I_100_Subt11__5__85.txt',\n",
       " '/Users/chenghunglin/Library/CloudStorage/OneDrive-BrookhavenNationalLaboratory/data_processing/UVVIS_OceanView/2022081822/fluorescence_I/CsPbBr3_Fl_I_100_Subt11__6__86.txt',\n",
       " '/Users/chenghunglin/Library/CloudStorage/OneDrive-BrookhavenNationalLaboratory/data_processing/UVVIS_OceanView/2022081822/fluorescence_I/CsPbBr3_Fl_I_100_Subt11__7__87.txt',\n",
       " '/Users/chenghunglin/Library/CloudStorage/OneDrive-BrookhavenNationalLaboratory/data_processing/UVVIS_OceanView/2022081822/fluorescence_I/CsPbBr3_Fl_I_100_Subt11__8__88.txt',\n",
       " '/Users/chenghunglin/Library/CloudStorage/OneDrive-BrookhavenNationalLaboratory/data_processing/UVVIS_OceanView/2022081822/fluorescence_I/CsPbBr3_Fl_I_100_Subt11__9__89.txt',\n",
       " '/Users/chenghunglin/Library/CloudStorage/OneDrive-BrookhavenNationalLaboratory/data_processing/UVVIS_OceanView/2022081822/fluorescence_I/CsPbBr3_Fl_I_100_Subt11__10__90.txt',\n",
       " '/Users/chenghunglin/Library/CloudStorage/OneDrive-BrookhavenNationalLaboratory/data_processing/UVVIS_OceanView/2022081822/fluorescence_I/CsPbBr3_Fl_I_100_Subt11__11__91.txt',\n",
       " '/Users/chenghunglin/Library/CloudStorage/OneDrive-BrookhavenNationalLaboratory/data_processing/UVVIS_OceanView/2022081822/fluorescence_I/CsPbBr3_Fl_I_100_Subt11__12__92.txt',\n",
       " '/Users/chenghunglin/Library/CloudStorage/OneDrive-BrookhavenNationalLaboratory/data_processing/UVVIS_OceanView/2022081822/fluorescence_I/CsPbBr3_Fl_I_100_Subt11__13__93.txt',\n",
       " '/Users/chenghunglin/Library/CloudStorage/OneDrive-BrookhavenNationalLaboratory/data_processing/UVVIS_OceanView/2022081822/fluorescence_I/CsPbBr3_Fl_I_100_Subt11__14__94.txt',\n",
       " '/Users/chenghunglin/Library/CloudStorage/OneDrive-BrookhavenNationalLaboratory/data_processing/UVVIS_OceanView/2022081822/fluorescence_I/CsPbBr3_Fl_I_100_Subt11__15__95.txt',\n",
       " '/Users/chenghunglin/Library/CloudStorage/OneDrive-BrookhavenNationalLaboratory/data_processing/UVVIS_OceanView/2022081822/fluorescence_I/CsPbBr3_Fl_I_100_Subt11__16__96.txt',\n",
       " '/Users/chenghunglin/Library/CloudStorage/OneDrive-BrookhavenNationalLaboratory/data_processing/UVVIS_OceanView/2022081822/fluorescence_I/CsPbBr3_Fl_I_100_Subt11__17__97.txt',\n",
       " '/Users/chenghunglin/Library/CloudStorage/OneDrive-BrookhavenNationalLaboratory/data_processing/UVVIS_OceanView/2022081822/fluorescence_I/CsPbBr3_Fl_I_100_Subt11__18__98.txt',\n",
       " '/Users/chenghunglin/Library/CloudStorage/OneDrive-BrookhavenNationalLaboratory/data_processing/UVVIS_OceanView/2022081822/fluorescence_I/CsPbBr3_Fl_I_100_Subt11__19__99.txt']"
      ]
     },
     "execution_count": 7,
     "metadata": {},
     "output_type": "execute_result"
    }
   ],
   "source": [
    "data_files = sorted(data, key = lambda x: (int(re.findall(r'\\d+', x)[2]), int(re.findall(r'\\d+', x)[4]), int(re.findall(r'\\d+', x)[5])))\n",
    "data_files"
   ]
  },
  {
   "cell_type": "code",
   "execution_count": null,
   "id": "8d161cfa-c89d-43f2-aaa0-11d03dd1d0d8",
   "metadata": {},
   "outputs": [],
   "source": []
  }
 ],
 "metadata": {
  "kernelspec": {
   "display_name": "Python 3 (ipykernel)",
   "language": "python",
   "name": "python3"
  },
  "language_info": {
   "codemirror_mode": {
    "name": "ipython",
    "version": 3
   },
   "file_extension": ".py",
   "mimetype": "text/x-python",
   "name": "python",
   "nbconvert_exporter": "python",
   "pygments_lexer": "ipython3",
   "version": "3.9.7"
  }
 },
 "nbformat": 4,
 "nbformat_minor": 5
}
