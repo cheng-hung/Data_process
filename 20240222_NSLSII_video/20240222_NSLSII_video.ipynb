{
 "cells": [
  {
   "cell_type": "code",
   "execution_count": 1,
   "id": "dba2bc8e-8b94-4d27-9d71-1c86eabe821a",
   "metadata": {},
   "outputs": [],
   "source": [
    "import glob\n",
    "import os\n",
    "import re\n",
    "\n",
    "import matplotlib as mpl\n",
    "import matplotlib.pyplot as plt\n",
    "import seaborn as sns\n",
    "import palettable\n",
    "\n",
    "import numpy as np\n",
    "import pandas as pd\n",
    "\n",
    "\n",
    "from scipy import integrate\n",
    "from scipy.optimize import curve_fit\n",
    "# from scipy.signal import find_peaks\n",
    "\n",
    "%matplotlib widget"
   ]
  },
  {
   "cell_type": "code",
   "execution_count": 2,
   "id": "ece54c97-5e88-422a-9355-a345e97c1d3b",
   "metadata": {},
   "outputs": [],
   "source": [
    "plt.close('all')"
   ]
  },
  {
   "cell_type": "code",
   "execution_count": 3,
   "id": "48f3eaa4-f886-4c23-9b7b-763f7d67406a",
   "metadata": {},
   "outputs": [],
   "source": [
    "## Plotting parameters\n",
    "\n",
    "palette2 = palettable.colorbrewer.diverging.RdYlGn_4_r\n",
    "# palette1 = palettable.lightbartlein.diverging.BlueGreen_4_r\n",
    "# palette = pld.Spectral_10_r\n",
    "# cmap1 = palette1.mpl_colormap\n",
    "RdYlGn_4_r = palette2.mpl_colormap\n",
    "# cmap = plt.get_cmap('rainbow')\n",
    "transparency = 0.7\n",
    "labelsize = 20\n",
    "spinewidth = 3\n",
    "fontsize = 26\n",
    "legendsize = 20\n",
    "fontweight = 'bold'\n",
    "labelpad = 6\n",
    "pad = 10\n",
    "linewidth = 2.5\n"
   ]
  },
  {
   "cell_type": "code",
   "execution_count": 4,
   "id": "72322a2c-4634-474f-be00-64b6945cc2b2",
   "metadata": {},
   "outputs": [
    {
     "data": {
      "image/png": "[encoded data removed]",
      "text/html": [
       "<div style=\"vertical-align: middle;\"><strong>RdYlGn_r</strong> </div><div class=\"cmap\"><img alt=\"RdYlGn_r colormap\" title=\"RdYlGn_r\" style=\"border: 1px solid #555;\" src=\"data:image/png;base64,iVBORw0KGgoAAAANSUhEUgAAAgAAAABACAYAAABsv8+/AAAAF3RFWHRUaXRsZQBSZFlsR25fciBjb2xvcm1hcBVEop8AAAAddEVYdERlc2NyaXB0aW9uAFJkWWxHbl9yIGNvbG9ybWFwPDpFtgAAADB0RVh0QXV0aG9yAE1hdHBsb3RsaWIgdjMuNC4zLCBodHRwczovL21hdHBsb3RsaWIub3JnCV3z0wAAADJ0RVh0U29mdHdhcmUATWF0cGxvdGxpYiB2My40LjMsIGh0dHBzOi8vbWF0cGxvdGxpYi5vcmcn+2z0AAAB0UlEQVR4nO3WQXKCQBRAwcFj5Da5ZI4bsghYJRTBoLvXvTETxvmILt708fU5jzHGNH7dlj+maXpY35Yd07reXL/vH4/XD/ePzfnb/W+fd3LOydztfR2+f93/4ryj53Q+7+R5jJNznvycp9/fm+fd98/z8rrex7i4nl98/7p+1/28+7znPt/t5Lrn9b/1+jzn7+Ufy+tuPa/rg/3z43q3bz4493v8ef3q/Pu5L87f3v/V+fvrj+c9O3937u7+rs3ff3/X5u8+18X5u9/B5vcKAIQIAAAIEgAAECQAACBIAABAkAAAgCABAABBAgAAggQAAAQJAAAIEgAAECQAACBIAABAkAAAgCABAABBAgAAggQAAAQJAAAIEgAAECQAACBIAABAkAAAgCABAABBAgAAggQAAAQJAAAIEgAAECQAACBIAABAkAAAgCABAABBAgAAggQAAAQJAAAIEgAAECQAACBIAABAkAAAgCABAABBAgAAggQAAAQJAAAIEgAAECQAACBIAABAkAAAgCABAABBAgAAggQAAAQJAAAIEgAAECQAACBIAABAkAAAgCABAABBAgAAggQAAAQJAAAIEgAAECQAACBIAABAkAAAgCABAABBPww79ouMV4rBAAAAAElFTkSuQmCC\"></div><div style=\"vertical-align: middle; max-width: 514px; display: flex; justify-content: space-between;\"><div style=\"float: left;\"><div title=\"#1a9641ff\" style=\"display: inline-block; width: 1em; height: 1em; margin: 0; vertical-align: middle; border: 1px solid #555; background-color: #1a9641ff;\"></div> under</div><div style=\"margin: 0 auto; display: inline-block;\">bad <div title=\"#00000000\" style=\"display: inline-block; width: 1em; height: 1em; margin: 0; vertical-align: middle; border: 1px solid #555; background-color: #00000000;\"></div></div><div style=\"float: right;\">over <div title=\"#d7191cff\" style=\"display: inline-block; width: 1em; height: 1em; margin: 0; vertical-align: middle; border: 1px solid #555; background-color: #d7191cff;\"></div></div>"
      ],
      "text/plain": [
       "<matplotlib.colors.LinearSegmentedColormap at 0x7fcbda605f10>"
      ]
     },
     "execution_count": 4,
     "metadata": {},
     "output_type": "execute_result"
    }
   ],
   "source": [
    "RdYlGn_4_r"
   ]
  },
  {
   "cell_type": "code",
   "execution_count": 5,
   "id": "f30bcec6-2281-4295-ae28-3ae3475a0207",
   "metadata": {},
   "outputs": [
    {
     "data": {
      "image/png": "[encoded data removed]",
      "text/html": [
       "<div style=\"vertical-align: middle;\"><strong>BlGn</strong> </div><div class=\"cmap\"><img alt=\"BlGn colormap\" title=\"BlGn\" style=\"border: 1px solid #555;\" src=\"data:image/png;base64,iVBORw0KGgoAAAANSUhEUgAAAgAAAABACAYAAABsv8+/AAAAE3RFWHRUaXRsZQBCbEduIGNvbG9ybWFwFgNy6gAAABl0RVh0RGVzY3JpcHRpb24AQmxHbiBjb2xvcm1hcJ2x4nIAAAAwdEVYdEF1dGhvcgBNYXRwbG90bGliIHYzLjQuMywgaHR0cHM6Ly9tYXRwbG90bGliLm9yZwld89MAAAAydEVYdFNvZnR3YXJlAE1hdHBsb3RsaWIgdjMuNC4zLCBodHRwczovL21hdHBsb3RsaWIub3JnJ/ts9AAAAcFJREFUeJzt1sFpw0AQQFHJ5aTANJC+4xSgEQzoYMh/77isd0e2MP/8/vp5H4P3Oa1dF6e1Y7nv0XmvYd8n5xlnXM73cMZHzzd9j9t7Pzjj+H5O+27ek9/lPb/TbzjOsz1v99np3tu712fu3tHtjNvnu59xefejeXazTO/D7d3LtfO8/rW+Xte1c1h7DXNvz7u/Z9g3nLmeZ9q3fubrebd7H5w57ZufeTnL3ff94Mz9M1/Pm3+r3WeP4zhulgGA/0wAAECQAACAIAEAAEECAACCBAAABAkAAAgSAAAQJAAAIEgAAECQAACAIAEAAEECAACCBAAABAkAAAgSAAAQJAAAIEgAAECQAACAIAEAAEECAACCBAAABAkAAAgSAAAQJAAAIEgAAECQAACAIAEAAEECAACCBAAABAkAAAgSAAAQJAAAIEgAAECQAACAIAEAAEECAACCBAAABAkAAAgSAAAQJAAAIEgAAECQAACAIAEAAEECAACCBAAABAkAAAgSAAAQJAAAIEgAAECQAACAIAEAAEECAACCBAAABAkAAAgSAAAQJAAAIEgAAECQAACAIAEAAEECAACCBAAABAkAAAj6Az12VUx8q/GgAAAAAElFTkSuQmCC\"></div><div style=\"vertical-align: middle; max-width: 514px; display: flex; justify-content: space-between;\"><div style=\"float: left;\"><div title=\"#762a83ff\" style=\"display: inline-block; width: 1em; height: 1em; margin: 0; vertical-align: middle; border: 1px solid #555; background-color: #762a83ff;\"></div> under</div><div style=\"margin: 0 auto; display: inline-block;\">bad <div title=\"#00000000\" style=\"display: inline-block; width: 1em; height: 1em; margin: 0; vertical-align: middle; border: 1px solid #555; background-color: #00000000;\"></div></div><div style=\"float: right;\">over <div title=\"#66c2a5ff\" style=\"display: inline-block; width: 1em; height: 1em; margin: 0; vertical-align: middle; border: 1px solid #555; background-color: #66c2a5ff;\"></div></div>"
      ],
      "text/plain": [
       "<matplotlib.colors.LinearSegmentedColormap at 0x7fcbda6adbe0>"
      ]
     },
     "execution_count": 5,
     "metadata": {},
     "output_type": "execute_result"
    }
   ],
   "source": [
    "from matplotlib.colors import LinearSegmentedColormap\n",
    "\n",
    "colors = [\n",
    "    # (0.25098039215686274, 0.0, 0.29411764705882354), \n",
    "    (0.4627450980392157, 0.16470588235294117, 0.5137254901960784),\n",
    "    (0.3686274509803922, 0.30980392156862746, 0.6352941176470588), \n",
    "    (0.19607843137254902, 0.5333333333333333, 0.7411764705882353), \n",
    "    (0.4, 0.7607843137254902, 0.6470588235294118),\n",
    " # (0.6705882352941176, 0.8666666666666667, 0.6431372549019608),\n",
    " # (0.6509803921568628, 0.8509803921568627, 0.41568627450980394),\n",
    " # (0.10196078431372549, 0.5882352941176471, 0.2549019607843137), \n",
    "         ]\n",
    "\n",
    "BlGn = LinearSegmentedColormap.from_list('BlGn', colors, N=100)\n",
    "BlGn"
   ]
  },
  {
   "cell_type": "code",
   "execution_count": 6,
   "id": "a68ce55b-4738-4a7f-afb8-d4ce7466c555",
   "metadata": {},
   "outputs": [
    {
     "data": {
      "image/png": "[encoded data removed]",
      "text/html": [
       "<div style=\"vertical-align: middle;\"><strong>BlGn_r</strong> </div><div class=\"cmap\"><img alt=\"BlGn_r colormap\" title=\"BlGn_r\" style=\"border: 1px solid #555;\" src=\"data:image/png;base64,iVBORw0KGgoAAAANSUhEUgAAAgAAAABACAYAAABsv8+/AAAAFXRFWHRUaXRsZQBCbEduX3IgY29sb3JtYXAfU04QAAAAG3RFWHREZXNjcmlwdGlvbgBCbEduX3IgY29sb3JtYXBWxFb0AAAAMHRFWHRBdXRob3IATWF0cGxvdGxpYiB2My40LjMsIGh0dHBzOi8vbWF0cGxvdGxpYi5vcmcJXfPTAAAAMnRFWHRTb2Z0d2FyZQBNYXRwbG90bGliIHYzLjQuMywgaHR0cHM6Ly9tYXRwbG90bGliLm9yZyf7bPQAAAHLSURBVHic7daxccMwEABBUMW6MzfiwkQHDvWcgSwFHt9uiBGAJ6ngjo+vz3MN7vdp7XhYO4e1ae95Tr/bWzunWYbzruf5/Znbe6ffbZ73zJnTjNvfYPu8vVmu1ufn3pxn87zj/vi3ndZuw9paax3n7v5h73T3cN5097z38Y7LuXefe/P5juH5xrm339fV+x7WNve/9r437x3Ou7x783+ypne2ufbS3mfO3P3W757xibnHb/jmeV4572fGvzPPvPZ43Fpr3eZlAOA/EwAAECQAACBIAABAkAAAgCABAABBAgAAggQAAAQJAAAIEgAAECQAACBIAABAkAAAgCABAABBAgAAggQAAAQJAAAIEgAAECQAACBIAABAkAAAgCABAABBAgAAggQAAAQJAAAIEgAAECQAACBIAABAkAAAgCABAABBAgAAggQAAAQJAAAIEgAAECQAACBIAABAkAAAgCABAABBAgAAggQAAAQJAAAIEgAAECQAACBIAABAkAAAgCABAABBAgAAggQAAAQJAAAIEgAAECQAACBIAABAkAAAgCABAABBAgAAggQAAAQJAAAIEgAAECQAACBIAABAkAAAgCABAABBAgAAgr4Bz5nAosONrjUAAAAASUVORK5CYII=\"></div><div style=\"vertical-align: middle; max-width: 514px; display: flex; justify-content: space-between;\"><div style=\"float: left;\"><div title=\"#66c2a5ff\" style=\"display: inline-block; width: 1em; height: 1em; margin: 0; vertical-align: middle; border: 1px solid #555; background-color: #66c2a5ff;\"></div> under</div><div style=\"margin: 0 auto; display: inline-block;\">bad <div title=\"#00000000\" style=\"display: inline-block; width: 1em; height: 1em; margin: 0; vertical-align: middle; border: 1px solid #555; background-color: #00000000;\"></div></div><div style=\"float: right;\">over <div title=\"#762a83ff\" style=\"display: inline-block; width: 1em; height: 1em; margin: 0; vertical-align: middle; border: 1px solid #555; background-color: #762a83ff;\"></div></div>"
      ],
      "text/plain": [
       "<matplotlib.colors.LinearSegmentedColormap at 0x7fcbb82a8610>"
      ]
     },
     "execution_count": 6,
     "metadata": {},
     "output_type": "execute_result"
    }
   ],
   "source": [
    "BlGn_r = LinearSegmentedColormap.from_list('BlGn_r', list(reversed(colors)), N=100)\n",
    "BlGn_r"
   ]
  },
  {
   "cell_type": "markdown",
   "id": "2afacf98-8766-4a2b-9984-d08c24895b54",
   "metadata": {},
   "source": [
    "# Prepare uid for dataset grid"
   ]
  },
  {
   "cell_type": "code",
   "execution_count": 7,
   "id": "cd009543-6c6c-40e0-ad86-3f3c1bd0e5d1",
   "metadata": {},
   "outputs": [
    {
     "name": "stdout",
     "output_type": "stream",
     "text": [
      "/Users/chenghunglin/Library/CloudStorage/OneDrive-BrookhavenNationalLaboratory/data_processing/20240222_NSLSII_video/20240222183213_2313af94_fluorescence\n",
      "/Users/chenghunglin/Library/CloudStorage/OneDrive-BrookhavenNationalLaboratory/data_processing/20240222_NSLSII_video/20240222184143_be22b92c_fluorescence\n",
      "/Users/chenghunglin/Library/CloudStorage/OneDrive-BrookhavenNationalLaboratory/data_processing/20240222_NSLSII_video/20240222190150_71622acc_fluorescence\n",
      "/Users/chenghunglin/Library/CloudStorage/OneDrive-BrookhavenNationalLaboratory/data_processing/20240222_NSLSII_video/20240222191938_d2a38ed0_fluorescence\n",
      "/Users/chenghunglin/Library/CloudStorage/OneDrive-BrookhavenNationalLaboratory/data_processing/20240222_NSLSII_video/20240222193522_01b3fde0_fluorescence\n",
      "/Users/chenghunglin/Library/CloudStorage/OneDrive-BrookhavenNationalLaboratory/data_processing/20240222_NSLSII_video/20240222195208_8546f06d_fluorescence\n",
      "/Users/chenghunglin/Library/CloudStorage/OneDrive-BrookhavenNationalLaboratory/data_processing/20240222_NSLSII_video/20240222201109_5239acc7_fluorescence\n",
      "/Users/chenghunglin/Library/CloudStorage/OneDrive-BrookhavenNationalLaboratory/data_processing/20240222_NSLSII_video/20240222214558_ede49621_fluorescence\n",
      "/Users/chenghunglin/Library/CloudStorage/OneDrive-BrookhavenNationalLaboratory/data_processing/20240222_NSLSII_video/20240222215543_66855182_fluorescence\n",
      "/Users/chenghunglin/Library/CloudStorage/OneDrive-BrookhavenNationalLaboratory/data_processing/20240222_NSLSII_video/20240222221359_10f93045_fluorescence\n",
      "/Users/chenghunglin/Library/CloudStorage/OneDrive-BrookhavenNationalLaboratory/data_processing/20240222_NSLSII_video/20240222223033_5b947ad4_fluorescence\n",
      "/Users/chenghunglin/Library/CloudStorage/OneDrive-BrookhavenNationalLaboratory/data_processing/20240222_NSLSII_video/20240222224850_5906a5a2_fluorescence\n",
      "/Users/chenghunglin/Library/CloudStorage/OneDrive-BrookhavenNationalLaboratory/data_processing/20240222_NSLSII_video/20240222230631_93bf8475_fluorescence\n",
      "/Users/chenghunglin/Library/CloudStorage/OneDrive-BrookhavenNationalLaboratory/data_processing/20240222_NSLSII_video/20240223005736_8d7a9c75_fluorescence\n",
      "/Users/chenghunglin/Library/CloudStorage/OneDrive-BrookhavenNationalLaboratory/data_processing/20240222_NSLSII_video/20240223010657_00a29c6b_fluorescence\n",
      "/Users/chenghunglin/Library/CloudStorage/OneDrive-BrookhavenNationalLaboratory/data_processing/20240222_NSLSII_video/20240223012457_67bdfcab_fluorescence\n",
      "/Users/chenghunglin/Library/CloudStorage/OneDrive-BrookhavenNationalLaboratory/data_processing/20240222_NSLSII_video/20240223012836_7a625c4f_fluorescence\n",
      "/Users/chenghunglin/Library/CloudStorage/OneDrive-BrookhavenNationalLaboratory/data_processing/20240222_NSLSII_video/20240223014456_a6f5b0aa_fluorescence\n",
      "/Users/chenghunglin/Library/CloudStorage/OneDrive-BrookhavenNationalLaboratory/data_processing/20240222_NSLSII_video/20240223020934_6e2bca27_fluorescence\n",
      "/Users/chenghunglin/Library/CloudStorage/OneDrive-BrookhavenNationalLaboratory/data_processing/20240222_NSLSII_video/20240223022641_5db78c4d_fluorescence\n",
      "/Users/chenghunglin/Library/CloudStorage/OneDrive-BrookhavenNationalLaboratory/data_processing/20240222_NSLSII_video/20240223025426_c72f3d2a_fluorescence\n",
      "/Users/chenghunglin/Library/CloudStorage/OneDrive-BrookhavenNationalLaboratory/data_processing/20240222_NSLSII_video/20240223031537_5ee9327c_fluorescence\n",
      "/Users/chenghunglin/Library/CloudStorage/OneDrive-BrookhavenNationalLaboratory/data_processing/20240222_NSLSII_video/20240223033806_99bfd4a1_fluorescence\n",
      "/Users/chenghunglin/Library/CloudStorage/OneDrive-BrookhavenNationalLaboratory/data_processing/20240222_NSLSII_video/20240223035727_0c84e4b6_fluorescence\n",
      "/Users/chenghunglin/Library/CloudStorage/OneDrive-BrookhavenNationalLaboratory/data_processing/20240222_NSLSII_video/20240223041145_8cf6e711_fluorescence\n",
      "/Users/chenghunglin/Library/CloudStorage/OneDrive-BrookhavenNationalLaboratory/data_processing/20240222_NSLSII_video/20240223041227_b8d179c4_fluorescence\n",
      "/Users/chenghunglin/Library/CloudStorage/OneDrive-BrookhavenNationalLaboratory/data_processing/20240222_NSLSII_video/20240223043101_8de08bdd_fluorescence\n",
      "/Users/chenghunglin/Library/CloudStorage/OneDrive-BrookhavenNationalLaboratory/data_processing/20240222_NSLSII_video/20240223045452_ef22792d_fluorescence\n",
      "/Users/chenghunglin/Library/CloudStorage/OneDrive-BrookhavenNationalLaboratory/data_processing/20240222_NSLSII_video/20240223051801_097b8ebd_fluorescence\n"
     ]
    }
   ],
   "source": [
    "#cwd = os.getcwd()\n",
    "# cwd = '/nsls2/users/clin1/Documents/Cheng-Hung/temp/20221108_insitu'\n",
    "onedrive = '/Users/chenghunglin/Library/CloudStorage/OneDrive-BrookhavenNationalLaboratory'\n",
    "cwd = '/data_processing/20240222_NSLSII_video'\n",
    "subfolder = glob.glob(onedrive + cwd + '/**fluorescence**')\n",
    "subfolder.sort()\n",
    "# # del subfolder[-1]\n",
    "print(*subfolder, sep = '\\n')  ## Print one element per line"
   ]
  },
  {
   "cell_type": "code",
   "execution_count": 8,
   "id": "c1474f86-e63d-44bb-a3c2-8cc414ff5f17",
   "metadata": {},
   "outputs": [
    {
     "data": {
      "text/plain": [
       "29"
      ]
     },
     "execution_count": 8,
     "metadata": {},
     "output_type": "execute_result"
    }
   ],
   "source": [
    "len(subfolder)"
   ]
  },
  {
   "cell_type": "markdown",
   "id": "64ef9a0a-46d3-4d78-8db1-24eb8c82757d",
   "metadata": {},
   "source": [
    "## Check filename, uid, pump rate"
   ]
  },
  {
   "cell_type": "code",
   "execution_count": 15,
   "id": "2f870ecf-6e43-4a92-a803-f1df9891f4de",
   "metadata": {},
   "outputs": [],
   "source": [
    "fn_list = []\n",
    "uid_list = []\n",
    "rate_list = []\n",
    "peak_list = []\n",
    "time_stamp = []\n",
    "\n",
    "for i in range(len(subfolder)):\n",
    "    data_files = glob.glob(subfolder[i] + f'/**.csv')\n",
    "    data_files.sort()\n",
    "    # del data_files[-1]\n",
    "    filename = os.path.basename(data_files[0])\n",
    "    fn_list.append(filename)\n",
    "    rate_list.append(filename[:35])\n",
    "    with open(data_files[-1], 'r') as data:\n",
    "        line = data.readlines()        # Read data line by ine\n",
    "        uid = line[0].strip('\\n').split(',')[1]\n",
    "        time = line[1].strip('\\n').split(',')[1] + '_' + line[1].strip('\\n').split(',')[2]\n",
    "        # dds2_p1 = line[5].strip('\\n').split(',')\n",
    "        # dds2_p2 = line[6].strip('\\n').split(',')\n",
    "        # rate = f'{dds2_p1[1]}_{int(float(dds2_p1[2])):03d}_{dds2_p2[1]}_{int(float(dds2_p2[2])):03d}'\n",
    "        \n",
    "        # peak = float(line[13].strip('\\n').split(',')[2])\n",
    "        \n",
    "        uid_list.append(uid)\n",
    "        time_stamp.append(time)\n",
    "        # peak_list.append(peak)\n",
    "        # rate_list.append(rate)\n",
    "        \n",
    "    data.close()\n",
    "        "
   ]
  },
  {
   "cell_type": "code",
   "execution_count": 17,
   "id": "76e06a2a-a1da-4b31-bd0f-c1e6543f8fce",
   "metadata": {},
   "outputs": [
    {
     "data": {
      "text/plain": [
       "['20240222_183213',\n",
       " '20240222_184143',\n",
       " '20240222_190150',\n",
       " '20240222_191938',\n",
       " '20240222_193522',\n",
       " '20240222_195208',\n",
       " '20240222_201109',\n",
       " '20240222_214558',\n",
       " '20240222_215543',\n",
       " '20240222_221359',\n",
       " '20240222_223033',\n",
       " '20240222_224850',\n",
       " '20240222_230631',\n",
       " '20240223_005736',\n",
       " '20240223_010657',\n",
       " '20240223_012457',\n",
       " '20240223_012836',\n",
       " '20240223_014456',\n",
       " '20240223_020934',\n",
       " '20240223_022641',\n",
       " '20240223_025426',\n",
       " '20240223_031537',\n",
       " '20240223_033806',\n",
       " '20240223_035727',\n",
       " '20240223_041145',\n",
       " '20240223_041227',\n",
       " '20240223_043101',\n",
       " '20240223_045452',\n",
       " '20240223_051801']"
      ]
     },
     "execution_count": 17,
     "metadata": {},
     "output_type": "execute_result"
    }
   ],
   "source": [
    "time_stamp"
   ]
  },
  {
   "cell_type": "code",
   "execution_count": null,
   "id": "1fc28867-176d-49cb-8421-31fc9bf215da",
   "metadata": {},
   "outputs": [],
   "source": [
    "# i = 1\n",
    "# print(*rate_list[0+i*6:6+i*6], sep = '\\n')  ## Print one element per line\n",
    "# print('\\n')\n",
    "# print(*uid_lis[0+i*6:6+i*6], sep = '\\n')  ## Print one element per line"
   ]
  },
  {
   "cell_type": "code",
   "execution_count": 18,
   "id": "af299dc7-728e-4b91-af22-17292aa9109c",
   "metadata": {},
   "outputs": [
    {
     "name": "stdout",
     "output_type": "stream",
     "text": [
      "CsPb_011_TOABr_121_ZnCl_000_ZnI_000\n",
      "CsPb_037_TOABr_185_ZnCl_000_ZnI_000\n",
      "CsPb_012_TOABr_118_ZnCl_014_ZnI_000\n",
      "CsPb_016_TOABr_119_ZnCl_031_ZnI_000\n",
      "CsPb_026_TOABr_164_ZnCl_071_ZnI_000\n",
      "CsPb_020_TOABr_117_ZnCl_101_ZnI_000\n",
      "CsPb_035_TOABr_087_ZnCl_130_ZnI_000\n",
      "CsPb_012_TOABr_093_ZnCl_191_ZnI_000\n",
      "CsPb_024_TOABr_088_ZnCl_138_ZnI_000\n",
      "CsPb_020_TOABr_117_ZnCl_101_ZnI_000\n",
      "CsPb_026_TOABr_164_ZnCl_071_ZnI_000\n",
      "CsPb_016_TOABr_119_ZnCl_031_ZnI_000\n",
      "CsPb_012_TOABr_118_ZnCl_014_ZnI_000\n",
      "CsPb_010_TOABr_121_ZnCl_000_ZnI_000\n",
      "CsPb_010_TOABr_121_ZnCl_000_ZnI_000\n",
      "CsPb_014_TOABr_139_ZnCl_000_ZnI_048\n",
      "CsPb_014_TOABr_139_ZnCl_000_ZnI_048\n",
      "CsPb_015_TOABr_111_ZnCl_000_ZnI_044\n",
      "CsPb_014_TOABr_139_ZnCl_000_ZnI_055\n",
      "CsPb_026_TOABr_120_ZnCl_000_ZnI_051\n",
      "CsPb_002_TOABr_057_ZnCl_000_ZnI_033\n",
      "CsPb_002_TOABr_057_ZnCl_000_ZnI_033\n",
      "CsPb_013_TOABr_073_ZnCl_000_ZnI_034\n",
      "CsPb_036_TOABr_108_ZnCl_000_ZnI_053\n",
      "CsPb_068_TOABr_199_ZnCl_000_ZnI_134\n",
      "CsPb_068_TOABr_199_ZnCl_000_ZnI_134\n",
      "CsPb_030_TOABr_132_ZnCl_000_ZnI_099\n",
      "CsPb_011_TOABr_069_ZnCl_000_ZnI_072\n",
      "CsPb_028_TOABr_059_ZnCl_000_ZnI_117\n"
     ]
    }
   ],
   "source": [
    "print(*rate_list, sep = '\\n')  ## Print one element per line"
   ]
  },
  {
   "cell_type": "code",
   "execution_count": 19,
   "id": "a4b82275-207a-4b04-8774-3699aefe416d",
   "metadata": {},
   "outputs": [
    {
     "name": "stdout",
     "output_type": "stream",
     "text": [
      "2313af94-3499-4b56-8eb5-84480f5eff78\n",
      "be22b92c-cf3e-4064-aae9-a4a990256331\n",
      "71622acc-87a7-47b9-ae16-91c04b6b08e8\n",
      "d2a38ed0-8165-4893-b416-a3ce1773c4a9\n",
      "01b3fde0-fdc1-467d-897b-e44192bd016b\n",
      "8546f06d-065b-4c98-9fbb-12c3d7cd6783\n",
      "5239acc7-a2a9-498c-a3f9-fb6ecfdd020f\n",
      "ede49621-5c34-4c52-aa91-dd968b864d79\n",
      "66855182-875c-435e-b63d-c042c079650b\n",
      "10f93045-6db7-4db0-a805-4717b9bb7750\n",
      "5b947ad4-dffc-448e-9afd-3d7c615bd395\n",
      "5906a5a2-3e9c-44c5-ad65-7f1ece3dff6f\n",
      "93bf8475-f037-46bd-8b2f-68882f78c0a6\n",
      "8d7a9c75-26c9-4da3-bfc8-43fd7e68d0ee\n",
      "00a29c6b-7a8f-41e1-b186-e736dd936e6e\n",
      "67bdfcab-7baa-45c4-a483-13a4ff482c41\n",
      "7a625c4f-585c-4bf9-89f1-8b3d82673e92\n",
      "a6f5b0aa-e91f-442b-a41d-f88b168e7edd\n",
      "6e2bca27-0757-42da-93d6-008f42812cbb\n",
      "5db78c4d-9484-4d8b-a928-e18e226d22f8\n",
      "c72f3d2a-5ae2-446e-b9cb-c502a843a7bb\n",
      "5ee9327c-99f2-4aed-9b03-c8cbf4b88e62\n",
      "99bfd4a1-d719-40a4-b174-c714f496cc11\n",
      "0c84e4b6-003d-4d26-84a1-0f4de51886f9\n",
      "8cf6e711-a116-4d3c-8961-4c2a8682109c\n",
      "b8d179c4-c1ad-41eb-8120-9368fabd71a2\n",
      "8de08bdd-441a-4cd1-9986-f2b3b2024cbe\n",
      "ef22792d-6abd-44f2-8a00-01a019cd07fd\n",
      "097b8ebd-920e-4f1f-93b7-3461c493b666\n"
     ]
    }
   ],
   "source": [
    "print(*uid_list, sep = '\\n')  ## Print one element per line"
   ]
  },
  {
   "cell_type": "code",
   "execution_count": 20,
   "id": "29fdb838-7956-4e21-999d-8c31cddb9b60",
   "metadata": {},
   "outputs": [
    {
     "name": "stdout",
     "output_type": "stream",
     "text": [
      "20240222_183213\n",
      "20240222_184143\n",
      "20240222_190150\n",
      "20240222_191938\n",
      "20240222_193522\n",
      "20240222_195208\n",
      "20240222_201109\n",
      "20240222_214558\n",
      "20240222_215543\n",
      "20240222_221359\n",
      "20240222_223033\n",
      "20240222_224850\n",
      "20240222_230631\n",
      "20240223_005736\n",
      "20240223_010657\n",
      "20240223_012457\n",
      "20240223_012836\n",
      "20240223_014456\n",
      "20240223_020934\n",
      "20240223_022641\n",
      "20240223_025426\n",
      "20240223_031537\n",
      "20240223_033806\n",
      "20240223_035727\n",
      "20240223_041145\n",
      "20240223_041227\n",
      "20240223_043101\n",
      "20240223_045452\n",
      "20240223_051801\n"
     ]
    }
   ],
   "source": [
    "print(*time_stamp, sep = '\\n')  ## Print one element per line"
   ]
  },
  {
   "cell_type": "code",
   "execution_count": 21,
   "id": "c5ef80c4-1ecf-4780-9d90-02a5bc874d4d",
   "metadata": {},
   "outputs": [],
   "source": [
    "df_20240222 = pd.DataFrame()\n",
    "df_20240222['time'] = time_stamp\n",
    "df_20240222['uid'] = uid_list\n",
    "df_20240222['infusing_rate'] = rate_list"
   ]
  },
  {
   "cell_type": "code",
   "execution_count": 22,
   "id": "55ff1508-3be7-48b0-ad52-b8c922a11fe5",
   "metadata": {},
   "outputs": [
    {
     "data": {
      "text/html": [
       "<div>\n",
       "<style scoped>\n",
       "    .dataframe tbody tr th:only-of-type {\n",
       "        vertical-align: middle;\n",
       "    }\n",
       "\n",
       "    .dataframe tbody tr th {\n",
       "        vertical-align: top;\n",
       "    }\n",
       "\n",
       "    .dataframe thead th {\n",
       "        text-align: right;\n",
       "    }\n",
       "</style>\n",
       "<table border=\"1\" class=\"dataframe\">\n",
       "  <thead>\n",
       "    <tr style=\"text-align: right;\">\n",
       "      <th></th>\n",
       "      <th>time</th>\n",
       "      <th>uid</th>\n",
       "      <th>infusing_rate</th>\n",
       "    </tr>\n",
       "  </thead>\n",
       "  <tbody>\n",
       "    <tr>\n",
       "      <th>0</th>\n",
       "      <td>20240222_183213</td>\n",
       "      <td>2313af94-3499-4b56-8eb5-84480f5eff78</td>\n",
       "      <td>CsPb_011_TOABr_121_ZnCl_000_ZnI_000</td>\n",
       "    </tr>\n",
       "    <tr>\n",
       "      <th>1</th>\n",
       "      <td>20240222_184143</td>\n",
       "      <td>be22b92c-cf3e-4064-aae9-a4a990256331</td>\n",
       "      <td>CsPb_037_TOABr_185_ZnCl_000_ZnI_000</td>\n",
       "    </tr>\n",
       "    <tr>\n",
       "      <th>2</th>\n",
       "      <td>20240222_190150</td>\n",
       "      <td>71622acc-87a7-47b9-ae16-91c04b6b08e8</td>\n",
       "      <td>CsPb_012_TOABr_118_ZnCl_014_ZnI_000</td>\n",
       "    </tr>\n",
       "    <tr>\n",
       "      <th>3</th>\n",
       "      <td>20240222_191938</td>\n",
       "      <td>d2a38ed0-8165-4893-b416-a3ce1773c4a9</td>\n",
       "      <td>CsPb_016_TOABr_119_ZnCl_031_ZnI_000</td>\n",
       "    </tr>\n",
       "    <tr>\n",
       "      <th>4</th>\n",
       "      <td>20240222_193522</td>\n",
       "      <td>01b3fde0-fdc1-467d-897b-e44192bd016b</td>\n",
       "      <td>CsPb_026_TOABr_164_ZnCl_071_ZnI_000</td>\n",
       "    </tr>\n",
       "    <tr>\n",
       "      <th>5</th>\n",
       "      <td>20240222_195208</td>\n",
       "      <td>8546f06d-065b-4c98-9fbb-12c3d7cd6783</td>\n",
       "      <td>CsPb_020_TOABr_117_ZnCl_101_ZnI_000</td>\n",
       "    </tr>\n",
       "    <tr>\n",
       "      <th>6</th>\n",
       "      <td>20240222_201109</td>\n",
       "      <td>5239acc7-a2a9-498c-a3f9-fb6ecfdd020f</td>\n",
       "      <td>CsPb_035_TOABr_087_ZnCl_130_ZnI_000</td>\n",
       "    </tr>\n",
       "    <tr>\n",
       "      <th>7</th>\n",
       "      <td>20240222_214558</td>\n",
       "      <td>ede49621-5c34-4c52-aa91-dd968b864d79</td>\n",
       "      <td>CsPb_012_TOABr_093_ZnCl_191_ZnI_000</td>\n",
       "    </tr>\n",
       "    <tr>\n",
       "      <th>8</th>\n",
       "      <td>20240222_215543</td>\n",
       "      <td>66855182-875c-435e-b63d-c042c079650b</td>\n",
       "      <td>CsPb_024_TOABr_088_ZnCl_138_ZnI_000</td>\n",
       "    </tr>\n",
       "    <tr>\n",
       "      <th>9</th>\n",
       "      <td>20240222_221359</td>\n",
       "      <td>10f93045-6db7-4db0-a805-4717b9bb7750</td>\n",
       "      <td>CsPb_020_TOABr_117_ZnCl_101_ZnI_000</td>\n",
       "    </tr>\n",
       "    <tr>\n",
       "      <th>10</th>\n",
       "      <td>20240222_223033</td>\n",
       "      <td>5b947ad4-dffc-448e-9afd-3d7c615bd395</td>\n",
       "      <td>CsPb_026_TOABr_164_ZnCl_071_ZnI_000</td>\n",
       "    </tr>\n",
       "    <tr>\n",
       "      <th>11</th>\n",
       "      <td>20240222_224850</td>\n",
       "      <td>5906a5a2-3e9c-44c5-ad65-7f1ece3dff6f</td>\n",
       "      <td>CsPb_016_TOABr_119_ZnCl_031_ZnI_000</td>\n",
       "    </tr>\n",
       "    <tr>\n",
       "      <th>12</th>\n",
       "      <td>20240222_230631</td>\n",
       "      <td>93bf8475-f037-46bd-8b2f-68882f78c0a6</td>\n",
       "      <td>CsPb_012_TOABr_118_ZnCl_014_ZnI_000</td>\n",
       "    </tr>\n",
       "    <tr>\n",
       "      <th>13</th>\n",
       "      <td>20240223_005736</td>\n",
       "      <td>8d7a9c75-26c9-4da3-bfc8-43fd7e68d0ee</td>\n",
       "      <td>CsPb_010_TOABr_121_ZnCl_000_ZnI_000</td>\n",
       "    </tr>\n",
       "    <tr>\n",
       "      <th>14</th>\n",
       "      <td>20240223_010657</td>\n",
       "      <td>00a29c6b-7a8f-41e1-b186-e736dd936e6e</td>\n",
       "      <td>CsPb_010_TOABr_121_ZnCl_000_ZnI_000</td>\n",
       "    </tr>\n",
       "    <tr>\n",
       "      <th>15</th>\n",
       "      <td>20240223_012457</td>\n",
       "      <td>67bdfcab-7baa-45c4-a483-13a4ff482c41</td>\n",
       "      <td>CsPb_014_TOABr_139_ZnCl_000_ZnI_048</td>\n",
       "    </tr>\n",
       "    <tr>\n",
       "      <th>16</th>\n",
       "      <td>20240223_012836</td>\n",
       "      <td>7a625c4f-585c-4bf9-89f1-8b3d82673e92</td>\n",
       "      <td>CsPb_014_TOABr_139_ZnCl_000_ZnI_048</td>\n",
       "    </tr>\n",
       "    <tr>\n",
       "      <th>17</th>\n",
       "      <td>20240223_014456</td>\n",
       "      <td>a6f5b0aa-e91f-442b-a41d-f88b168e7edd</td>\n",
       "      <td>CsPb_015_TOABr_111_ZnCl_000_ZnI_044</td>\n",
       "    </tr>\n",
       "    <tr>\n",
       "      <th>18</th>\n",
       "      <td>20240223_020934</td>\n",
       "      <td>6e2bca27-0757-42da-93d6-008f42812cbb</td>\n",
       "      <td>CsPb_014_TOABr_139_ZnCl_000_ZnI_055</td>\n",
       "    </tr>\n",
       "    <tr>\n",
       "      <th>19</th>\n",
       "      <td>20240223_022641</td>\n",
       "      <td>5db78c4d-9484-4d8b-a928-e18e226d22f8</td>\n",
       "      <td>CsPb_026_TOABr_120_ZnCl_000_ZnI_051</td>\n",
       "    </tr>\n",
       "    <tr>\n",
       "      <th>20</th>\n",
       "      <td>20240223_025426</td>\n",
       "      <td>c72f3d2a-5ae2-446e-b9cb-c502a843a7bb</td>\n",
       "      <td>CsPb_002_TOABr_057_ZnCl_000_ZnI_033</td>\n",
       "    </tr>\n",
       "    <tr>\n",
       "      <th>21</th>\n",
       "      <td>20240223_031537</td>\n",
       "      <td>5ee9327c-99f2-4aed-9b03-c8cbf4b88e62</td>\n",
       "      <td>CsPb_002_TOABr_057_ZnCl_000_ZnI_033</td>\n",
       "    </tr>\n",
       "    <tr>\n",
       "      <th>22</th>\n",
       "      <td>20240223_033806</td>\n",
       "      <td>99bfd4a1-d719-40a4-b174-c714f496cc11</td>\n",
       "      <td>CsPb_013_TOABr_073_ZnCl_000_ZnI_034</td>\n",
       "    </tr>\n",
       "    <tr>\n",
       "      <th>23</th>\n",
       "      <td>20240223_035727</td>\n",
       "      <td>0c84e4b6-003d-4d26-84a1-0f4de51886f9</td>\n",
       "      <td>CsPb_036_TOABr_108_ZnCl_000_ZnI_053</td>\n",
       "    </tr>\n",
       "    <tr>\n",
       "      <th>24</th>\n",
       "      <td>20240223_041145</td>\n",
       "      <td>8cf6e711-a116-4d3c-8961-4c2a8682109c</td>\n",
       "      <td>CsPb_068_TOABr_199_ZnCl_000_ZnI_134</td>\n",
       "    </tr>\n",
       "    <tr>\n",
       "      <th>25</th>\n",
       "      <td>20240223_041227</td>\n",
       "      <td>b8d179c4-c1ad-41eb-8120-9368fabd71a2</td>\n",
       "      <td>CsPb_068_TOABr_199_ZnCl_000_ZnI_134</td>\n",
       "    </tr>\n",
       "    <tr>\n",
       "      <th>26</th>\n",
       "      <td>20240223_043101</td>\n",
       "      <td>8de08bdd-441a-4cd1-9986-f2b3b2024cbe</td>\n",
       "      <td>CsPb_030_TOABr_132_ZnCl_000_ZnI_099</td>\n",
       "    </tr>\n",
       "    <tr>\n",
       "      <th>27</th>\n",
       "      <td>20240223_045452</td>\n",
       "      <td>ef22792d-6abd-44f2-8a00-01a019cd07fd</td>\n",
       "      <td>CsPb_011_TOABr_069_ZnCl_000_ZnI_072</td>\n",
       "    </tr>\n",
       "    <tr>\n",
       "      <th>28</th>\n",
       "      <td>20240223_051801</td>\n",
       "      <td>097b8ebd-920e-4f1f-93b7-3461c493b666</td>\n",
       "      <td>CsPb_028_TOABr_059_ZnCl_000_ZnI_117</td>\n",
       "    </tr>\n",
       "  </tbody>\n",
       "</table>\n",
       "</div>"
      ],
      "text/plain": [
       "               time                                   uid  \\\n",
       "0   20240222_183213  2313af94-3499-4b56-8eb5-84480f5eff78   \n",
       "1   20240222_184143  be22b92c-cf3e-4064-aae9-a4a990256331   \n",
       "2   20240222_190150  71622acc-87a7-47b9-ae16-91c04b6b08e8   \n",
       "3   20240222_191938  d2a38ed0-8165-4893-b416-a3ce1773c4a9   \n",
       "4   20240222_193522  01b3fde0-fdc1-467d-897b-e44192bd016b   \n",
       "5   20240222_195208  8546f06d-065b-4c98-9fbb-12c3d7cd6783   \n",
       "6   20240222_201109  5239acc7-a2a9-498c-a3f9-fb6ecfdd020f   \n",
       "7   20240222_214558  ede49621-5c34-4c52-aa91-dd968b864d79   \n",
       "8   20240222_215543  66855182-875c-435e-b63d-c042c079650b   \n",
       "9   20240222_221359  10f93045-6db7-4db0-a805-4717b9bb7750   \n",
       "10  20240222_223033  5b947ad4-dffc-448e-9afd-3d7c615bd395   \n",
       "11  20240222_224850  5906a5a2-3e9c-44c5-ad65-7f1ece3dff6f   \n",
       "12  20240222_230631  93bf8475-f037-46bd-8b2f-68882f78c0a6   \n",
       "13  20240223_005736  8d7a9c75-26c9-4da3-bfc8-43fd7e68d0ee   \n",
       "14  20240223_010657  00a29c6b-7a8f-41e1-b186-e736dd936e6e   \n",
       "15  20240223_012457  67bdfcab-7baa-45c4-a483-13a4ff482c41   \n",
       "16  20240223_012836  7a625c4f-585c-4bf9-89f1-8b3d82673e92   \n",
       "17  20240223_014456  a6f5b0aa-e91f-442b-a41d-f88b168e7edd   \n",
       "18  20240223_020934  6e2bca27-0757-42da-93d6-008f42812cbb   \n",
       "19  20240223_022641  5db78c4d-9484-4d8b-a928-e18e226d22f8   \n",
       "20  20240223_025426  c72f3d2a-5ae2-446e-b9cb-c502a843a7bb   \n",
       "21  20240223_031537  5ee9327c-99f2-4aed-9b03-c8cbf4b88e62   \n",
       "22  20240223_033806  99bfd4a1-d719-40a4-b174-c714f496cc11   \n",
       "23  20240223_035727  0c84e4b6-003d-4d26-84a1-0f4de51886f9   \n",
       "24  20240223_041145  8cf6e711-a116-4d3c-8961-4c2a8682109c   \n",
       "25  20240223_041227  b8d179c4-c1ad-41eb-8120-9368fabd71a2   \n",
       "26  20240223_043101  8de08bdd-441a-4cd1-9986-f2b3b2024cbe   \n",
       "27  20240223_045452  ef22792d-6abd-44f2-8a00-01a019cd07fd   \n",
       "28  20240223_051801  097b8ebd-920e-4f1f-93b7-3461c493b666   \n",
       "\n",
       "                          infusing_rate  \n",
       "0   CsPb_011_TOABr_121_ZnCl_000_ZnI_000  \n",
       "1   CsPb_037_TOABr_185_ZnCl_000_ZnI_000  \n",
       "2   CsPb_012_TOABr_118_ZnCl_014_ZnI_000  \n",
       "3   CsPb_016_TOABr_119_ZnCl_031_ZnI_000  \n",
       "4   CsPb_026_TOABr_164_ZnCl_071_ZnI_000  \n",
       "5   CsPb_020_TOABr_117_ZnCl_101_ZnI_000  \n",
       "6   CsPb_035_TOABr_087_ZnCl_130_ZnI_000  \n",
       "7   CsPb_012_TOABr_093_ZnCl_191_ZnI_000  \n",
       "8   CsPb_024_TOABr_088_ZnCl_138_ZnI_000  \n",
       "9   CsPb_020_TOABr_117_ZnCl_101_ZnI_000  \n",
       "10  CsPb_026_TOABr_164_ZnCl_071_ZnI_000  \n",
       "11  CsPb_016_TOABr_119_ZnCl_031_ZnI_000  \n",
       "12  CsPb_012_TOABr_118_ZnCl_014_ZnI_000  \n",
       "13  CsPb_010_TOABr_121_ZnCl_000_ZnI_000  \n",
       "14  CsPb_010_TOABr_121_ZnCl_000_ZnI_000  \n",
       "15  CsPb_014_TOABr_139_ZnCl_000_ZnI_048  \n",
       "16  CsPb_014_TOABr_139_ZnCl_000_ZnI_048  \n",
       "17  CsPb_015_TOABr_111_ZnCl_000_ZnI_044  \n",
       "18  CsPb_014_TOABr_139_ZnCl_000_ZnI_055  \n",
       "19  CsPb_026_TOABr_120_ZnCl_000_ZnI_051  \n",
       "20  CsPb_002_TOABr_057_ZnCl_000_ZnI_033  \n",
       "21  CsPb_002_TOABr_057_ZnCl_000_ZnI_033  \n",
       "22  CsPb_013_TOABr_073_ZnCl_000_ZnI_034  \n",
       "23  CsPb_036_TOABr_108_ZnCl_000_ZnI_053  \n",
       "24  CsPb_068_TOABr_199_ZnCl_000_ZnI_134  \n",
       "25  CsPb_068_TOABr_199_ZnCl_000_ZnI_134  \n",
       "26  CsPb_030_TOABr_132_ZnCl_000_ZnI_099  \n",
       "27  CsPb_011_TOABr_069_ZnCl_000_ZnI_072  \n",
       "28  CsPb_028_TOABr_059_ZnCl_000_ZnI_117  "
      ]
     },
     "execution_count": 22,
     "metadata": {},
     "output_type": "execute_result"
    }
   ],
   "source": [
    "df_20240222"
   ]
  },
  {
   "cell_type": "code",
   "execution_count": 27,
   "id": "969ca200-56bd-4d86-9384-d80538a19263",
   "metadata": {},
   "outputs": [],
   "source": [
    "df_fn = onedrive + cwd + '/20240222_uid_list.csv'\n",
    "df_fn = '20240222_uid_list.csv'\n",
    "df_20240222.to_csv(df_fn, sep = ' ')"
   ]
  },
  {
   "cell_type": "code",
   "execution_count": null,
   "id": "c7d14b48-481e-40ee-8bdf-08ff7ea33443",
   "metadata": {},
   "outputs": [],
   "source": []
  },
  {
   "cell_type": "code",
   "execution_count": null,
   "id": "73083963-6d1f-49d3-af88-36a870747042",
   "metadata": {},
   "outputs": [],
   "source": []
  },
  {
   "cell_type": "code",
   "execution_count": null,
   "id": "0688f63f-f512-4d04-a9f7-078cc6b623bb",
   "metadata": {},
   "outputs": [],
   "source": []
  },
  {
   "cell_type": "code",
   "execution_count": null,
   "id": "05f723cf-56dc-45cf-a088-5868e67929fc",
   "metadata": {},
   "outputs": [],
   "source": []
  },
  {
   "cell_type": "code",
   "execution_count": null,
   "id": "065cc832-07b6-4ae3-9c16-535dc5f4fd3a",
   "metadata": {},
   "outputs": [],
   "source": []
  },
  {
   "cell_type": "markdown",
   "id": "2f2a42a6-d982-43bb-8799-70fcb8f5da3d",
   "metadata": {},
   "source": [
    "# Reading Uv-Vis data in .csv"
   ]
  },
  {
   "cell_type": "markdown",
   "id": "4e0215d5-03da-450f-8ed4-4bb3312276bb",
   "metadata": {},
   "source": [
    "## Find the subfolders in the current working folder (cwd)"
   ]
  },
  {
   "cell_type": "code",
   "execution_count": null,
   "id": "40df7daf-ea8a-43ec-8a13-a97da5dcfea1",
   "metadata": {},
   "outputs": [],
   "source": [
    "#cwd = os.getcwd()\n",
    "# cwd = '/nsls2/users/clin1/Documents/Cheng-Hung/temp/20221108_insitu'\n",
    "onedrive = '/Users/chenghunglin/Library/CloudStorage/OneDrive-BrookhavenNationalLaboratory'\n",
    "cwd = '/data_processing/20240201_all_halides'\n",
    "subfolder.sort()\n",
    "# # del subfolder[-1]\n",
    "print(*subfolder, sep = '\\n')  ## Print one element per line"
   ]
  },
  {
   "cell_type": "code",
   "execution_count": null,
   "id": "c2fc6490-12f5-4168-a509-1bc81f9b1bab",
   "metadata": {},
   "outputs": [],
   "source": [
    "# dilute_list = [os.path.basename(i) for i in subfolder]\n",
    "# dilute_list\n",
    "# np.float32(re.findall(r'\\d+', dilute_list[0]))"
   ]
  },
  {
   "cell_type": "code",
   "execution_count": null,
   "id": "72f7701a-2e46-4dbd-9387-25d5ccb99883",
   "metadata": {},
   "outputs": [],
   "source": [
    "# dilute_ratio = []\n",
    "# for i in range(len(dilute_list)):\n",
    "#     rates = np.float32(re.findall(r'\\d+', dilute_list[i]))\n",
    "#     # c = rates[:2].sum() / rates.sum()\n",
    "#     c = 1/rates[-1]\n",
    "#     dilute_ratio.append(c)\n",
    "# dilute_ratio"
   ]
  },
  {
   "cell_type": "code",
   "execution_count": null,
   "id": "a76bacf9-06a9-4663-99d0-cc61cabbde1d",
   "metadata": {},
   "outputs": [],
   "source": [
    "# dilute_factor = np.asarray([1.0, 1.0, 1.5, 2.0, 2.0, 2.5, 3.0, 3.5, 4.0])\n",
    "# dilute_ratio = 1/dilute_factor"
   ]
  },
  {
   "cell_type": "code",
   "execution_count": null,
   "id": "cea864b0-f9c8-4b02-9429-e77c6ed3fb2e",
   "metadata": {},
   "outputs": [],
   "source": [
    "# dilute_ratio"
   ]
  },
  {
   "cell_type": "markdown",
   "id": "8ab0f517-2681-4ba6-95f7-8ce1eb979084",
   "metadata": {},
   "source": [
    "# Flurorescence (PL)"
   ]
  },
  {
   "cell_type": "markdown",
   "id": "b787b446-a3d2-4d4e-b4da-cb381a724d58",
   "metadata": {},
   "source": [
    "## Read PL data into pandas dataframe"
   ]
  },
  {
   "cell_type": "code",
   "execution_count": null,
   "id": "f68af048-5bc7-46ed-abb4-64a21d34e321",
   "metadata": {},
   "outputs": [],
   "source": [
    "df = pd.DataFrame()\n",
    "# integration_time = ['200ms', '300ms', '400ms', '2000ms', '3000ms', '4000ms']\n",
    "# integration_time = ['300ms']\n",
    "\n",
    "for i in range(len(subfolder)):\n",
    "# for i in range(len(dilute_list)):\n",
    "    data_files = glob.glob(subfolder[i] + f'/**.csv')\n",
    "    data_files.sort()\n",
    "    del data_files[-1]\n",
    "    # suffix = os.path.basename(subfolder_PL[i])\n",
    "    suffix = rate_list[i]\n",
    "    # id0 = 8\n",
    "    # id1 = 22\n",
    "\n",
    "    skiprows = 12 ## skip 23 rows if data processed by dioptas or ## 8\n",
    "    df_int = pd.DataFrame()\n",
    "    df_temp = pd.DataFrame()\n",
    "\n",
    "    for k in range(len(data_files)):        \n",
    "        # df_int = pd.read_csv(data_files[k], skiprows=skiprows, sep='\\t', names=['Wavelength', f'PL_{k:03d}'])\n",
    "        # df_temp = pd.concat([df_temp, df_int[f'PL_{k:03d}']], axis=1, ignore_index=False)\n",
    "        df_int = pd.read_csv(data_files[k], skiprows=skiprows, sep=',')\n",
    "        df_temp = pd.concat([df_temp, df_int['Fluorescence']], axis=1, ignore_index=False)\n",
    "\n",
    "    # df_temp[f'{suffix}_mean'] = df_temp.mean(axis=1)\n",
    "    # df_temp = pd.read_csv(data_files[i], skiprows=skiprows, sep=',')\n",
    "    df[f'x_{suffix}'] = df_int['Wavelength']\n",
    "    df[f'{suffix}_mean'] = df_temp.mean(axis=1)\n",
    "    "
   ]
  },
  {
   "cell_type": "code",
   "execution_count": null,
   "id": "bd037ad6-5faa-46c0-8e85-fb5f5ee57cc7",
   "metadata": {},
   "outputs": [],
   "source": [
    "i"
   ]
  },
  {
   "cell_type": "markdown",
   "id": "065d21b6-d5a9-48d1-8b9a-645494c52992",
   "metadata": {
    "tags": []
   },
   "source": [
    "## Export PL of dilute CsPbBr3 for PLQY_summary_02.ipynb"
   ]
  },
  {
   "cell_type": "code",
   "execution_count": null,
   "id": "075856f1-7164-46fd-851f-f135a2c9ef4e",
   "metadata": {},
   "outputs": [],
   "source": [
    "# df_66 = pd.DataFrame()\n",
    "\n",
    "# df_66['Wavelength_01'] = df['x_2E-4M_200ms']\n",
    "# df_66['quinine_0.2mM_PL'] = df['2E-4M_200ms_mean']\n",
    "# df_66['Wavelength_02'] = df2['x_2E-4M_200ms']\n",
    "# df_66['quinine_0.2mM_Abs'] = df2['2E-4M_200ms_mean']\n",
    "\n",
    "# df.to_csv('20230829_CsPbBr_PL.txt', index=False, sep=' ', float_format='{:.5e}'.format)"
   ]
  },
  {
   "cell_type": "code",
   "execution_count": null,
   "id": "895f3dfa-4a3f-4e26-a6e6-66a804d7c3f8",
   "metadata": {},
   "outputs": [],
   "source": [
    "df"
   ]
  },
  {
   "cell_type": "markdown",
   "id": "cfb8a913-ea0d-4edc-b6b1-df5d105de03c",
   "metadata": {},
   "source": [
    "## Check data in pd dataframe"
   ]
  },
  {
   "cell_type": "code",
   "execution_count": null,
   "id": "d455a236-952c-4086-9335-f56a5e8ad817",
   "metadata": {},
   "outputs": [],
   "source": [
    "df.keys()"
   ]
  },
  {
   "cell_type": "code",
   "execution_count": null,
   "id": "bca4bba8-787f-4bd4-a604-e693b9cdbe9b",
   "metadata": {},
   "outputs": [],
   "source": [
    "df.shape"
   ]
  },
  {
   "cell_type": "markdown",
   "id": "6a23f62a-e218-44f5-9c15-0b5560225e4f",
   "metadata": {
    "tags": []
   },
   "source": [
    "## Prepare keys for average scans in pd dataframe"
   ]
  },
  {
   "cell_type": "code",
   "execution_count": null,
   "id": "02d18092-3e89-4f15-8f48-b8d3dd73a244",
   "metadata": {
    "tags": []
   },
   "outputs": [],
   "source": [
    "keys_list = list(df.keys())\n",
    "# k1 = [k for k in keys_list if 'mean' in k]\n",
    "keys_list"
   ]
  },
  {
   "cell_type": "code",
   "execution_count": null,
   "id": "934734f1-3025-41f5-96de-ba006f4fa2a3",
   "metadata": {},
   "outputs": [],
   "source": [
    "# title = [os.path.basename(subfolder[i]) for i in range(len(subfolder))]\n",
    "title = keys_list[1::2]\n",
    "print(*title, sep='\\n')\n",
    "\n",
    "# label1 = ['quinine_1E-4M', 'quinine_2E-4M', 'quinine_5E-4M']\n",
    "#          # 'Insitu CsPb 6mM + Br 6 mM + ZnI2 128uL/min']\n",
    "\n",
    "# label2 = ['200ms', '300ms']\n",
    "#          # 'ZnI2 128 uL/min']"
   ]
  },
  {
   "cell_type": "markdown",
   "id": "bba1c2f4-c604-41d4-bb1c-e3b03a40199a",
   "metadata": {},
   "source": [
    "## Preapre color index for Cl and I exchabge"
   ]
  },
  {
   "cell_type": "code",
   "execution_count": null,
   "id": "af35b6bc-80be-4326-bacf-016a009b8b27",
   "metadata": {},
   "outputs": [],
   "source": [
    "def find_nearest(array, value):\n",
    "    array = np.asarray(array)\n",
    "    idx = (np.abs(array - value)).argmin()\n",
    "    return idx, array[idx]\n",
    "\n",
    "\n",
    "\n",
    "def color_idx_map_halides(peak_wavelength, halide_w_range=[420, 520, 660]):\n",
    "    \n",
    "    from matplotlib.colors import LinearSegmentedColormap\n",
    "    colors = [\n",
    "        # (0.25098039215686274, 0.0, 0.29411764705882354), \n",
    "        (0.4627450980392157, 0.16470588235294117, 0.5137254901960784),\n",
    "        (0.3686274509803922, 0.30980392156862746, 0.6352941176470588), \n",
    "        (0.19607843137254902, 0.5333333333333333, 0.7411764705882353), \n",
    "        (0.4, 0.7607843137254902, 0.6470588235294118),\n",
    "     # (0.6705882352941176, 0.8666666666666667, 0.6431372549019608),\n",
    "     # (0.6509803921568628, 0.8509803921568627, 0.41568627450980394),\n",
    "     # (0.10196078431372549, 0.5882352941176471, 0.2549019607843137), \n",
    "             ]\n",
    "    BlGn = LinearSegmentedColormap.from_list('BlGn', colors, N=100)\n",
    "    \n",
    "    if  peak_wavelength >= halide_w_range[0] and peak_wavelength < halide_w_range[1]:\n",
    "        wavelength_range=[halide_w_range[0], halide_w_range[1]]\n",
    "        cmap = BlGn\n",
    "    elif peak_wavelength >= halide_w_range[1] and peak_wavelength <= halide_w_range[2]:\n",
    "        wavelength_range=[halide_w_range[1], halide_w_range[2]]\n",
    "        cmap = RdYlGn_4_r\n",
    "        \n",
    "    else:\n",
    "        raise ValueError(f'Peak at {peak_wavelength} nm is not in the range of {halide_w_range} nm.')\n",
    "    \n",
    "    w1 = wavelength_range[0]  ## in nm\n",
    "    w2 = wavelength_range[1]  ## in nm\n",
    "    w_steps = abs(int(2*(w2-w1)))\n",
    "    w_array = np.linspace(w1, w2, w_steps)\n",
    "    color_array = np.linspace(0, 1, w_steps)\n",
    "    idx, _ = find_nearest(w_array, peak_wavelength)\n",
    "    # ax.plot(x, y, label=label, color=cmap(color_array[idx]))\n",
    "    \n",
    "    color = cmap(color_array[idx])\n",
    "    \n",
    "    return color\n",
    "    \n",
    "    \n",
    "#     wavelength_Cl = [420, 520]\n",
    "#     wavelength_I = [520, 660]\n",
    "\n",
    "#     Cl1 = wavelength_Cl[0]  ## in nm\n",
    "#     Cl2 = wavelength_Cl[1]  ## in nm\n",
    "#     I1 = wavelength_I[0]  ## in nm\n",
    "#     I2 = wavelength_I[1]  ## in nm\n",
    "\n",
    "#     Cl_steps = abs(int(2*(Cl2-Cl1)))\n",
    "#     Cl_array = np.linspace(Cl1, Cl2, Cl_steps)\n",
    "#     Cl_color_array = np.linspace(0, 1, Cl_steps)\n",
    "#     idx, _ = find_nearest(Cl_array, wavelength)\n",
    "\n",
    "#     I_steps = abs(int(2*(I2-I1)))\n",
    "#     I_array = np.linspace(I1, I2, I_steps)\n",
    "#     I_color_array = np.linspace(0, 1, I_steps)\n",
    "#     idx, _ = find_nearest(I_array, wavelength)"
   ]
  },
  {
   "cell_type": "code",
   "execution_count": null,
   "id": "ebfd8675-d817-44cb-ad2f-df988e7e6345",
   "metadata": {},
   "outputs": [],
   "source": [
    "color_idx_map_halides(450)"
   ]
  },
  {
   "cell_type": "markdown",
   "id": "4643ce95-f0b5-46b7-8907-74598db4e70d",
   "metadata": {},
   "source": [
    "## Plot all PL scans together"
   ]
  },
  {
   "cell_type": "code",
   "execution_count": null,
   "id": "20e68e0e-3498-49a5-9ac0-6e500715d286",
   "metadata": {},
   "outputs": [],
   "source": [
    "f1, ax1 = plt.subplots(1, 1, figsize = (8, 6), constrained_layout=True)\n",
    "# f1, (ax1, ax2) = plt.subplots(1, 2, figsize = (6, 9), gridspec_kw={'width_ratios': [1,1]})\n",
    "\n",
    "label = title\n",
    "k = len(title)\n",
    "color_idx = np.linspace(0, 1, k)\n",
    "# linestyle = ['solid', 'dashed', 'solid', 'dashed', 'solid', 'dashed']\n",
    "id0 = 8\n",
    "id1 = 30\n",
    "\n",
    "for i in range(len(title)):\n",
    "    # ax1.plot(df_tth.iloc[:,i], df_int[k1[i]]+offset*i, color=cmap(color_idx[i]), label=label[i])\n",
    "    # t = re.findall(r'\\d+', title[i])[-1]\n",
    "    ax1.plot(df[keys_list[i*2]], df[keys_list[i*2+1]], color=color_idx_map_halides(peak_list[i]), label=label[i][:id1])\n",
    "        \n",
    "legend_properties = {'weight':'bold', 'size':10}    \n",
    "ax1.legend(prop=legend_properties)\n",
    "# ax1[1].legend(prop=legend_properties)\n",
    "\n",
    "ax1.set_xlim(400, 700)\n",
    "# ax1.set_ylim(2500, 9500)\n",
    "# ax1.set_xlabel('tth (degree)', fontsize=16, fontweight='regular')\n",
    "# ax1.set_ylabel('Intensity', fontsize=16, fontweight='regular')\n",
    "# ax1.tick_params(axis='both', direction='out', labelsize=12, size=4, width=1)\n",
    "spinewidth = 1.5\n",
    "ax1.spines[\"bottom\"].set_linewidth(spinewidth)\n",
    "ax1.spines[\"right\"].set_linewidth(spinewidth)\n",
    "ax1.spines[\"top\"].set_linewidth(spinewidth)\n",
    "ax1.spines[\"left\"].set_linewidth(spinewidth)\n",
    "\n",
    "imag_name = '20221228_ZnI2_tth_01.png'\n",
    "# cwd = '/Users/chenghunglin/Library/CloudStorage/OneDrive-BrookhavenNationalLaboratory/data_processing/20221127_Cl_Br_I'\n",
    "# plt.savefig(cwd + '/' + imag_name, dpi = 600,  transparent=True)\n",
    "\n",
    "\n",
    "### Define integrate range ###\n",
    "def find_nearest(array, value):\n",
    "    array = np.asarray(array)\n",
    "    idx = (np.abs(array - value)).argmin()\n",
    "    return idx, array[idx]\n",
    "\n",
    "wavelength_range = [390, 750]\n",
    "idx_w0, w0 = find_nearest(df[keys_list[0]], wavelength_range[0])\n",
    "idx_w1, w1 = find_nearest(df[keys_list[0]], wavelength_range[1])\n",
    "\n",
    "# ax1.axvline(w0)\n",
    "# ax1.axvline(w1)"
   ]
  },
  {
   "cell_type": "code",
   "execution_count": null,
   "id": "41aa8e68-34e4-411a-8447-96c4299efa4a",
   "metadata": {},
   "outputs": [],
   "source": []
  },
  {
   "cell_type": "code",
   "execution_count": null,
   "id": "6c07f5fc-2122-4894-8aad-a45a5868e282",
   "metadata": {},
   "outputs": [],
   "source": []
  },
  {
   "cell_type": "code",
   "execution_count": null,
   "id": "4d68dd46-2f22-4af2-b026-4a3dbd98b9f6",
   "metadata": {},
   "outputs": [],
   "source": []
  },
  {
   "cell_type": "code",
   "execution_count": null,
   "id": "8e561b83-5b0b-4c32-9682-64004a9d45ad",
   "metadata": {},
   "outputs": [],
   "source": []
  },
  {
   "cell_type": "code",
   "execution_count": null,
   "id": "aa74310a-3336-47b0-bc99-30e9f18d3f9d",
   "metadata": {},
   "outputs": [],
   "source": []
  },
  {
   "cell_type": "code",
   "execution_count": null,
   "id": "03e58071-f9b7-420d-9363-ed733169240c",
   "metadata": {},
   "outputs": [],
   "source": []
  },
  {
   "cell_type": "code",
   "execution_count": null,
   "id": "22bc7e20-7dd8-41cb-86b7-c855d9679c9e",
   "metadata": {},
   "outputs": [],
   "source": []
  },
  {
   "cell_type": "markdown",
   "id": "34d90fbb-e96c-411d-8c08-91af7ac40692",
   "metadata": {},
   "source": [
    "## Create new folder \"plqy\" for saving data"
   ]
  },
  {
   "cell_type": "code",
   "execution_count": null,
   "id": "ca41303a-e160-4039-9348-ef239c4355c4",
   "metadata": {},
   "outputs": [],
   "source": [
    "new_dir = cwd + '/plqy'\n",
    "\n",
    "try:\n",
    "    os.mkdir(new_dir)\n",
    "except FileExistsError:\n",
    "    pass\n",
    "\n",
    "# if os.path.exists(new_dir):\n",
    "#     pass\n",
    "# else:\n",
    "#     os.mkdir(new_dir)"
   ]
  },
  {
   "cell_type": "markdown",
   "id": "b086155a-ab74-4cc1-8c3f-6f87096f2397",
   "metadata": {},
   "source": [
    "## Integrate peak area"
   ]
  },
  {
   "cell_type": "code",
   "execution_count": null,
   "id": "2f19e053-0d06-4e83-9763-887d2cc99c8e",
   "metadata": {},
   "outputs": [],
   "source": [
    "simpson_int = []\n",
    "for i in range(len(title)):\n",
    "    x = df[keys_list[i*2]][idx_w0:idx_w1]\n",
    "    y = df[keys_list[i*2+1]][idx_w0:idx_w1]\n",
    "    simpson_int.append(integrate.simpson(y, x))\n",
    "\n",
    "df_int = pd.DataFrame()\n",
    "df_int['Data_source'] = [title[i] for i in range(len(title))]\n",
    "df_int['Simpson_integrate'] = simpson_int\n",
    "df_int"
   ]
  },
  {
   "cell_type": "markdown",
   "id": "7c195eaf-1ed8-49f7-a9e0-484b1a287cdf",
   "metadata": {},
   "source": [
    "## Save Simpson integrate of PL peak"
   ]
  },
  {
   "cell_type": "code",
   "execution_count": null,
   "id": "f2e5b196-156c-4789-9ae6-728278222b85",
   "metadata": {},
   "outputs": [],
   "source": [
    "# df_int.to_csv(os.path.join(new_dir, 'Cs_Br_66mM_all_simpson_integrate.csv'), index=False, sep=',', float_format='{:.8e}'.format)"
   ]
  },
  {
   "cell_type": "code",
   "execution_count": null,
   "id": "59f71b40-7c2c-4bd1-a868-e7a7acc4764e",
   "metadata": {},
   "outputs": [],
   "source": [
    "# df_int.to_csv('Cs_Br_66mM_all_simpson_integrate.txt', index=False, sep=' ', float_format='{:.5e}'.format)"
   ]
  },
  {
   "cell_type": "code",
   "execution_count": null,
   "id": "b16e9f64-5341-4f6d-ba92-8fb4280239ae",
   "metadata": {},
   "outputs": [],
   "source": []
  },
  {
   "cell_type": "code",
   "execution_count": null,
   "id": "2fbb2216-6462-42a1-955a-c0dbc2175cae",
   "metadata": {},
   "outputs": [],
   "source": []
  },
  {
   "cell_type": "markdown",
   "id": "aeeae1bd-d941-4945-b211-5e96a1f1c1e6",
   "metadata": {},
   "source": [
    "# Absorbance"
   ]
  },
  {
   "cell_type": "markdown",
   "id": "99fd6921-67e1-4763-82a2-fffdfd9c25c8",
   "metadata": {},
   "source": [
    "### Read Abs data into pandas dataframe"
   ]
  },
  {
   "cell_type": "code",
   "execution_count": null,
   "id": "0472bc15-17d7-4e12-bbe4-b38aeba220ab",
   "metadata": {
    "tags": []
   },
   "outputs": [],
   "source": [
    "# df_x = pd.DataFrame()\n",
    "# df_int = pd.DataFrame()\n",
    "df2 = pd.DataFrame()\n",
    "# integration_time = ['200ms', '300ms', '400ms', '2000ms', '3000ms', '4000ms']\n",
    "# integration_time = ['20ms']\n",
    "\n",
    "# for i in range(len(subfolder)):\n",
    "for i in range(len(dilute_list)):\n",
    "    # data_files = subfolder\n",
    "    data_files = glob.glob(subfolder[i] + f'/**absorbance**/**.csv')\n",
    "    data_files.sort()\n",
    "    # del data_files[0]\n",
    "    # suffix = os.path.basename(subfolder_PL[i])\n",
    "    suffix = dilute_list[i]\n",
    "    # id0 = 8\n",
    "    # id1 = 22\n",
    "\n",
    "    skiprows = 10 ## skip 23 rows if data processed by dioptas or ## 8\n",
    "    df_int = pd.DataFrame()\n",
    "    df_temp = pd.DataFrame()\n",
    "\n",
    "    for k in range(len(data_files)):        \n",
    "        # df_int = pd.read_csv(data_files[k], skiprows=skiprows, sep='\\t', names=['Wavelength', f'Abs_{k:03d}'])\n",
    "        # df_temp = pd.concat([df_temp, df_int[f'Abs_{k:03d}']], axis=1, ignore_index=False)\n",
    "        df_int = pd.read_csv(data_files[k], skiprows=skiprows, sep=',')\n",
    "        df_temp = pd.concat([df_temp, df_int['Absorbance']], axis=1, ignore_index=False)\n",
    "\n",
    "    # df_temp[f'{suffix}_mean'] = df_temp.mean(axis=1)\n",
    "    # df_temp = pd.read_csv(data_files[i], skiprows=skiprows, sep=',')\n",
    "    df2[f'x_{suffix}'] = df_int['Wavelength']\n",
    "    df2[f'{suffix}_mean'] = df_temp.mean(axis=1)\n"
   ]
  },
  {
   "cell_type": "code",
   "execution_count": null,
   "id": "fc30ab15-29a7-45b3-b92b-2cf80fddd6fb",
   "metadata": {},
   "outputs": [],
   "source": [
    "i"
   ]
  },
  {
   "cell_type": "markdown",
   "id": "e4d5a1c1-c737-43c5-b4b1-42d23620056b",
   "metadata": {
    "tags": []
   },
   "source": [
    "## Export Absorbance of dilute CsPbBr3 for PLQY_summary_02.ipynb"
   ]
  },
  {
   "cell_type": "code",
   "execution_count": null,
   "id": "ff4fe298-367e-43bf-8e14-7cc296ba190a",
   "metadata": {},
   "outputs": [],
   "source": [
    "# df_66 = pd.DataFrame()\n",
    "\n",
    "# df_66['Wavelength_01'] = df['x_2E-4M_200ms']\n",
    "# df_66['quinine_0.2mM_PL'] = df['2E-4M_200ms_mean']\n",
    "# df_66['Wavelength_02'] = df2['x_2E-4M_200ms']\n",
    "# df_66['quinine_0.2mM_Abs'] = df2['2E-4M_200ms_mean']\n",
    "\n",
    "# df2.to_csv('20230829_CsPbBr_abs.txt', index=False, sep=' ', float_format='{:.5e}'.format)"
   ]
  },
  {
   "cell_type": "code",
   "execution_count": null,
   "id": "7990383c-d75c-4a43-a5bb-bb309e3c5411",
   "metadata": {},
   "outputs": [],
   "source": [
    "df2"
   ]
  },
  {
   "cell_type": "markdown",
   "id": "12e3c8c3-18b3-4c67-8111-b2eb5b78e1e6",
   "metadata": {
    "tags": []
   },
   "source": [
    "## Prepare keys for average scans in pd dataframe"
   ]
  },
  {
   "cell_type": "code",
   "execution_count": null,
   "id": "4e38e7b6-b762-40ba-8124-d78639a75bc0",
   "metadata": {
    "tags": []
   },
   "outputs": [],
   "source": [
    "keys_list2 = list(df2.keys())\n",
    "# k1 = [k for k in keys_list if 'mean' in k]\n",
    "keys_list2"
   ]
  },
  {
   "cell_type": "code",
   "execution_count": null,
   "id": "b89a20c3-c0e6-45b2-9e16-78bddf76c25e",
   "metadata": {},
   "outputs": [],
   "source": [
    "# title = [os.path.basename(subfolder_Abs[i]) for i in range(len(subfolder_Abs))]\n",
    "title = keys_list2[1::2]\n",
    "print(*title, sep='\\n')\n",
    "\n",
    "# label1 = ['quinine_1E-4M', 'quinine_2E-4M', 'quinine_5E-4M']\n",
    "#          # 'Insitu CsPb 6mM + Br 6 mM + ZnI2 128uL/min']\n",
    "\n",
    "# label2 = ['200ms', '300ms']\n",
    "#          # 'ZnI2 128 uL/min']"
   ]
  },
  {
   "cell_type": "markdown",
   "id": "ebe2fa39-3965-4199-bcc6-82c0dba82011",
   "metadata": {},
   "source": [
    "## Plot all Abs scans together"
   ]
  },
  {
   "cell_type": "code",
   "execution_count": null,
   "id": "5d2beb3d-fb72-434d-addc-24ccfe13f283",
   "metadata": {},
   "outputs": [],
   "source": [
    "f2, ax2 = plt.subplots(1, 1, figsize = (8, 4), constrained_layout=True)\n",
    "# f1, (ax1, ax2) = plt.subplots(1, 2, figsize = (6, 9), gridspec_kw={'width_ratios': [1,1]})\n",
    "\n",
    "label = title\n",
    "k = len(title)\n",
    "color_idx = np.linspace(0, 1, k)\n",
    "# linestyle = ['solid', 'dashed', 'solid', 'dashed', 'solid', 'dashed']\n",
    "id0 = 8\n",
    "id1 = -5\n",
    "\n",
    "for i in range(len(title)):\n",
    "    # ax2.plot(df_tth.iloc[:,i], df_int[k1[i]]+offset*i, color=cmap(color_idx[i]), label=label[i])\n",
    "    ax2.plot(df2[keys_list2[i*2]], df2[keys_list2[i*2+1]], color=cmap(color_idx[i]), label=label[i][:id1])\n",
    "\n",
    "legend_properties = {'weight':'bold', 'size':10}    \n",
    "ax2.legend(prop=legend_properties)\n",
    "\n",
    "# ax2.set_xlim(-0.5, 20)\n",
    "# ax2.set_ylim(2500, 9500)\n",
    "# ax2.set_xlabel('tth (degree)', fontsize=16, fontweight='regular')\n",
    "# ax2.set_ylabel('Intensity', fontsize=16, fontweight='regular')\n",
    "ax2.tick_params(axis='both', direction='out', labelsize=12, size=4, width=1)\n",
    "spinewidth = 1.5\n",
    "ax2.spines[\"bottom\"].set_linewidth(spinewidth)\n",
    "ax2.spines[\"right\"].set_linewidth(spinewidth)\n",
    "ax2.spines[\"top\"].set_linewidth(spinewidth)\n",
    "ax2.spines[\"left\"].set_linewidth(spinewidth)\n",
    "\n",
    "imag_name = '20221228_ZnI2_tth_01.png'\n",
    "# cwd = '/Users/chenghunglin/Library/CloudStorage/OneDrive-BrookhavenNationalLaboratory/data_processing/20221127_Cl_Br_I'\n",
    "# plt.savefig(cwd + '/' + imag_name, dpi = 600,  transparent=True)"
   ]
  },
  {
   "cell_type": "markdown",
   "id": "7f2c03d9-a2c2-4d45-b98c-ed7f386af19d",
   "metadata": {},
   "source": [
    "## Try linear fitting"
   ]
  },
  {
   "cell_type": "code",
   "execution_count": null,
   "id": "e157d028-d406-419d-b89a-a97438322512",
   "metadata": {},
   "outputs": [],
   "source": [
    "def line_2D(x, slope, y_intercept):\n",
    "    y = x*slope + y_intercept\n",
    "    return y\n",
    "\n",
    "\n",
    "def find_nearest(array, value):\n",
    "    array = np.asarray(array)\n",
    "    idx = (np.abs(array - value)).argmin()\n",
    "    return idx, array[idx]\n",
    "\n",
    "def fit_line_2D(x, y, fit_function, x_range=[500, 900], maxfev=10000, plot=True):\n",
    "    x = np.asarray(x)\n",
    "    y = np.asarray(y)\n",
    "    y = np.nan_to_num(y, nan=0)\n",
    "    \n",
    "    try:        \n",
    "        idx0, _ = find_nearest(x, x_range[0])\n",
    "        idx1, _ = find_nearest(x, x_range[1])\n",
    "    except (TypeError, IndexError):\n",
    "        idx0 = 0\n",
    "        idx1 = -1\n",
    "    \n",
    "    slope = (y[idx1]-y[idx0]) / (x[idx1]-x[idx0])\n",
    "    y_intercept = np.mean(y[idx0:idx1])\n",
    "    \n",
    "    try:\n",
    "        initial_guess = [slope, y_intercept]\n",
    "    except (TypeError, IndexError):\n",
    "        initial_guess = [0.01, 0]\n",
    "    \n",
    "    try:\n",
    "        popt, pcov = curve_fit(fit_function, x[idx0:idx1], y[idx0:idx1], p0=initial_guess, maxfev=maxfev)\n",
    "    except RuntimeError:\n",
    "        maxfev=1000000\n",
    "        popt, pcov = curve_fit(fit_function, x[idx0:idx1], y[idx0:idx1], p0=initial_guess, maxfev=maxfev)\n",
    "        \n",
    "    if plot:\n",
    "        plt.figure()\n",
    "        plt.plot(x, y, label='data')\n",
    "        plt.plot(x, fit_function(x, popt[0], popt[1]), label=f'y={popt[0]:.4f}x+{popt[1]:.4f}')\n",
    "        plt.legend()\n",
    "    \n",
    "    return popt, pcov\n"
   ]
  },
  {
   "cell_type": "code",
   "execution_count": null,
   "id": "377d944b-780c-4ebc-8f77-d336d84b1e71",
   "metadata": {},
   "outputs": [],
   "source": [
    "x = df2[keys_list2[0]]\n",
    "y = df2[keys_list2[1]]\n",
    "x_range=[957, 960]\n",
    "idx0, v0 = find_nearest(x, x_range[0])\n",
    "idx1, v1 = find_nearest(x, x_range[1])\n",
    "popt, pcov = fit_line_2D(x,y,line_2D, x_range=x_range)"
   ]
  },
  {
   "cell_type": "code",
   "execution_count": null,
   "id": "95fc6689-1031-4bce-b9d2-2aa43755018d",
   "metadata": {},
   "outputs": [],
   "source": [
    "title.append('dummy')\n",
    "title"
   ]
  },
  {
   "cell_type": "code",
   "execution_count": null,
   "id": "d715aa38-c4f2-41ab-ac61-742433196234",
   "metadata": {},
   "outputs": [],
   "source": [
    "rows = 5\n",
    "cols = 2\n",
    "f3, ax3 = plt.subplots(rows, cols, figsize = (8, 8), constrained_layout=True)\n",
    "\n",
    "label = title\n",
    "title_reshape = np.asarray(title).reshape(rows, cols)\n",
    "color_idx = np.linspace(0, 1, len(title))\n",
    "id0 = 8\n",
    "id1 = 22\n",
    "x_range_list = [[957, 960], [950, 970], \n",
    "                [850, 950], [850, 950], \n",
    "                [800, 900], [700, 900],\n",
    "                [700, 900], [700, 900], \n",
    "                [700, 900], [700, 900],\n",
    "               ]\n",
    "\n",
    "legend_properties = {'weight':'bold', 'size':10}\n",
    "df4 = pd.DataFrame()\n",
    "for i in range(len(title)):\n",
    "    # ax1.plot(df_tth.iloc[:,i], df_int[k1[i]]+offset*i, color=cmap(color_idx[i]), label=label[i])\n",
    "    idx_ax = np.argwhere(title_reshape==title[i])\n",
    "    try:\n",
    "        x = df2[keys_list2[i*2]]\n",
    "        y = df2[keys_list2[i*2+1]]\n",
    "        popt, pcov = fit_line_2D(x, y, line_2D, x_range=x_range_list[i], plot=False)\n",
    "        ax3[idx_ax[0][0], idx_ax[0][1]].plot(x, y, color=cmap(color_idx[i]), label=label[i][:id1])\n",
    "        ax3[idx_ax[0][0], idx_ax[0][1]].plot(x, line_2D(x, popt[0], popt[1]), label=f'y={popt[0]:.4f}x+{popt[1]:.4f}')\n",
    "        ax3[idx_ax[0][0], idx_ax[0][1]].legend(prop=legend_properties)\n",
    "        df4[keys_list2[i*2]] = x\n",
    "        # df4[keys_list2[i*2+1]] = y - popt[1]\n",
    "        df4[keys_list2[i*2+1]] = y - line_2D(x, *popt)\n",
    "    \n",
    "    except (KeyError, IndexError):\n",
    "        pass\n",
    "\n",
    "# # ax3.set_xlim(-0.5, 20)\n",
    "# # ax3.set_ylim(2500, 9500)\n",
    "# # ax3.set_xlabel('tth (degree)', fontsize=16, fontweight='regular')\n",
    "# # ax3.set_ylabel('Intensity', fontsize=16, fontweight='regular')\n",
    "# ax3.tick_params(axis='both', direction='out', labelsize=12, size=4, width=1)\n",
    "# spinewidth = 1.5\n",
    "# ax3.spines[\"bottom\"].set_linewidth(spinewidth)\n",
    "# ax3.spines[\"right\"].set_linewidth(spinewidth)\n",
    "# ax3.spines[\"top\"].set_linewidth(spinewidth)\n",
    "# ax3.spines[\"left\"].set_linewidth(spinewidth)"
   ]
  },
  {
   "cell_type": "code",
   "execution_count": null,
   "id": "94ffb8cb-acbb-4c0c-b9c0-5dcc1544b485",
   "metadata": {},
   "outputs": [],
   "source": [
    "title = keys_list2[1::2]\n",
    "title"
   ]
  },
  {
   "cell_type": "markdown",
   "id": "9ef96fd9-c9e4-426b-8975-99e86a40a209",
   "metadata": {},
   "source": [
    "## Plot Abs by offset"
   ]
  },
  {
   "cell_type": "code",
   "execution_count": null,
   "id": "b8b55e1d-7307-4117-8428-5247f2e01ad3",
   "metadata": {},
   "outputs": [],
   "source": [
    "f4, ax4 = plt.subplots(1, 1, figsize = (8, 4), constrained_layout=True)\n",
    "# f1, (ax1, ax2) = plt.subplots(1, 2, figsize = (6, 9), gridspec_kw={'width_ratios': [1,1]})\n",
    "\n",
    "label = title\n",
    "k = len(title)\n",
    "color_idx = np.linspace(0, 1, k)\n",
    "# linestyle = ['solid', 'dashed', 'solid', 'dashed', 'solid', 'dashed']\n",
    "id0 = 8\n",
    "id1 = 30\n",
    "\n",
    "for i in range(len(title)):\n",
    "    # ax4.plot(df_tth.iloc[:,i], df_int[k1[i]]+offset*i, color=cmap(color_idx[i]), label=label[i])\n",
    "    ax4.plot(df4[keys_list2[i*2]], df4[keys_list2[i*2+1]], color=cmap(color_idx[i]), label=label[i][:id1])\n",
    "\n",
    "legend_properties = {'weight':'bold', 'size':10}    \n",
    "ax4.legend(prop=legend_properties)\n",
    "\n",
    "# ax4.set_xlim(-0.5, 20)\n",
    "# ax4.set_ylim(2500, 9500)\n",
    "# ax4.set_xlabel('tth (degree)', fontsize=16, fontweight='regular')\n",
    "# ax4.set_ylabel('Intensity', fontsize=16, fontweight='regular')\n",
    "ax4.tick_params(axis='both', direction='out', labelsize=12, size=4, width=1)\n",
    "spinewidth = 1.5\n",
    "ax4.spines[\"bottom\"].set_linewidth(spinewidth)\n",
    "ax4.spines[\"right\"].set_linewidth(spinewidth)\n",
    "ax4.spines[\"top\"].set_linewidth(spinewidth)\n",
    "ax4.spines[\"left\"].set_linewidth(spinewidth)\n",
    "\n",
    "imag_name = '20221228_ZnI2_tth_01.png'\n",
    "# cwd = '/Users/chenghunglin/Library/CloudStorage/OneDrive-BrookhavenNationalLaboratory/data_processing/20221127_Cl_Br_I'\n",
    "# plt.savefig(cwd + '/' + imag_name, dpi = 600,  transparent=True)"
   ]
  },
  {
   "cell_type": "markdown",
   "id": "00241e2e-d92e-40af-8622-cb3e8e0001e2",
   "metadata": {
    "tags": []
   },
   "source": [
    "## Prepare keys for offset data in pd dataframe"
   ]
  },
  {
   "cell_type": "code",
   "execution_count": null,
   "id": "133ba834-a423-4961-a3e2-b53dd110dab1",
   "metadata": {
    "tags": []
   },
   "outputs": [],
   "source": [
    "keys_list4 = list(df4.keys())\n",
    "# k1 = [k for k in keys_list if 'mean' in k]\n",
    "keys_list4"
   ]
  },
  {
   "cell_type": "markdown",
   "id": "9ba4e501-0321-49c0-8171-cd1ba96d9147",
   "metadata": {},
   "source": [
    "## Save offset data as csv"
   ]
  },
  {
   "cell_type": "code",
   "execution_count": null,
   "id": "89cba7fa-e79f-4a41-b4a7-d988cd8647ac",
   "metadata": {},
   "outputs": [],
   "source": [
    "for i in range(len(title)):\n",
    "    df_temp = pd.DataFrame()\n",
    "    df_temp['Wavelength'] = df4[keys_list4[i*2]].fillna(0)\n",
    "    df_temp['Absorbance'] = df4[keys_list4[i*2+1]].fillna(0)\n",
    "    fn = title[i][:id1] + '_offset.csv'\n",
    "    print(fn)\n",
    "    # df_temp.to_csv(os.path.join(new_dir, fn), index=False, sep=',', float_format='{:.8e}'.format)"
   ]
  },
  {
   "cell_type": "markdown",
   "id": "76c49237-cd79-414f-b2a5-b01757fb4e9a",
   "metadata": {},
   "source": [
    "## Save Absorbance at 365 nm"
   ]
  },
  {
   "cell_type": "code",
   "execution_count": null,
   "id": "e09a0df1-be34-4df3-8812-20df76718f8f",
   "metadata": {},
   "outputs": [],
   "source": [
    "idx_365, w365 = find_nearest(df4[keys_list2[0]], 365)\n",
    "# df4.iloc[idx_365][::-2][::-1].to_list()\n",
    "\n",
    "df_365 = pd.DataFrame()\n",
    "df_365['Data_source'] = [title[i] for i in range(len(title))]\n",
    "df_365['Abs_365'] = df2.iloc[idx_365][1::2].to_list()\n",
    "df_365['Abs_offset_365'] = df4.iloc[idx_365][1::2].to_list()\n",
    "df_365"
   ]
  },
  {
   "cell_type": "code",
   "execution_count": null,
   "id": "5324c7c8-4e5a-4455-b4ab-31db850243eb",
   "metadata": {},
   "outputs": [],
   "source": [
    "# df_365.to_csv(os.path.join(new_dir, 'Cs_Br_66mM_all_abs_365.csv'), index=False, sep=',', float_format='{:.8e}'.format)"
   ]
  },
  {
   "cell_type": "code",
   "execution_count": null,
   "id": "4a2794cf-95c6-4daf-861e-f791f7966cee",
   "metadata": {},
   "outputs": [],
   "source": [
    "# df_365.to_csv('Cs_Br_66mM_all_abs_365.txt', index=False, sep=' ', float_format='{:.5e}'.format)"
   ]
  },
  {
   "cell_type": "code",
   "execution_count": null,
   "id": "8bf81756-8817-4cca-9a1f-1df16cd6ac17",
   "metadata": {},
   "outputs": [],
   "source": [
    "df2.keys()"
   ]
  },
  {
   "cell_type": "code",
   "execution_count": null,
   "id": "5ed823be-4e8e-4739-b14b-aa7e56a1d172",
   "metadata": {},
   "outputs": [],
   "source": []
  },
  {
   "cell_type": "code",
   "execution_count": null,
   "id": "ddbba226-bc99-4727-aa76-7f076ed5e792",
   "metadata": {},
   "outputs": [],
   "source": []
  },
  {
   "cell_type": "markdown",
   "id": "5b7a1564-391b-451d-afeb-38a146f6964d",
   "metadata": {},
   "source": [
    "## Import analysis functions"
   ]
  },
  {
   "cell_type": "code",
   "execution_count": null,
   "id": "32a528ff-cfca-4103-8ebc-055ade35b8f3",
   "metadata": {
    "tags": []
   },
   "outputs": [],
   "source": [
    "%run -i /Users/chenghunglin/Documents/Git_BNL/profile_collection_ldrd20-31/scripts/_data_analysis.py"
   ]
  },
  {
   "cell_type": "markdown",
   "id": "3b1c5d25-568c-4dc8-b893-bcf263d30811",
   "metadata": {},
   "source": [
    "## Gaussian peak fittimg"
   ]
  },
  {
   "cell_type": "code",
   "execution_count": null,
   "id": "95a1f316-21b6-4ca4-9373-4fa4e9495191",
   "metadata": {},
   "outputs": [],
   "source": [
    "keys_list.append('x_dummy')\n",
    "keys_list.append('dummy')\n",
    "keys_list"
   ]
  },
  {
   "cell_type": "code",
   "execution_count": null,
   "id": "77a63436-cc4a-4c28-b6da-673bf46b71c0",
   "metadata": {},
   "outputs": [],
   "source": [
    "rows = 5\n",
    "cols = 2\n",
    "f5, ax5 = plt.subplots(rows, cols, figsize = (8, 9), constrained_layout=True)\n",
    "# ax4 = ax4.flatten()\n",
    "wl1 = 400\n",
    "wl2 = 800\n",
    "idx1, w1 = find_nearest(df[keys_list[0]], wl1)\n",
    "idx2, w2 = find_nearest(df[keys_list[0]], wl2)\n",
    "\n",
    "key_x_reshape = np.asarray(keys_list[0::2]).reshape(cols, rows).T\n",
    "key_y_reshape = np.asarray(keys_list[1::2]).reshape(cols, rows).T\n",
    "\n",
    "peak_list = []\n",
    "fwhm = []\n",
    "simpson_int = []\n",
    "\n",
    "for i in range(cols):\n",
    "    for j in range(rows):\n",
    "        #i = 4\n",
    "        try:\n",
    "            x0 = df[key_x_reshape[j][i]][idx1:idx2].to_numpy()\n",
    "            y0 = df[key_y_reshape[j][i]][idx1:idx2].to_numpy()\n",
    "            #_2peak_fit_PL(x,y, distr='G', height=1000, second_peak=-4, plot=True, plot_title=os.path.basename(subfolder[i]))\n",
    "\n",
    "            peak, prop = good_bad_data(x0, y0, key_height=1, data_id = f'{key_x_reshape[j][i]}', distance=20, height=1)\n",
    "            x, y, p, f, popt = _fitting_in_kafka(x0, y0, f'{key_y_reshape[j][i]}', peak, prop)  \n",
    "\n",
    "\n",
    "            simpson_int.append(integrate.simpson(y,x))\n",
    "            peak_list.append(popt[1])\n",
    "            fwhm.append(2.355*popt[2])\n",
    "\n",
    "\n",
    "            fitted_result = f(x, *popt)\n",
    "            r_2 = r_square(x, y, fitted_result)\n",
    "            r2 = f'R\\u00b2={r_2:.2f}'\n",
    "            ax5[j][i].set_title(key_y_reshape[j][i][14:27])\n",
    "            ax5[j][i].plot(x,y,'b+:',label='data')\n",
    "            ax5[j][i].plot(x,fitted_result,'ro:',label='Total fit\\n'+r2, alpha=0.5, markersize=3)\n",
    "\n",
    "        #     # peak 1\n",
    "        #     peak_1 = _1gauss(x, *popt[0:3])\n",
    "        #     ax4[i].plot(x, peak_1, \"g\", label='peak 1')\n",
    "        #     ax4[i].fill_between(x, peak_1.min(), peak_1, facecolor=\"green\", alpha=0.5)\n",
    "\n",
    "        #     # peak 2\n",
    "        #     peak_2 = _1gauss(x, *popt[3:6])\n",
    "        #     ax4[i].plot(x, peak_2, \"y\", label='peak 2')\n",
    "        #     ax4[i].fill_between(x, peak_2.min(), peak_2, facecolor=\"yellow\", alpha=0.5)\n",
    "\n",
    "            ax5[j][i].legend()\n",
    "        \n",
    "        except (KeyError, IndexError):\n",
    "            pass"
   ]
  },
  {
   "cell_type": "code",
   "execution_count": null,
   "id": "0a143252-a9bd-479e-ba79-d77d8093f8d4",
   "metadata": {},
   "outputs": [],
   "source": [
    "simpson_int"
   ]
  },
  {
   "cell_type": "markdown",
   "id": "5c83cf48-81cf-4723-9403-c069af873449",
   "metadata": {},
   "source": [
    "## Plot PE, FWHM, PLQY"
   ]
  },
  {
   "cell_type": "code",
   "execution_count": null,
   "id": "e4cc6172-6323-4ed3-b936-06c206f14eae",
   "metadata": {},
   "outputs": [],
   "source": [
    "def plqy_quinine(absorbance_sample, PL_integral_sample, refractive_index_solvent, \n",
    "                     absorbance_reference, PL_integral_reference, refractive_index_reference, plqy_reference):\n",
    "    \n",
    "    integral_ratio = PL_integral_sample / PL_integral_reference\n",
    "    absorbance_ratio = absorbance_reference / absorbance_sample\n",
    "    refractive_index_ratio = (refractive_index_solvent / refractive_index_reference)**2\n",
    "\n",
    "    plqy = plqy_reference * integral_ratio * absorbance_ratio * refractive_index_ratio\n",
    "    return plqy"
   ]
  },
  {
   "cell_type": "code",
   "execution_count": null,
   "id": "7b296f96-4a78-43a2-b900-e5bcc6ca303e",
   "metadata": {},
   "outputs": [],
   "source": [
    "df_365['Abs_offset_365']"
   ]
  },
  {
   "cell_type": "code",
   "execution_count": null,
   "id": "8ba39bb2-3ea6-4a9b-a09f-63c1fd999dd1",
   "metadata": {},
   "outputs": [],
   "source": [
    "# abs_365 = df11.iloc[210][1::2].to_numpy()\n",
    "abs_365 = df_365['Abs_offset_365']\n",
    "\n",
    "abs_365_r = 0.360459 ## 0.231965  ##  20230919_quinine_sapphire.ipynb: 5E-4M_300ms_mean\n",
    "plqy_r = 0.546\n",
    "ref_idx_toluene = 1.506\n",
    "ref_idx_H2SO4 = 1.337\n",
    "integral_r = 295825.609793  ##  20230919_quinine_sapphire.ipynb: 5E-4M_300ms_mean\n",
    "integral_pqds = np.asarray(simpson_int)\n",
    "\n",
    "plqy = plqy_quinine(abs_365, integral_pqds, 1.506, abs_365_r, integral_r, 1.337, 0.546)\n",
    "# plqy_4000ms = plqy_quinine(abs_365, integral_pqds[1::2], 1.506, abs_365_r, integral_r[1], 1.337, 0.546)\n",
    "    \n",
    "\n",
    "# dilute_constant = np.asarray([1,8,16,24])\n",
    "dilute_constant = np.asarray(dilute_ratio)\n",
    "x_list = 33 * (2/3) * dilute_constant\n",
    "# x_list_T = np.asarray(x_list).reshape(cols, rows).T\n",
    "# peak_list_T = np.asarray(peak_list).reshape(cols, rows).T\n",
    "# fwhm_T = np.asarray(fwhm).reshape(cols, rows).T\n",
    "# plqy_T = np.asarray(plqy).reshape(cols, rows).T\n",
    "\n",
    "rows = 1\n",
    "cols = 3\n",
    "integration_time = ['Sapphire 300ms']\n",
    "\n",
    "f5, ax5 = plt.subplots(rows, cols, figsize = (10, 3), constrained_layout=True)\n",
    "# for i in range(rows):\n",
    "ax5[0].set_title(f'Emission Peak {integration_time[0]}')\n",
    "ax5[0].set_xlabel(r'$CsPbBr_3\\ concentration\\ (mM)$', fontdict={'size': 10})\n",
    "ax5[0].set_ylabel('Emission Peak (nm)')\n",
    "ax5[1].set_title(f'FWHM {integration_time[0]}')\n",
    "ax5[1].set_xlabel(r'$CsPbBr_3\\ concentration\\ (mM)$', fontdict={'size': 10})\n",
    "ax5[1].set_ylabel('FWHM (nm)')\n",
    "ax5[2].set_title(f'PLQY {integration_time[0]}')\n",
    "ax5[2].set_xlabel(r'$CsPbBr_3\\ concentration\\ (mM)$', fontdict={'size': 10})\n",
    "ax5[2].set_ylabel('PLQY')\n",
    "\n",
    "\n",
    "ax5[0].plot(x_list, peak_list, '.--', markersize=10)\n",
    "ax5[1].plot(x_list, fwhm, 'g^--', markersize=8)\n",
    "ax5[2].plot(x_list, plqy, 'r*--', markersize=10)"
   ]
  },
  {
   "cell_type": "code",
   "execution_count": null,
   "id": "66891aa0-0997-4bb3-acd0-73ba63694d28",
   "metadata": {},
   "outputs": [],
   "source": [
    "plqy"
   ]
  },
  {
   "cell_type": "code",
   "execution_count": null,
   "id": "4c2edf79-b197-44c7-bc5b-897941ef6c87",
   "metadata": {},
   "outputs": [],
   "source": [
    "x_list"
   ]
  },
  {
   "cell_type": "code",
   "execution_count": null,
   "id": "a1543b7c-6f97-4fc6-b5ea-c7e3afcf2954",
   "metadata": {},
   "outputs": [],
   "source": []
  },
  {
   "cell_type": "code",
   "execution_count": null,
   "id": "084a767f-bf10-4885-a933-c3836e93e676",
   "metadata": {},
   "outputs": [],
   "source": []
  }
 ],
 "metadata": {
  "kernelspec": {
   "display_name": "Python 3 (ipykernel)",
   "language": "python",
   "name": "python3"
  },
  "language_info": {
   "codemirror_mode": {
    "name": "ipython",
    "version": 3
   },
   "file_extension": ".py",
   "mimetype": "text/x-python",
   "name": "python",
   "nbconvert_exporter": "python",
   "pygments_lexer": "ipython3",
   "version": "3.9.7"
  }
 },
 "nbformat": 4,
 "nbformat_minor": 5
}
