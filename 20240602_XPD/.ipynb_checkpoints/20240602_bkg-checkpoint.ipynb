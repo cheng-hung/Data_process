{
 "cells": [
  {
   "cell_type": "code",
   "execution_count": 1,
   "id": "dba2bc8e-8b94-4d27-9d71-1c86eabe821a",
   "metadata": {
    "tags": []
   },
   "outputs": [],
   "source": [
    "import glob\n",
    "import os\n",
    "\n",
    "import matplotlib as mpl\n",
    "import matplotlib.pyplot as plt\n",
    "# import mpld3 \n",
    "# import seaborn as sns\n",
    "import palettable.colorbrewer.diverging as pld\n",
    "# import palettable.lightbartlein.diverging as pld\n",
    "\n",
    "import numpy as np\n",
    "import pandas as pd\n",
    "\n",
    "%matplotlib widget"
   ]
  },
  {
   "cell_type": "code",
   "execution_count": 2,
   "id": "ece54c97-5e88-422a-9355-a345e97c1d3b",
   "metadata": {
    "tags": []
   },
   "outputs": [],
   "source": [
    "plt.close('all')"
   ]
  },
  {
   "cell_type": "code",
   "execution_count": 3,
   "id": "48f3eaa4-f886-4c23-9b7b-763f7d67406a",
   "metadata": {
    "tags": []
   },
   "outputs": [],
   "source": [
    "## Plotting parameters\n",
    "\n",
    "palette = pld.RdYlGn_4_r\n",
    "# palette = pld.BlueGreen_4_r\n",
    "# palette = pld.Spectral_10_r\n",
    "cmap = palette.mpl_colormap\n",
    "# cmap = plt.get_cmap('rainbow')\n",
    "transparency = 0.7\n",
    "labelsize = 20\n",
    "spinewidth = 3\n",
    "fontsize = 26\n",
    "legendsize = 20\n",
    "fontweight = 'bold'\n",
    "labelpad = 6\n",
    "pad = 10\n",
    "linewidth = 2.5\n"
   ]
  },
  {
   "cell_type": "code",
   "execution_count": 4,
   "id": "73acc5e3-06a9-4819-bdf8-01d8221b18e8",
   "metadata": {
    "tags": []
   },
   "outputs": [
    {
     "data": {
      "image/png": "[encoded data removed]",
      "text/html": [
       "<div style=\"vertical-align: middle;\"><strong>RdYlGn_r</strong> </div><div class=\"cmap\"><img alt=\"RdYlGn_r colormap\" title=\"RdYlGn_r\" style=\"border: 1px solid #555;\" src=\"data:image/png;base64,iVBORw0KGgoAAAANSUhEUgAAAgAAAABACAYAAABsv8+/AAAAF3RFWHRUaXRsZQBSZFlsR25fciBjb2xvcm1hcBVEop8AAAAddEVYdERlc2NyaXB0aW9uAFJkWWxHbl9yIGNvbG9ybWFwPDpFtgAAADB0RVh0QXV0aG9yAE1hdHBsb3RsaWIgdjMuOC40LCBodHRwczovL21hdHBsb3RsaWIub3JnZM6ytAAAADJ0RVh0U29mdHdhcmUATWF0cGxvdGxpYiB2My44LjQsIGh0dHBzOi8vbWF0cGxvdGxpYi5vcmdKaC2TAAAB0UlEQVR4nO3WQXKCQBRAwcFj5Da5ZI4bsghYJRTBoLvXvTETxvmILt708fU5jzHGNH7dlj+maXpY35Yd07reXL/vH4/XD/ePzfnb/W+fd3LOydztfR2+f93/4ryj53Q+7+R5jJNznvycp9/fm+fd98/z8rrex7i4nl98/7p+1/28+7znPt/t5Lrn9b/1+jzn7+Ufy+tuPa/rg/3z43q3bz4493v8ef3q/Pu5L87f3v/V+fvrj+c9O3937u7+rs3ff3/X5u8+18X5u9/B5vcKAIQIAAAIEgAAECQAACBIAABAkAAAgCABAABBAgAAggQAAAQJAAAIEgAAECQAACBIAABAkAAAgCABAABBAgAAggQAAAQJAAAIEgAAECQAACBIAABAkAAAgCABAABBAgAAggQAAAQJAAAIEgAAECQAACBIAABAkAAAgCABAABBAgAAggQAAAQJAAAIEgAAECQAACBIAABAkAAAgCABAABBAgAAggQAAAQJAAAIEgAAECQAACBIAABAkAAAgCABAABBAgAAggQAAAQJAAAIEgAAECQAACBIAABAkAAAgCABAABBAgAAggQAAAQJAAAIEgAAECQAACBIAABAkAAAgCABAABBPww79ouMV4rBAAAAAElFTkSuQmCC\"></div><div style=\"vertical-align: middle; max-width: 514px; display: flex; justify-content: space-between;\"><div style=\"float: left;\"><div title=\"#1a9641ff\" style=\"display: inline-block; width: 1em; height: 1em; margin: 0; vertical-align: middle; border: 1px solid #555; background-color: #1a9641ff;\"></div> under</div><div style=\"margin: 0 auto; display: inline-block;\">bad <div title=\"#00000000\" style=\"display: inline-block; width: 1em; height: 1em; margin: 0; vertical-align: middle; border: 1px solid #555; background-color: #00000000;\"></div></div><div style=\"float: right;\">over <div title=\"#d7191cff\" style=\"display: inline-block; width: 1em; height: 1em; margin: 0; vertical-align: middle; border: 1px solid #555; background-color: #d7191cff;\"></div></div>"
      ],
      "text/plain": [
       "<matplotlib.colors.LinearSegmentedColormap at 0x7fbb08e55750>"
      ]
     },
     "execution_count": 4,
     "metadata": {},
     "output_type": "execute_result"
    }
   ],
   "source": [
    "cmap"
   ]
  },
  {
   "cell_type": "markdown",
   "id": "2f2a42a6-d982-43bb-8799-70fcb8f5da3d",
   "metadata": {},
   "source": [
    "# Reading .chi / .xy data"
   ]
  },
  {
   "cell_type": "code",
   "execution_count": 6,
   "id": "40df7daf-ea8a-43ec-8a13-a97da5dcfea1",
   "metadata": {
    "tags": []
   },
   "outputs": [
    {
     "name": "stdout",
     "output_type": "stream",
     "text": [
      "/Users/chenghunglin/Documents/20240602_XPD/Toluene_OleAcid_mask/Toluene_OleAcid_mask_20240602-120713_ccbe3b_primary-1_mean_tth.chi\n",
      "/Users/chenghunglin/Documents/20240602_XPD/Toluene_OleAcid_mask/Toluene_OleAcid_mask_20240602-121334_d3d4ae_primary-1_mean_tth.chi\n",
      "/Users/chenghunglin/Documents/20240602_XPD/Toluene_OleAcid_mask/Toluene_OleAcid_mask_20240602-122852_c49480_primary-1_mean_tth.chi\n"
     ]
    }
   ],
   "source": [
    "## Find the subfolders in the current working folder (cwd)\n",
    "#cwd = os.getcwd()\n",
    "# cwd = '/nsls2/users/clin1/Documents/Cheng-Hung/temp/20221108_insitu'\n",
    "cwd = '/Users/chenghunglin/Documents/20240602_XPD/Toluene_OleAcid_mask/'\n",
    "subfolder = glob.glob(cwd + '/**_tth.chi')\n",
    "subfolder.sort()\n",
    "# subfolder_Cl.reverse()\n",
    "# del subfolder[-1]\n",
    "print(*subfolder, sep = '\\n')  ## Print one element per line"
   ]
  },
  {
   "cell_type": "code",
   "execution_count": 6,
   "id": "c41e568d-7651-4a4c-85bd-1be1f5e25fb0",
   "metadata": {},
   "outputs": [],
   "source": [
    "## Reading dark and reference\n",
    "# dark = glob.glob(cwd + '/dark_ref/' + 'Dark**.csv')\n",
    "# ref = glob.glob(cwd + '/dark_ref/' + 'Tol_OA**.csv')\n",
    "\n",
    "# dark_df = pd.read_csv(dark[0], skiprows=5, sep=',')\n",
    "# ref_df = pd.read_csv(ref[0], skiprows=5, sep=',')"
   ]
  },
  {
   "cell_type": "code",
   "execution_count": 10,
   "id": "f68af048-5bc7-46ed-abb4-64a21d34e321",
   "metadata": {
    "tags": []
   },
   "outputs": [],
   "source": [
    "## Read data into pandas dataframe\n",
    "\n",
    "df_tth = pd.DataFrame()\n",
    "df_int = pd.DataFrame()\n",
    "\n",
    "for i in range(len(subfolder)):\n",
    "    data_files = subfolder[i]\n",
    "    # data_files = glob.glob(subfolder[i] + '/**.xy')\n",
    "    # data_files.sort()\n",
    "    # del data_files[0]\n",
    "    suffix = os.path.basename(data_files)[:7]\n",
    "\n",
    "    skiprows = 1 ## skip 23 rows if data processed by dioptas or ## 8\n",
    "    # df_temp = pd.DataFrame()\n",
    "    \n",
    "    df = pd.read_csv(data_files, skiprows=skiprows, sep=' ', names=[f'tth_{suffix}-{i:02d}', f'{suffix}-{i:02d}'])\n",
    "    df_int = pd.concat([df_int, df[f'{suffix}-{i:02d}']], axis=1, ignore_index=False)\n",
    "    df_tth = pd.concat([df_tth, df[f'tth_{suffix}-{i:02d}']], axis=1, ignore_index=False)\n",
    "    \n",
    "df_int['Toluene_OleAcid_mask'] = df_int.mean(axis=1)\n",
    "    \n",
    "#     for j in range(len(data_files)):        \n",
    "#         df = pd.read_csv(data_files[j], skiprows=skiprows, sep=' ', names=[f'tth_{suffix}-{j:02d}', f'{suffix}-{j:02d}'])\n",
    "#         df_temp = pd.concat([df_temp, df[f'{suffix}-{j:02d}']], axis=1, ignore_index=False)\n",
    "#         df_int = pd.concat([df_int, df[f'{suffix}-{j:02d}']], axis=1, ignore_index=False)\n",
    "    \n",
    "#     df_tth = pd.concat([df_tth, df[f'tth_{suffix}-{j:02d}']], axis=1, ignore_index=False)\n",
    "#     df_temp[f'{suffix}_mean'] = df_temp.mean(axis=1)\n",
    "#     df_int = pd.concat([df_int, df_temp[f'{suffix}_mean']], axis=1, ignore_index=False)\n",
    "    "
   ]
  },
  {
   "cell_type": "code",
   "execution_count": 11,
   "id": "895f3dfa-4a3f-4e26-a6e6-66a804d7c3f8",
   "metadata": {
    "tags": []
   },
   "outputs": [
    {
     "data": {
      "text/html": [
       "<div>\n",
       "<style scoped>\n",
       "    .dataframe tbody tr th:only-of-type {\n",
       "        vertical-align: middle;\n",
       "    }\n",
       "\n",
       "    .dataframe tbody tr th {\n",
       "        vertical-align: top;\n",
       "    }\n",
       "\n",
       "    .dataframe thead th {\n",
       "        text-align: right;\n",
       "    }\n",
       "</style>\n",
       "<table border=\"1\" class=\"dataframe\">\n",
       "  <thead>\n",
       "    <tr style=\"text-align: right;\">\n",
       "      <th></th>\n",
       "      <th>Toluene-00</th>\n",
       "      <th>Toluene-01</th>\n",
       "      <th>Toluene-02</th>\n",
       "      <th>Toluene_OleAcid_mask</th>\n",
       "    </tr>\n",
       "  </thead>\n",
       "  <tbody>\n",
       "    <tr>\n",
       "      <th>0</th>\n",
       "      <td>773.248169</td>\n",
       "      <td>780.250366</td>\n",
       "      <td>786.252319</td>\n",
       "      <td>779.916951</td>\n",
       "    </tr>\n",
       "    <tr>\n",
       "      <th>1</th>\n",
       "      <td>879.867798</td>\n",
       "      <td>888.257629</td>\n",
       "      <td>893.224670</td>\n",
       "      <td>887.116699</td>\n",
       "    </tr>\n",
       "    <tr>\n",
       "      <th>2</th>\n",
       "      <td>887.577515</td>\n",
       "      <td>894.581543</td>\n",
       "      <td>900.152405</td>\n",
       "      <td>894.103821</td>\n",
       "    </tr>\n",
       "    <tr>\n",
       "      <th>3</th>\n",
       "      <td>920.897705</td>\n",
       "      <td>927.764893</td>\n",
       "      <td>933.872864</td>\n",
       "      <td>927.511820</td>\n",
       "    </tr>\n",
       "    <tr>\n",
       "      <th>4</th>\n",
       "      <td>976.374023</td>\n",
       "      <td>983.804626</td>\n",
       "      <td>990.234436</td>\n",
       "      <td>983.471029</td>\n",
       "    </tr>\n",
       "    <tr>\n",
       "      <th>...</th>\n",
       "      <td>...</td>\n",
       "      <td>...</td>\n",
       "      <td>...</td>\n",
       "      <td>...</td>\n",
       "    </tr>\n",
       "    <tr>\n",
       "      <th>2995</th>\n",
       "      <td>356.366882</td>\n",
       "      <td>361.386536</td>\n",
       "      <td>362.278778</td>\n",
       "      <td>360.010732</td>\n",
       "    </tr>\n",
       "    <tr>\n",
       "      <th>2996</th>\n",
       "      <td>359.615021</td>\n",
       "      <td>360.991302</td>\n",
       "      <td>362.792938</td>\n",
       "      <td>361.133087</td>\n",
       "    </tr>\n",
       "    <tr>\n",
       "      <th>2997</th>\n",
       "      <td>361.604889</td>\n",
       "      <td>362.399567</td>\n",
       "      <td>362.575043</td>\n",
       "      <td>362.193166</td>\n",
       "    </tr>\n",
       "    <tr>\n",
       "      <th>2998</th>\n",
       "      <td>361.144043</td>\n",
       "      <td>364.133942</td>\n",
       "      <td>361.043243</td>\n",
       "      <td>362.107076</td>\n",
       "    </tr>\n",
       "    <tr>\n",
       "      <th>2999</th>\n",
       "      <td>360.880554</td>\n",
       "      <td>362.334351</td>\n",
       "      <td>360.880554</td>\n",
       "      <td>361.365153</td>\n",
       "    </tr>\n",
       "  </tbody>\n",
       "</table>\n",
       "<p>3000 rows × 4 columns</p>\n",
       "</div>"
      ],
      "text/plain": [
       "      Toluene-00  Toluene-01  Toluene-02  Toluene_OleAcid_mask\n",
       "0     773.248169  780.250366  786.252319            779.916951\n",
       "1     879.867798  888.257629  893.224670            887.116699\n",
       "2     887.577515  894.581543  900.152405            894.103821\n",
       "3     920.897705  927.764893  933.872864            927.511820\n",
       "4     976.374023  983.804626  990.234436            983.471029\n",
       "...          ...         ...         ...                   ...\n",
       "2995  356.366882  361.386536  362.278778            360.010732\n",
       "2996  359.615021  360.991302  362.792938            361.133087\n",
       "2997  361.604889  362.399567  362.575043            362.193166\n",
       "2998  361.144043  364.133942  361.043243            362.107076\n",
       "2999  360.880554  362.334351  360.880554            361.365153\n",
       "\n",
       "[3000 rows x 4 columns]"
      ]
     },
     "execution_count": 11,
     "metadata": {},
     "output_type": "execute_result"
    }
   ],
   "source": [
    "df_int"
   ]
  },
  {
   "cell_type": "markdown",
   "id": "cfb8a913-ea0d-4edc-b6b1-df5d105de03c",
   "metadata": {},
   "source": [
    "# Check data in pd dataframe"
   ]
  },
  {
   "cell_type": "code",
   "execution_count": 12,
   "id": "d455a236-952c-4086-9335-f56a5e8ad817",
   "metadata": {
    "tags": []
   },
   "outputs": [
    {
     "data": {
      "text/plain": [
       "Index(['Toluene-00', 'Toluene-01', 'Toluene-02', 'Toluene_OleAcid_mask'], dtype='object')"
      ]
     },
     "execution_count": 12,
     "metadata": {},
     "output_type": "execute_result"
    }
   ],
   "source": [
    "df_int.keys()"
   ]
  },
  {
   "cell_type": "code",
   "execution_count": 13,
   "id": "e57e697c-c4c4-479c-a566-c517cef078e1",
   "metadata": {
    "tags": []
   },
   "outputs": [],
   "source": [
    "tth_step = []\n",
    "for i in range(df_tth.shape[0]-1):\n",
    "    tth_step.append(df_tth.iloc[i,0] - df_tth.iloc[i+1,0])"
   ]
  },
  {
   "cell_type": "code",
   "execution_count": 14,
   "id": "fc39612c-4199-4d14-b64e-527cb9a548a8",
   "metadata": {
    "tags": []
   },
   "outputs": [
    {
     "data": {
      "text/plain": [
       "[-0.016752562415002448,\n",
       " -0.01675256241500267,\n",
       " -0.016752562415002448,\n",
       " -0.016752562415002503,\n",
       " -0.01675256241500256,\n",
       " -0.016752562415002614,\n",
       " -0.01675256241500256,\n",
       " -0.01675256241500256,\n",
       " -0.01675256241500256,\n",
       " -0.01675256241500256]"
      ]
     },
     "execution_count": 14,
     "metadata": {},
     "output_type": "execute_result"
    }
   ],
   "source": [
    "tth_step[:10]"
   ]
  },
  {
   "cell_type": "code",
   "execution_count": 15,
   "id": "bca4bba8-787f-4bd4-a604-e693b9cdbe9b",
   "metadata": {
    "tags": []
   },
   "outputs": [
    {
     "data": {
      "text/plain": [
       "(3000, 3)"
      ]
     },
     "execution_count": 15,
     "metadata": {},
     "output_type": "execute_result"
    }
   ],
   "source": [
    "df_tth.shape"
   ]
  },
  {
   "cell_type": "code",
   "execution_count": 16,
   "id": "d2ca2cca-7206-4b27-8e5c-7f57a18cb90d",
   "metadata": {
    "tags": []
   },
   "outputs": [
    {
     "data": {
      "text/html": [
       "<div>\n",
       "<style scoped>\n",
       "    .dataframe tbody tr th:only-of-type {\n",
       "        vertical-align: middle;\n",
       "    }\n",
       "\n",
       "    .dataframe tbody tr th {\n",
       "        vertical-align: top;\n",
       "    }\n",
       "\n",
       "    .dataframe thead th {\n",
       "        text-align: right;\n",
       "    }\n",
       "</style>\n",
       "<table border=\"1\" class=\"dataframe\">\n",
       "  <thead>\n",
       "    <tr style=\"text-align: right;\">\n",
       "      <th></th>\n",
       "      <th>Toluene-00</th>\n",
       "      <th>Toluene-01</th>\n",
       "      <th>Toluene-02</th>\n",
       "      <th>Toluene_OleAcid_mask</th>\n",
       "    </tr>\n",
       "  </thead>\n",
       "  <tbody>\n",
       "    <tr>\n",
       "      <th>0</th>\n",
       "      <td>773.248169</td>\n",
       "      <td>780.250366</td>\n",
       "      <td>786.252319</td>\n",
       "      <td>779.916951</td>\n",
       "    </tr>\n",
       "    <tr>\n",
       "      <th>1</th>\n",
       "      <td>879.867798</td>\n",
       "      <td>888.257629</td>\n",
       "      <td>893.224670</td>\n",
       "      <td>887.116699</td>\n",
       "    </tr>\n",
       "    <tr>\n",
       "      <th>2</th>\n",
       "      <td>887.577515</td>\n",
       "      <td>894.581543</td>\n",
       "      <td>900.152405</td>\n",
       "      <td>894.103821</td>\n",
       "    </tr>\n",
       "    <tr>\n",
       "      <th>3</th>\n",
       "      <td>920.897705</td>\n",
       "      <td>927.764893</td>\n",
       "      <td>933.872864</td>\n",
       "      <td>927.511820</td>\n",
       "    </tr>\n",
       "    <tr>\n",
       "      <th>4</th>\n",
       "      <td>976.374023</td>\n",
       "      <td>983.804626</td>\n",
       "      <td>990.234436</td>\n",
       "      <td>983.471029</td>\n",
       "    </tr>\n",
       "    <tr>\n",
       "      <th>...</th>\n",
       "      <td>...</td>\n",
       "      <td>...</td>\n",
       "      <td>...</td>\n",
       "      <td>...</td>\n",
       "    </tr>\n",
       "    <tr>\n",
       "      <th>2995</th>\n",
       "      <td>356.366882</td>\n",
       "      <td>361.386536</td>\n",
       "      <td>362.278778</td>\n",
       "      <td>360.010732</td>\n",
       "    </tr>\n",
       "    <tr>\n",
       "      <th>2996</th>\n",
       "      <td>359.615021</td>\n",
       "      <td>360.991302</td>\n",
       "      <td>362.792938</td>\n",
       "      <td>361.133087</td>\n",
       "    </tr>\n",
       "    <tr>\n",
       "      <th>2997</th>\n",
       "      <td>361.604889</td>\n",
       "      <td>362.399567</td>\n",
       "      <td>362.575043</td>\n",
       "      <td>362.193166</td>\n",
       "    </tr>\n",
       "    <tr>\n",
       "      <th>2998</th>\n",
       "      <td>361.144043</td>\n",
       "      <td>364.133942</td>\n",
       "      <td>361.043243</td>\n",
       "      <td>362.107076</td>\n",
       "    </tr>\n",
       "    <tr>\n",
       "      <th>2999</th>\n",
       "      <td>360.880554</td>\n",
       "      <td>362.334351</td>\n",
       "      <td>360.880554</td>\n",
       "      <td>361.365153</td>\n",
       "    </tr>\n",
       "  </tbody>\n",
       "</table>\n",
       "<p>3000 rows × 4 columns</p>\n",
       "</div>"
      ],
      "text/plain": [
       "      Toluene-00  Toluene-01  Toluene-02  Toluene_OleAcid_mask\n",
       "0     773.248169  780.250366  786.252319            779.916951\n",
       "1     879.867798  888.257629  893.224670            887.116699\n",
       "2     887.577515  894.581543  900.152405            894.103821\n",
       "3     920.897705  927.764893  933.872864            927.511820\n",
       "4     976.374023  983.804626  990.234436            983.471029\n",
       "...          ...         ...         ...                   ...\n",
       "2995  356.366882  361.386536  362.278778            360.010732\n",
       "2996  359.615021  360.991302  362.792938            361.133087\n",
       "2997  361.604889  362.399567  362.575043            362.193166\n",
       "2998  361.144043  364.133942  361.043243            362.107076\n",
       "2999  360.880554  362.334351  360.880554            361.365153\n",
       "\n",
       "[3000 rows x 4 columns]"
      ]
     },
     "execution_count": 16,
     "metadata": {},
     "output_type": "execute_result"
    }
   ],
   "source": [
    "df_int"
   ]
  },
  {
   "cell_type": "markdown",
   "id": "8d39a586-76d0-4c4c-88a2-0ca0f326191c",
   "metadata": {},
   "source": [
    "# Plot data"
   ]
  },
  {
   "cell_type": "code",
   "execution_count": 17,
   "id": "934734f1-3025-41f5-96de-ba006f4fa2a3",
   "metadata": {
    "tags": []
   },
   "outputs": [],
   "source": [
    "# title = ['CsPbBr_200uL_Cl_64', \n",
    "#          'CsPbBr_200uL_Cl_32', \n",
    "#          'CsPbBr_200uL_Cl_16', \n",
    "#          'CsPbBr_200uL_Cl_08', \n",
    "#          'CsPbBr_200uL_Cl_0',\n",
    "#          'CsPbBr_100uL', \n",
    "#          'CsPbBr_100uL_I_08uL', \n",
    "#          'CsPbBr_100uL_I_16uL', \n",
    "#          'CsPbBr_100uL_I_32uL', \n",
    "#          'CsPbBr_100uL_I_64uL']\n",
    "\n",
    "# title = ['00 uL/min', \n",
    "#          '08 uL/min', \n",
    "#          '16 uL/min', \n",
    "#          '32 uL/min', \n",
    "#          '64 uL/min']\n",
    "\n",
    "title = ['Toluene_OleAcid_mask']\n",
    "         \n",
    "label = title"
   ]
  },
  {
   "cell_type": "markdown",
   "id": "6629488b-68e0-4119-a7e8-01368d201e61",
   "metadata": {
    "tags": []
   },
   "source": [
    "## Prepare keys for average scans in pd dataframe"
   ]
  },
  {
   "cell_type": "code",
   "execution_count": 18,
   "id": "5531a17f-e7bb-448e-86e8-1834abbfcc58",
   "metadata": {
    "tags": []
   },
   "outputs": [
    {
     "data": {
      "text/plain": [
       "['Toluene-00', 'Toluene-01', 'Toluene-02', 'Toluene_OleAcid_mask']"
      ]
     },
     "execution_count": 18,
     "metadata": {},
     "output_type": "execute_result"
    }
   ],
   "source": [
    "keys_list = list(df_int.keys())\n",
    "# k1 = [k for k in keys_list if 'mean' in k]\n",
    "k1 = [k for k in keys_list]\n",
    "k1"
   ]
  },
  {
   "cell_type": "markdown",
   "id": "d7895bd7-0248-4a6d-a033-67f59dbca5ad",
   "metadata": {},
   "source": [
    "## Plot average scans together"
   ]
  },
  {
   "cell_type": "code",
   "execution_count": 20,
   "id": "ada8f74d-c4a3-4067-bec8-77b3699750ab",
   "metadata": {
    "tags": []
   },
   "outputs": [
    {
     "data": {
      "application/vnd.jupyter.widget-view+json": {
       "model_id": "0e207a0d589041229ba11b7bff7ac248",
       "version_major": 2,
       "version_minor": 0
      },
      "image/png": "[encoded data removed]",
      "text/html": [
       "\n",
       "            <div style=\"display: inline-block;\">\n",
       "                <div class=\"jupyter-widgets widget-label\" style=\"text-align: center;\">\n",
       "                    Figure\n",
       "                </div>\n",
       "                <img src='data:image/png;base64,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' width=800.0/>\n",
       "            </div>\n",
       "        "
      ],
      "text/plain": [
       "Canvas(toolbar=Toolbar(toolitems=[('Home', 'Reset original view', 'home', 'home'), ('Back', 'Back to previous …"
      ]
     },
     "metadata": {},
     "output_type": "display_data"
    }
   ],
   "source": [
    "f1, ax1 = plt.subplots(1, 1, figsize = (8, 6), constrained_layout=True)\n",
    "# f1, (ax1, ax2) = plt.subplots(1, 2, figsize = (6, 9), gridspec_kw={'width_ratios': [1,1]})\n",
    "\n",
    "# mpld3.disable_notebook()\n",
    "# label = title\n",
    "# k = len(title)\n",
    "color_idx = np.linspace(0, 1, len(k1))\n",
    "for i in range(len(k1)):\n",
    "    # ax1.plot(df_tth.iloc[:,i], df_int.iloc[:,i], color=cmap(color_idx[i]), label=label[i])\n",
    "    ax1.plot(df_tth.iloc[:,0], df_int[k1[i]], color=cmap(color_idx[i]), label=k1[i])\n",
    "\n",
    "legend_properties = {'weight':'bold', 'size':16}    \n",
    "ax1.legend(prop=legend_properties)\n",
    "\n",
    "# ax1.set_xlim(2.6, 11.4)\n",
    "# ax1.set_ylim(2500, 9500)\n",
    "ax1.set_xlabel('tth (degree)', fontsize=16, fontweight='regular')\n",
    "ax1.set_ylabel('Intensity', fontsize=16, fontweight='regular')\n",
    "ax1.tick_params(axis='both', direction='out', labelsize=12, size=4, width=1)\n",
    "spinewidth = 1.5\n",
    "ax1.spines[\"bottom\"].set_linewidth(spinewidth)\n",
    "ax1.spines[\"right\"].set_linewidth(spinewidth)\n",
    "ax1.spines[\"top\"].set_linewidth(spinewidth)\n",
    "ax1.spines[\"left\"].set_linewidth(spinewidth)\n",
    "\n",
    "imag_name = '20221228_ZnI2_tth_01.png'\n",
    "# cwd = '/Users/chenghunglin/Library/CloudStorage/OneDrive-BrookhavenNationalLaboratory/data_processing/20221127_Cl_Br_I'\n",
    "# plt.savefig(cwd + '/' + imag_name, dpi = 600,  transparent=True)"
   ]
  },
  {
   "cell_type": "markdown",
   "id": "6f82d724-3d06-4a9c-83c6-97ee861cd384",
   "metadata": {
    "tags": []
   },
   "source": [
    "## Prepare keys for indiviual scan in pd dataframe"
   ]
  },
  {
   "cell_type": "code",
   "execution_count": 21,
   "id": "6012ddfd-794a-4cb7-83a4-fceb93bb117b",
   "metadata": {
    "tags": []
   },
   "outputs": [],
   "source": [
    "# keys_list = list(df_int.keys())\n",
    "# k2 = []\n",
    "# for i in range(len(subfolder)):\n",
    "#     suffix = os.path.basename(subfolder[i])\n",
    "#     k2.append([k for k in keys_list if 'Tol' in k])"
   ]
  },
  {
   "cell_type": "code",
   "execution_count": 22,
   "id": "2cd37231-b5aa-4260-b085-c98a90ccf890",
   "metadata": {
    "tags": []
   },
   "outputs": [],
   "source": [
    "# k2"
   ]
  },
  {
   "cell_type": "markdown",
   "id": "de4e4636-8986-4e3e-8477-8de158121d3d",
   "metadata": {},
   "source": [
    "## Plot indiviual scans together"
   ]
  },
  {
   "cell_type": "code",
   "execution_count": 23,
   "id": "4a25223b-83c2-43bc-9e4e-dba3783a5f05",
   "metadata": {
    "tags": []
   },
   "outputs": [],
   "source": [
    "# f2, ax2 = plt.subplots(2, 2, figsize = (10, 8), constrained_layout=True)\n",
    "# # f1, (ax1, ax2) = plt.subplots(1, 2, figsize = (6, 9), gridspec_kw={'width_ratios': [1,1]})\n",
    "# ax2 = ax2.flatten()\n",
    "# legend_properties = {'weight':'bold', 'size':10}\n",
    "\n",
    "# # mpld3.disable_notebook()\n",
    "# label = title\n",
    "# k = len(title)\n",
    "# color_idx = np.linspace(0, 1, k)\n",
    "# for i in range(len(title)):\n",
    "#     for j in range(len(k2[i])):\n",
    "#         color_idx = np.linspace(0, 1, len(k2[i]))\n",
    "#         ax2[i].plot(df_tth.iloc[:,i], df_int[k2[i][j]], color=cmap(color_idx[j]), label=k2[i][j])    \n",
    "#     ax2[i].legend(prop=legend_properties)\n",
    "\n",
    "# # cwd = '/Users/chenghunglin/Library/CloudStorage/OneDrive-BrookhavenNationalLaboratory/data_processing/20221127_Cl_Br_I'\n",
    "# # plt.savefig(cwd + '/' + imag_name, dpi = 600,  transparent=True)"
   ]
  },
  {
   "cell_type": "markdown",
   "id": "ce57412b-6402-4343-8d14-4f9c9df45242",
   "metadata": {
    "tags": []
   },
   "source": [
    "# Save average data as another .xy"
   ]
  },
  {
   "cell_type": "code",
   "execution_count": 27,
   "id": "1f9b4b03-e96d-4cf5-97f5-45854cce11e2",
   "metadata": {
    "tags": []
   },
   "outputs": [],
   "source": [
    "path = cwd\n",
    "# # name = ['CsPbBr_ZnCl_00', 'CsPbBr_ZnCl_08', 'CsPbBr_ZnCl_16', 'CsPbBr_ZnCl_32', 'CsPbBr_ZnCl_64']\n",
    "# for i in range(len(k1)):\n",
    "#     df = pd.DataFrame()\n",
    "#     df['tth'] = df_tth.iloc[:,i]\n",
    "#     df['Intensity'] = df_int[k1[i]]\n",
    "#     fn = cwd + '/' + k1[i] + '.xy'\n",
    "#     df.to_csv(fn, sep=' ', header=False, index=False, float_format='{:.8e}'.format)\n",
    "\n",
    "\n",
    "df = pd.DataFrame()\n",
    "df['tth'] = df_tth.iloc[:,-1]\n",
    "df['Intensity'] = df_int[k1[-1]]\n",
    "fn = cwd + '/' + k1[-1] + '.xy'\n",
    "# df.to_csv(fn, sep=' ', header=False, index=False, float_format='{:.8e}'.format)"
   ]
  },
  {
   "cell_type": "code",
   "execution_count": 25,
   "id": "9ed6e673-33d9-45ea-a4f0-7a044d9d4517",
   "metadata": {
    "tags": []
   },
   "outputs": [
    {
     "data": {
      "text/html": [
       "<div>\n",
       "<style scoped>\n",
       "    .dataframe tbody tr th:only-of-type {\n",
       "        vertical-align: middle;\n",
       "    }\n",
       "\n",
       "    .dataframe tbody tr th {\n",
       "        vertical-align: top;\n",
       "    }\n",
       "\n",
       "    .dataframe thead th {\n",
       "        text-align: right;\n",
       "    }\n",
       "</style>\n",
       "<table border=\"1\" class=\"dataframe\">\n",
       "  <thead>\n",
       "    <tr style=\"text-align: right;\">\n",
       "      <th></th>\n",
       "      <th>tth</th>\n",
       "      <th>Intensity</th>\n",
       "    </tr>\n",
       "  </thead>\n",
       "  <tbody>\n",
       "    <tr>\n",
       "      <th>0</th>\n",
       "      <td>0.387655</td>\n",
       "      <td>779.916951</td>\n",
       "    </tr>\n",
       "    <tr>\n",
       "      <th>1</th>\n",
       "      <td>0.404408</td>\n",
       "      <td>887.116699</td>\n",
       "    </tr>\n",
       "    <tr>\n",
       "      <th>2</th>\n",
       "      <td>0.421161</td>\n",
       "      <td>894.103821</td>\n",
       "    </tr>\n",
       "    <tr>\n",
       "      <th>3</th>\n",
       "      <td>0.437913</td>\n",
       "      <td>927.511820</td>\n",
       "    </tr>\n",
       "    <tr>\n",
       "      <th>4</th>\n",
       "      <td>0.454666</td>\n",
       "      <td>983.471029</td>\n",
       "    </tr>\n",
       "    <tr>\n",
       "      <th>...</th>\n",
       "      <td>...</td>\n",
       "      <td>...</td>\n",
       "    </tr>\n",
       "    <tr>\n",
       "      <th>2995</th>\n",
       "      <td>50.561580</td>\n",
       "      <td>360.010732</td>\n",
       "    </tr>\n",
       "    <tr>\n",
       "      <th>2996</th>\n",
       "      <td>50.578332</td>\n",
       "      <td>361.133087</td>\n",
       "    </tr>\n",
       "    <tr>\n",
       "      <th>2997</th>\n",
       "      <td>50.595085</td>\n",
       "      <td>362.193166</td>\n",
       "    </tr>\n",
       "    <tr>\n",
       "      <th>2998</th>\n",
       "      <td>50.611838</td>\n",
       "      <td>362.107076</td>\n",
       "    </tr>\n",
       "    <tr>\n",
       "      <th>2999</th>\n",
       "      <td>50.628590</td>\n",
       "      <td>361.365153</td>\n",
       "    </tr>\n",
       "  </tbody>\n",
       "</table>\n",
       "<p>3000 rows × 2 columns</p>\n",
       "</div>"
      ],
      "text/plain": [
       "            tth   Intensity\n",
       "0      0.387655  779.916951\n",
       "1      0.404408  887.116699\n",
       "2      0.421161  894.103821\n",
       "3      0.437913  927.511820\n",
       "4      0.454666  983.471029\n",
       "...         ...         ...\n",
       "2995  50.561580  360.010732\n",
       "2996  50.578332  361.133087\n",
       "2997  50.595085  362.193166\n",
       "2998  50.611838  362.107076\n",
       "2999  50.628590  361.365153\n",
       "\n",
       "[3000 rows x 2 columns]"
      ]
     },
     "execution_count": 25,
     "metadata": {},
     "output_type": "execute_result"
    }
   ],
   "source": [
    "df"
   ]
  },
  {
   "cell_type": "code",
   "execution_count": null,
   "id": "9d43b683-b98c-4c9a-af6e-64e6b80621e8",
   "metadata": {},
   "outputs": [],
   "source": []
  },
  {
   "cell_type": "code",
   "execution_count": null,
   "id": "7a2607c5-09f3-4dc6-82f4-70dddd1344ac",
   "metadata": {},
   "outputs": [],
   "source": []
  }
 ],
 "metadata": {
  "kernelspec": {
   "display_name": "Python 3 (ipykernel)",
   "language": "python",
   "name": "python3"
  },
  "language_info": {
   "codemirror_mode": {
    "name": "ipython",
    "version": 3
   },
   "file_extension": ".py",
   "mimetype": "text/x-python",
   "name": "python",
   "nbconvert_exporter": "python",
   "pygments_lexer": "ipython3",
   "version": "3.10.14"
  }
 },
 "nbformat": 4,
 "nbformat_minor": 5
}
